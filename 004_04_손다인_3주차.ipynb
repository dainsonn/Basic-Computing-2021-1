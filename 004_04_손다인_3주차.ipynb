{
  "nbformat": 4,
  "nbformat_minor": 0,
  "metadata": {
    "colab": {
      "name": "004_04_2021-19885_손다인.ipynb",
      "provenance": [],
      "collapsed_sections": [
        "i1vFyWo76tKV",
        "jkPwpecu3Xcy",
        "rEX-C8y0BtXK",
        "f9P5_8rk1RxS"
      ]
    },
    "kernelspec": {
      "name": "python3",
      "display_name": "Python 3"
    }
  },
  "cells": [
    {
      "cell_type": "markdown",
      "metadata": {
        "id": "i1vFyWo76tKV"
      },
      "source": [
        "# ^_^"
      ]
    },
    {
      "cell_type": "code",
      "metadata": {
        "colab": {
          "base_uri": "https://localhost:8080/"
        },
        "id": "A_Lnv6UZqCQb",
        "outputId": "88368477-00ee-43f6-ec75-47a3d09d3982"
      },
      "source": [
        "2+2"
      ],
      "execution_count": null,
      "outputs": [
        {
          "output_type": "execute_result",
          "data": {
            "text/plain": [
              "4"
            ]
          },
          "metadata": {
            "tags": []
          },
          "execution_count": 2
        }
      ]
    },
    {
      "cell_type": "code",
      "metadata": {
        "colab": {
          "base_uri": "https://localhost:8080/"
        },
        "id": "ibp4GeeZqbw_",
        "outputId": "8f6a21ec-d316-4d0f-bc20-465367611a97"
      },
      "source": [
        "5-7"
      ],
      "execution_count": null,
      "outputs": [
        {
          "output_type": "execute_result",
          "data": {
            "text/plain": [
              "-2"
            ]
          },
          "metadata": {
            "tags": []
          },
          "execution_count": 3
        }
      ]
    },
    {
      "cell_type": "code",
      "metadata": {
        "colab": {
          "base_uri": "https://localhost:8080/"
        },
        "id": "ORU9l2wOqcre",
        "outputId": "0086b13f-f6ad-4b69-f619-ac135adc3ece"
      },
      "source": [
        "8*9"
      ],
      "execution_count": null,
      "outputs": [
        {
          "output_type": "execute_result",
          "data": {
            "text/plain": [
              "72"
            ]
          },
          "metadata": {
            "tags": []
          },
          "execution_count": 4
        }
      ]
    },
    {
      "cell_type": "code",
      "metadata": {
        "colab": {
          "base_uri": "https://localhost:8080/"
        },
        "id": "q8DimOlJqdi9",
        "outputId": "08f88367-b433-41d9-e1bb-0fef19008617"
      },
      "source": [
        "10/2"
      ],
      "execution_count": null,
      "outputs": [
        {
          "output_type": "execute_result",
          "data": {
            "text/plain": [
              "5.0"
            ]
          },
          "metadata": {
            "tags": []
          },
          "execution_count": 5
        }
      ]
    },
    {
      "cell_type": "code",
      "metadata": {
        "colab": {
          "base_uri": "https://localhost:8080/"
        },
        "id": "ZVH2vI4Vqek0",
        "outputId": "fbfb35b0-659a-4eb8-e6ef-41d2415af668"
      },
      "source": [
        "10%2"
      ],
      "execution_count": null,
      "outputs": [
        {
          "output_type": "execute_result",
          "data": {
            "text/plain": [
              "0"
            ]
          },
          "metadata": {
            "tags": []
          },
          "execution_count": 6
        }
      ]
    },
    {
      "cell_type": "code",
      "metadata": {
        "colab": {
          "base_uri": "https://localhost:8080/"
        },
        "id": "lzba7HXDqf5_",
        "outputId": "5c14ca94-45f5-44a6-ed92-29e9101f63c2"
      },
      "source": [
        "3**2"
      ],
      "execution_count": null,
      "outputs": [
        {
          "output_type": "execute_result",
          "data": {
            "text/plain": [
              "9"
            ]
          },
          "metadata": {
            "tags": []
          },
          "execution_count": 7
        }
      ]
    },
    {
      "cell_type": "code",
      "metadata": {
        "colab": {
          "base_uri": "https://localhost:8080/"
        },
        "id": "86q-3XH4qsJG",
        "outputId": "7e7ef012-f2d0-478a-91ae-45c5f0d62a6d"
      },
      "source": [
        "2/4*3"
      ],
      "execution_count": null,
      "outputs": [
        {
          "output_type": "execute_result",
          "data": {
            "text/plain": [
              "1.5"
            ]
          },
          "metadata": {
            "tags": []
          },
          "execution_count": 8
        }
      ]
    },
    {
      "cell_type": "code",
      "metadata": {
        "colab": {
          "base_uri": "https://localhost:8080/"
        },
        "id": "B7ZxgeDKqvXh",
        "outputId": "f1e04481-7f4e-4f0b-be6e-1fc9152667bd"
      },
      "source": [
        "4.0*2%2"
      ],
      "execution_count": null,
      "outputs": [
        {
          "output_type": "execute_result",
          "data": {
            "text/plain": [
              "0.0"
            ]
          },
          "metadata": {
            "tags": []
          },
          "execution_count": 9
        }
      ]
    },
    {
      "cell_type": "code",
      "metadata": {
        "colab": {
          "base_uri": "https://localhost:8080/"
        },
        "id": "aiAvxSvBq04K",
        "outputId": "2e3625b8-91d1-4c47-bac6-8c31c09d0a8f"
      },
      "source": [
        "4.0-2.0"
      ],
      "execution_count": null,
      "outputs": [
        {
          "output_type": "execute_result",
          "data": {
            "text/plain": [
              "2.0"
            ]
          },
          "metadata": {
            "tags": []
          },
          "execution_count": 10
        }
      ]
    },
    {
      "cell_type": "code",
      "metadata": {
        "colab": {
          "base_uri": "https://localhost:8080/"
        },
        "id": "dcSZFUZWq3Cg",
        "outputId": "fee56e71-eef2-422e-e4f5-560604c3457d"
      },
      "source": [
        "3600-60*3"
      ],
      "execution_count": null,
      "outputs": [
        {
          "output_type": "execute_result",
          "data": {
            "text/plain": [
              "3420"
            ]
          },
          "metadata": {
            "tags": []
          },
          "execution_count": 11
        }
      ]
    },
    {
      "cell_type": "code",
      "metadata": {
        "id": "A9sX6Kv6tH5X"
      },
      "source": [
        "spam=15"
      ],
      "execution_count": null,
      "outputs": []
    },
    {
      "cell_type": "code",
      "metadata": {
        "colab": {
          "base_uri": "https://localhost:8080/"
        },
        "id": "H7WpRQzAtNB1",
        "outputId": "302b72eb-53a4-4a49-d03f-388a36380946"
      },
      "source": [
        "spam"
      ],
      "execution_count": null,
      "outputs": [
        {
          "output_type": "execute_result",
          "data": {
            "text/plain": [
              "15"
            ]
          },
          "metadata": {
            "tags": []
          },
          "execution_count": 14
        }
      ]
    },
    {
      "cell_type": "code",
      "metadata": {
        "colab": {
          "base_uri": "https://localhost:8080/"
        },
        "id": "JIhcJ-a3tPJa",
        "outputId": "35c2300a-5c83-4e57-cd13-634221cd4966"
      },
      "source": [
        "print(spam)"
      ],
      "execution_count": null,
      "outputs": [
        {
          "output_type": "stream",
          "text": [
            "15\n"
          ],
          "name": "stdout"
        }
      ]
    },
    {
      "cell_type": "code",
      "metadata": {
        "colab": {
          "base_uri": "https://localhost:8080/"
        },
        "id": "N5_kZKu9vgoy",
        "outputId": "f351ebf1-d49a-4222-94b4-97eebd337bd7"
      },
      "source": [
        "eggs=15\n",
        "fizz=10\n",
        "spam=eggs+fizz\n",
        "spam"
      ],
      "execution_count": null,
      "outputs": [
        {
          "output_type": "execute_result",
          "data": {
            "text/plain": [
              "25"
            ]
          },
          "metadata": {
            "tags": []
          },
          "execution_count": 17
        }
      ]
    },
    {
      "cell_type": "code",
      "metadata": {
        "colab": {
          "base_uri": "https://localhost:8080/",
          "height": 36
        },
        "id": "quSmYYj2wOsd",
        "outputId": "16c84830-95d4-4ca1-826e-45554fb38804"
      },
      "source": [
        "spam='hello'\n",
        "spam"
      ],
      "execution_count": null,
      "outputs": [
        {
          "output_type": "execute_result",
          "data": {
            "application/vnd.google.colaboratory.intrinsic+json": {
              "type": "string"
            },
            "text/plain": [
              "'hello'"
            ]
          },
          "metadata": {
            "tags": []
          },
          "execution_count": 18
        }
      ]
    },
    {
      "cell_type": "code",
      "metadata": {
        "colab": {
          "base_uri": "https://localhost:8080/",
          "height": 36
        },
        "id": "rF3L-ZwowxAK",
        "outputId": "fe6a9906-181d-4c59-f90a-91397c857628"
      },
      "source": [
        "'hello'+'world!'"
      ],
      "execution_count": null,
      "outputs": [
        {
          "output_type": "execute_result",
          "data": {
            "application/vnd.google.colaboratory.intrinsic+json": {
              "type": "string"
            },
            "text/plain": [
              "'helloworld!'"
            ]
          },
          "metadata": {
            "tags": []
          },
          "execution_count": 19
        }
      ]
    },
    {
      "cell_type": "code",
      "metadata": {
        "colab": {
          "base_uri": "https://localhost:8080/",
          "height": 36
        },
        "id": "gVQ1NzTEw2O6",
        "outputId": "f3b72543-f533-4b7e-9b7f-3cb47837452f"
      },
      "source": [
        "'hello '+'world!'"
      ],
      "execution_count": null,
      "outputs": [
        {
          "output_type": "execute_result",
          "data": {
            "application/vnd.google.colaboratory.intrinsic+json": {
              "type": "string"
            },
            "text/plain": [
              "'hello world!'"
            ]
          },
          "metadata": {
            "tags": []
          },
          "execution_count": 20
        }
      ]
    },
    {
      "cell_type": "code",
      "metadata": {
        "colab": {
          "base_uri": "https://localhost:8080/",
          "height": 36
        },
        "id": "7yuInVKAx5Nj",
        "outputId": "ed72007a-78d5-4533-cc27-887ffca2da0d"
      },
      "source": [
        "'hello'+' '+'world!'"
      ],
      "execution_count": null,
      "outputs": [
        {
          "output_type": "execute_result",
          "data": {
            "application/vnd.google.colaboratory.intrinsic+json": {
              "type": "string"
            },
            "text/plain": [
              "'hello world!'"
            ]
          },
          "metadata": {
            "tags": []
          },
          "execution_count": 21
        }
      ]
    },
    {
      "cell_type": "code",
      "metadata": {
        "colab": {
          "base_uri": "https://localhost:8080/",
          "height": 36
        },
        "id": "eC7Hpqicx-a7",
        "outputId": "cd5d49c1-8149-43c8-b000-420e005a667b"
      },
      "source": [
        "spam='hello'\n",
        "fizz='world!'\n",
        "spam+fizz"
      ],
      "execution_count": null,
      "outputs": [
        {
          "output_type": "execute_result",
          "data": {
            "application/vnd.google.colaboratory.intrinsic+json": {
              "type": "string"
            },
            "text/plain": [
              "'helloworld!'"
            ]
          },
          "metadata": {
            "tags": []
          },
          "execution_count": 22
        }
      ]
    },
    {
      "cell_type": "code",
      "metadata": {
        "colab": {
          "base_uri": "https://localhost:8080/"
        },
        "id": "N1Oqti5f0nml",
        "outputId": "aafd9faf-9377-460a-f113-69759528f31a"
      },
      "source": [
        "#This program says hello and asks for my name.\n",
        "#print('Hello world!')\n",
        "print('Input your name. ')\n",
        "myName=input()\n",
        "print('Welcome, '+myName+'.')"
      ],
      "execution_count": null,
      "outputs": [
        {
          "output_type": "stream",
          "text": [
            "Input your name. \n",
            "dain\n",
            "Welcome, dain.\n"
          ],
          "name": "stdout"
        }
      ]
    },
    {
      "cell_type": "code",
      "metadata": {
        "colab": {
          "base_uri": "https://localhost:8080/",
          "height": 36
        },
        "id": "m5K-b-X22fSY",
        "outputId": "067c642e-e8d0-4380-8ee3-e7fbd9dafe84"
      },
      "source": [
        "'Hello world!'"
      ],
      "execution_count": null,
      "outputs": [
        {
          "output_type": "execute_result",
          "data": {
            "application/vnd.google.colaboratory.intrinsic+json": {
              "type": "string"
            },
            "text/plain": [
              "'Hello world!'"
            ]
          },
          "metadata": {
            "tags": []
          },
          "execution_count": 25
        }
      ]
    },
    {
      "cell_type": "code",
      "metadata": {
        "colab": {
          "base_uri": "https://localhost:8080/",
          "height": 36
        },
        "id": "p5WfkvSb2ls3",
        "outputId": "c98f24d2-2fde-4d7e-dfb8-b494db130aa6"
      },
      "source": [
        "'Hello world!'\n",
        "'How are you?'\n",
        "'Nice to meet you'"
      ],
      "execution_count": null,
      "outputs": [
        {
          "output_type": "execute_result",
          "data": {
            "application/vnd.google.colaboratory.intrinsic+json": {
              "type": "string"
            },
            "text/plain": [
              "'Nice to meet you'"
            ]
          },
          "metadata": {
            "tags": []
          },
          "execution_count": 26
        }
      ]
    },
    {
      "cell_type": "code",
      "metadata": {
        "colab": {
          "base_uri": "https://localhost:8080/",
          "height": 36
        },
        "id": "6uCp9yMB4IZ8",
        "outputId": "8ac62cf8-604e-4055-cebd-7e1364026a1d"
      },
      "source": [
        "'''Hello world!\n",
        "How are you?\n",
        "Nice to meet you'''"
      ],
      "execution_count": null,
      "outputs": [
        {
          "output_type": "execute_result",
          "data": {
            "application/vnd.google.colaboratory.intrinsic+json": {
              "type": "string"
            },
            "text/plain": [
              "'Hello world!\\nHow are you?\\nNice to meet you'"
            ]
          },
          "metadata": {
            "tags": []
          },
          "execution_count": 27
        }
      ]
    },
    {
      "cell_type": "code",
      "metadata": {
        "colab": {
          "base_uri": "https://localhost:8080/"
        },
        "id": "LPho1S5U4SiI",
        "outputId": "e17f419c-bba7-40ed-ce89-ffb3e1d99074"
      },
      "source": [
        "print('''Hello world!\n",
        "How are you?\n",
        "Nice to meet you''')"
      ],
      "execution_count": null,
      "outputs": [
        {
          "output_type": "stream",
          "text": [
            "Hello world!\n",
            "How are you?\n",
            "Nice to meet you\n"
          ],
          "name": "stdout"
        }
      ]
    },
    {
      "cell_type": "code",
      "metadata": {
        "colab": {
          "base_uri": "https://localhost:8080/"
        },
        "id": "SPk-ikpG4ep8",
        "outputId": "d262f92c-2bf7-4866-c247-d6c7fa21f607"
      },
      "source": [
        "age=25\n",
        "print('Age:',age)\n",
        "name=\"Rose\"\n",
        "print('Nice to meet you,'+name)\n",
        "print('After ten years, you are',age+10, 'years old.')"
      ],
      "execution_count": null,
      "outputs": [
        {
          "output_type": "stream",
          "text": [
            "Age: 25\n",
            "Nice to meet you,Rose\n",
            "After ten years, you are 35 years old.\n"
          ],
          "name": "stdout"
        }
      ]
    },
    {
      "cell_type": "code",
      "metadata": {
        "colab": {
          "base_uri": "https://localhost:8080/"
        },
        "id": "stzkVMTT64wU",
        "outputId": "6dc05e23-a54e-4851-8e77-c6fd31b74c21"
      },
      "source": [
        "print('How old are you?')\n",
        "age=input()"
      ],
      "execution_count": null,
      "outputs": [
        {
          "output_type": "stream",
          "text": [
            "How old are you?\n",
            "21\n"
          ],
          "name": "stdout"
        }
      ]
    },
    {
      "cell_type": "code",
      "metadata": {
        "colab": {
          "base_uri": "https://localhost:8080/"
        },
        "id": "Rrx_6n447Bki",
        "outputId": "92118caf-8f13-49c9-ffa5-f2bcef9b30dd"
      },
      "source": [
        "age=input('How old are you?')"
      ],
      "execution_count": null,
      "outputs": [
        {
          "output_type": "stream",
          "text": [
            "How old are you?21\n"
          ],
          "name": "stdout"
        }
      ]
    },
    {
      "cell_type": "markdown",
      "metadata": {
        "id": "Q__8xJJR7Y7B"
      },
      "source": [
        "print('How old are you?')\n",
        "age=input() 는 변수 age에 input()가 저장되고\n",
        "age=input('How old are you?') 는 변수 age에 input('How old are you?')가 저장된다"
      ]
    },
    {
      "cell_type": "code",
      "metadata": {
        "colab": {
          "base_uri": "https://localhost:8080/"
        },
        "id": "EzGO8PHcaq0z",
        "outputId": "f32422f4-b1ff-4367-f3e1-4f7f0a86d481"
      },
      "source": [
        "#This is a guess the number game.\n",
        "import random\n",
        "print('Hello! What is your name?')\n",
        "myName=input()\n",
        "\n",
        "number=random.randint(1,20)\n",
        "print('Well, '+myName+', I am thinking of a number between 1 and 20.')\n",
        "print('Take a guess.')\n",
        "guess=input()\n",
        "guess=int(guess)\n",
        "\n",
        "if guess<number:\n",
        "  print('Your guess is too low.')\n",
        "if guess>number:\n",
        "  print('Your guess is too high.')  \n",
        "if guess==number:\n",
        "  print('Good job, '+myName+'! You guessed my number!')"
      ],
      "execution_count": null,
      "outputs": [
        {
          "output_type": "stream",
          "text": [
            "Hello! What is your name?\n",
            "Dain\n",
            "Well, Dain, I am thinking of a number between 1 and 20.\n",
            "Take a guess.\n",
            "4\n",
            "Your guess is too low.\n"
          ],
          "name": "stdout"
        }
      ]
    },
    {
      "cell_type": "code",
      "metadata": {
        "colab": {
          "base_uri": "https://localhost:8080/"
        },
        "id": "HSpzXUIbfO2A",
        "outputId": "58de152f-9068-407d-a4bd-e032c4208683"
      },
      "source": [
        "currentAge=input('몇 살이세요?')\n",
        "currentAge=int(currentAge)\n",
        "futureAge=currentAge+10\n",
        "print('당신의 10년 후 나이는 '+str(futureAge)+'살이시군요.')"
      ],
      "execution_count": null,
      "outputs": [
        {
          "output_type": "stream",
          "text": [
            "몇 살이세요?21\n",
            "당신의 10년 후 나이는 31살이시군요.\n"
          ],
          "name": "stdout"
        }
      ]
    },
    {
      "cell_type": "code",
      "metadata": {
        "colab": {
          "base_uri": "https://localhost:8080/"
        },
        "id": "h642RntsUH15",
        "outputId": "3842bb73-bd05-463a-aab8-9009205e3139"
      },
      "source": [
        "score=75\n",
        "if score>=90:\n",
        "  print('A입니다.')\n",
        "elif score>=80:\n",
        "  print('B입니다.') \n",
        "elif score>=70:\n",
        "  print('C입니다.') \n",
        "elif score>=60:\n",
        "  print('D입니다.')\n",
        "else:\n",
        "  print('F입니다.')     "
      ],
      "execution_count": null,
      "outputs": [
        {
          "output_type": "stream",
          "text": [
            "C입니다.\n"
          ],
          "name": "stdout"
        }
      ]
    },
    {
      "cell_type": "code",
      "metadata": {
        "colab": {
          "base_uri": "https://localhost:8080/"
        },
        "id": "QGpIm1T2UySK",
        "outputId": "7a9851ed-680b-490e-b342-2d31420ad74b"
      },
      "source": [
        "score=75\n",
        "if score>=90:\n",
        "  print('A입니다.')\n",
        "if score>=80:\n",
        "  print('B입니다.') \n",
        "if score>=70:\n",
        "  print('C입니다.') \n",
        "if score>=60:\n",
        "  print('D입니다.')\n",
        "else:\n",
        "  print('F입니다.')   "
      ],
      "execution_count": null,
      "outputs": [
        {
          "output_type": "stream",
          "text": [
            "C입니다.\n",
            "D입니다.\n"
          ],
          "name": "stdout"
        }
      ]
    },
    {
      "cell_type": "markdown",
      "metadata": {
        "id": "T_NUa9DkVPgu"
      },
      "source": [
        "if elif else문을 쓰면 'C입니다.' 출력\n",
        "\n",
        "if else문을 쓰면 'C입니다. D입니다.' 출력"
      ]
    },
    {
      "cell_type": "markdown",
      "metadata": {
        "id": "jkPwpecu3Xcy"
      },
      "source": [
        "# 2-1"
      ]
    },
    {
      "cell_type": "code",
      "metadata": {
        "colab": {
          "base_uri": "https://localhost:8080/"
        },
        "id": "Xafe3_Q-3UB8",
        "outputId": "b3bdc904-9f1a-498b-d321-7d8a016f490b"
      },
      "source": [
        "10+20"
      ],
      "execution_count": null,
      "outputs": [
        {
          "output_type": "execute_result",
          "data": {
            "text/plain": [
              "30"
            ]
          },
          "metadata": {
            "tags": []
          },
          "execution_count": 2
        }
      ]
    },
    {
      "cell_type": "code",
      "metadata": {
        "colab": {
          "base_uri": "https://localhost:8080/"
        },
        "id": "fL6KE3Py32gA",
        "outputId": "aa48ce41-c92e-4b87-affb-11e56332f47d"
      },
      "source": [
        "30-5"
      ],
      "execution_count": null,
      "outputs": [
        {
          "output_type": "execute_result",
          "data": {
            "text/plain": [
              "25"
            ]
          },
          "metadata": {
            "tags": []
          },
          "execution_count": 3
        }
      ]
    },
    {
      "cell_type": "code",
      "metadata": {
        "colab": {
          "base_uri": "https://localhost:8080/"
        },
        "id": "Sqycl3lL34VM",
        "outputId": "e3bc7d7e-5f74-4a32-a623-75c8a5ed5206"
      },
      "source": [
        "15*7.0"
      ],
      "execution_count": null,
      "outputs": [
        {
          "output_type": "execute_result",
          "data": {
            "text/plain": [
              "105.0"
            ]
          },
          "metadata": {
            "tags": []
          },
          "execution_count": 4
        }
      ]
    },
    {
      "cell_type": "code",
      "metadata": {
        "colab": {
          "base_uri": "https://localhost:8080/"
        },
        "id": "GovHGpTy35ah",
        "outputId": "e10c2ddc-6042-43b1-fd93-bab6556a2ca7"
      },
      "source": [
        "2/4"
      ],
      "execution_count": null,
      "outputs": [
        {
          "output_type": "execute_result",
          "data": {
            "text/plain": [
              "0.5"
            ]
          },
          "metadata": {
            "tags": []
          },
          "execution_count": 5
        }
      ]
    },
    {
      "cell_type": "code",
      "metadata": {
        "colab": {
          "base_uri": "https://localhost:8080/"
        },
        "id": "qD18e8aQ37mq",
        "outputId": "9288cde4-874f-4ae1-828c-2bf4f420958c"
      },
      "source": [
        "2.0/4.0"
      ],
      "execution_count": null,
      "outputs": [
        {
          "output_type": "execute_result",
          "data": {
            "text/plain": [
              "0.5"
            ]
          },
          "metadata": {
            "tags": []
          },
          "execution_count": 6
        }
      ]
    },
    {
      "cell_type": "code",
      "metadata": {
        "colab": {
          "base_uri": "https://localhost:8080/"
        },
        "id": "_mpj9UIK36pi",
        "outputId": "dca26318-bb20-4679-b829-8ea87a5bf580"
      },
      "source": [
        "2.0/4"
      ],
      "execution_count": null,
      "outputs": [
        {
          "output_type": "execute_result",
          "data": {
            "text/plain": [
              "0.5"
            ]
          },
          "metadata": {
            "tags": []
          },
          "execution_count": 7
        }
      ]
    },
    {
      "cell_type": "code",
      "metadata": {
        "colab": {
          "base_uri": "https://localhost:8080/"
        },
        "id": "fl2mAAGN3_CO",
        "outputId": "61c11a1c-8493-48a9-9d10-a6663d4ed2f4"
      },
      "source": [
        "50%4"
      ],
      "execution_count": null,
      "outputs": [
        {
          "output_type": "execute_result",
          "data": {
            "text/plain": [
              "2"
            ]
          },
          "metadata": {
            "tags": []
          },
          "execution_count": 8
        }
      ]
    },
    {
      "cell_type": "code",
      "metadata": {
        "colab": {
          "base_uri": "https://localhost:8080/"
        },
        "id": "tsU5ps7n4AQk",
        "outputId": "2d6aa371-cff7-41e9-f25f-fe12a0537e39"
      },
      "source": [
        "10**3"
      ],
      "execution_count": null,
      "outputs": [
        {
          "output_type": "execute_result",
          "data": {
            "text/plain": [
              "1000"
            ]
          },
          "metadata": {
            "tags": []
          },
          "execution_count": 9
        }
      ]
    },
    {
      "cell_type": "code",
      "metadata": {
        "colab": {
          "base_uri": "https://localhost:8080/"
        },
        "id": "4vGScjxA4Gz3",
        "outputId": "49729308-e6f0-4ca3-b29a-e5a6dc717956"
      },
      "source": [
        "milk=1850\n",
        "egg=4000\n",
        "price=(milk*2+egg)*0.95\n",
        "print(price)"
      ],
      "execution_count": null,
      "outputs": [
        {
          "output_type": "stream",
          "text": [
            "7315.0\n"
          ],
          "name": "stdout"
        }
      ]
    },
    {
      "cell_type": "code",
      "metadata": {
        "colab": {
          "base_uri": "https://localhost:8080/"
        },
        "id": "_TbaG3X34vJ4",
        "outputId": "2f610793-0a90-465c-b092-24c75f665918"
      },
      "source": [
        "f=100\n",
        "c=5.0/9.0*(f-32.0)\n",
        "print(c)"
      ],
      "execution_count": null,
      "outputs": [
        {
          "output_type": "stream",
          "text": [
            "37.77777777777778\n"
          ],
          "name": "stdout"
        }
      ]
    },
    {
      "cell_type": "code",
      "metadata": {
        "colab": {
          "base_uri": "https://localhost:8080/"
        },
        "id": "YdZjPXfY5LdU",
        "outputId": "4a958d4a-1a66-4dfd-b8d3-48b12b8968e5"
      },
      "source": [
        "c=50\n",
        "f=9.0/5.0*c+32.0\n",
        "print(f)"
      ],
      "execution_count": null,
      "outputs": [
        {
          "output_type": "stream",
          "text": [
            "122.0\n"
          ],
          "name": "stdout"
        }
      ]
    },
    {
      "cell_type": "markdown",
      "metadata": {
        "id": "rEX-C8y0BtXK"
      },
      "source": [
        "# 2-2"
      ]
    },
    {
      "cell_type": "code",
      "metadata": {
        "colab": {
          "base_uri": "https://localhost:8080/"
        },
        "id": "jKcwyScVBu7V",
        "outputId": "fc09a20e-f848-4213-9fa4-232986b9e7b5"
      },
      "source": [
        "print('파이썬은 즐거워 '*5)"
      ],
      "execution_count": null,
      "outputs": [
        {
          "output_type": "stream",
          "text": [
            "파이썬은 즐거워 파이썬은 즐거워 파이썬은 즐거워 파이썬은 즐거워 파이썬은 즐거워 \n"
          ],
          "name": "stdout"
        }
      ]
    },
    {
      "cell_type": "code",
      "metadata": {
        "colab": {
          "base_uri": "https://localhost:8080/"
        },
        "id": "rQxzi87dB9Am",
        "outputId": "73966aa7-6f7f-4c6f-94c7-041cc7d1c00a"
      },
      "source": [
        "num=10\n",
        "print('콩 '*num,'나무를 ',num,'번 찍었습니다.')"
      ],
      "execution_count": null,
      "outputs": [
        {
          "output_type": "stream",
          "text": [
            "콩 콩 콩 콩 콩 콩 콩 콩 콩 콩  나무를  10 번 찍었습니다.\n"
          ],
          "name": "stdout"
        }
      ]
    },
    {
      "cell_type": "code",
      "metadata": {
        "colab": {
          "base_uri": "https://localhost:8080/"
        },
        "id": "OVIwdzMTCdI3",
        "outputId": "abc62958-fcf7-4a66-fc4e-99dac3401173"
      },
      "source": [
        "print('Tell me your favorite stuff.')\n",
        "fruit=input('Your favorite fruit is ')\n",
        "flower=input('Your favorite flower is ')\n",
        "drink=input('Your favorite drink is ')\n",
        "print('You entered: ',fruit, flower, drink)"
      ],
      "execution_count": null,
      "outputs": [
        {
          "output_type": "stream",
          "text": [
            "Tell me your favorite stuff.\n",
            "Your favorite fruit is apple\n",
            "Your favorite flower is rose\n",
            "Your favorite drink is coke\n",
            "You entered:  apple rose coke\n"
          ],
          "name": "stdout"
        }
      ]
    },
    {
      "cell_type": "code",
      "metadata": {
        "colab": {
          "base_uri": "https://localhost:8080/"
        },
        "id": "PeFsphv7DJg5",
        "outputId": "010cba08-22ca-404c-af7e-b6da896dfa72"
      },
      "source": [
        "name=input('이름:')\n",
        "age=input('나이:')\n",
        "univ=input('학교:')\n",
        "dept=input('학부:')\n",
        "print()\n",
        "wish=input('수업에 바라는 점:')\n",
        "print()\n",
        "print(univ, dept, age,'세', name,'님')\n",
        "print(wish, '의견 감사합니다.')\n",
        "\n"
      ],
      "execution_count": null,
      "outputs": [
        {
          "output_type": "stream",
          "text": [
            "이름:손다인\n",
            "나이:21\n",
            "학교:서울대학교\n",
            "학부:경제학부\n",
            " \n",
            "수업에 바라는 점:수업 일찍 끝내주세요,,\n",
            " \n",
            "서울대학교 경제학부 21 세 손다인 님\n",
            "수업 일찍 끝내주세요,, 의견 감사합니다.\n"
          ],
          "name": "stdout"
        }
      ]
    },
    {
      "cell_type": "code",
      "metadata": {
        "colab": {
          "base_uri": "https://localhost:8080/"
        },
        "id": "ATfC1aaYFXUU",
        "outputId": "65fe21e1-3aac-4389-d09d-4494498ff7e7"
      },
      "source": [
        "print('대화를 시작합니다.')\n",
        "print()\n",
        "parrot=input()\n",
        "print(parrot)"
      ],
      "execution_count": null,
      "outputs": [
        {
          "output_type": "stream",
          "text": [
            "대화를 시작합니다.\n",
            " \n",
            "너 이름이 뭐야?\n",
            "너 이름이 뭐야?\n"
          ],
          "name": "stdout"
        }
      ]
    },
    {
      "cell_type": "code",
      "metadata": {
        "colab": {
          "base_uri": "https://localhost:8080/"
        },
        "id": "iGOkzqIcFtax",
        "outputId": "be248a3f-56d8-406e-8edd-5e6853508f5f"
      },
      "source": [
        "print('대화를 시작합니다.')\n",
        "print()\n",
        "human='조련사: '\n",
        "parrot='앵무새: '\n",
        "ment=input(human)\n",
        "print(parrot+ment)\n",
        "print()\n",
        "ment=input(human)\n",
        "print(parrot+ment)\n",
        "print()\n",
        "ment=input(human)\n",
        "print(parrot+ment)\n",
        "print()"
      ],
      "execution_count": null,
      "outputs": [
        {
          "output_type": "stream",
          "text": [
            "대화를 시작합니다.\n",
            "\n",
            "조련사: 너 이름이 뭐야?\n",
            "앵무새: 너 이름이 뭐야?\n",
            "\n",
            "조련사: 난 블랙핑크 로제야.\n",
            "앵무새: 난 블랙핑크 로제야.\n",
            "\n",
            "조련사: 난 뉴욕을 매료시킨 완벽한 인형미모야.\n",
            "앵무새: 난 뉴욕을 매료시킨 완벽한 인형미모야.\n",
            "\n"
          ],
          "name": "stdout"
        }
      ]
    },
    {
      "cell_type": "markdown",
      "metadata": {
        "id": "f9P5_8rk1RxS"
      },
      "source": [
        "# 3-1"
      ]
    },
    {
      "cell_type": "code",
      "metadata": {
        "colab": {
          "base_uri": "https://localhost:8080/"
        },
        "id": "8zU63Lx51Qgn",
        "outputId": "9288e6cb-229e-443e-91e7-dd6b3899a123"
      },
      "source": [
        "dept=input('학과: ')\n",
        "num=input('학번: ')\n",
        "name=input('이름: ')\n",
        "\n",
        "print('학과:',dept+',','학번:',num+',','이름:',name)\n",
        "print()\n",
        "print('온도 변환 프로그램')\n",
        "f1=int(input('화씨 온도를 입력하세요.'))\n",
        "c1=5.0/9.0*(f1-32.0)\n",
        "print('섭씨 온도는',c1,'입니다.')\n",
        "print()\n",
        "c2=int(input('섭씨 온도를 입력하세요.'))\n",
        "f2=9.0/5.0*c2+32.0\n",
        "print('화씨 온도는',f2,'입니다.')\n"
      ],
      "execution_count": 8,
      "outputs": [
        {
          "output_type": "stream",
          "text": [
            "학과: 경제학부\n",
            "학번: 2021-19885\n",
            "이름: 손다인\n",
            "학과: 경제학부, 학번: 2021-19885, 이름: 손다인\n",
            "\n",
            "온도 변환 프로그램\n",
            "화씨 온도를 입력하세요.50\n",
            "섭씨 온도는 10.0 입니다.\n",
            "\n",
            "섭씨 온도를 입력하세요.50\n",
            "화씨 온도는 122.0 입니다.\n"
          ],
          "name": "stdout"
        }
      ]
    },
    {
      "cell_type": "code",
      "metadata": {
        "colab": {
          "base_uri": "https://localhost:8080/"
        },
        "id": "w6f9-2vy34Ex",
        "outputId": "48e15569-eaab-4b1e-e959-7c8f6481768b"
      },
      "source": [
        "print('환율계산 프로그램')\n",
        "print()\n",
        "num=input('금액을 입력하세요: ')\n",
        "num1=int(num)\n",
        "krw=num1*0.00084\n",
        "cny=num1*0.15\n",
        "jpy=num1*0.0094\n",
        "php=num1*0.021\n",
        "print('대한민국 '+num+'원은 '+str(krw)+'달러입니다.')\n",
        "print('중국 '+num+'위안은 '+str(cny)+'달러입니다.')\n",
        "print('일본 '+num+'엔은 '+str(jpy)+'달러입니다.')\n",
        "print('필리핀 '+num+'페소는 '+str(php)+'달러입니다.')"
      ],
      "execution_count": 5,
      "outputs": [
        {
          "output_type": "stream",
          "text": [
            "환율계산 프로그램\n",
            "\n",
            "금액을 입력하세요: 5000\n",
            "대한민국 5000원은 4.2달러입니다.\n",
            "중국 5000위안은 750.0달러입니다.\n",
            "일본 5000엔은 47.0달러입니다.\n",
            "필리핀 5000페소는 105.0달러입니다.\n"
          ],
          "name": "stdout"
        }
      ]
    },
    {
      "cell_type": "code",
      "metadata": {
        "colab": {
          "base_uri": "https://localhost:8080/"
        },
        "id": "TyfyrH1Z6-I6",
        "outputId": "eb2863c7-dbd3-4430-b965-aa2def2df6e1"
      },
      "source": [
        "print('부가세 계산 프로그램')\n",
        "print()\n",
        "num=int(input('합계 금액을 입력하세요: '))\n",
        "a=num*(100/110)\n",
        "print('공급가액 '+str(round(a))+'원')\n",
        "b=num*(10/110)\n",
        "print('세액 '+str(round(b))+'원입니다.')"
      ],
      "execution_count": 10,
      "outputs": [
        {
          "output_type": "stream",
          "text": [
            "부가세 계산 프로그램\n",
            "\n",
            "합계 금액을 입력하세요: 100000\n",
            "공급가액 90909원\n",
            "세액 9091원입니다.\n"
          ],
          "name": "stdout"
        }
      ]
    },
    {
      "cell_type": "code",
      "metadata": {
        "colab": {
          "base_uri": "https://localhost:8080/"
        },
        "id": "-IOtZF3a8VIL",
        "outputId": "27a980b7-7b40-4fff-ec2a-d961fdc53d94"
      },
      "source": [
        "print('칼로리 계산 프로그램')\n",
        "print()\n",
        "weight=input('몸무게(kg): ')\n",
        "time=input('운동시간(분): ')\n",
        "print()\n",
        "walking=(4*3.5*int(weight)/200)*int(time)\n",
        "jogging=(7*3.5*int(weight)/200)*int(time)\n",
        "hiking=(7*3.5*int(weight)/200)*int(time)\n",
        "stair=(5*3.5*int(weight)/200)*int(time)\n",
        "swimming=(9*3.5*int(weight)/200)*int(time)\n",
        "print('걷기운동 '+time+'분은 '+str(walking)+'kcal가 소모됩니다.')\n",
        "print('조깅운동 '+time+'분은 '+str(jogging)+'kcal가 소모됩니다.')\n",
        "print('등산운동 '+time+'분은 '+str(hiking)+'kcal가 소모됩니다.')\n",
        "print('계단오르기기운동 '+time+'분은 '+str(stair)+'kcal가 소모됩니다.')\n",
        "print('수영운동 '+time+'분은 '+str(swimming)+'kcal가 소모됩니다.')"
      ],
      "execution_count": 11,
      "outputs": [
        {
          "output_type": "stream",
          "text": [
            "칼로리 계산 프로그램\n",
            "\n",
            "몸무게(kg): 60\n",
            "운동시간(분): 10\n",
            "\n",
            "걷기운동 10분은 42.0kcal가 소모됩니다.\n",
            "조깅운동 10분은 73.5kcal가 소모됩니다.\n",
            "등산운동 10분은 73.5kcal가 소모됩니다.\n",
            "계단오르기기운동 10분은 52.5kcal가 소모됩니다.\n",
            "수영운동 10분은 94.5kcal가 소모됩니다.\n"
          ],
          "name": "stdout"
        }
      ]
    },
    {
      "cell_type": "markdown",
      "metadata": {
        "id": "X8C2ErN9BJxE"
      },
      "source": [
        "# 3-2"
      ]
    },
    {
      "cell_type": "code",
      "metadata": {
        "colab": {
          "base_uri": "https://localhost:8080/"
        },
        "id": "kdLHe_QyBJNo",
        "outputId": "6b1facbf-fed9-4d07-d854-73f80bad9b71"
      },
      "source": [
        "print('성적을 입력하시오.')\n",
        "score=input()\n",
        "if int(score)>=90:\n",
        "  print('합격입니다.')\n",
        "else:\n",
        "  print('불합격입니다.')  "
      ],
      "execution_count": 14,
      "outputs": [
        {
          "output_type": "stream",
          "text": [
            "성적을 입력하시오.\n",
            "76\n",
            "불합격입니다.\n"
          ],
          "name": "stdout"
        }
      ]
    },
    {
      "cell_type": "code",
      "metadata": {
        "colab": {
          "base_uri": "https://localhost:8080/"
        },
        "id": "BY1HMarKBwK8",
        "outputId": "5f6f0f4c-14b2-4eab-e088-d8f64cfca78c"
      },
      "source": [
        "int1=input('첫 번째 정수를 입력하시오: ')\n",
        "int2=input('두 번째 정수를 입력하시오: ')\n",
        "print()\n",
        "if int(int1)>int(int2):\n",
        "  print('큰수: ' +int1)\n",
        "  print('작은수: '+int2)\n",
        "elif int(int1)<int(int2):\n",
        "  print('큰수: ' +int2)\n",
        "  print('작은수: '+int1)\n",
        "else:\n",
        "  print('두 수는 같습니다.')\n"
      ],
      "execution_count": 17,
      "outputs": [
        {
          "output_type": "stream",
          "text": [
            "첫 번째 정수를 입력하시오: 45\n",
            "두 번째 정수를 입력하시오: 45\n",
            "\n",
            "두 수는 같습니다.\n"
          ],
          "name": "stdout"
        }
      ]
    },
    {
      "cell_type": "code",
      "metadata": {
        "colab": {
          "base_uri": "https://localhost:8080/"
        },
        "id": "4NWgqnWaCog2",
        "outputId": "fd202830-e3c4-46cc-a362-5feed325d087"
      },
      "source": [
        "print('숫자를 입력하시오.')\n",
        "num=input()\n",
        "if int(num)%2==1:\n",
        "  print('홀수입니다.')\n",
        "if int(num)%2==0:\n",
        "  print('짝수입니다.')"
      ],
      "execution_count": 22,
      "outputs": [
        {
          "output_type": "stream",
          "text": [
            "숫자를 입력하시오.\n",
            "76\n",
            "짝수입니다.\n"
          ],
          "name": "stdout"
        }
      ]
    },
    {
      "cell_type": "code",
      "metadata": {
        "colab": {
          "base_uri": "https://localhost:8080/"
        },
        "id": "dGK9pfHEDbWv",
        "outputId": "ca3c2342-4654-4ddb-d014-3f32dc289795"
      },
      "source": [
        "print('몸무게(kg)와 키(m)를 차례대로 입력하세요.')\n",
        "weight=input()\n",
        "height=input()\n",
        "bmi=float(weight)/float(height)**2\n",
        "print('BMI', \"%.2f\"%bmi)\n",
        "if bmi>25:\n",
        "  print('비만입니다. 운동으로 감량이 필요합니다.')\n",
        "else:\n",
        "  print('정상입니다. 꾸준한 운동으로 유지시켜주세요.')\n"
      ],
      "execution_count": 25,
      "outputs": [
        {
          "output_type": "stream",
          "text": [
            "몸무게(kg)와 키(m)를 차례대로 입력하세요.\n",
            "50\n",
            "1.6\n",
            "BMI 19.53\n",
            "정상입니다. 꾸준한 운동으로 유지시켜주세요.\n"
          ],
          "name": "stdout"
        }
      ]
    },
    {
      "cell_type": "code",
      "metadata": {
        "colab": {
          "base_uri": "https://localhost:8080/"
        },
        "id": "vFWMy63YEyTX",
        "outputId": "448d55d4-b016-4401-e823-80d66cea5361"
      },
      "source": [
        "import random\n",
        "print('범위의 시작 값을 입력하세요.')\n",
        "first=input()\n",
        "print('범위의 끝 값을 입력하세요.')\n",
        "last=input()\n",
        "if int(first)<=int(last):\n",
        "  print('범위 '+first+'부터 '+last+'가운데 선택된 랜덤 넘버는 '+str(random.randint(int(first),int(last)))+'입니다.')\n",
        "else:\n",
        "  print('끝 값을 잘못 입력하셨습니다.')"
      ],
      "execution_count": 29,
      "outputs": [
        {
          "output_type": "stream",
          "text": [
            "범위의 시작 값을 입력하세요.\n",
            "100\n",
            "범위의 끝 값을 입력하세요.\n",
            "200\n",
            "범위 100부터 200가운데 선택된 랜덤 넘버는 153입니다.\n"
          ],
          "name": "stdout"
        }
      ]
    },
    {
      "cell_type": "code",
      "metadata": {
        "colab": {
          "base_uri": "https://localhost:8080/"
        },
        "id": "8mWNOjHHGY5r",
        "outputId": "27141ecf-7c61-45d8-d24a-b4363f9170de"
      },
      "source": [
        "name=input('당신의 이름은? ')\n",
        "kor=int(input('국어 점수는? '))\n",
        "math=int(input('수학 점수는? '))\n",
        "eng=int(input('영어 점수는? '))\n",
        "average=(kor+math+eng)/3\n",
        "if average<60:\n",
        "  print(name+'님은 불합격..입니다.')\n",
        "elif kor<40:\n",
        "  print(name+'님은 과락...입니다.')\n",
        "elif math<40:\n",
        "  print(name+'님은 과락...입니다.')\n",
        "elif eng<40:\n",
        "  print(name+'님은 과락...입니다.')\n",
        "else:\n",
        "  print(name+'님은 합격입니다.')"
      ],
      "execution_count": 34,
      "outputs": [
        {
          "output_type": "stream",
          "text": [
            "당신의 이름은? 홍길동\n",
            "국어 점수는? 62\n",
            "수학 점수는? 37\n",
            "영어 점수는? 68\n",
            "홍길동님은 불합격..입니다.\n"
          ],
          "name": "stdout"
        }
      ]
    }
  ]
}