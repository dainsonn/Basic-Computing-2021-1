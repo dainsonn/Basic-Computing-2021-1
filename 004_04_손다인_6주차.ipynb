{
  "nbformat": 4,
  "nbformat_minor": 0,
  "metadata": {
    "colab": {
      "name": "004_04_2021-19885_손다인.ipynb",
      "provenance": [],
      "collapsed_sections": [
        "i1vFyWo76tKV",
        "jkPwpecu3Xcy",
        "rEX-C8y0BtXK",
        "f9P5_8rk1RxS",
        "X8C2ErN9BJxE",
        "cKa4oCA7HaPI",
        "KvFVlTtNHbpL",
        "Ujj7ySm6W9x-"
      ]
    },
    "kernelspec": {
      "name": "python3",
      "display_name": "Python 3"
    }
  },
  "cells": [
    {
      "cell_type": "markdown",
      "metadata": {
        "id": "i1vFyWo76tKV"
      },
      "source": [
        "# ^_^"
      ]
    },
    {
      "cell_type": "code",
      "metadata": {
        "colab": {
          "base_uri": "https://localhost:8080/"
        },
        "id": "A_Lnv6UZqCQb",
        "outputId": "88368477-00ee-43f6-ec75-47a3d09d3982"
      },
      "source": [
        "2+2"
      ],
      "execution_count": null,
      "outputs": [
        {
          "output_type": "execute_result",
          "data": {
            "text/plain": [
              "4"
            ]
          },
          "metadata": {
            "tags": []
          },
          "execution_count": 2
        }
      ]
    },
    {
      "cell_type": "code",
      "metadata": {
        "colab": {
          "base_uri": "https://localhost:8080/"
        },
        "id": "ibp4GeeZqbw_",
        "outputId": "8f6a21ec-d316-4d0f-bc20-465367611a97"
      },
      "source": [
        "5-7"
      ],
      "execution_count": null,
      "outputs": [
        {
          "output_type": "execute_result",
          "data": {
            "text/plain": [
              "-2"
            ]
          },
          "metadata": {
            "tags": []
          },
          "execution_count": 3
        }
      ]
    },
    {
      "cell_type": "code",
      "metadata": {
        "colab": {
          "base_uri": "https://localhost:8080/"
        },
        "id": "ORU9l2wOqcre",
        "outputId": "0086b13f-f6ad-4b69-f619-ac135adc3ece"
      },
      "source": [
        "8*9"
      ],
      "execution_count": null,
      "outputs": [
        {
          "output_type": "execute_result",
          "data": {
            "text/plain": [
              "72"
            ]
          },
          "metadata": {
            "tags": []
          },
          "execution_count": 4
        }
      ]
    },
    {
      "cell_type": "code",
      "metadata": {
        "colab": {
          "base_uri": "https://localhost:8080/"
        },
        "id": "q8DimOlJqdi9",
        "outputId": "08f88367-b433-41d9-e1bb-0fef19008617"
      },
      "source": [
        "10/2"
      ],
      "execution_count": null,
      "outputs": [
        {
          "output_type": "execute_result",
          "data": {
            "text/plain": [
              "5.0"
            ]
          },
          "metadata": {
            "tags": []
          },
          "execution_count": 5
        }
      ]
    },
    {
      "cell_type": "code",
      "metadata": {
        "colab": {
          "base_uri": "https://localhost:8080/"
        },
        "id": "ZVH2vI4Vqek0",
        "outputId": "fbfb35b0-659a-4eb8-e6ef-41d2415af668"
      },
      "source": [
        "10%2"
      ],
      "execution_count": null,
      "outputs": [
        {
          "output_type": "execute_result",
          "data": {
            "text/plain": [
              "0"
            ]
          },
          "metadata": {
            "tags": []
          },
          "execution_count": 6
        }
      ]
    },
    {
      "cell_type": "code",
      "metadata": {
        "colab": {
          "base_uri": "https://localhost:8080/"
        },
        "id": "lzba7HXDqf5_",
        "outputId": "5c14ca94-45f5-44a6-ed92-29e9101f63c2"
      },
      "source": [
        "3**2"
      ],
      "execution_count": null,
      "outputs": [
        {
          "output_type": "execute_result",
          "data": {
            "text/plain": [
              "9"
            ]
          },
          "metadata": {
            "tags": []
          },
          "execution_count": 7
        }
      ]
    },
    {
      "cell_type": "code",
      "metadata": {
        "colab": {
          "base_uri": "https://localhost:8080/"
        },
        "id": "86q-3XH4qsJG",
        "outputId": "7e7ef012-f2d0-478a-91ae-45c5f0d62a6d"
      },
      "source": [
        "2/4*3"
      ],
      "execution_count": null,
      "outputs": [
        {
          "output_type": "execute_result",
          "data": {
            "text/plain": [
              "1.5"
            ]
          },
          "metadata": {
            "tags": []
          },
          "execution_count": 8
        }
      ]
    },
    {
      "cell_type": "code",
      "metadata": {
        "colab": {
          "base_uri": "https://localhost:8080/"
        },
        "id": "B7ZxgeDKqvXh",
        "outputId": "f1e04481-7f4e-4f0b-be6e-1fc9152667bd"
      },
      "source": [
        "4.0*2%2"
      ],
      "execution_count": null,
      "outputs": [
        {
          "output_type": "execute_result",
          "data": {
            "text/plain": [
              "0.0"
            ]
          },
          "metadata": {
            "tags": []
          },
          "execution_count": 9
        }
      ]
    },
    {
      "cell_type": "code",
      "metadata": {
        "colab": {
          "base_uri": "https://localhost:8080/"
        },
        "id": "aiAvxSvBq04K",
        "outputId": "2e3625b8-91d1-4c47-bac6-8c31c09d0a8f"
      },
      "source": [
        "4.0-2.0"
      ],
      "execution_count": null,
      "outputs": [
        {
          "output_type": "execute_result",
          "data": {
            "text/plain": [
              "2.0"
            ]
          },
          "metadata": {
            "tags": []
          },
          "execution_count": 10
        }
      ]
    },
    {
      "cell_type": "code",
      "metadata": {
        "colab": {
          "base_uri": "https://localhost:8080/"
        },
        "id": "dcSZFUZWq3Cg",
        "outputId": "fee56e71-eef2-422e-e4f5-560604c3457d"
      },
      "source": [
        "3600-60*3"
      ],
      "execution_count": null,
      "outputs": [
        {
          "output_type": "execute_result",
          "data": {
            "text/plain": [
              "3420"
            ]
          },
          "metadata": {
            "tags": []
          },
          "execution_count": 11
        }
      ]
    },
    {
      "cell_type": "code",
      "metadata": {
        "id": "A9sX6Kv6tH5X"
      },
      "source": [
        "spam=15"
      ],
      "execution_count": null,
      "outputs": []
    },
    {
      "cell_type": "code",
      "metadata": {
        "colab": {
          "base_uri": "https://localhost:8080/"
        },
        "id": "H7WpRQzAtNB1",
        "outputId": "302b72eb-53a4-4a49-d03f-388a36380946"
      },
      "source": [
        "spam"
      ],
      "execution_count": null,
      "outputs": [
        {
          "output_type": "execute_result",
          "data": {
            "text/plain": [
              "15"
            ]
          },
          "metadata": {
            "tags": []
          },
          "execution_count": 14
        }
      ]
    },
    {
      "cell_type": "code",
      "metadata": {
        "colab": {
          "base_uri": "https://localhost:8080/"
        },
        "id": "JIhcJ-a3tPJa",
        "outputId": "35c2300a-5c83-4e57-cd13-634221cd4966"
      },
      "source": [
        "print(spam)"
      ],
      "execution_count": null,
      "outputs": [
        {
          "output_type": "stream",
          "text": [
            "15\n"
          ],
          "name": "stdout"
        }
      ]
    },
    {
      "cell_type": "code",
      "metadata": {
        "colab": {
          "base_uri": "https://localhost:8080/"
        },
        "id": "N5_kZKu9vgoy",
        "outputId": "f351ebf1-d49a-4222-94b4-97eebd337bd7"
      },
      "source": [
        "eggs=15\n",
        "fizz=10\n",
        "spam=eggs+fizz\n",
        "spam"
      ],
      "execution_count": null,
      "outputs": [
        {
          "output_type": "execute_result",
          "data": {
            "text/plain": [
              "25"
            ]
          },
          "metadata": {
            "tags": []
          },
          "execution_count": 17
        }
      ]
    },
    {
      "cell_type": "code",
      "metadata": {
        "colab": {
          "base_uri": "https://localhost:8080/",
          "height": 36
        },
        "id": "quSmYYj2wOsd",
        "outputId": "16c84830-95d4-4ca1-826e-45554fb38804"
      },
      "source": [
        "spam='hello'\n",
        "spam"
      ],
      "execution_count": null,
      "outputs": [
        {
          "output_type": "execute_result",
          "data": {
            "application/vnd.google.colaboratory.intrinsic+json": {
              "type": "string"
            },
            "text/plain": [
              "'hello'"
            ]
          },
          "metadata": {
            "tags": []
          },
          "execution_count": 18
        }
      ]
    },
    {
      "cell_type": "code",
      "metadata": {
        "colab": {
          "base_uri": "https://localhost:8080/",
          "height": 36
        },
        "id": "rF3L-ZwowxAK",
        "outputId": "fe6a9906-181d-4c59-f90a-91397c857628"
      },
      "source": [
        "'hello'+'world!'"
      ],
      "execution_count": null,
      "outputs": [
        {
          "output_type": "execute_result",
          "data": {
            "application/vnd.google.colaboratory.intrinsic+json": {
              "type": "string"
            },
            "text/plain": [
              "'helloworld!'"
            ]
          },
          "metadata": {
            "tags": []
          },
          "execution_count": 19
        }
      ]
    },
    {
      "cell_type": "code",
      "metadata": {
        "colab": {
          "base_uri": "https://localhost:8080/",
          "height": 36
        },
        "id": "gVQ1NzTEw2O6",
        "outputId": "f3b72543-f533-4b7e-9b7f-3cb47837452f"
      },
      "source": [
        "'hello '+'world!'"
      ],
      "execution_count": null,
      "outputs": [
        {
          "output_type": "execute_result",
          "data": {
            "application/vnd.google.colaboratory.intrinsic+json": {
              "type": "string"
            },
            "text/plain": [
              "'hello world!'"
            ]
          },
          "metadata": {
            "tags": []
          },
          "execution_count": 20
        }
      ]
    },
    {
      "cell_type": "code",
      "metadata": {
        "colab": {
          "base_uri": "https://localhost:8080/",
          "height": 36
        },
        "id": "7yuInVKAx5Nj",
        "outputId": "ed72007a-78d5-4533-cc27-887ffca2da0d"
      },
      "source": [
        "'hello'+' '+'world!'"
      ],
      "execution_count": null,
      "outputs": [
        {
          "output_type": "execute_result",
          "data": {
            "application/vnd.google.colaboratory.intrinsic+json": {
              "type": "string"
            },
            "text/plain": [
              "'hello world!'"
            ]
          },
          "metadata": {
            "tags": []
          },
          "execution_count": 21
        }
      ]
    },
    {
      "cell_type": "code",
      "metadata": {
        "colab": {
          "base_uri": "https://localhost:8080/",
          "height": 36
        },
        "id": "eC7Hpqicx-a7",
        "outputId": "cd5d49c1-8149-43c8-b000-420e005a667b"
      },
      "source": [
        "spam='hello'\n",
        "fizz='world!'\n",
        "spam+fizz"
      ],
      "execution_count": null,
      "outputs": [
        {
          "output_type": "execute_result",
          "data": {
            "application/vnd.google.colaboratory.intrinsic+json": {
              "type": "string"
            },
            "text/plain": [
              "'helloworld!'"
            ]
          },
          "metadata": {
            "tags": []
          },
          "execution_count": 22
        }
      ]
    },
    {
      "cell_type": "code",
      "metadata": {
        "colab": {
          "base_uri": "https://localhost:8080/"
        },
        "id": "N1Oqti5f0nml",
        "outputId": "aafd9faf-9377-460a-f113-69759528f31a"
      },
      "source": [
        "#This program says hello and asks for my name.\n",
        "#print('Hello world!')\n",
        "print('Input your name. ')\n",
        "myName=input()\n",
        "print('Welcome, '+myName+'.')"
      ],
      "execution_count": null,
      "outputs": [
        {
          "output_type": "stream",
          "text": [
            "Input your name. \n",
            "dain\n",
            "Welcome, dain.\n"
          ],
          "name": "stdout"
        }
      ]
    },
    {
      "cell_type": "code",
      "metadata": {
        "colab": {
          "base_uri": "https://localhost:8080/",
          "height": 36
        },
        "id": "m5K-b-X22fSY",
        "outputId": "067c642e-e8d0-4380-8ee3-e7fbd9dafe84"
      },
      "source": [
        "'Hello world!'"
      ],
      "execution_count": null,
      "outputs": [
        {
          "output_type": "execute_result",
          "data": {
            "application/vnd.google.colaboratory.intrinsic+json": {
              "type": "string"
            },
            "text/plain": [
              "'Hello world!'"
            ]
          },
          "metadata": {
            "tags": []
          },
          "execution_count": 25
        }
      ]
    },
    {
      "cell_type": "code",
      "metadata": {
        "colab": {
          "base_uri": "https://localhost:8080/",
          "height": 36
        },
        "id": "p5WfkvSb2ls3",
        "outputId": "c98f24d2-2fde-4d7e-dfb8-b494db130aa6"
      },
      "source": [
        "'Hello world!'\n",
        "'How are you?'\n",
        "'Nice to meet you'"
      ],
      "execution_count": null,
      "outputs": [
        {
          "output_type": "execute_result",
          "data": {
            "application/vnd.google.colaboratory.intrinsic+json": {
              "type": "string"
            },
            "text/plain": [
              "'Nice to meet you'"
            ]
          },
          "metadata": {
            "tags": []
          },
          "execution_count": 26
        }
      ]
    },
    {
      "cell_type": "code",
      "metadata": {
        "colab": {
          "base_uri": "https://localhost:8080/",
          "height": 36
        },
        "id": "6uCp9yMB4IZ8",
        "outputId": "8ac62cf8-604e-4055-cebd-7e1364026a1d"
      },
      "source": [
        "'''Hello world!\n",
        "How are you?\n",
        "Nice to meet you'''"
      ],
      "execution_count": null,
      "outputs": [
        {
          "output_type": "execute_result",
          "data": {
            "application/vnd.google.colaboratory.intrinsic+json": {
              "type": "string"
            },
            "text/plain": [
              "'Hello world!\\nHow are you?\\nNice to meet you'"
            ]
          },
          "metadata": {
            "tags": []
          },
          "execution_count": 27
        }
      ]
    },
    {
      "cell_type": "code",
      "metadata": {
        "colab": {
          "base_uri": "https://localhost:8080/"
        },
        "id": "LPho1S5U4SiI",
        "outputId": "e17f419c-bba7-40ed-ce89-ffb3e1d99074"
      },
      "source": [
        "print('''Hello world!\n",
        "How are you?\n",
        "Nice to meet you''')"
      ],
      "execution_count": null,
      "outputs": [
        {
          "output_type": "stream",
          "text": [
            "Hello world!\n",
            "How are you?\n",
            "Nice to meet you\n"
          ],
          "name": "stdout"
        }
      ]
    },
    {
      "cell_type": "code",
      "metadata": {
        "colab": {
          "base_uri": "https://localhost:8080/"
        },
        "id": "SPk-ikpG4ep8",
        "outputId": "d262f92c-2bf7-4866-c247-d6c7fa21f607"
      },
      "source": [
        "age=25\n",
        "print('Age:',age)\n",
        "name=\"Rose\"\n",
        "print('Nice to meet you,'+name)\n",
        "print('After ten years, you are',age+10, 'years old.')"
      ],
      "execution_count": null,
      "outputs": [
        {
          "output_type": "stream",
          "text": [
            "Age: 25\n",
            "Nice to meet you,Rose\n",
            "After ten years, you are 35 years old.\n"
          ],
          "name": "stdout"
        }
      ]
    },
    {
      "cell_type": "code",
      "metadata": {
        "colab": {
          "base_uri": "https://localhost:8080/"
        },
        "id": "stzkVMTT64wU",
        "outputId": "6dc05e23-a54e-4851-8e77-c6fd31b74c21"
      },
      "source": [
        "print('How old are you?')\n",
        "age=input()"
      ],
      "execution_count": null,
      "outputs": [
        {
          "output_type": "stream",
          "text": [
            "How old are you?\n",
            "21\n"
          ],
          "name": "stdout"
        }
      ]
    },
    {
      "cell_type": "code",
      "metadata": {
        "colab": {
          "base_uri": "https://localhost:8080/"
        },
        "id": "Rrx_6n447Bki",
        "outputId": "92118caf-8f13-49c9-ffa5-f2bcef9b30dd"
      },
      "source": [
        "age=input('How old are you?')"
      ],
      "execution_count": null,
      "outputs": [
        {
          "output_type": "stream",
          "text": [
            "How old are you?21\n"
          ],
          "name": "stdout"
        }
      ]
    },
    {
      "cell_type": "markdown",
      "metadata": {
        "id": "Q__8xJJR7Y7B"
      },
      "source": [
        "print('How old are you?')\n",
        "age=input() 는 변수 age에 input()가 저장되고\n",
        "age=input('How old are you?') 는 변수 age에 input('How old are you?')가 저장된다"
      ]
    },
    {
      "cell_type": "code",
      "metadata": {
        "colab": {
          "base_uri": "https://localhost:8080/"
        },
        "id": "EzGO8PHcaq0z",
        "outputId": "ef784fa9-19b4-4626-f95b-91586d2b4cbf"
      },
      "source": [
        "#This is a guess the number game.\n",
        "import random\n",
        "print('Hello! What is your name?')\n",
        "myName=input()\n",
        "\n",
        "number=random.randint(1,20)\n",
        "print('Well, '+myName+', I am thinking of a number between 1 and 20.')\n",
        "guess=0\n",
        "guessesTaken=0\n",
        "while guess!=number and guessesTaken<6:\n",
        "  guessesTaken=guessesTaken+1\n",
        "  print('Take a guess.')\n",
        "  guess=input()\n",
        "  guess=int(guess)\n",
        "\n",
        "  if guess<number:\n",
        "    print('Your guess in trial', guessesTaken, 'is too low.')\n",
        "  if guess>number:\n",
        "    print('Your guess in trial', guessesTaken, 'is too high.')  \n",
        "  if guess==number:\n",
        "    print('Good job, '+myName+'! You guessed my number in', guessesTaken, 'guesses!')\n",
        "if guess!=number:\n",
        "  print('Nope. The number I was thinking of was',number+'.')    "
      ],
      "execution_count": null,
      "outputs": [
        {
          "output_type": "stream",
          "text": [
            "Hello! What is your name?\n",
            "Dain\n",
            "Well, Dain, I am thinking of a number between 1 and 20.\n",
            "Take a guess.\n",
            "10\n",
            "Your guess in trial 1 is too high.\n",
            "Take a guess.\n",
            "5\n",
            "Your guess in trial 2 is too low.\n",
            "Take a guess.\n",
            "7\n",
            "Your guess in trial 3 is too high.\n",
            "Take a guess.\n",
            "6\n",
            "Good job, Dain! You guessed my number in 4 guesses!\n"
          ],
          "name": "stdout"
        }
      ]
    },
    {
      "cell_type": "code",
      "metadata": {
        "colab": {
          "base_uri": "https://localhost:8080/"
        },
        "id": "HSpzXUIbfO2A",
        "outputId": "58de152f-9068-407d-a4bd-e032c4208683"
      },
      "source": [
        "currentAge=input('몇 살이세요?')\n",
        "currentAge=int(currentAge)\n",
        "futureAge=currentAge+10\n",
        "print('당신의 10년 후 나이는 '+str(futureAge)+'살이시군요.')"
      ],
      "execution_count": null,
      "outputs": [
        {
          "output_type": "stream",
          "text": [
            "몇 살이세요?21\n",
            "당신의 10년 후 나이는 31살이시군요.\n"
          ],
          "name": "stdout"
        }
      ]
    },
    {
      "cell_type": "code",
      "metadata": {
        "colab": {
          "base_uri": "https://localhost:8080/"
        },
        "id": "h642RntsUH15",
        "outputId": "3842bb73-bd05-463a-aab8-9009205e3139"
      },
      "source": [
        "score=75\n",
        "if score>=90:\n",
        "  print('A입니다.')\n",
        "elif score>=80:\n",
        "  print('B입니다.') \n",
        "elif score>=70:\n",
        "  print('C입니다.') \n",
        "elif score>=60:\n",
        "  print('D입니다.')\n",
        "else:\n",
        "  print('F입니다.')     "
      ],
      "execution_count": null,
      "outputs": [
        {
          "output_type": "stream",
          "text": [
            "C입니다.\n"
          ],
          "name": "stdout"
        }
      ]
    },
    {
      "cell_type": "code",
      "metadata": {
        "colab": {
          "base_uri": "https://localhost:8080/"
        },
        "id": "QGpIm1T2UySK",
        "outputId": "7a9851ed-680b-490e-b342-2d31420ad74b"
      },
      "source": [
        "score=75\n",
        "if score>=90:\n",
        "  print('A입니다.')\n",
        "if score>=80:\n",
        "  print('B입니다.') \n",
        "if score>=70:\n",
        "  print('C입니다.') \n",
        "if score>=60:\n",
        "  print('D입니다.')\n",
        "else:\n",
        "  print('F입니다.')   "
      ],
      "execution_count": null,
      "outputs": [
        {
          "output_type": "stream",
          "text": [
            "C입니다.\n",
            "D입니다.\n"
          ],
          "name": "stdout"
        }
      ]
    },
    {
      "cell_type": "markdown",
      "metadata": {
        "id": "T_NUa9DkVPgu"
      },
      "source": [
        "if elif else문을 쓰면 'C입니다.' 출력\n",
        "\n",
        "if else문을 쓰면 'C입니다. D입니다.' 출력"
      ]
    },
    {
      "cell_type": "code",
      "metadata": {
        "colab": {
          "base_uri": "https://localhost:8080/"
        },
        "id": "TurhjTsls05c",
        "outputId": "e59ea7a6-a495-486d-c0a3-3f5d0aaaeedf"
      },
      "source": [
        "count=0\n",
        "\n",
        "while count<5:\n",
        "  print('재미있는 파이썬')\n",
        "  count=count+1\n",
        "\n",
        "print('count=',count)  "
      ],
      "execution_count": null,
      "outputs": [
        {
          "output_type": "stream",
          "text": [
            "재미있는 파이썬\n",
            "재미있는 파이썬\n",
            "재미있는 파이썬\n",
            "재미있는 파이썬\n",
            "재미있는 파이썬\n",
            "count= 5\n"
          ],
          "name": "stdout"
        }
      ]
    },
    {
      "cell_type": "code",
      "metadata": {
        "colab": {
          "base_uri": "https://localhost:8080/"
        },
        "id": "a9XVz_6hBI9Y",
        "outputId": "9f577c02-5fa5-4601-c2d9-16b0f94bd087"
      },
      "source": [
        "# 내가 생각하는 숫자 맞추는 프로그램\n",
        "print('''\n",
        "당신이 생각하는 숫자를 맞히겠습니다.\n",
        "\n",
        "=============================================================\n",
        "1부터 1000가운데 숫자 하나를 생각하세요.\n",
        "10번 안에 당신이 생각하고 있는 숫자를 맞힐 수 있습니다.\n",
        "숫자를 생각하셨으면 비밀리에 메모해 두고 enter를 누르세요.\n",
        "=============================================================''')\n",
        "input()\n",
        "\n",
        "start=1\n",
        "end=1000\n",
        "count=0\n",
        "while True:\n",
        "  mid=int((start+end)/2)\n",
        "  count=count+1\n",
        "  print()\n",
        "  answer1=input('Trial '+str(count)+'. 당신이 생각하고 있는 숫자는 '+str(mid)+'입니다. Yes or no?')\n",
        "  if answer1!='Yes' and answer1!='yes' and answer1!='y':\n",
        "    answer2=input('Oops! 내가 예측한 숫자가 크나요 작나요(High or low?)')\n",
        "    if answer2=='low':\n",
        "      start=mid+1\n",
        "    else:\n",
        "      end=mid-1\n",
        "  else:\n",
        "    print(count,'번 만에 찾았습니다. 내 실력 대단하죠?, 게임을 종료합니다.')\n",
        "    break"
      ],
      "execution_count": null,
      "outputs": [
        {
          "output_type": "stream",
          "text": [
            "\n",
            "당신이 생각하는 숫자를 맞히겠습니다.\n",
            "\n",
            "=============================================================\n",
            "1부터 1000가운데 숫자 하나를 생각하세요.\n",
            "10번 안에 당신이 생각하고 있는 숫자를 맞힐 수 있습니다.\n",
            "숫자를 생각하셨으면 비밀리에 메모해 두고 enter를 누르세요.\n",
            "=============================================================\n",
            "\n",
            "\n",
            "Trial 1. 당신이 생각하고 있는 숫자는 500입니다. Yes or no?no\n",
            "Oops! 내가 예측한 숫자가 크나요 작나요(High or low?)high\n",
            "\n",
            "Trial 2. 당신이 생각하고 있는 숫자는 250입니다. Yes or no?no\n",
            "Oops! 내가 예측한 숫자가 크나요 작나요(High or low?)high\n",
            "\n",
            "Trial 3. 당신이 생각하고 있는 숫자는 125입니다. Yes or no?no\n",
            "Oops! 내가 예측한 숫자가 크나요 작나요(High or low?)high\n",
            "\n",
            "Trial 4. 당신이 생각하고 있는 숫자는 62입니다. Yes or no?no\n",
            "Oops! 내가 예측한 숫자가 크나요 작나요(High or low?)low\n",
            "\n",
            "Trial 5. 당신이 생각하고 있는 숫자는 93입니다. Yes or no?no\n",
            "Oops! 내가 예측한 숫자가 크나요 작나요(High or low?)high\n",
            "\n",
            "Trial 6. 당신이 생각하고 있는 숫자는 77입니다. Yes or no?no\n",
            "Oops! 내가 예측한 숫자가 크나요 작나요(High or low?)low\n",
            "\n",
            "Trial 7. 당신이 생각하고 있는 숫자는 85입니다. Yes or no?no\n",
            "Oops! 내가 예측한 숫자가 크나요 작나요(High or low?)low\n",
            "\n",
            "Trial 8. 당신이 생각하고 있는 숫자는 89입니다. Yes or no?yes\n",
            "8 번 만에 찾았습니다. 내 실력 대단하죠?, 게임을 종료합니다.\n"
          ],
          "name": "stdout"
        }
      ]
    },
    {
      "cell_type": "code",
      "metadata": {
        "colab": {
          "base_uri": "https://localhost:8080/"
        },
        "id": "jDgb1WuV7qEL",
        "outputId": "531200e9-377f-46a3-d56c-e11456038557"
      },
      "source": [
        "shape=['turtle','arrow','circle','square']\n",
        "print(shape[-4])"
      ],
      "execution_count": null,
      "outputs": [
        {
          "output_type": "stream",
          "text": [
            "turtle\n"
          ],
          "name": "stdout"
        }
      ]
    },
    {
      "cell_type": "code",
      "metadata": {
        "colab": {
          "base_uri": "https://localhost:8080/"
        },
        "id": "EPsZ12Ff8-Lw",
        "outputId": "5dd31314-c821-4df8-d840-62dbc09a43a5"
      },
      "source": [
        "shape=['turtle','arrow','circle','square']\n",
        "shape[1]='ARROW'\n",
        "shape.append('heart')\n",
        "shape.append(27)\n",
        "number=[1,2,3]\n",
        "shape.extend(number)\n",
        "print(shape)\n",
        "number.extend(number)\n",
        "print(number)\n",
        "shape.insert(1,'heart')\n",
        "print(shape)\n",
        "shape.insert(3,'triangle')\n",
        "print(shape)\n",
        "del shape[2]\n",
        "print(shape)\n",
        "shape.remove('heart')\n",
        "print(shape)"
      ],
      "execution_count": null,
      "outputs": [
        {
          "output_type": "stream",
          "text": [
            "['turtle', 'ARROW', 'circle', 'square', 'heart', 27, 1, 2, 3]\n",
            "[1, 2, 3, 1, 2, 3]\n",
            "['turtle', 'heart', 'ARROW', 'circle', 'square', 'heart', 27, 1, 2, 3]\n",
            "['turtle', 'heart', 'ARROW', 'triangle', 'circle', 'square', 'heart', 27, 1, 2, 3]\n",
            "['turtle', 'heart', 'triangle', 'circle', 'square', 'heart', 27, 1, 2, 3]\n",
            "['turtle', 'triangle', 'circle', 'square', 'heart', 27, 1, 2, 3]\n"
          ],
          "name": "stdout"
        }
      ]
    },
    {
      "cell_type": "code",
      "metadata": {
        "colab": {
          "base_uri": "https://localhost:8080/"
        },
        "id": "rfkKOl9aHBT2",
        "outputId": "b6fde81c-d549-4fe3-de73-9bc6a7f09842"
      },
      "source": [
        "a=[0,1,2,3,4,5]\n",
        "a[0:2]"
      ],
      "execution_count": null,
      "outputs": [
        {
          "output_type": "execute_result",
          "data": {
            "text/plain": [
              "[0, 1]"
            ]
          },
          "metadata": {
            "tags": []
          },
          "execution_count": 14
        }
      ]
    },
    {
      "cell_type": "code",
      "metadata": {
        "colab": {
          "base_uri": "https://localhost:8080/"
        },
        "id": "dUlWOUprHWQd",
        "outputId": "66f91e3e-bc38-4e09-e367-32f5aab39b87"
      },
      "source": [
        "a[2:]"
      ],
      "execution_count": null,
      "outputs": [
        {
          "output_type": "execute_result",
          "data": {
            "text/plain": [
              "[2, 3, 4, 5]"
            ]
          },
          "metadata": {
            "tags": []
          },
          "execution_count": 15
        }
      ]
    },
    {
      "cell_type": "code",
      "metadata": {
        "colab": {
          "base_uri": "https://localhost:8080/"
        },
        "id": "QzBJN-41HYBj",
        "outputId": "b0b4c6d6-5611-49d7-cb7e-7ae74b9343f8"
      },
      "source": [
        "a[:4:2]"
      ],
      "execution_count": null,
      "outputs": [
        {
          "output_type": "execute_result",
          "data": {
            "text/plain": [
              "[0, 2]"
            ]
          },
          "metadata": {
            "tags": []
          },
          "execution_count": 16
        }
      ]
    },
    {
      "cell_type": "code",
      "metadata": {
        "colab": {
          "base_uri": "https://localhost:8080/"
        },
        "id": "cS3zitmOHbzr",
        "outputId": "71bf1193-1695-4811-d0ac-717a0d541be8"
      },
      "source": [
        "a[-4:-2]"
      ],
      "execution_count": null,
      "outputs": [
        {
          "output_type": "execute_result",
          "data": {
            "text/plain": [
              "[2, 3]"
            ]
          },
          "metadata": {
            "tags": []
          },
          "execution_count": 17
        }
      ]
    },
    {
      "cell_type": "code",
      "metadata": {
        "colab": {
          "base_uri": "https://localhost:8080/"
        },
        "id": "OHHbpIWYHdBA",
        "outputId": "48ce5be7-07c3-48ab-9649-2d09ad9347cd"
      },
      "source": [
        "a[-3:]"
      ],
      "execution_count": null,
      "outputs": [
        {
          "output_type": "execute_result",
          "data": {
            "text/plain": [
              "[3, 4, 5]"
            ]
          },
          "metadata": {
            "tags": []
          },
          "execution_count": 18
        }
      ]
    },
    {
      "cell_type": "code",
      "metadata": {
        "colab": {
          "base_uri": "https://localhost:8080/"
        },
        "id": "-lVBgUt6HfGI",
        "outputId": "489e539e-0e2c-4b38-e06b-2362ec1513a0"
      },
      "source": [
        "a[:-3]"
      ],
      "execution_count": null,
      "outputs": [
        {
          "output_type": "execute_result",
          "data": {
            "text/plain": [
              "[0, 1, 2]"
            ]
          },
          "metadata": {
            "tags": []
          },
          "execution_count": 19
        }
      ]
    },
    {
      "cell_type": "code",
      "metadata": {
        "colab": {
          "base_uri": "https://localhost:8080/"
        },
        "id": "8z2uPMmsHsny",
        "outputId": "19629334-a855-44e0-8793-b92dcef223a3"
      },
      "source": [
        "a[0:0]"
      ],
      "execution_count": null,
      "outputs": [
        {
          "output_type": "execute_result",
          "data": {
            "text/plain": [
              "[]"
            ]
          },
          "metadata": {
            "tags": []
          },
          "execution_count": 20
        }
      ]
    },
    {
      "cell_type": "code",
      "metadata": {
        "colab": {
          "base_uri": "https://localhost:8080/"
        },
        "id": "FHDmk1YkHuqt",
        "outputId": "826e18e4-53fa-45b3-aa3f-381e57d7d269"
      },
      "source": [
        "a[:]"
      ],
      "execution_count": null,
      "outputs": [
        {
          "output_type": "execute_result",
          "data": {
            "text/plain": [
              "[0, 1, 2, 3, 4, 5]"
            ]
          },
          "metadata": {
            "tags": []
          },
          "execution_count": 21
        }
      ]
    },
    {
      "cell_type": "code",
      "metadata": {
        "colab": {
          "base_uri": "https://localhost:8080/",
          "height": 213
        },
        "id": "VSo-F0x9Ij5R",
        "outputId": "0438207e-6a69-49b5-c8d4-10ff00122264"
      },
      "source": [
        "num=[0,1,2,3,4,5]\n",
        "shape=['turtle','arrow','circle','square','heart']\n",
        "num+shape\n",
        "num*2\n",
        "shape[0]+shape[1]\n",
        "num[0]+shape[1]"
      ],
      "execution_count": null,
      "outputs": [
        {
          "output_type": "error",
          "ename": "TypeError",
          "evalue": "ignored",
          "traceback": [
            "\u001b[0;31m---------------------------------------------------------------------------\u001b[0m",
            "\u001b[0;31mTypeError\u001b[0m                                 Traceback (most recent call last)",
            "\u001b[0;32m<ipython-input-26-b6454be27e70>\u001b[0m in \u001b[0;36m<module>\u001b[0;34m()\u001b[0m\n\u001b[1;32m      4\u001b[0m \u001b[0mnum\u001b[0m\u001b[0;34m*\u001b[0m\u001b[0;36m2\u001b[0m\u001b[0;34m\u001b[0m\u001b[0;34m\u001b[0m\u001b[0m\n\u001b[1;32m      5\u001b[0m \u001b[0mshape\u001b[0m\u001b[0;34m[\u001b[0m\u001b[0;36m0\u001b[0m\u001b[0;34m]\u001b[0m\u001b[0;34m+\u001b[0m\u001b[0mshape\u001b[0m\u001b[0;34m[\u001b[0m\u001b[0;36m1\u001b[0m\u001b[0;34m]\u001b[0m\u001b[0;34m\u001b[0m\u001b[0;34m\u001b[0m\u001b[0m\n\u001b[0;32m----> 6\u001b[0;31m \u001b[0mnum\u001b[0m\u001b[0;34m[\u001b[0m\u001b[0;36m0\u001b[0m\u001b[0;34m]\u001b[0m\u001b[0;34m+\u001b[0m\u001b[0mshape\u001b[0m\u001b[0;34m[\u001b[0m\u001b[0;36m1\u001b[0m\u001b[0;34m]\u001b[0m\u001b[0;34m\u001b[0m\u001b[0;34m\u001b[0m\u001b[0m\n\u001b[0m",
            "\u001b[0;31mTypeError\u001b[0m: unsupported operand type(s) for +: 'int' and 'str'"
          ]
        }
      ]
    },
    {
      "cell_type": "code",
      "metadata": {
        "colab": {
          "base_uri": "https://localhost:8080/"
        },
        "id": "aWnmT6DbJonL",
        "outputId": "932cfeb0-9514-4e18-d920-c8f4e9c5014b"
      },
      "source": [
        "ID=[1,2,3,4]\n",
        "area=['Seoul','Kwangju']\n",
        "name=['Alice','Bob']\n",
        "student=[ID,area,name]\n",
        "student\n",
        "student=[1,ID,area,name,'pass']\n",
        "student"
      ],
      "execution_count": null,
      "outputs": [
        {
          "output_type": "execute_result",
          "data": {
            "text/plain": [
              "[1, [1, 2, 3, 4], ['Seoul', 'Kwangju'], ['Alice', 'Bob'], 'pass']"
            ]
          },
          "metadata": {
            "tags": []
          },
          "execution_count": 28
        }
      ]
    },
    {
      "cell_type": "code",
      "metadata": {
        "colab": {
          "base_uri": "https://localhost:8080/"
        },
        "id": "Q6Pxd1KhKu1i",
        "outputId": "9b2e2bb2-7394-4ec1-919d-5cca68b6438e"
      },
      "source": [
        "shape=['turtle','arrow','circle','square','heart']\n",
        "shape.sort()\n",
        "shape\n",
        "numbers=[8,6,3,10,2,9,1,4,7,5]\n",
        "numbers.sort()\n",
        "numbers\n",
        "numbers=[8,6,3,10,2,9,1,4,7,5]\n",
        "sorted_numbers=sorted(numbers)\n",
        "print(sorted_numbers)\n",
        "print(numbers)"
      ],
      "execution_count": null,
      "outputs": [
        {
          "output_type": "stream",
          "text": [
            "[1, 2, 3, 4, 5, 6, 7, 8, 9, 10]\n",
            "[8, 6, 3, 10, 2, 9, 1, 4, 7, 5]\n"
          ],
          "name": "stdout"
        }
      ]
    },
    {
      "cell_type": "code",
      "metadata": {
        "colab": {
          "base_uri": "https://localhost:8080/"
        },
        "id": "WSnsALSlNjB3",
        "outputId": "38e67a01-8d7b-4550-95fe-cdf0ff888cba"
      },
      "source": [
        "a='Hello world'\n",
        "b=list(a)\n",
        "c=a.split()\n",
        "d=a.split('o')\n",
        "print(a)\n",
        "print(b)\n",
        "print(c)\n",
        "print(d)"
      ],
      "execution_count": null,
      "outputs": [
        {
          "output_type": "stream",
          "text": [
            "Hello world\n",
            "['H', 'e', 'l', 'l', 'o', ' ', 'w', 'o', 'r', 'l', 'd']\n",
            "['Hello', 'world']\n",
            "['Hell', ' w', 'rld']\n"
          ],
          "name": "stdout"
        }
      ]
    },
    {
      "cell_type": "code",
      "metadata": {
        "colab": {
          "base_uri": "https://localhost:8080/",
          "height": 36
        },
        "id": "rUgd4hwJOkXb",
        "outputId": "0cc13c41-78ff-4ab0-c589-67df21ae79e9"
      },
      "source": [
        "a='123'\n",
        "a[0]\n",
        "a[1]\n",
        "a[2]\n",
        "a[-1]\n",
        "a[-2]\n",
        "a[-3]"
      ],
      "execution_count": null,
      "outputs": [
        {
          "output_type": "execute_result",
          "data": {
            "application/vnd.google.colaboratory.intrinsic+json": {
              "type": "string"
            },
            "text/plain": [
              "'1'"
            ]
          },
          "metadata": {
            "tags": []
          },
          "execution_count": 38
        }
      ]
    },
    {
      "cell_type": "code",
      "metadata": {
        "colab": {
          "base_uri": "https://localhost:8080/",
          "height": 36
        },
        "id": "EP6KxrI-PO3h",
        "outputId": "048d9dbc-3d74-4ff8-e5bf-6be98c577f9c"
      },
      "source": [
        "a='012345'\n",
        "a[0:2]\n",
        "a[2:]\n",
        "a[:4:2]\n",
        "a[-4:-2]\n",
        "a[-3:]\n",
        "a[:-3]"
      ],
      "execution_count": null,
      "outputs": [
        {
          "output_type": "execute_result",
          "data": {
            "application/vnd.google.colaboratory.intrinsic+json": {
              "type": "string"
            },
            "text/plain": [
              "'012'"
            ]
          },
          "metadata": {
            "tags": []
          },
          "execution_count": 46
        }
      ]
    },
    {
      "cell_type": "code",
      "metadata": {
        "colab": {
          "base_uri": "https://localhost:8080/"
        },
        "id": "gKt5OGK9Q8i6",
        "outputId": "95958be4-f6a9-4b80-a12d-89cbf68b970a"
      },
      "source": [
        "list(range(10))\n",
        "list(range(3,7))\n",
        "list(range(10,1,-2))\n",
        "list(range(1,7,-1))"
      ],
      "execution_count": null,
      "outputs": [
        {
          "output_type": "execute_result",
          "data": {
            "text/plain": [
              "[]"
            ]
          },
          "metadata": {
            "tags": []
          },
          "execution_count": 50
        }
      ]
    },
    {
      "cell_type": "code",
      "metadata": {
        "colab": {
          "base_uri": "https://localhost:8080/"
        },
        "id": "njLkKWWfR4r9",
        "outputId": "59a4e268-947a-41f1-e38b-d1632e226550"
      },
      "source": [
        "a=[6,2,3,3,8]\n",
        "a.count(3)\n",
        "a.count(6)\n",
        "a.count(9)\n",
        "len(a)\n",
        "a='Hello world'\n",
        "len(a)"
      ],
      "execution_count": null,
      "outputs": [
        {
          "output_type": "execute_result",
          "data": {
            "text/plain": [
              "11"
            ]
          },
          "metadata": {
            "tags": []
          },
          "execution_count": 55
        }
      ]
    },
    {
      "cell_type": "code",
      "metadata": {
        "colab": {
          "base_uri": "https://localhost:8080/"
        },
        "id": "cTzexTGiSjVq",
        "outputId": "de8d2d39-420b-44c5-b863-adec9e5c8c14"
      },
      "source": [
        "inputScores=input('Input scores: ')\n",
        "scores=inputScores.split(', ')\n",
        "sum=0\n",
        "index=0\n",
        "\n",
        "while index<len(scores):\n",
        "  sum+=int(scores[index])\n",
        "  index+=1\n",
        "\n",
        "print('Sum: ',sum)\n",
        "print('Average: ',sum/len(scores))"
      ],
      "execution_count": null,
      "outputs": [
        {
          "output_type": "stream",
          "text": [
            "Input scores: 32, 70, 46, 88\n",
            "Sum:  236\n",
            "Average:  59.0\n"
          ],
          "name": "stdout"
        }
      ]
    },
    {
      "cell_type": "code",
      "metadata": {
        "colab": {
          "base_uri": "https://localhost:8080/"
        },
        "id": "m_HFK3WFU6zm",
        "outputId": "ac0cde97-8534-4e9b-9d6e-718fd79a7dd2"
      },
      "source": [
        "drinks=['콜라','사이다','환타']\n",
        "coin=int(input('동전을 넣으세요: '))\n",
        "\n",
        "while coin>=500:\n",
        "  print('\\n현재 금액:',str(coin)+'원')\n",
        "  sel=int(input('콜라(0), 사이다(1), 환타(2): '))\n",
        "  print(drinks[sel]+'가 나왔습니다.')\n",
        "  coin-=500\n",
        "\n",
        "print('거스름돈:',str(coin)+'원')  "
      ],
      "execution_count": null,
      "outputs": [
        {
          "output_type": "stream",
          "text": [
            "동전을 넣으세요: 700\n",
            "\n",
            "현재 금액: 700원\n",
            "콜라(0), 사이다(1), 환타(2): 2\n",
            "환타가 나왔습니다.\n",
            "거스름돈: 200원\n"
          ],
          "name": "stdout"
        }
      ]
    },
    {
      "cell_type": "markdown",
      "metadata": {
        "id": "jkPwpecu3Xcy"
      },
      "source": [
        "# 2-1"
      ]
    },
    {
      "cell_type": "code",
      "metadata": {
        "colab": {
          "base_uri": "https://localhost:8080/"
        },
        "id": "Xafe3_Q-3UB8",
        "outputId": "b3bdc904-9f1a-498b-d321-7d8a016f490b"
      },
      "source": [
        "10+20"
      ],
      "execution_count": null,
      "outputs": [
        {
          "output_type": "execute_result",
          "data": {
            "text/plain": [
              "30"
            ]
          },
          "metadata": {
            "tags": []
          },
          "execution_count": 2
        }
      ]
    },
    {
      "cell_type": "code",
      "metadata": {
        "colab": {
          "base_uri": "https://localhost:8080/"
        },
        "id": "fL6KE3Py32gA",
        "outputId": "aa48ce41-c92e-4b87-affb-11e56332f47d"
      },
      "source": [
        "30-5"
      ],
      "execution_count": null,
      "outputs": [
        {
          "output_type": "execute_result",
          "data": {
            "text/plain": [
              "25"
            ]
          },
          "metadata": {
            "tags": []
          },
          "execution_count": 3
        }
      ]
    },
    {
      "cell_type": "code",
      "metadata": {
        "colab": {
          "base_uri": "https://localhost:8080/"
        },
        "id": "Sqycl3lL34VM",
        "outputId": "e3bc7d7e-5f74-4a32-a623-75c8a5ed5206"
      },
      "source": [
        "15*7.0"
      ],
      "execution_count": null,
      "outputs": [
        {
          "output_type": "execute_result",
          "data": {
            "text/plain": [
              "105.0"
            ]
          },
          "metadata": {
            "tags": []
          },
          "execution_count": 4
        }
      ]
    },
    {
      "cell_type": "code",
      "metadata": {
        "colab": {
          "base_uri": "https://localhost:8080/"
        },
        "id": "GovHGpTy35ah",
        "outputId": "e10c2ddc-6042-43b1-fd93-bab6556a2ca7"
      },
      "source": [
        "2/4"
      ],
      "execution_count": null,
      "outputs": [
        {
          "output_type": "execute_result",
          "data": {
            "text/plain": [
              "0.5"
            ]
          },
          "metadata": {
            "tags": []
          },
          "execution_count": 5
        }
      ]
    },
    {
      "cell_type": "code",
      "metadata": {
        "colab": {
          "base_uri": "https://localhost:8080/"
        },
        "id": "qD18e8aQ37mq",
        "outputId": "9288cde4-874f-4ae1-828c-2bf4f420958c"
      },
      "source": [
        "2.0/4.0"
      ],
      "execution_count": null,
      "outputs": [
        {
          "output_type": "execute_result",
          "data": {
            "text/plain": [
              "0.5"
            ]
          },
          "metadata": {
            "tags": []
          },
          "execution_count": 6
        }
      ]
    },
    {
      "cell_type": "code",
      "metadata": {
        "colab": {
          "base_uri": "https://localhost:8080/"
        },
        "id": "_mpj9UIK36pi",
        "outputId": "dca26318-bb20-4679-b829-8ea87a5bf580"
      },
      "source": [
        "2.0/4"
      ],
      "execution_count": null,
      "outputs": [
        {
          "output_type": "execute_result",
          "data": {
            "text/plain": [
              "0.5"
            ]
          },
          "metadata": {
            "tags": []
          },
          "execution_count": 7
        }
      ]
    },
    {
      "cell_type": "code",
      "metadata": {
        "colab": {
          "base_uri": "https://localhost:8080/"
        },
        "id": "fl2mAAGN3_CO",
        "outputId": "61c11a1c-8493-48a9-9d10-a6663d4ed2f4"
      },
      "source": [
        "50%4"
      ],
      "execution_count": null,
      "outputs": [
        {
          "output_type": "execute_result",
          "data": {
            "text/plain": [
              "2"
            ]
          },
          "metadata": {
            "tags": []
          },
          "execution_count": 8
        }
      ]
    },
    {
      "cell_type": "code",
      "metadata": {
        "colab": {
          "base_uri": "https://localhost:8080/"
        },
        "id": "tsU5ps7n4AQk",
        "outputId": "2d6aa371-cff7-41e9-f25f-fe12a0537e39"
      },
      "source": [
        "10**3"
      ],
      "execution_count": null,
      "outputs": [
        {
          "output_type": "execute_result",
          "data": {
            "text/plain": [
              "1000"
            ]
          },
          "metadata": {
            "tags": []
          },
          "execution_count": 9
        }
      ]
    },
    {
      "cell_type": "code",
      "metadata": {
        "colab": {
          "base_uri": "https://localhost:8080/"
        },
        "id": "4vGScjxA4Gz3",
        "outputId": "49729308-e6f0-4ca3-b29a-e5a6dc717956"
      },
      "source": [
        "milk=1850\n",
        "egg=4000\n",
        "price=(milk*2+egg)*0.95\n",
        "print(price)"
      ],
      "execution_count": null,
      "outputs": [
        {
          "output_type": "stream",
          "text": [
            "7315.0\n"
          ],
          "name": "stdout"
        }
      ]
    },
    {
      "cell_type": "code",
      "metadata": {
        "colab": {
          "base_uri": "https://localhost:8080/"
        },
        "id": "_TbaG3X34vJ4",
        "outputId": "2f610793-0a90-465c-b092-24c75f665918"
      },
      "source": [
        "f=100\n",
        "c=5.0/9.0*(f-32.0)\n",
        "print(c)"
      ],
      "execution_count": null,
      "outputs": [
        {
          "output_type": "stream",
          "text": [
            "37.77777777777778\n"
          ],
          "name": "stdout"
        }
      ]
    },
    {
      "cell_type": "code",
      "metadata": {
        "colab": {
          "base_uri": "https://localhost:8080/"
        },
        "id": "YdZjPXfY5LdU",
        "outputId": "4a958d4a-1a66-4dfd-b8d3-48b12b8968e5"
      },
      "source": [
        "c=50\n",
        "f=9.0/5.0*c+32.0\n",
        "print(f)"
      ],
      "execution_count": null,
      "outputs": [
        {
          "output_type": "stream",
          "text": [
            "122.0\n"
          ],
          "name": "stdout"
        }
      ]
    },
    {
      "cell_type": "markdown",
      "metadata": {
        "id": "rEX-C8y0BtXK"
      },
      "source": [
        "# 2-2"
      ]
    },
    {
      "cell_type": "code",
      "metadata": {
        "colab": {
          "base_uri": "https://localhost:8080/"
        },
        "id": "jKcwyScVBu7V",
        "outputId": "fc09a20e-f848-4213-9fa4-232986b9e7b5"
      },
      "source": [
        "print('파이썬은 즐거워 '*5)"
      ],
      "execution_count": null,
      "outputs": [
        {
          "output_type": "stream",
          "text": [
            "파이썬은 즐거워 파이썬은 즐거워 파이썬은 즐거워 파이썬은 즐거워 파이썬은 즐거워 \n"
          ],
          "name": "stdout"
        }
      ]
    },
    {
      "cell_type": "code",
      "metadata": {
        "colab": {
          "base_uri": "https://localhost:8080/"
        },
        "id": "rQxzi87dB9Am",
        "outputId": "73966aa7-6f7f-4c6f-94c7-041cc7d1c00a"
      },
      "source": [
        "num=10\n",
        "print('콩 '*num,'나무를 ',num,'번 찍었습니다.')"
      ],
      "execution_count": null,
      "outputs": [
        {
          "output_type": "stream",
          "text": [
            "콩 콩 콩 콩 콩 콩 콩 콩 콩 콩  나무를  10 번 찍었습니다.\n"
          ],
          "name": "stdout"
        }
      ]
    },
    {
      "cell_type": "code",
      "metadata": {
        "colab": {
          "base_uri": "https://localhost:8080/"
        },
        "id": "OVIwdzMTCdI3",
        "outputId": "abc62958-fcf7-4a66-fc4e-99dac3401173"
      },
      "source": [
        "print('Tell me your favorite stuff.')\n",
        "fruit=input('Your favorite fruit is ')\n",
        "flower=input('Your favorite flower is ')\n",
        "drink=input('Your favorite drink is ')\n",
        "print('You entered: ',fruit, flower, drink)"
      ],
      "execution_count": null,
      "outputs": [
        {
          "output_type": "stream",
          "text": [
            "Tell me your favorite stuff.\n",
            "Your favorite fruit is apple\n",
            "Your favorite flower is rose\n",
            "Your favorite drink is coke\n",
            "You entered:  apple rose coke\n"
          ],
          "name": "stdout"
        }
      ]
    },
    {
      "cell_type": "code",
      "metadata": {
        "colab": {
          "base_uri": "https://localhost:8080/"
        },
        "id": "PeFsphv7DJg5",
        "outputId": "010cba08-22ca-404c-af7e-b6da896dfa72"
      },
      "source": [
        "name=input('이름:')\n",
        "age=input('나이:')\n",
        "univ=input('학교:')\n",
        "dept=input('학부:')\n",
        "print()\n",
        "wish=input('수업에 바라는 점:')\n",
        "print()\n",
        "print(univ, dept, age,'세', name,'님')\n",
        "print(wish, '의견 감사합니다.')\n",
        "\n"
      ],
      "execution_count": null,
      "outputs": [
        {
          "output_type": "stream",
          "text": [
            "이름:손다인\n",
            "나이:21\n",
            "학교:서울대학교\n",
            "학부:경제학부\n",
            " \n",
            "수업에 바라는 점:수업 일찍 끝내주세요,,\n",
            " \n",
            "서울대학교 경제학부 21 세 손다인 님\n",
            "수업 일찍 끝내주세요,, 의견 감사합니다.\n"
          ],
          "name": "stdout"
        }
      ]
    },
    {
      "cell_type": "code",
      "metadata": {
        "colab": {
          "base_uri": "https://localhost:8080/"
        },
        "id": "ATfC1aaYFXUU",
        "outputId": "65fe21e1-3aac-4389-d09d-4494498ff7e7"
      },
      "source": [
        "print('대화를 시작합니다.')\n",
        "print()\n",
        "parrot=input()\n",
        "print(parrot)"
      ],
      "execution_count": null,
      "outputs": [
        {
          "output_type": "stream",
          "text": [
            "대화를 시작합니다.\n",
            " \n",
            "너 이름이 뭐야?\n",
            "너 이름이 뭐야?\n"
          ],
          "name": "stdout"
        }
      ]
    },
    {
      "cell_type": "code",
      "metadata": {
        "colab": {
          "base_uri": "https://localhost:8080/"
        },
        "id": "iGOkzqIcFtax",
        "outputId": "be248a3f-56d8-406e-8edd-5e6853508f5f"
      },
      "source": [
        "print('대화를 시작합니다.')\n",
        "print()\n",
        "human='조련사: '\n",
        "parrot='앵무새: '\n",
        "ment=input(human)\n",
        "print(parrot+ment)\n",
        "print()\n",
        "ment=input(human)\n",
        "print(parrot+ment)\n",
        "print()\n",
        "ment=input(human)\n",
        "print(parrot+ment)\n",
        "print()"
      ],
      "execution_count": null,
      "outputs": [
        {
          "output_type": "stream",
          "text": [
            "대화를 시작합니다.\n",
            "\n",
            "조련사: 너 이름이 뭐야?\n",
            "앵무새: 너 이름이 뭐야?\n",
            "\n",
            "조련사: 난 블랙핑크 로제야.\n",
            "앵무새: 난 블랙핑크 로제야.\n",
            "\n",
            "조련사: 난 뉴욕을 매료시킨 완벽한 인형미모야.\n",
            "앵무새: 난 뉴욕을 매료시킨 완벽한 인형미모야.\n",
            "\n"
          ],
          "name": "stdout"
        }
      ]
    },
    {
      "cell_type": "markdown",
      "metadata": {
        "id": "f9P5_8rk1RxS"
      },
      "source": [
        "# 3-1"
      ]
    },
    {
      "cell_type": "code",
      "metadata": {
        "colab": {
          "base_uri": "https://localhost:8080/"
        },
        "id": "8zU63Lx51Qgn",
        "outputId": "9288e6cb-229e-443e-91e7-dd6b3899a123"
      },
      "source": [
        "dept=input('학과: ')\n",
        "num=input('학번: ')\n",
        "name=input('이름: ')\n",
        "\n",
        "print('학과:',dept+',','학번:',num+',','이름:',name)\n",
        "print()\n",
        "print('온도 변환 프로그램')\n",
        "f1=int(input('화씨 온도를 입력하세요.'))\n",
        "c1=5.0/9.0*(f1-32.0)\n",
        "print('섭씨 온도는',c1,'입니다.')\n",
        "print()\n",
        "c2=int(input('섭씨 온도를 입력하세요.'))\n",
        "f2=9.0/5.0*c2+32.0\n",
        "print('화씨 온도는',f2,'입니다.')\n"
      ],
      "execution_count": null,
      "outputs": [
        {
          "output_type": "stream",
          "text": [
            "학과: 경제학부\n",
            "학번: 2021-19885\n",
            "이름: 손다인\n",
            "학과: 경제학부, 학번: 2021-19885, 이름: 손다인\n",
            "\n",
            "온도 변환 프로그램\n",
            "화씨 온도를 입력하세요.50\n",
            "섭씨 온도는 10.0 입니다.\n",
            "\n",
            "섭씨 온도를 입력하세요.50\n",
            "화씨 온도는 122.0 입니다.\n"
          ],
          "name": "stdout"
        }
      ]
    },
    {
      "cell_type": "code",
      "metadata": {
        "colab": {
          "base_uri": "https://localhost:8080/"
        },
        "id": "w6f9-2vy34Ex",
        "outputId": "48e15569-eaab-4b1e-e959-7c8f6481768b"
      },
      "source": [
        "print('환율계산 프로그램')\n",
        "print()\n",
        "num=input('금액을 입력하세요: ')\n",
        "num1=int(num)\n",
        "krw=num1*0.00084\n",
        "cny=num1*0.15\n",
        "jpy=num1*0.0094\n",
        "php=num1*0.021\n",
        "print('대한민국 '+num+'원은 '+str(krw)+'달러입니다.')\n",
        "print('중국 '+num+'위안은 '+str(cny)+'달러입니다.')\n",
        "print('일본 '+num+'엔은 '+str(jpy)+'달러입니다.')\n",
        "print('필리핀 '+num+'페소는 '+str(php)+'달러입니다.')"
      ],
      "execution_count": null,
      "outputs": [
        {
          "output_type": "stream",
          "text": [
            "환율계산 프로그램\n",
            "\n",
            "금액을 입력하세요: 5000\n",
            "대한민국 5000원은 4.2달러입니다.\n",
            "중국 5000위안은 750.0달러입니다.\n",
            "일본 5000엔은 47.0달러입니다.\n",
            "필리핀 5000페소는 105.0달러입니다.\n"
          ],
          "name": "stdout"
        }
      ]
    },
    {
      "cell_type": "code",
      "metadata": {
        "colab": {
          "base_uri": "https://localhost:8080/"
        },
        "id": "TyfyrH1Z6-I6",
        "outputId": "eb2863c7-dbd3-4430-b965-aa2def2df6e1"
      },
      "source": [
        "print('부가세 계산 프로그램')\n",
        "print()\n",
        "num=int(input('합계 금액을 입력하세요: '))\n",
        "a=num*(100/110)\n",
        "print('공급가액 '+str(round(a))+'원')\n",
        "b=num*(10/110)\n",
        "print('세액 '+str(round(b))+'원입니다.')"
      ],
      "execution_count": null,
      "outputs": [
        {
          "output_type": "stream",
          "text": [
            "부가세 계산 프로그램\n",
            "\n",
            "합계 금액을 입력하세요: 100000\n",
            "공급가액 90909원\n",
            "세액 9091원입니다.\n"
          ],
          "name": "stdout"
        }
      ]
    },
    {
      "cell_type": "code",
      "metadata": {
        "colab": {
          "base_uri": "https://localhost:8080/"
        },
        "id": "-IOtZF3a8VIL",
        "outputId": "27a980b7-7b40-4fff-ec2a-d961fdc53d94"
      },
      "source": [
        "print('칼로리 계산 프로그램')\n",
        "print()\n",
        "weight=input('몸무게(kg): ')\n",
        "time=input('운동시간(분): ')\n",
        "print()\n",
        "walking=(4*3.5*int(weight)/200)*int(time)\n",
        "jogging=(7*3.5*int(weight)/200)*int(time)\n",
        "hiking=(7*3.5*int(weight)/200)*int(time)\n",
        "stair=(5*3.5*int(weight)/200)*int(time)\n",
        "swimming=(9*3.5*int(weight)/200)*int(time)\n",
        "print('걷기운동 '+time+'분은 '+str(walking)+'kcal가 소모됩니다.')\n",
        "print('조깅운동 '+time+'분은 '+str(jogging)+'kcal가 소모됩니다.')\n",
        "print('등산운동 '+time+'분은 '+str(hiking)+'kcal가 소모됩니다.')\n",
        "print('계단오르기기운동 '+time+'분은 '+str(stair)+'kcal가 소모됩니다.')\n",
        "print('수영운동 '+time+'분은 '+str(swimming)+'kcal가 소모됩니다.')"
      ],
      "execution_count": null,
      "outputs": [
        {
          "output_type": "stream",
          "text": [
            "칼로리 계산 프로그램\n",
            "\n",
            "몸무게(kg): 60\n",
            "운동시간(분): 10\n",
            "\n",
            "걷기운동 10분은 42.0kcal가 소모됩니다.\n",
            "조깅운동 10분은 73.5kcal가 소모됩니다.\n",
            "등산운동 10분은 73.5kcal가 소모됩니다.\n",
            "계단오르기기운동 10분은 52.5kcal가 소모됩니다.\n",
            "수영운동 10분은 94.5kcal가 소모됩니다.\n"
          ],
          "name": "stdout"
        }
      ]
    },
    {
      "cell_type": "markdown",
      "metadata": {
        "id": "X8C2ErN9BJxE"
      },
      "source": [
        "# 3-2"
      ]
    },
    {
      "cell_type": "code",
      "metadata": {
        "colab": {
          "base_uri": "https://localhost:8080/"
        },
        "id": "kdLHe_QyBJNo",
        "outputId": "6b1facbf-fed9-4d07-d854-73f80bad9b71"
      },
      "source": [
        "print('성적을 입력하시오.')\n",
        "score=input()\n",
        "if int(score)>=90:\n",
        "  print('합격입니다.')\n",
        "else:\n",
        "  print('불합격입니다.')  "
      ],
      "execution_count": null,
      "outputs": [
        {
          "output_type": "stream",
          "text": [
            "성적을 입력하시오.\n",
            "76\n",
            "불합격입니다.\n"
          ],
          "name": "stdout"
        }
      ]
    },
    {
      "cell_type": "code",
      "metadata": {
        "colab": {
          "base_uri": "https://localhost:8080/"
        },
        "id": "BY1HMarKBwK8",
        "outputId": "5f6f0f4c-14b2-4eab-e088-d8f64cfca78c"
      },
      "source": [
        "int1=input('첫 번째 정수를 입력하시오: ')\n",
        "int2=input('두 번째 정수를 입력하시오: ')\n",
        "print()\n",
        "if int(int1)>int(int2):\n",
        "  print('큰수: ' +int1)\n",
        "  print('작은수: '+int2)\n",
        "elif int(int1)<int(int2):\n",
        "  print('큰수: ' +int2)\n",
        "  print('작은수: '+int1)\n",
        "else:\n",
        "  print('두 수는 같습니다.')\n"
      ],
      "execution_count": null,
      "outputs": [
        {
          "output_type": "stream",
          "text": [
            "첫 번째 정수를 입력하시오: 45\n",
            "두 번째 정수를 입력하시오: 45\n",
            "\n",
            "두 수는 같습니다.\n"
          ],
          "name": "stdout"
        }
      ]
    },
    {
      "cell_type": "code",
      "metadata": {
        "colab": {
          "base_uri": "https://localhost:8080/"
        },
        "id": "4NWgqnWaCog2",
        "outputId": "fd202830-e3c4-46cc-a362-5feed325d087"
      },
      "source": [
        "print('숫자를 입력하시오.')\n",
        "num=input()\n",
        "if int(num)%2==1:\n",
        "  print('홀수입니다.')\n",
        "if int(num)%2==0:\n",
        "  print('짝수입니다.')"
      ],
      "execution_count": null,
      "outputs": [
        {
          "output_type": "stream",
          "text": [
            "숫자를 입력하시오.\n",
            "76\n",
            "짝수입니다.\n"
          ],
          "name": "stdout"
        }
      ]
    },
    {
      "cell_type": "code",
      "metadata": {
        "colab": {
          "base_uri": "https://localhost:8080/"
        },
        "id": "dGK9pfHEDbWv",
        "outputId": "ca3c2342-4654-4ddb-d014-3f32dc289795"
      },
      "source": [
        "print('몸무게(kg)와 키(m)를 차례대로 입력하세요.')\n",
        "weight=input()\n",
        "height=input()\n",
        "bmi=float(weight)/float(height)**2\n",
        "print('BMI', \"%.2f\"%bmi)\n",
        "if bmi>25:\n",
        "  print('비만입니다. 운동으로 감량이 필요합니다.')\n",
        "else:\n",
        "  print('정상입니다. 꾸준한 운동으로 유지시켜주세요.')\n"
      ],
      "execution_count": null,
      "outputs": [
        {
          "output_type": "stream",
          "text": [
            "몸무게(kg)와 키(m)를 차례대로 입력하세요.\n",
            "50\n",
            "1.6\n",
            "BMI 19.53\n",
            "정상입니다. 꾸준한 운동으로 유지시켜주세요.\n"
          ],
          "name": "stdout"
        }
      ]
    },
    {
      "cell_type": "code",
      "metadata": {
        "colab": {
          "base_uri": "https://localhost:8080/"
        },
        "id": "vFWMy63YEyTX",
        "outputId": "448d55d4-b016-4401-e823-80d66cea5361"
      },
      "source": [
        "import random\n",
        "print('범위의 시작 값을 입력하세요.')\n",
        "first=input()\n",
        "print('범위의 끝 값을 입력하세요.')\n",
        "last=input()\n",
        "if int(first)<=int(last):\n",
        "  print('범위 '+first+'부터 '+last+'가운데 선택된 랜덤 넘버는 '+str(random.randint(int(first),int(last)))+'입니다.')\n",
        "else:\n",
        "  print('끝 값을 잘못 입력하셨습니다.')"
      ],
      "execution_count": null,
      "outputs": [
        {
          "output_type": "stream",
          "text": [
            "범위의 시작 값을 입력하세요.\n",
            "100\n",
            "범위의 끝 값을 입력하세요.\n",
            "200\n",
            "범위 100부터 200가운데 선택된 랜덤 넘버는 153입니다.\n"
          ],
          "name": "stdout"
        }
      ]
    },
    {
      "cell_type": "code",
      "metadata": {
        "colab": {
          "base_uri": "https://localhost:8080/"
        },
        "id": "8mWNOjHHGY5r",
        "outputId": "27141ecf-7c61-45d8-d24a-b4363f9170de"
      },
      "source": [
        "name=input('당신의 이름은? ')\n",
        "kor=int(input('국어 점수는? '))\n",
        "math=int(input('수학 점수는? '))\n",
        "eng=int(input('영어 점수는? '))\n",
        "average=(kor+math+eng)/3\n",
        "if average<60:\n",
        "  print(name+'님은 불합격..입니다.')\n",
        "elif kor<40:\n",
        "  print(name+'님은 과락...입니다.')\n",
        "elif math<40:\n",
        "  print(name+'님은 과락...입니다.')\n",
        "elif eng<40:\n",
        "  print(name+'님은 과락...입니다.')\n",
        "else:\n",
        "  print(name+'님은 합격입니다.')"
      ],
      "execution_count": null,
      "outputs": [
        {
          "output_type": "stream",
          "text": [
            "당신의 이름은? 홍길동\n",
            "국어 점수는? 62\n",
            "수학 점수는? 37\n",
            "영어 점수는? 68\n",
            "홍길동님은 불합격..입니다.\n"
          ],
          "name": "stdout"
        }
      ]
    },
    {
      "cell_type": "markdown",
      "metadata": {
        "id": "cKa4oCA7HaPI"
      },
      "source": [
        "# 4-1"
      ]
    },
    {
      "cell_type": "code",
      "metadata": {
        "colab": {
          "base_uri": "https://localhost:8080/"
        },
        "id": "gOy0hPhJ2KqD",
        "outputId": "32c1a5d3-fa5b-4ee0-e5a8-5c8c3c32b499"
      },
      "source": [
        "count=1\n",
        "print('열 번 찍어 안 넘어가는 나무 없다!!!')\n",
        "print()\n",
        "while count<=10:\n",
        "  print('나무를', str(count)+'번', '찍었습니다.')\n",
        "  count+=1\n",
        "print()\n",
        "print('간다~ 간다~ 넘어간다!!!')\n"
      ],
      "execution_count": null,
      "outputs": [
        {
          "output_type": "stream",
          "text": [
            "열 번 찍어 안 넘어가는 나무 없다!!!\n",
            "\n",
            "나무를 1번 찍었습니다.\n",
            "나무를 2번 찍었습니다.\n",
            "나무를 3번 찍었습니다.\n",
            "나무를 4번 찍었습니다.\n",
            "나무를 5번 찍었습니다.\n",
            "나무를 6번 찍었습니다.\n",
            "나무를 7번 찍었습니다.\n",
            "나무를 8번 찍었습니다.\n",
            "나무를 9번 찍었습니다.\n",
            "나무를 10번 찍었습니다.\n",
            "\n",
            "간다~ 간다~ 넘어간다!!!\n"
          ],
          "name": "stdout"
        }
      ]
    },
    {
      "cell_type": "code",
      "metadata": {
        "colab": {
          "base_uri": "https://localhost:8080/"
        },
        "id": "xdnVmHQl3oFF",
        "outputId": "24bc7638-a4f1-4201-8140-0e5f4f174970"
      },
      "source": [
        "print('티끌 모아 태산!!!')\n",
        "print()\n",
        "count=1\n",
        "while count<=10:\n",
        "  print('땡그랑, '*count+'동전 {}원을 모았습니다.'.format(count*100))\n",
        "  count+=1\n",
        "print()\n",
        "print('산다. 산다. 집 산다!!!') "
      ],
      "execution_count": null,
      "outputs": [
        {
          "output_type": "stream",
          "text": [
            "티끌 모아 태산!!!\n",
            "\n",
            "땡그랑, 동전 100원을 모았습니다.\n",
            "땡그랑, 땡그랑, 동전 200원을 모았습니다.\n",
            "땡그랑, 땡그랑, 땡그랑, 동전 300원을 모았습니다.\n",
            "땡그랑, 땡그랑, 땡그랑, 땡그랑, 동전 400원을 모았습니다.\n",
            "땡그랑, 땡그랑, 땡그랑, 땡그랑, 땡그랑, 동전 500원을 모았습니다.\n",
            "땡그랑, 땡그랑, 땡그랑, 땡그랑, 땡그랑, 땡그랑, 동전 600원을 모았습니다.\n",
            "땡그랑, 땡그랑, 땡그랑, 땡그랑, 땡그랑, 땡그랑, 땡그랑, 동전 700원을 모았습니다.\n",
            "땡그랑, 땡그랑, 땡그랑, 땡그랑, 땡그랑, 땡그랑, 땡그랑, 땡그랑, 동전 800원을 모았습니다.\n",
            "땡그랑, 땡그랑, 땡그랑, 땡그랑, 땡그랑, 땡그랑, 땡그랑, 땡그랑, 땡그랑, 동전 900원을 모았습니다.\n",
            "땡그랑, 땡그랑, 땡그랑, 땡그랑, 땡그랑, 땡그랑, 땡그랑, 땡그랑, 땡그랑, 땡그랑, 동전 1000원을 모았습니다.\n",
            "\n",
            "산다. 산다. 집 산다!!!\n"
          ],
          "name": "stdout"
        }
      ]
    },
    {
      "cell_type": "code",
      "metadata": {
        "colab": {
          "base_uri": "https://localhost:8080/"
        },
        "id": "hfM9hENp4ndD",
        "outputId": "26ab6a3b-dd63-4dbb-8fa2-64803ff226e8"
      },
      "source": [
        "print('로또 번호 생성기 프로그램')\n",
        "import random\n",
        "num=1\n",
        "while num<=6:\n",
        "  print('{}번째 번호는 {}입니다.'.format(num, random.randint(1,45)))\n",
        "  num+=1\n",
        "print()\n",
        "print()\n",
        "print('산다. 산다. 집 산다!!!')  "
      ],
      "execution_count": null,
      "outputs": [
        {
          "output_type": "stream",
          "text": [
            "로또 번호 생성기 프로그램\n",
            "1번째 번호는 15입니다.\n",
            "2번째 번호는 27입니다.\n",
            "3번째 번호는 22입니다.\n",
            "4번째 번호는 28입니다.\n",
            "5번째 번호는 14입니다.\n",
            "6번째 번호는 24입니다.\n",
            "\n",
            "\n",
            "산다. 산다. 집 산다!!!\n"
          ],
          "name": "stdout"
        }
      ]
    },
    {
      "cell_type": "code",
      "metadata": {
        "colab": {
          "base_uri": "https://localhost:8080/"
        },
        "id": "egmQZrmR62QF",
        "outputId": "99c362c3-1995-4925-fd36-fb75c1b50364"
      },
      "source": [
        "password=' '\n",
        "while password!='pythonisfun':\n",
        "  print('암호를 입력하세요.')\n",
        "  password=input()\n",
        "print('로그인 성공')\n",
        "\n",
        "   "
      ],
      "execution_count": null,
      "outputs": [
        {
          "output_type": "stream",
          "text": [
            "암호를 입력하세요.\n",
            "pythonis\n",
            "암호를 입력하세요.\n",
            "funfunfun\n",
            "암호를 입력하세요.\n",
            "pythonisfun\n",
            "로그인 성공\n"
          ],
          "name": "stdout"
        }
      ]
    },
    {
      "cell_type": "code",
      "metadata": {
        "colab": {
          "base_uri": "https://localhost:8080/"
        },
        "id": "Eun4xQ8n8tzt",
        "outputId": "289afa8b-7713-40c2-ad3f-0cb1f5868033"
      },
      "source": [
        "password=' '\n",
        "trial=1\n",
        "while password!='pythonisfun' and trial<=5:\n",
        "  print('암호를 입력하세요.')\n",
        "  password=input()\n",
        "  trial+=1\n",
        "if password=='pythonisfun':\n",
        "  print('로그인 성공')\n",
        "if trial>=6:\n",
        "  print('5회 틀렸습니다. 로그인에 실패하셨습니다.') \n"
      ],
      "execution_count": null,
      "outputs": [
        {
          "output_type": "stream",
          "text": [
            "암호를 입력하세요.\n",
            "python\n",
            "암호를 입력하세요.\n",
            "pythonisfun\n",
            "로그인 성공\n"
          ],
          "name": "stdout"
        }
      ]
    },
    {
      "cell_type": "code",
      "metadata": {
        "colab": {
          "base_uri": "https://localhost:8080/"
        },
        "id": "Ce0lBS7B-obE",
        "outputId": "c87becb9-84af-4254-f907-12e02110bc1f"
      },
      "source": [
        "num=input('원하는 단은:')\n",
        "count=1\n",
        "while count<=9:\n",
        "  print('{}*{}={}'.format(num, count, int(num)*count))\n",
        "  count+=1"
      ],
      "execution_count": null,
      "outputs": [
        {
          "output_type": "stream",
          "text": [
            "원하는 단은:9\n",
            "9*1=9\n",
            "9*2=18\n",
            "9*3=27\n",
            "9*4=36\n",
            "9*5=45\n",
            "9*6=54\n",
            "9*7=63\n",
            "9*8=72\n",
            "9*9=81\n"
          ],
          "name": "stdout"
        }
      ]
    },
    {
      "cell_type": "code",
      "metadata": {
        "colab": {
          "base_uri": "https://localhost:8080/"
        },
        "id": "bCJ1upaK_j0W",
        "outputId": "a3bf4ae4-8be1-4dab-981c-ad3dd1f96934"
      },
      "source": [
        "num=2\n",
        "while num<=9:\n",
        "  print('{}단'.format(num))\n",
        "  count=1\n",
        "  while count<=9:\n",
        "    print('{}*{}={}'.format(num, count,num*count))\n",
        "    count+=1\n",
        "  num+=1\n",
        "  print()"
      ],
      "execution_count": null,
      "outputs": [
        {
          "output_type": "stream",
          "text": [
            "2단\n",
            "2*1=2\n",
            "2*2=4\n",
            "2*3=6\n",
            "2*4=8\n",
            "2*5=10\n",
            "2*6=12\n",
            "2*7=14\n",
            "2*8=16\n",
            "2*9=18\n",
            "\n",
            "3단\n",
            "3*1=3\n",
            "3*2=6\n",
            "3*3=9\n",
            "3*4=12\n",
            "3*5=15\n",
            "3*6=18\n",
            "3*7=21\n",
            "3*8=24\n",
            "3*9=27\n",
            "\n",
            "4단\n",
            "4*1=4\n",
            "4*2=8\n",
            "4*3=12\n",
            "4*4=16\n",
            "4*5=20\n",
            "4*6=24\n",
            "4*7=28\n",
            "4*8=32\n",
            "4*9=36\n",
            "\n",
            "5단\n",
            "5*1=5\n",
            "5*2=10\n",
            "5*3=15\n",
            "5*4=20\n",
            "5*5=25\n",
            "5*6=30\n",
            "5*7=35\n",
            "5*8=40\n",
            "5*9=45\n",
            "\n",
            "6단\n",
            "6*1=6\n",
            "6*2=12\n",
            "6*3=18\n",
            "6*4=24\n",
            "6*5=30\n",
            "6*6=36\n",
            "6*7=42\n",
            "6*8=48\n",
            "6*9=54\n",
            "\n",
            "7단\n",
            "7*1=7\n",
            "7*2=14\n",
            "7*3=21\n",
            "7*4=28\n",
            "7*5=35\n",
            "7*6=42\n",
            "7*7=49\n",
            "7*8=56\n",
            "7*9=63\n",
            "\n",
            "8단\n",
            "8*1=8\n",
            "8*2=16\n",
            "8*3=24\n",
            "8*4=32\n",
            "8*5=40\n",
            "8*6=48\n",
            "8*7=56\n",
            "8*8=64\n",
            "8*9=72\n",
            "\n",
            "9단\n",
            "9*1=9\n",
            "9*2=18\n",
            "9*3=27\n",
            "9*4=36\n",
            "9*5=45\n",
            "9*6=54\n",
            "9*7=63\n",
            "9*8=72\n",
            "9*9=81\n",
            "\n"
          ],
          "name": "stdout"
        }
      ]
    },
    {
      "cell_type": "code",
      "metadata": {
        "colab": {
          "base_uri": "https://localhost:8080/"
        },
        "id": "IGvLi17yCYDM",
        "outputId": "d2b26956-da27-4751-cd64-59209b203f6d"
      },
      "source": [
        "num=input('숫자를 입력하세요: ')\n",
        "num=int(num)\n",
        "sum=0\n",
        "while num>0:\n",
        "  sum=sum+num\n",
        "  num=num-1\n",
        "print() \n",
        "print('합: {}'.format(sum))"
      ],
      "execution_count": null,
      "outputs": [
        {
          "output_type": "stream",
          "text": [
            "숫자를 입력하세요: 100\n",
            "\n",
            "합: 5050\n"
          ],
          "name": "stdout"
        }
      ]
    },
    {
      "cell_type": "code",
      "metadata": {
        "colab": {
          "base_uri": "https://localhost:8080/"
        },
        "id": "gcsin51HDsvu",
        "outputId": "b9a04f60-ca2d-46f5-9332-2b2f5182623f"
      },
      "source": [
        "total = 0\n",
        "count = 0\n",
        "maximum = float('-inf')\n",
        "minimum = float('inf')\n",
        "print('숫자를 입력하세요.')\n",
        "while True :\n",
        "  num = input()\n",
        "  if num == '입력 끝' :\n",
        "    break\n",
        "  num = int(num)\n",
        "  total = total + num\n",
        "  count = count + 1\n",
        "  if num > maximum :\n",
        "    maximum = num\n",
        "  if num < minimum :\n",
        "    minimum = num\n",
        "average = total / count\n",
        "print('입력 받은 숫자들의 합:', total)\n",
        "print('입력 받은 숫자들의 평균:', average)\n",
        "print('가장 큰 숫자:', maximum)\n",
        "print('가장 작은 숫자:', minimum)\n",
        "\n"
      ],
      "execution_count": null,
      "outputs": [
        {
          "output_type": "stream",
          "text": [
            "숫자를 입력하세요.\n",
            "10\n",
            "11\n",
            "9\n",
            "15\n",
            "3\n",
            "입력 끝\n",
            "입력 받은 숫자들의 합: 48\n",
            "입력 받은 숫자들의 평균: 9.6\n",
            "가장 큰 숫자: 15\n",
            "가장 작은 숫자: 3\n"
          ],
          "name": "stdout"
        }
      ]
    },
    {
      "cell_type": "markdown",
      "metadata": {
        "id": "KvFVlTtNHbpL"
      },
      "source": [
        "# 4-2"
      ]
    },
    {
      "cell_type": "code",
      "metadata": {
        "colab": {
          "base_uri": "https://localhost:8080/"
        },
        "id": "-mGiPbU_IAD_",
        "outputId": "969e9db0-d6ed-4e3d-9e58-14697697b6c4"
      },
      "source": [
        "import time\n",
        "import random\n",
        "trial=0\n",
        "while trial==0 or trial=='yes' or trial=='y':\n",
        "  print('You are in a land full of dragons.')\n",
        "  time.sleep(1)\n",
        "  print('In front of you, you see two caves.')\n",
        "  time.sleep(1)\n",
        "  print('In one cave, the dragon is friendly,')\n",
        "  time.sleep(1)\n",
        "  print('and will share his treasure with you.')\n",
        "  time.sleep(1)\n",
        "  print('The other dragon is greedy and hungry,')\n",
        "  time.sleep(1)\n",
        "  print('and will eat you on sight.')\n",
        "  time.sleep(1)\n",
        "  answer=int(input('Which cave will you go into? (1 or 2)'))\n",
        "  while answer!=1 and answer!=2:\n",
        "    answer=input('Which cave will you go into? (1 or 2)')\n",
        "  print('\\nYou approach the cave…')\n",
        "  time.sleep(1)\n",
        "  print('It is dark and spooky...')\n",
        "  time.sleep(1)\n",
        "  print('A large dragon jumps out in front of you!')\n",
        "  time.sleep(1)\n",
        "  print('He opens his jaws and...')\n",
        "  time.sleep(1)\n",
        "  cave=random.randint(1,2)\n",
        "  if answer==cave:\n",
        "    print('Gives you his treasure!')\n",
        "    time.sleep(1)\n",
        "    print('''\n",
        "                                __/>^^^;:,'\n",
        "              .    \\'    ,      /-.       :,/|/|'\n",
        "                _______     __/ ^         :,/ \\__'\n",
        "            _ ./_|___|_\\. _(~             ;/ /  /'\n",
        "                \\ \\   / /    `-\\'--._       / / ,<  ___'\n",
        "                \\ \\' \\' /   ,__.   /=\\     /  _/  >|_\\'.'\n",
        "                  \\ \" /     `_ `--------\\'    __ / \\',\\ \\\\'\n",
        "                  \\./   ,_// ,---_____,   ,_  \\_  ,| |'\n",
        "                    V     `--\\' |=|           \\._/ ,/  |'\n",
        "                                \\=\\            `,,/   |'\n",
        "                                \\=\\            ||    /'\n",
        "                                  \\=\\____       |\\    \\\\'\n",
        "                                  / \\/    `     <__)    \\\\'\n",
        "                                  | |                    |'\n",
        "                                ,__\\,\\                   /'\n",
        "                              ,--____>    /\\.         ./'\n",
        "                              \\'-__________>  \\.______/'\n",
        "          ''')\n",
        "  else:\n",
        "    print('will gobble you down in one bite!')\n",
        "    time.sleep(1)\n",
        "    print('''\n",
        "                (  )   /\\   _                 (    ' \n",
        "                \\ |  (  \\ ( \\.(               )                      _____'\n",
        "              \\  \\ \\  `  `   ) \\             (  ___                 / _   \\\\'\n",
        "              (_`    \\+   . x  ( .\\            \\/   \\____-----------/ (o)   \\_'\n",
        "            - .-               \\+  ;          (  O                           \\____'\n",
        "                                      )        \\_____________  `              \\  /'\n",
        "            (__                +- .( -\\'.- <. - _  VVVVVVV VV V\\                 \\/'\n",
        "            (_____            ._._: <_ - <- _  (--  _AAAAAAA__A_/                  |'\n",
        "              .    /./.+-  . .- /  +--  - .     \\______________//_              \\_______'\n",
        "              (__ \\' /x  / x _/ (                                  \\___\\'          \\     /'\n",
        "              , x / ( \\'  . / .  /                                      |           \\   /'\n",
        "                /  /  _/ /    +                                      /              \\/'\n",
        "              \\'  (__/                                             /                  \\\\'\n",
        "          ''')\n",
        "    dragonhp=100\n",
        "    power=random.randint(1,30)\n",
        "    time.sleep(1)\n",
        "    print('The dragon has 100 HP.')\n",
        "    time.sleep(1)\n",
        "    print('Your power is {}.'.format(power))\n",
        "    time.sleep(1)\n",
        "    input('Push ENTER key and attack.')\n",
        "    trial2=1\n",
        "    dragonhp-=power\n",
        "    print('The dragon has {} HP now.'.format(dragonhp))\n",
        "    while dragonhp>0 and trial2<=5:\n",
        "        input('Push the ENTER key and attack again.')\n",
        "        trial2+=1\n",
        "        dragonhp-=power\n",
        "        time.sleep(1)\n",
        "        print('The dragon has {} HP now.'.format(dragonhp))\n",
        "        time.sleep(1)\n",
        "    if dragonhp<=0:\n",
        "        print('The dragon is dead. YOU WIN!')\n",
        "    else:\n",
        "        print('The dragon gobbles you down in one bite! YOU LOSE!')\n",
        "  trial=input('Do you want to play again?(yes or no)')\n",
        "  print()\n",
        "print('Thank you!')  \n",
        "\n",
        "\n"
      ],
      "execution_count": null,
      "outputs": [
        {
          "output_type": "stream",
          "text": [
            "You are in a land full of dragons.\n",
            "In front of you, you see two caves.\n",
            "In one cave, the dragon is friendly,\n",
            "and will share his treasure with you.\n",
            "The other dragon is greedy and hungry,\n",
            "and will eat you on sight.\n",
            "Which cave will you go into? (1 or 2)1\n",
            "\n",
            "You approach the cave…\n",
            "It is dark and spooky...\n",
            "A large dragon jumps out in front of you!\n",
            "He opens his jaws and...\n",
            "Gives you his treasure!\n",
            "\n",
            "                                __/>^^^;:,'\n",
            "              .    '    ,      /-.       :,/|/|'\n",
            "                _______     __/ ^         :,/ \\__'\n",
            "            _ ./_|___|_\\. _(~             ;/ /  /'\n",
            "                \\ \\   / /    `-'--._       / / ,<  ___'\n",
            "                \\ ' ' /   ,__.   /=\\     /  _/  >|_'.'\n",
            "                  \\ \" /     `_ `--------'    __ / ',\\ \\'\n",
            "                  \\./   ,_// ,---_____,   ,_  \\_  ,| |'\n",
            "                    V     `--' |=|           \\._/ ,/  |'\n",
            "                                \\=\\            `,,/   |'\n",
            "                                \\=\\            ||    /'\n",
            "                                  \\=\\____       |\\    \\'\n",
            "                                  / \\/    `     <__)    \\'\n",
            "                                  | |                    |'\n",
            "                                ,__\\,\\                   /'\n",
            "                              ,--____>    /\\.         ./'\n",
            "                              '-__________>  \\.______/'\n",
            "          \n",
            "Do you want to play again?(yes or no)y\n",
            "\n",
            "You are in a land full of dragons.\n",
            "In front of you, you see two caves.\n",
            "In one cave, the dragon is friendly,\n",
            "and will share his treasure with you.\n",
            "The other dragon is greedy and hungry,\n",
            "and will eat you on sight.\n",
            "Which cave will you go into? (1 or 2)1\n",
            "\n",
            "You approach the cave…\n",
            "It is dark and spooky...\n",
            "A large dragon jumps out in front of you!\n",
            "He opens his jaws and...\n",
            "will gobble you down in one bite!\n",
            "\n",
            "                (  )   /\\   _                 (    ' \n",
            "                \\ |  (  \\ ( \\.(               )                      _____'\n",
            "              \\  \\ \\  `  `   ) \\             (  ___                 / _   \\'\n",
            "              (_`    \\+   . x  ( .\\            \\/   \\____-----------/ (o)   \\_'\n",
            "            - .-               \\+  ;          (  O                           \\____'\n",
            "                                      )        \\_____________  `              \\  /'\n",
            "            (__                +- .( -'.- <. - _  VVVVVVV VV V\\                 \\/'\n",
            "            (_____            ._._: <_ - <- _  (--  _AAAAAAA__A_/                  |'\n",
            "              .    /./.+-  . .- /  +--  - .     \\______________//_              \\_______'\n",
            "              (__ ' /x  / x _/ (                                  \\___'          \\     /'\n",
            "              , x / ( '  . / .  /                                      |           \\   /'\n",
            "                /  /  _/ /    +                                      /              \\/'\n",
            "              '  (__/                                             /                  \\'\n",
            "          \n",
            "The dragon has 100 HP.\n",
            "Your power is 4.\n",
            "Push ENTER key and attack.\n",
            "The dragon has 96 HP now.\n",
            "Push the ENTER key and attack again.\n",
            "The dragon has 92 HP now.\n",
            "Push the ENTER key and attack again.\n",
            "The dragon has 88 HP now.\n",
            "Push the ENTER key and attack again.\n",
            "The dragon has 84 HP now.\n",
            "Push the ENTER key and attack again.\n",
            "The dragon has 80 HP now.\n",
            "Push the ENTER key and attack again.\n",
            "The dragon has 76 HP now.\n",
            "The dragon gobbles you down in one bite! YOU LOSE!\n",
            "Do you want to play again?(yes or no)no\n",
            "\n",
            "Thank you!\n"
          ],
          "name": "stdout"
        }
      ]
    },
    {
      "cell_type": "markdown",
      "metadata": {
        "id": "4pFjmIi3Wimd"
      },
      "source": [
        ""
      ]
    },
    {
      "cell_type": "markdown",
      "metadata": {
        "id": "Ujj7ySm6W9x-"
      },
      "source": [
        "# 5"
      ]
    },
    {
      "cell_type": "code",
      "metadata": {
        "colab": {
          "base_uri": "https://localhost:8080/"
        },
        "id": "ciZHgBAhW-_T",
        "outputId": "48cb61d9-5fb0-4ce1-c0cd-813856034c05"
      },
      "source": [
        "prodList=['커피', '우유', '바나나', '감귤', '화장지', '장갑', '이불', '베개', '장난감', '음료수', '빵']\n",
        "print('상품재고관리 프로그램\\n')\n",
        "admin=int(input('상품관리(1. 삽입, 2. 삭제, 3. 상품 확인, 4. 종료): '))\n",
        "while admin!=4:\n",
        "  if admin==1:\n",
        "    prod1=input('상품관리1-삽입) 삽입하고자 하는 상품은? ')\n",
        "    index=int(input('상품관리1-삽입) 삽입하고자 하는 위치는? '))\n",
        "    print(prod1,'삽입 완료')\n",
        "    prodList.insert(index, prod1)\n",
        "    print(prodList)\n",
        "    print()\n",
        "    admin=int(input('상품관리(1. 삽입, 2. 삭제, 3. 상품 확인, 4. 종료): '))\n",
        "  if admin==2:\n",
        "    prod2=input('상품관리2-삭제) 삭제하고자 하는 상품은? ')\n",
        "    print(prod2,'삭제 완료')\n",
        "    prodList.remove(prod2)\n",
        "    print(prodList)\n",
        "    print()\n",
        "    admin=int(input('상품관리(1. 삽입, 2. 삭제, 3. 상품 확인, 4. 종료): '))\n",
        "  if admin==3:\n",
        "    prod3=input('상품관리2-상품 확인) 확인하고자 하는 상품은? ')\n",
        "    if prod3 in prodList:\n",
        "      print(prod3,'검색 완료')\n",
        "      print()\n",
        "      admin=int(input('상품관리(1. 삽입, 2. 삭제, 3. 상품 확인, 4. 종료): '))\n",
        "    else:\n",
        "      print('검색한 상품을 찾지 못하였습니다.')\n",
        "      print()\n",
        "      admin=int(input('상품관리(1. 삽입, 2. 삭제, 3. 상품 확인, 4. 종료): '))\n",
        "print('프로그램을 종료합니다.')\n",
        "\n",
        "\n"
      ],
      "execution_count": null,
      "outputs": [
        {
          "output_type": "stream",
          "text": [
            "상품재고관리 프로그램\n",
            "\n",
            "상품관리(1. 삽입, 2. 삭제, 3. 상품 확인, 4. 종료): 2\n",
            "상품관리2-삭제) 삭제하고자 하는 상품은? 화장지\n",
            "화장지 삭제 완료\n",
            "['커피', '우유', '바나나', '감귤', '장갑', '이불', '베개', '장난감', '음료수', '빵']\n",
            "\n",
            "상품관리(1. 삽입, 2. 삭제, 3. 상품 확인, 4. 종료): 3\n",
            "상품관리2-상품 확인) 확인하고자 하는 상품은? 사과\n",
            "검색한 상품을 찾지 못하였습니다.\n",
            "\n",
            "상품관리(1. 삽입, 2. 삭제, 3. 상품 확인, 4. 종료): 3\n",
            "상품관리2-상품 확인) 확인하고자 하는 상품은? 음료수\n",
            "음료수 검색 완료\n",
            "\n",
            "상품관리(1. 삽입, 2. 삭제, 3. 상품 확인, 4. 종료): 1\n",
            "상품관리1-삽입) 삽입하고자 하는 상품은? 과자\n",
            "상품관리1-삽입) 삽입하고자 하는 위치는? 7\n",
            "과자 삽입 완료\n",
            "['커피', '우유', '바나나', '감귤', '장갑', '이불', '베개', '과자', '장난감', '음료수', '빵']\n",
            "\n",
            "상품관리(1. 삽입, 2. 삭제, 3. 상품 확인, 4. 종료): 4\n",
            "프로그램을 종료합니다.\n"
          ],
          "name": "stdout"
        }
      ]
    },
    {
      "cell_type": "code",
      "metadata": {
        "colab": {
          "base_uri": "https://localhost:8080/"
        },
        "id": "KiQtxl_JfOg8",
        "outputId": "2b9ca0de-cd15-48a0-87ed-23fe5522e940"
      },
      "source": [
        "name=input('In: ')\n",
        "print('=====\\n동이름\\n=====')\n",
        "list1=list(name.split())\n",
        "num=len(list1)\n",
        "count=0\n",
        "while count<=num-1:\n",
        "  list2=list(list1[count])\n",
        "  num2=len(list2)\n",
        "  if list2[num2-1]=='동':\n",
        "    print(list1[count])\n",
        "  count+=1"
      ],
      "execution_count": null,
      "outputs": [
        {
          "output_type": "stream",
          "text": [
            "In: 강동구 노원구 용산구 상암동 서울시 논현동 평창동 중구\n",
            "=====\n",
            "동이름\n",
            "=====\n",
            "상암동\n",
            "논현동\n",
            "평창동\n"
          ],
          "name": "stdout"
        }
      ]
    },
    {
      "cell_type": "code",
      "metadata": {
        "colab": {
          "base_uri": "https://localhost:8080/"
        },
        "id": "NktIs7MCFoJv",
        "outputId": "0d418487-599a-4ab1-f8a3-426c74b06a8e"
      },
      "source": [
        "input1=input('Input: ')\n",
        "list1=list(input1.split())\n",
        "list2=['A', 'a', 'An', 'an', 'The', 'the']\n",
        "count=0\n",
        "while count<=len(list1)-1:\n",
        "  if list1[count] in list2:\n",
        "    del list1[count]\n",
        "  count+=1\n",
        "print(list1)"
      ],
      "execution_count": null,
      "outputs": [
        {
          "output_type": "stream",
          "text": [
            "Input: A gift in season is a double favor to the needy.\n",
            "['gift', 'in', 'season', 'is', 'double', 'favor', 'to', 'needy.']\n"
          ],
          "name": "stdout"
        }
      ]
    },
    {
      "cell_type": "code",
      "metadata": {
        "colab": {
          "base_uri": "https://localhost:8080/"
        },
        "id": "OQJtzRCgHIa_",
        "outputId": "8316776c-62e4-4d56-8cc5-a9a37d0c7f54"
      },
      "source": [
        "import random\n",
        "print('이번 주 컴또 복권!\\n')\n",
        "start=0\n",
        "sum=0\n",
        "while start==0:\n",
        "  num1=input('네 개의 숫자를 입력하세요: ')\n",
        "  list1=list(num1.split(', '))\n",
        "  count1=0\n",
        "  list2=[]\n",
        "  while count1<=3:\n",
        "    num2=random.randint(1,10)\n",
        "    list2.append(num2)\n",
        "    count1+=1\n",
        "  list2.sort()\n",
        "  print('이번 주 컴또 복권 번호는',list2,'입니다.')\n",
        "  count2=0\n",
        "  list3=[]\n",
        "  while count2<=len(list1)-1:\n",
        "    if int(list1[count2])in list2:\n",
        "      list3.append(int(list1[count2]))\n",
        "    count2+=1\n",
        "  list3.sort()\n",
        "  print('맞춘 숫자는', list3, '입니다.')\n",
        "  if len(list3)==4:\n",
        "    print('4개를 맞춰 당첨금은 10000원 입니다.')\n",
        "    num3=10000\n",
        "  elif len(list3)==3:\n",
        "    print('3개를 맞춰 당첨금은 5000원 입니다.')\n",
        "    num3=5000\n",
        "  else:\n",
        "    print(str(len(list3))+'개를 맞춰 당첨금은 없습니다.')\n",
        "    num3=0\n",
        "  re=input('계속 하시겠습니까?: ')\n",
        "  print()\n",
        "  if re=='n' or re=='N':\n",
        "    start=1\n",
        "  sum+=num3\n",
        "print('총 당첨금은 {}원입니다.'.format(sum))  \n",
        "\n"
      ],
      "execution_count": null,
      "outputs": [
        {
          "output_type": "stream",
          "text": [
            "이번 주 컴또 복권!\n",
            "\n",
            "네 개의 숫자를 입력하세요: 2, 5, 7, 9\n",
            "이번 주 컴또 복권 번호는 [2, 3, 7, 8] 입니다.\n",
            "맞춘 숫자는 [2, 7] 입니다.\n",
            "2개를 맞춰 당첨금은 없습니다.\n",
            "계속 하시겠습니까?: y\n",
            "\n",
            "네 개의 숫자를 입력하세요: 2, 3, 5, 7\n",
            "이번 주 컴또 복권 번호는 [3, 4, 6, 9] 입니다.\n",
            "맞춘 숫자는 [3] 입니다.\n",
            "1개를 맞춰 당첨금은 없습니다.\n",
            "계속 하시겠습니까?: y\n",
            "\n",
            "네 개의 숫자를 입력하세요: 2, 3, 4, 5\n",
            "이번 주 컴또 복권 번호는 [2, 3, 5, 7] 입니다.\n",
            "맞춘 숫자는 [2, 3, 5] 입니다.\n",
            "3개를 맞춰 당첨금은 5000원 입니다.\n",
            "계속 하시겠습니까?: y\n",
            "\n",
            "네 개의 숫자를 입력하세요: 2, 3, 4, 5\n",
            "이번 주 컴또 복권 번호는 [2, 3, 5, 10] 입니다.\n",
            "맞춘 숫자는 [2, 3, 5] 입니다.\n",
            "3개를 맞춰 당첨금은 5000원 입니다.\n",
            "계속 하시겠습니까?: n\n",
            "\n",
            "총 당첨금은 10000원입니다.\n"
          ],
          "name": "stdout"
        }
      ]
    },
    {
      "cell_type": "code",
      "metadata": {
        "colab": {
          "base_uri": "https://localhost:8080/"
        },
        "id": "4Q98R3bzQ5KS",
        "outputId": "a185f71f-7383-4baa-c858-d7c972f51296"
      },
      "source": [
        "import random\n",
        "list1=['꿈을 지녀라. 그러면 어려운 현실을 이길 수 있다.', '고생없이 얻을 수 있는 진실로 귀중핚 것은 하나도 없다.',\n",
        "       '사람은 사랑할 때 누구나 시인이 된다.', '시작이 반이다.', '나는 사랑으로 내가 이해하는 모든 것들을 이해한다.']\n",
        "print('''================================\n",
        "         오늘의 명언\n",
        "================================''')\n",
        "print(list1[random.randint(0,4)])\n"
      ],
      "execution_count": null,
      "outputs": [
        {
          "output_type": "stream",
          "text": [
            "================================\n",
            "         오늘의 명언\n",
            "================================\n",
            "사람은 사랑할 때 누구나 시인이 된다.\n"
          ],
          "name": "stdout"
        }
      ]
    },
    {
      "cell_type": "code",
      "metadata": {
        "colab": {
          "base_uri": "https://localhost:8080/"
        },
        "id": "Kx6In7nASLCH",
        "outputId": "7e0ee74d-1c3a-46d0-9b53-2fa696bb1c02"
      },
      "source": [
        "name=input()\n",
        "print('정렬된 데이터')\n",
        "list1=list(name.split())\n",
        "list1.sort()\n",
        "print(list1)"
      ],
      "execution_count": null,
      "outputs": [
        {
          "output_type": "stream",
          "text": [
            "강동구 노원구 용산구 중구 관악구 중랑구 동대문구 서대문구\n",
            "정렬된 데이터\n",
            "['강동구', '관악구', '노원구', '동대문구', '서대문구', '용산구', '중구', '중랑구']\n"
          ],
          "name": "stdout"
        }
      ]
    },
    {
      "cell_type": "code",
      "metadata": {
        "colab": {
          "base_uri": "https://localhost:8080/"
        },
        "id": "UeUEqyqtS_O5",
        "outputId": "717d38f4-03c6-4c4f-d736-a95518ba716c"
      },
      "source": [
        "name=input()\n",
        "print('정렬된 데이터')\n",
        "list1=list(name.split())\n",
        "list1.sort()\n",
        "print(list1)\n",
        "print()\n",
        "name2=input('지역구이름: ')\n",
        "print(list1[:list1.index(name2)+1])\n"
      ],
      "execution_count": null,
      "outputs": [
        {
          "output_type": "stream",
          "text": [
            "강동구 노원구 용산구 중구 관악구 중랑구 동대문구 서대문구\n",
            "정렬된 데이터\n",
            "['강동구', '관악구', '노원구', '동대문구', '서대문구', '용산구', '중구', '중랑구']\n",
            "\n",
            "지역구이름: 서대문구\n",
            "['강동구', '관악구', '노원구', '동대문구', '서대문구']\n"
          ],
          "name": "stdout"
        }
      ]
    },
    {
      "cell_type": "code",
      "metadata": {
        "colab": {
          "base_uri": "https://localhost:8080/"
        },
        "id": "VvNR2ASCVMJx",
        "outputId": "dc3e4ce6-c95e-4328-fa50-ea6b40d98118"
      },
      "source": [
        "list1=['02-334-0000', '서울시', '노원구', '행복동', '가즈아로', '낙엽', '패딩점퍼']\n",
        "count=0\n",
        "list2=[]\n",
        "while count<=len(list1)-1:\n",
        "  list3=list(list1[count])\n",
        "  if list3[-1]=='시' or list3[-1]=='구' or list3[-1]=='동' or list3[-1]=='로':\n",
        "    list2.append(list1[count])\n",
        "  count+=1\n",
        "print(list2)"
      ],
      "execution_count": null,
      "outputs": [
        {
          "output_type": "stream",
          "text": [
            "['서울시', '노원구', '행복동', '가즈아로']\n"
          ],
          "name": "stdout"
        }
      ]
    },
    {
      "cell_type": "code",
      "metadata": {
        "colab": {
          "base_uri": "https://localhost:8080/"
        },
        "id": "dhJ5GOJwWQij",
        "outputId": "cc4610ea-ad56-4258-80f1-3d883c91381f"
      },
      "source": [
        "input('학생들의 이름 입력(,로 구분): ')\n",
        "grade=input('학생들의 국어성적 입력(,로 구분): ')\n",
        "list1=list(grade.split(','))\n",
        "sum=0\n",
        "count=0\n",
        "while count<=len(list1)-1:\n",
        "  sum+=int(list1[count])\n",
        "  count+=1\n",
        "print('\\nSum: {}'.format(sum))"
      ],
      "execution_count": null,
      "outputs": [
        {
          "output_type": "stream",
          "text": [
            "학생들의 이름 입력(,로 구분): 영희,철수,미나\n",
            "학생들의 국어성적 입력(,로 구분): 90,80,95\n",
            "\n",
            "Sum: 265\n"
          ],
          "name": "stdout"
        }
      ]
    },
    {
      "cell_type": "code",
      "metadata": {
        "colab": {
          "base_uri": "https://localhost:8080/"
        },
        "id": "ML77LO34XFyE",
        "outputId": "2ab677ff-82f8-40e0-8f04-9e1ccd94efcf"
      },
      "source": [
        "input1=input()\n",
        "list1=list(input1.split())\n",
        "print('\\ncount: {}'.format(len(list1)))"
      ],
      "execution_count": null,
      "outputs": [
        {
          "output_type": "stream",
          "text": [
            "ant baboon badger bat bear beaver camel cat clam cobra cougar coyote crow deer dog donkey duck eagle ferret fox frog goat goose hawk lion lizard llama mole monkey moose mouse mule newt otter owl panda parrot pigeon python rabbit ram rat raven rhino salmon seal shark sheep skunk sloth snake spider stork swan tiger toad trout turkey turtle weasel whale wolf zebra\n",
            "\n",
            "count: 63\n"
          ],
          "name": "stdout"
        }
      ]
    },
    {
      "cell_type": "code",
      "metadata": {
        "colab": {
          "base_uri": "https://localhost:8080/"
        },
        "id": "v_4xoSyAXhYJ",
        "outputId": "a3905365-1a14-4249-fafa-6bca79a9aca3"
      },
      "source": [
        "input1=input()\n",
        "list1=list(input1.split())\n",
        "num=len(list1)\n",
        "print('\\ncount: {}'.format(num))\n",
        "print(list(range(num)))"
      ],
      "execution_count": null,
      "outputs": [
        {
          "output_type": "stream",
          "text": [
            "ant baboon badger bat bear beaver camel cat clam cobra cougar coyote crow deer dog donkey duck eagle ferret fox frog goat goose hawk lion lizard llama mole monkey moose mouse mule newt otter owl panda parrot pigeon python rabbit ram rat raven rhino salmon seal shark sheep skunk sloth snake spider stork swan tiger toad trout turkey turtle weasel whale wolf zebra\n",
            "\n",
            "count: 63\n",
            "[0, 1, 2, 3, 4, 5, 6, 7, 8, 9, 10, 11, 12, 13, 14, 15, 16, 17, 18, 19, 20, 21, 22, 23, 24, 25, 26, 27, 28, 29, 30, 31, 32, 33, 34, 35, 36, 37, 38, 39, 40, 41, 42, 43, 44, 45, 46, 47, 48, 49, 50, 51, 52, 53, 54, 55, 56, 57, 58, 59, 60, 61, 62]\n"
          ],
          "name": "stdout"
        }
      ]
    },
    {
      "cell_type": "markdown",
      "metadata": {
        "id": "RZibCJstqBTc"
      },
      "source": [
        "# 6"
      ]
    },
    {
      "cell_type": "code",
      "metadata": {
        "colab": {
          "base_uri": "https://localhost:8080/"
        },
        "id": "ODhJCmewqG3a",
        "outputId": "3166f81f-4b28-482c-b84e-c73b63f6fa90"
      },
      "source": [
        "def login(pwd):\n",
        "  if pwd=='pythonisfun':\n",
        "    return True\n",
        "  else:\n",
        "    return False\n",
        "password=''\n",
        "while login(password)==False:\n",
        "  password=input('암호를 입력하시오: ')\n",
        "print('로그인 성공')\n"
      ],
      "execution_count": null,
      "outputs": [
        {
          "output_type": "stream",
          "text": [
            "암호를 입력하시오: password\n",
            "암호를 입력하시오: hello\n",
            "암호를 입력하시오: abcdefg\n",
            "암호를 입력하시오: 1234567\n",
            "암호를 입력하시오: pythonisfun\n",
            "로그인 성공\n"
          ],
          "name": "stdout"
        }
      ]
    },
    {
      "cell_type": "code",
      "metadata": {
        "colab": {
          "base_uri": "https://localhost:8080/"
        },
        "id": "pRS81kB2xoaP",
        "outputId": "c3a19951-f92c-4458-9901-c67b835e6b78"
      },
      "source": [
        "def sum(num):\n",
        "  count=0\n",
        "  total=0\n",
        "  while count<=num:\n",
        "    total+=count\n",
        "    count+=1\n",
        "  return total\n",
        "  \n",
        "print('수를 입력하세요.')\n",
        "num=input()\n",
        "if int(num)>=1:\n",
        "  print('1부터 {}까지의 합은 {}'.format(num, sum(int(num))))\n",
        "else:\n",
        "  print('1 이상의 수를 입력하셔야 합니다.')"
      ],
      "execution_count": null,
      "outputs": [
        {
          "output_type": "stream",
          "text": [
            "수를 입력하세요.\n",
            "-50\n",
            "1 이상의 수를 입력하셔야 합니다.\n"
          ],
          "name": "stdout"
        }
      ]
    },
    {
      "cell_type": "code",
      "metadata": {
        "id": "1SKw6bLYze7j",
        "colab": {
          "base_uri": "https://localhost:8080/"
        },
        "outputId": "372107a5-430f-4228-ea6d-35f9f1d9a3fb"
      },
      "source": [
        "def plus(x, y):\n",
        "  return x+y\n",
        "def minus(x, y):\n",
        "  return x-y\n",
        "def multiply(x, y):\n",
        "  return x*y\n",
        "def division(x, y):\n",
        "  return x/y\n",
        "  \n",
        "while True:\n",
        "  num=input('두 개의 숫자를 입력하세요: ')\n",
        "  list1=list(num.split(', '))\n",
        "  cal=input('필요한 연산의 연산자를 입력하세요: ')\n",
        "  x=list1[0]\n",
        "  y=list1[1]\n",
        "  if cal=='+':\n",
        "    print('{}+{}={}'.format(x, y, plus(int(x), int(y))))\n",
        "  elif cal=='-':\n",
        "    print('{}-{}={}'.format(x, y, minus(int(x), int(y))))\n",
        "  elif cal=='*':\n",
        "    print('{}*{}={}'.format(x, y, multiply(int(x), int(y))))\n",
        "  elif cal=='/':\n",
        "    print('{}/{}={}'.format(x, y, division(int(x), int(y))))\n",
        "  else:\n",
        "    break\n"
      ],
      "execution_count": 6,
      "outputs": [
        {
          "output_type": "stream",
          "text": [
            "두 개의 숫자를 입력하세요: 43167, 4389847\n",
            "필요한 연산의 연산자를 입력하세요: +\n",
            "43167+4389847=4433014\n",
            "두 개의 숫자를 입력하세요: 7289864, 354287\n",
            "필요한 연산의 연산자를 입력하세요: 그만\n"
          ],
          "name": "stdout"
        }
      ]
    },
    {
      "cell_type": "code",
      "metadata": {
        "colab": {
          "base_uri": "https://localhost:8080/"
        },
        "id": "Sb3y00ixa5g5",
        "outputId": "0634fee4-7476-40d1-f3ac-bb119c67b935"
      },
      "source": [
        "prodList=['커피', '우유', '바나나', '감귤', '화장지', '장갑', '이불', '베개', '장난감', '음료수', '빵']\n",
        "def insert():\n",
        "  prod1=input('상품관리1-삽입) 삽입하고자 하는 상품은? ')\n",
        "  index=int(input('상품관리1-삽입) 삽입하고자 하는 위치는? '))\n",
        "  print(prod1,'삽입 완료')\n",
        "  prodList.insert(index, prod1)\n",
        "  print(prodList)\n",
        "  print()\n",
        "  return\n",
        "def search(x):\n",
        "  if x in prodList:\n",
        "    return True\n",
        "  else:\n",
        "    return False\n",
        "def remove():\n",
        "  prod2=input('상품관리2-삭제) 삭제하고자 하는 상품은? ')\n",
        "  if search(prod2)==True:\n",
        "    print(prod2,'삭제 완료')\n",
        "    prodList.remove(prod2)\n",
        "    print(prodList)\n",
        "    print()\n",
        "  else:\n",
        "    print('삭제하고자 하는 상품이 없습니다.')\n",
        "    print()\n",
        "\n",
        "print('상품재고관리 프로그램\\n')\n",
        "print(prodList)\n",
        "while True:\n",
        "  admin=int(input('상품관리(1. 삽입, 2. 삭제, 3. 상품 확인, 4. 종료): '))\n",
        "  if admin==1:\n",
        "    insert()\n",
        "  elif admin==2:\n",
        "    remove()\n",
        "  elif admin==3:\n",
        "    prod3=input('상품관리2-상품 확인) 확인하고자 하는 상품은? ')\n",
        "    if search(prod3)==True:\n",
        "      print(prod3,'검색 완료')\n",
        "      print()\n",
        "    else:\n",
        "      print('검색한 상품을 찾지 못하였습니다.')\n",
        "      print()\n",
        "  else:\n",
        "    print('프로그램을 종료합니다.')\n",
        "    break"
      ],
      "execution_count": 2,
      "outputs": [
        {
          "output_type": "stream",
          "text": [
            "상품재고관리 프로그램\n",
            "\n",
            "['커피', '우유', '바나나', '감귤', '화장지', '장갑', '이불', '베개', '장난감', '음료수', '빵']\n",
            "상품관리(1. 삽입, 2. 삭제, 3. 상품 확인, 4. 종료): 3\n",
            "상품관리2-상품 확인) 확인하고자 하는 상품은? 감\n",
            "검색한 상품을 찾지 못하였습니다.\n",
            "\n",
            "상품관리(1. 삽입, 2. 삭제, 3. 상품 확인, 4. 종료): 4\n",
            "프로그램을 종료합니다.\n"
          ],
          "name": "stdout"
        }
      ]
    },
    {
      "cell_type": "code",
      "metadata": {
        "colab": {
          "base_uri": "https://localhost:8080/"
        },
        "id": "pr3GOI0GiZdP",
        "outputId": "5dfb89cd-8d85-4509-ad22-bb8c44aa0072"
      },
      "source": [
        "import time\n",
        "import random\n",
        "def intro1():\n",
        "  print('You are in a land full of dragons.')\n",
        "  time.sleep(1)\n",
        "  print('In front of you, you see two caves.')\n",
        "  time.sleep(1)\n",
        "  print('In one cave, the dragon is friendly,')\n",
        "  time.sleep(1)\n",
        "  print('and will share his treasure with you.')\n",
        "  time.sleep(1)\n",
        "  print('The other dragon is greedy and hungry,')\n",
        "  time.sleep(1)\n",
        "  print('and will eat you on sight.')\n",
        "  time.sleep(1)\n",
        "def chooseCave():\n",
        "  return int(input('Which cave will you go into? (1 or 2)'))\n",
        "def checkCave(x):\n",
        "  cave=random.randint(1,2)\n",
        "  if x==cave:\n",
        "    return True\n",
        "  else:\n",
        "    return False\n",
        "def intro2(x):\n",
        "  print('\\nYou approach the cave…')\n",
        "  time.sleep(1)\n",
        "  print('It is dark and spooky...')\n",
        "  time.sleep(1)\n",
        "  print('A large dragon jumps out in front of you!')\n",
        "  time.sleep(1)\n",
        "  print('He opens his jaws and...')\n",
        "  time.sleep(1)\n",
        "  if x==True:\n",
        "    print('Gives you his treasure!')\n",
        "    time.sleep(1)\n",
        "    print('''\n",
        "                                __/>^^^;:,'\n",
        "              .    \\'    ,      /-.       :,/|/|'\n",
        "                _______     __/ ^         :,/ \\__'\n",
        "            _ ./_|___|_\\. _(~             ;/ /  /'\n",
        "                \\ \\   / /    `-\\'--._       / / ,<  ___'\n",
        "                \\ \\' \\' /   ,__.   /=\\     /  _/  >|_\\'.'\n",
        "                  \\ \" /     `_ `--------\\'    __ / \\',\\ \\\\'\n",
        "                  \\./   ,_// ,---_____,   ,_  \\_  ,| |'\n",
        "                    V     `--\\' |=|           \\._/ ,/  |'\n",
        "                                \\=\\            `,,/   |'\n",
        "                                \\=\\            ||    /'\n",
        "                                  \\=\\____       |\\    \\\\'\n",
        "                                  / \\/    `     <__)    \\\\'\n",
        "                                  | |                    |'\n",
        "                                ,__\\,\\                   /'\n",
        "                              ,--____>    /\\.         ./'\n",
        "                              \\'-__________>  \\.______/'\n",
        "          ''')\n",
        "  else:\n",
        "    print('will gobble you down in one bite!')\n",
        "    time.sleep(1)\n",
        "    print('''\n",
        "                (  )   /\\   _                 (    ' \n",
        "                \\ |  (  \\ ( \\.(               )                      _____'\n",
        "              \\  \\ \\  `  `   ) \\             (  ___                 / _   \\\\'\n",
        "              (_`    \\+   . x  ( .\\            \\/   \\____-----------/ (o)   \\_'\n",
        "            - .-               \\+  ;          (  O                           \\____'\n",
        "                                      )        \\_____________  `              \\  /'\n",
        "            (__                +- .( -\\'.- <. - _  VVVVVVV VV V\\                 \\/'\n",
        "            (_____            ._._: <_ - <- _  (--  _AAAAAAA__A_/                  |'\n",
        "              .    /./.+-  . .- /  +--  - .     \\______________//_              \\_______'\n",
        "              (__ \\' /x  / x _/ (                                  \\___\\'          \\     /'\n",
        "              , x / ( \\'  . / .  /                                      |           \\   /'\n",
        "                /  /  _/ /    +                                      /              \\/'\n",
        "              \\'  (__/                                             /                  \\\\'\n",
        "          ''')\n",
        "    dragonhp=100\n",
        "    power=random.randint(1,30)\n",
        "    time.sleep(1)\n",
        "    print('The dragon has 100 HP.')\n",
        "    time.sleep(1)\n",
        "    print('Your power is {}.'.format(power))\n",
        "    time.sleep(1)\n",
        "    input('Push ENTER key and attack.')\n",
        "    trial2=1\n",
        "    dragonhp-=power\n",
        "    print('The dragon has {} HP now.'.format(dragonhp))\n",
        "    while dragonhp>0 and trial2<=5:\n",
        "        input('Push the ENTER key and attack again.')\n",
        "        trial2+=1\n",
        "        dragonhp-=power\n",
        "        time.sleep(1)\n",
        "        print('The dragon has {} HP now.'.format(dragonhp))\n",
        "        time.sleep(1)\n",
        "    if dragonhp<=0:\n",
        "        print('The dragon is dead. YOU WIN!')\n",
        "    else:\n",
        "        print('The dragon gobbles you down in one bite! YOU LOSE!')\n",
        "\n",
        "trial=0\n",
        "while trial==0 or trial=='yes' or trial=='y':\n",
        "  intro1()\n",
        "  intro2(checkCave(chooseCave()))\n",
        "  trial=input('Do you want to play again?(yes or no)')\n",
        "  print()\n",
        "print('Thank you!')  \n",
        "\n",
        "\n",
        "\n",
        "  "
      ],
      "execution_count": null,
      "outputs": [
        {
          "output_type": "stream",
          "text": [
            "You are in a land full of dragons.\n",
            "In front of you, you see two caves.\n",
            "In one cave, the dragon is friendly,\n",
            "and will share his treasure with you.\n",
            "The other dragon is greedy and hungry,\n",
            "and will eat you on sight.\n",
            "Which cave will you go into? (1 or 2)1\n",
            "\n",
            "You approach the cave…\n",
            "It is dark and spooky...\n",
            "A large dragon jumps out in front of you!\n",
            "He opens his jaws and...\n",
            "Gives you his treasure!\n",
            "\n",
            "                                __/>^^^;:,'\n",
            "              .    '    ,      /-.       :,/|/|'\n",
            "                _______     __/ ^         :,/ \\__'\n",
            "            _ ./_|___|_\\. _(~             ;/ /  /'\n",
            "                \\ \\   / /    `-'--._       / / ,<  ___'\n",
            "                \\ ' ' /   ,__.   /=\\     /  _/  >|_'.'\n",
            "                  \\ \" /     `_ `--------'    __ / ',\\ \\'\n",
            "                  \\./   ,_// ,---_____,   ,_  \\_  ,| |'\n",
            "                    V     `--' |=|           \\._/ ,/  |'\n",
            "                                \\=\\            `,,/   |'\n",
            "                                \\=\\            ||    /'\n",
            "                                  \\=\\____       |\\    \\'\n",
            "                                  / \\/    `     <__)    \\'\n",
            "                                  | |                    |'\n",
            "                                ,__\\,\\                   /'\n",
            "                              ,--____>    /\\.         ./'\n",
            "                              '-__________>  \\.______/'\n",
            "          \n",
            "Do you want to play again?(yes or no)y\n",
            "\n",
            "You are in a land full of dragons.\n",
            "In front of you, you see two caves.\n",
            "In one cave, the dragon is friendly,\n",
            "and will share his treasure with you.\n",
            "The other dragon is greedy and hungry,\n",
            "and will eat you on sight.\n",
            "Which cave will you go into? (1 or 2)1\n",
            "\n",
            "You approach the cave…\n",
            "It is dark and spooky...\n",
            "A large dragon jumps out in front of you!\n",
            "He opens his jaws and...\n",
            "will gobble you down in one bite!\n",
            "\n",
            "                (  )   /\\   _                 (    ' \n",
            "                \\ |  (  \\ ( \\.(               )                      _____'\n",
            "              \\  \\ \\  `  `   ) \\             (  ___                 / _   \\'\n",
            "              (_`    \\+   . x  ( .\\            \\/   \\____-----------/ (o)   \\_'\n",
            "            - .-               \\+  ;          (  O                           \\____'\n",
            "                                      )        \\_____________  `              \\  /'\n",
            "            (__                +- .( -'.- <. - _  VVVVVVV VV V\\                 \\/'\n",
            "            (_____            ._._: <_ - <- _  (--  _AAAAAAA__A_/                  |'\n",
            "              .    /./.+-  . .- /  +--  - .     \\______________//_              \\_______'\n",
            "              (__ ' /x  / x _/ (                                  \\___'          \\     /'\n",
            "              , x / ( '  . / .  /                                      |           \\   /'\n",
            "                /  /  _/ /    +                                      /              \\/'\n",
            "              '  (__/                                             /                  \\'\n",
            "          \n",
            "The dragon has 100 HP.\n",
            "Your power is 11.\n",
            "Push ENTER key and attack.\n",
            "The dragon has 89 HP now.\n",
            "Push the ENTER key and attack again.\n",
            "The dragon has 78 HP now.\n",
            "Push the ENTER key and attack again.\n",
            "The dragon has 67 HP now.\n",
            "Push the ENTER key and attack again.\n",
            "The dragon has 56 HP now.\n",
            "Push the ENTER key and attack again.\n",
            "The dragon has 45 HP now.\n",
            "Push the ENTER key and attack again.\n",
            "The dragon has 34 HP now.\n",
            "The dragon gobbles you down in one bite! YOU LOSE!\n",
            "Do you want to play again?(yes or no)n\n",
            "\n",
            "Thank you!\n"
          ],
          "name": "stdout"
        }
      ]
    }
  ]
}