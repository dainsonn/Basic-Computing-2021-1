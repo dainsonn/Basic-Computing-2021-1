{
  "nbformat": 4,
  "nbformat_minor": 0,
  "metadata": {
    "colab": {
      "name": "004_04_2021-19885_손다인.ipynb",
      "provenance": [],
      "collapsed_sections": [
        "i1vFyWo76tKV",
        "jkPwpecu3Xcy",
        "rEX-C8y0BtXK",
        "f9P5_8rk1RxS",
        "X8C2ErN9BJxE",
        "cKa4oCA7HaPI",
        "KvFVlTtNHbpL",
        "Ujj7ySm6W9x-",
        "RZibCJstqBTc",
        "9Tsh6ro56_-1",
        "iphVaWDAWIlg",
        "4Uk51-dwM0Qq"
      ]
    },
    "kernelspec": {
      "name": "python3",
      "display_name": "Python 3"
    }
  },
  "cells": [
    {
      "cell_type": "markdown",
      "metadata": {
        "id": "i1vFyWo76tKV"
      },
      "source": [
        "# 강의 1~7"
      ]
    },
    {
      "cell_type": "code",
      "metadata": {
        "colab": {
          "base_uri": "https://localhost:8080/"
        },
        "id": "A_Lnv6UZqCQb",
        "outputId": "88368477-00ee-43f6-ec75-47a3d09d3982"
      },
      "source": [
        "2+2"
      ],
      "execution_count": null,
      "outputs": [
        {
          "output_type": "execute_result",
          "data": {
            "text/plain": [
              "4"
            ]
          },
          "metadata": {
            "tags": []
          },
          "execution_count": 2
        }
      ]
    },
    {
      "cell_type": "code",
      "metadata": {
        "colab": {
          "base_uri": "https://localhost:8080/"
        },
        "id": "ibp4GeeZqbw_",
        "outputId": "8f6a21ec-d316-4d0f-bc20-465367611a97"
      },
      "source": [
        "5-7"
      ],
      "execution_count": null,
      "outputs": [
        {
          "output_type": "execute_result",
          "data": {
            "text/plain": [
              "-2"
            ]
          },
          "metadata": {
            "tags": []
          },
          "execution_count": 3
        }
      ]
    },
    {
      "cell_type": "code",
      "metadata": {
        "colab": {
          "base_uri": "https://localhost:8080/"
        },
        "id": "ORU9l2wOqcre",
        "outputId": "0086b13f-f6ad-4b69-f619-ac135adc3ece"
      },
      "source": [
        "8*9"
      ],
      "execution_count": null,
      "outputs": [
        {
          "output_type": "execute_result",
          "data": {
            "text/plain": [
              "72"
            ]
          },
          "metadata": {
            "tags": []
          },
          "execution_count": 4
        }
      ]
    },
    {
      "cell_type": "code",
      "metadata": {
        "colab": {
          "base_uri": "https://localhost:8080/"
        },
        "id": "q8DimOlJqdi9",
        "outputId": "08f88367-b433-41d9-e1bb-0fef19008617"
      },
      "source": [
        "10/2"
      ],
      "execution_count": null,
      "outputs": [
        {
          "output_type": "execute_result",
          "data": {
            "text/plain": [
              "5.0"
            ]
          },
          "metadata": {
            "tags": []
          },
          "execution_count": 5
        }
      ]
    },
    {
      "cell_type": "code",
      "metadata": {
        "colab": {
          "base_uri": "https://localhost:8080/"
        },
        "id": "ZVH2vI4Vqek0",
        "outputId": "fbfb35b0-659a-4eb8-e6ef-41d2415af668"
      },
      "source": [
        "10%2"
      ],
      "execution_count": null,
      "outputs": [
        {
          "output_type": "execute_result",
          "data": {
            "text/plain": [
              "0"
            ]
          },
          "metadata": {
            "tags": []
          },
          "execution_count": 6
        }
      ]
    },
    {
      "cell_type": "code",
      "metadata": {
        "colab": {
          "base_uri": "https://localhost:8080/"
        },
        "id": "lzba7HXDqf5_",
        "outputId": "5c14ca94-45f5-44a6-ed92-29e9101f63c2"
      },
      "source": [
        "3**2"
      ],
      "execution_count": null,
      "outputs": [
        {
          "output_type": "execute_result",
          "data": {
            "text/plain": [
              "9"
            ]
          },
          "metadata": {
            "tags": []
          },
          "execution_count": 7
        }
      ]
    },
    {
      "cell_type": "code",
      "metadata": {
        "colab": {
          "base_uri": "https://localhost:8080/"
        },
        "id": "86q-3XH4qsJG",
        "outputId": "7e7ef012-f2d0-478a-91ae-45c5f0d62a6d"
      },
      "source": [
        "2/4*3"
      ],
      "execution_count": null,
      "outputs": [
        {
          "output_type": "execute_result",
          "data": {
            "text/plain": [
              "1.5"
            ]
          },
          "metadata": {
            "tags": []
          },
          "execution_count": 8
        }
      ]
    },
    {
      "cell_type": "code",
      "metadata": {
        "colab": {
          "base_uri": "https://localhost:8080/"
        },
        "id": "B7ZxgeDKqvXh",
        "outputId": "f1e04481-7f4e-4f0b-be6e-1fc9152667bd"
      },
      "source": [
        "4.0*2%2"
      ],
      "execution_count": null,
      "outputs": [
        {
          "output_type": "execute_result",
          "data": {
            "text/plain": [
              "0.0"
            ]
          },
          "metadata": {
            "tags": []
          },
          "execution_count": 9
        }
      ]
    },
    {
      "cell_type": "code",
      "metadata": {
        "colab": {
          "base_uri": "https://localhost:8080/"
        },
        "id": "aiAvxSvBq04K",
        "outputId": "2e3625b8-91d1-4c47-bac6-8c31c09d0a8f"
      },
      "source": [
        "4.0-2.0"
      ],
      "execution_count": null,
      "outputs": [
        {
          "output_type": "execute_result",
          "data": {
            "text/plain": [
              "2.0"
            ]
          },
          "metadata": {
            "tags": []
          },
          "execution_count": 10
        }
      ]
    },
    {
      "cell_type": "code",
      "metadata": {
        "colab": {
          "base_uri": "https://localhost:8080/"
        },
        "id": "dcSZFUZWq3Cg",
        "outputId": "fee56e71-eef2-422e-e4f5-560604c3457d"
      },
      "source": [
        "3600-60*3"
      ],
      "execution_count": null,
      "outputs": [
        {
          "output_type": "execute_result",
          "data": {
            "text/plain": [
              "3420"
            ]
          },
          "metadata": {
            "tags": []
          },
          "execution_count": 11
        }
      ]
    },
    {
      "cell_type": "code",
      "metadata": {
        "id": "A9sX6Kv6tH5X"
      },
      "source": [
        "spam=15"
      ],
      "execution_count": null,
      "outputs": []
    },
    {
      "cell_type": "code",
      "metadata": {
        "colab": {
          "base_uri": "https://localhost:8080/"
        },
        "id": "H7WpRQzAtNB1",
        "outputId": "302b72eb-53a4-4a49-d03f-388a36380946"
      },
      "source": [
        "spam"
      ],
      "execution_count": null,
      "outputs": [
        {
          "output_type": "execute_result",
          "data": {
            "text/plain": [
              "15"
            ]
          },
          "metadata": {
            "tags": []
          },
          "execution_count": 14
        }
      ]
    },
    {
      "cell_type": "code",
      "metadata": {
        "colab": {
          "base_uri": "https://localhost:8080/"
        },
        "id": "JIhcJ-a3tPJa",
        "outputId": "35c2300a-5c83-4e57-cd13-634221cd4966"
      },
      "source": [
        "print(spam)"
      ],
      "execution_count": null,
      "outputs": [
        {
          "output_type": "stream",
          "text": [
            "15\n"
          ],
          "name": "stdout"
        }
      ]
    },
    {
      "cell_type": "code",
      "metadata": {
        "colab": {
          "base_uri": "https://localhost:8080/"
        },
        "id": "N5_kZKu9vgoy",
        "outputId": "f351ebf1-d49a-4222-94b4-97eebd337bd7"
      },
      "source": [
        "eggs=15\n",
        "fizz=10\n",
        "spam=eggs+fizz\n",
        "spam"
      ],
      "execution_count": null,
      "outputs": [
        {
          "output_type": "execute_result",
          "data": {
            "text/plain": [
              "25"
            ]
          },
          "metadata": {
            "tags": []
          },
          "execution_count": 17
        }
      ]
    },
    {
      "cell_type": "code",
      "metadata": {
        "colab": {
          "base_uri": "https://localhost:8080/",
          "height": 36
        },
        "id": "quSmYYj2wOsd",
        "outputId": "16c84830-95d4-4ca1-826e-45554fb38804"
      },
      "source": [
        "spam='hello'\n",
        "spam"
      ],
      "execution_count": null,
      "outputs": [
        {
          "output_type": "execute_result",
          "data": {
            "application/vnd.google.colaboratory.intrinsic+json": {
              "type": "string"
            },
            "text/plain": [
              "'hello'"
            ]
          },
          "metadata": {
            "tags": []
          },
          "execution_count": 18
        }
      ]
    },
    {
      "cell_type": "code",
      "metadata": {
        "colab": {
          "base_uri": "https://localhost:8080/",
          "height": 36
        },
        "id": "rF3L-ZwowxAK",
        "outputId": "fe6a9906-181d-4c59-f90a-91397c857628"
      },
      "source": [
        "'hello'+'world!'"
      ],
      "execution_count": null,
      "outputs": [
        {
          "output_type": "execute_result",
          "data": {
            "application/vnd.google.colaboratory.intrinsic+json": {
              "type": "string"
            },
            "text/plain": [
              "'helloworld!'"
            ]
          },
          "metadata": {
            "tags": []
          },
          "execution_count": 19
        }
      ]
    },
    {
      "cell_type": "code",
      "metadata": {
        "colab": {
          "base_uri": "https://localhost:8080/",
          "height": 36
        },
        "id": "gVQ1NzTEw2O6",
        "outputId": "f3b72543-f533-4b7e-9b7f-3cb47837452f"
      },
      "source": [
        "'hello '+'world!'"
      ],
      "execution_count": null,
      "outputs": [
        {
          "output_type": "execute_result",
          "data": {
            "application/vnd.google.colaboratory.intrinsic+json": {
              "type": "string"
            },
            "text/plain": [
              "'hello world!'"
            ]
          },
          "metadata": {
            "tags": []
          },
          "execution_count": 20
        }
      ]
    },
    {
      "cell_type": "code",
      "metadata": {
        "colab": {
          "base_uri": "https://localhost:8080/",
          "height": 36
        },
        "id": "7yuInVKAx5Nj",
        "outputId": "ed72007a-78d5-4533-cc27-887ffca2da0d"
      },
      "source": [
        "'hello'+' '+'world!'"
      ],
      "execution_count": null,
      "outputs": [
        {
          "output_type": "execute_result",
          "data": {
            "application/vnd.google.colaboratory.intrinsic+json": {
              "type": "string"
            },
            "text/plain": [
              "'hello world!'"
            ]
          },
          "metadata": {
            "tags": []
          },
          "execution_count": 21
        }
      ]
    },
    {
      "cell_type": "code",
      "metadata": {
        "colab": {
          "base_uri": "https://localhost:8080/",
          "height": 36
        },
        "id": "eC7Hpqicx-a7",
        "outputId": "cd5d49c1-8149-43c8-b000-420e005a667b"
      },
      "source": [
        "spam='hello'\n",
        "fizz='world!'\n",
        "spam+fizz"
      ],
      "execution_count": null,
      "outputs": [
        {
          "output_type": "execute_result",
          "data": {
            "application/vnd.google.colaboratory.intrinsic+json": {
              "type": "string"
            },
            "text/plain": [
              "'helloworld!'"
            ]
          },
          "metadata": {
            "tags": []
          },
          "execution_count": 22
        }
      ]
    },
    {
      "cell_type": "code",
      "metadata": {
        "colab": {
          "base_uri": "https://localhost:8080/"
        },
        "id": "N1Oqti5f0nml",
        "outputId": "aafd9faf-9377-460a-f113-69759528f31a"
      },
      "source": [
        "#This program says hello and asks for my name.\n",
        "#print('Hello world!')\n",
        "print('Input your name. ')\n",
        "myName=input()\n",
        "print('Welcome, '+myName+'.')"
      ],
      "execution_count": null,
      "outputs": [
        {
          "output_type": "stream",
          "text": [
            "Input your name. \n",
            "dain\n",
            "Welcome, dain.\n"
          ],
          "name": "stdout"
        }
      ]
    },
    {
      "cell_type": "code",
      "metadata": {
        "colab": {
          "base_uri": "https://localhost:8080/",
          "height": 36
        },
        "id": "m5K-b-X22fSY",
        "outputId": "067c642e-e8d0-4380-8ee3-e7fbd9dafe84"
      },
      "source": [
        "'Hello world!'"
      ],
      "execution_count": null,
      "outputs": [
        {
          "output_type": "execute_result",
          "data": {
            "application/vnd.google.colaboratory.intrinsic+json": {
              "type": "string"
            },
            "text/plain": [
              "'Hello world!'"
            ]
          },
          "metadata": {
            "tags": []
          },
          "execution_count": 25
        }
      ]
    },
    {
      "cell_type": "code",
      "metadata": {
        "colab": {
          "base_uri": "https://localhost:8080/",
          "height": 36
        },
        "id": "p5WfkvSb2ls3",
        "outputId": "c98f24d2-2fde-4d7e-dfb8-b494db130aa6"
      },
      "source": [
        "'Hello world!'\n",
        "'How are you?'\n",
        "'Nice to meet you'"
      ],
      "execution_count": null,
      "outputs": [
        {
          "output_type": "execute_result",
          "data": {
            "application/vnd.google.colaboratory.intrinsic+json": {
              "type": "string"
            },
            "text/plain": [
              "'Nice to meet you'"
            ]
          },
          "metadata": {
            "tags": []
          },
          "execution_count": 26
        }
      ]
    },
    {
      "cell_type": "code",
      "metadata": {
        "colab": {
          "base_uri": "https://localhost:8080/",
          "height": 36
        },
        "id": "6uCp9yMB4IZ8",
        "outputId": "8ac62cf8-604e-4055-cebd-7e1364026a1d"
      },
      "source": [
        "'''Hello world!\n",
        "How are you?\n",
        "Nice to meet you'''"
      ],
      "execution_count": null,
      "outputs": [
        {
          "output_type": "execute_result",
          "data": {
            "application/vnd.google.colaboratory.intrinsic+json": {
              "type": "string"
            },
            "text/plain": [
              "'Hello world!\\nHow are you?\\nNice to meet you'"
            ]
          },
          "metadata": {
            "tags": []
          },
          "execution_count": 27
        }
      ]
    },
    {
      "cell_type": "code",
      "metadata": {
        "colab": {
          "base_uri": "https://localhost:8080/"
        },
        "id": "LPho1S5U4SiI",
        "outputId": "e17f419c-bba7-40ed-ce89-ffb3e1d99074"
      },
      "source": [
        "print('''Hello world!\n",
        "How are you?\n",
        "Nice to meet you''')"
      ],
      "execution_count": null,
      "outputs": [
        {
          "output_type": "stream",
          "text": [
            "Hello world!\n",
            "How are you?\n",
            "Nice to meet you\n"
          ],
          "name": "stdout"
        }
      ]
    },
    {
      "cell_type": "code",
      "metadata": {
        "colab": {
          "base_uri": "https://localhost:8080/"
        },
        "id": "SPk-ikpG4ep8",
        "outputId": "d262f92c-2bf7-4866-c247-d6c7fa21f607"
      },
      "source": [
        "age=25\n",
        "print('Age:',age)\n",
        "name=\"Rose\"\n",
        "print('Nice to meet you,'+name)\n",
        "print('After ten years, you are',age+10, 'years old.')"
      ],
      "execution_count": null,
      "outputs": [
        {
          "output_type": "stream",
          "text": [
            "Age: 25\n",
            "Nice to meet you,Rose\n",
            "After ten years, you are 35 years old.\n"
          ],
          "name": "stdout"
        }
      ]
    },
    {
      "cell_type": "code",
      "metadata": {
        "colab": {
          "base_uri": "https://localhost:8080/"
        },
        "id": "stzkVMTT64wU",
        "outputId": "6dc05e23-a54e-4851-8e77-c6fd31b74c21"
      },
      "source": [
        "print('How old are you?')\n",
        "age=input()"
      ],
      "execution_count": null,
      "outputs": [
        {
          "output_type": "stream",
          "text": [
            "How old are you?\n",
            "21\n"
          ],
          "name": "stdout"
        }
      ]
    },
    {
      "cell_type": "code",
      "metadata": {
        "colab": {
          "base_uri": "https://localhost:8080/"
        },
        "id": "Rrx_6n447Bki",
        "outputId": "92118caf-8f13-49c9-ffa5-f2bcef9b30dd"
      },
      "source": [
        "age=input('How old are you?')"
      ],
      "execution_count": null,
      "outputs": [
        {
          "output_type": "stream",
          "text": [
            "How old are you?21\n"
          ],
          "name": "stdout"
        }
      ]
    },
    {
      "cell_type": "markdown",
      "metadata": {
        "id": "Q__8xJJR7Y7B"
      },
      "source": [
        "print('How old are you?')\n",
        "age=input() 는 변수 age에 input()가 저장되고\n",
        "age=input('How old are you?') 는 변수 age에 input('How old are you?')가 저장된다"
      ]
    },
    {
      "cell_type": "code",
      "metadata": {
        "colab": {
          "base_uri": "https://localhost:8080/"
        },
        "id": "EzGO8PHcaq0z",
        "outputId": "ef784fa9-19b4-4626-f95b-91586d2b4cbf"
      },
      "source": [
        "#This is a guess the number game.\n",
        "import random\n",
        "print('Hello! What is your name?')\n",
        "myName=input()\n",
        "\n",
        "number=random.randint(1,20)\n",
        "print('Well, '+myName+', I am thinking of a number between 1 and 20.')\n",
        "guess=0\n",
        "guessesTaken=0\n",
        "while guess!=number and guessesTaken<6:\n",
        "  guessesTaken=guessesTaken+1\n",
        "  print('Take a guess.')\n",
        "  guess=input()\n",
        "  guess=int(guess)\n",
        "\n",
        "  if guess<number:\n",
        "    print('Your guess in trial', guessesTaken, 'is too low.')\n",
        "  if guess>number:\n",
        "    print('Your guess in trial', guessesTaken, 'is too high.')  \n",
        "  if guess==number:\n",
        "    print('Good job, '+myName+'! You guessed my number in', guessesTaken, 'guesses!')\n",
        "if guess!=number:\n",
        "  print('Nope. The number I was thinking of was',number+'.')    "
      ],
      "execution_count": null,
      "outputs": [
        {
          "output_type": "stream",
          "text": [
            "Hello! What is your name?\n",
            "Dain\n",
            "Well, Dain, I am thinking of a number between 1 and 20.\n",
            "Take a guess.\n",
            "10\n",
            "Your guess in trial 1 is too high.\n",
            "Take a guess.\n",
            "5\n",
            "Your guess in trial 2 is too low.\n",
            "Take a guess.\n",
            "7\n",
            "Your guess in trial 3 is too high.\n",
            "Take a guess.\n",
            "6\n",
            "Good job, Dain! You guessed my number in 4 guesses!\n"
          ],
          "name": "stdout"
        }
      ]
    },
    {
      "cell_type": "code",
      "metadata": {
        "colab": {
          "base_uri": "https://localhost:8080/"
        },
        "id": "HSpzXUIbfO2A",
        "outputId": "58de152f-9068-407d-a4bd-e032c4208683"
      },
      "source": [
        "currentAge=input('몇 살이세요?')\n",
        "currentAge=int(currentAge)\n",
        "futureAge=currentAge+10\n",
        "print('당신의 10년 후 나이는 '+str(futureAge)+'살이시군요.')"
      ],
      "execution_count": null,
      "outputs": [
        {
          "output_type": "stream",
          "text": [
            "몇 살이세요?21\n",
            "당신의 10년 후 나이는 31살이시군요.\n"
          ],
          "name": "stdout"
        }
      ]
    },
    {
      "cell_type": "code",
      "metadata": {
        "colab": {
          "base_uri": "https://localhost:8080/"
        },
        "id": "h642RntsUH15",
        "outputId": "3842bb73-bd05-463a-aab8-9009205e3139"
      },
      "source": [
        "score=75\n",
        "if score>=90:\n",
        "  print('A입니다.')\n",
        "elif score>=80:\n",
        "  print('B입니다.') \n",
        "elif score>=70:\n",
        "  print('C입니다.') \n",
        "elif score>=60:\n",
        "  print('D입니다.')\n",
        "else:\n",
        "  print('F입니다.')     "
      ],
      "execution_count": null,
      "outputs": [
        {
          "output_type": "stream",
          "text": [
            "C입니다.\n"
          ],
          "name": "stdout"
        }
      ]
    },
    {
      "cell_type": "code",
      "metadata": {
        "colab": {
          "base_uri": "https://localhost:8080/"
        },
        "id": "QGpIm1T2UySK",
        "outputId": "7a9851ed-680b-490e-b342-2d31420ad74b"
      },
      "source": [
        "score=75\n",
        "if score>=90:\n",
        "  print('A입니다.')\n",
        "if score>=80:\n",
        "  print('B입니다.') \n",
        "if score>=70:\n",
        "  print('C입니다.') \n",
        "if score>=60:\n",
        "  print('D입니다.')\n",
        "else:\n",
        "  print('F입니다.')   "
      ],
      "execution_count": null,
      "outputs": [
        {
          "output_type": "stream",
          "text": [
            "C입니다.\n",
            "D입니다.\n"
          ],
          "name": "stdout"
        }
      ]
    },
    {
      "cell_type": "markdown",
      "metadata": {
        "id": "T_NUa9DkVPgu"
      },
      "source": [
        "if elif else문을 쓰면 'C입니다.' 출력\n",
        "\n",
        "if else문을 쓰면 'C입니다. D입니다.' 출력"
      ]
    },
    {
      "cell_type": "code",
      "metadata": {
        "colab": {
          "base_uri": "https://localhost:8080/"
        },
        "id": "TurhjTsls05c",
        "outputId": "e59ea7a6-a495-486d-c0a3-3f5d0aaaeedf"
      },
      "source": [
        "count=0\n",
        "\n",
        "while count<5:\n",
        "  print('재미있는 파이썬')\n",
        "  count=count+1\n",
        "\n",
        "print('count=',count)  "
      ],
      "execution_count": null,
      "outputs": [
        {
          "output_type": "stream",
          "text": [
            "재미있는 파이썬\n",
            "재미있는 파이썬\n",
            "재미있는 파이썬\n",
            "재미있는 파이썬\n",
            "재미있는 파이썬\n",
            "count= 5\n"
          ],
          "name": "stdout"
        }
      ]
    },
    {
      "cell_type": "code",
      "metadata": {
        "colab": {
          "base_uri": "https://localhost:8080/"
        },
        "id": "a9XVz_6hBI9Y",
        "outputId": "9f577c02-5fa5-4601-c2d9-16b0f94bd087"
      },
      "source": [
        "# 내가 생각하는 숫자 맞추는 프로그램\n",
        "print('''\n",
        "당신이 생각하는 숫자를 맞히겠습니다.\n",
        "\n",
        "=============================================================\n",
        "1부터 1000가운데 숫자 하나를 생각하세요.\n",
        "10번 안에 당신이 생각하고 있는 숫자를 맞힐 수 있습니다.\n",
        "숫자를 생각하셨으면 비밀리에 메모해 두고 enter를 누르세요.\n",
        "=============================================================''')\n",
        "input()\n",
        "\n",
        "start=1\n",
        "end=1000\n",
        "count=0\n",
        "while True:\n",
        "  mid=int((start+end)/2)\n",
        "  count=count+1\n",
        "  print()\n",
        "  answer1=input('Trial '+str(count)+'. 당신이 생각하고 있는 숫자는 '+str(mid)+'입니다. Yes or no?')\n",
        "  if answer1!='Yes' and answer1!='yes' and answer1!='y':\n",
        "    answer2=input('Oops! 내가 예측한 숫자가 크나요 작나요(High or low?)')\n",
        "    if answer2=='low':\n",
        "      start=mid+1\n",
        "    else:\n",
        "      end=mid-1\n",
        "  else:\n",
        "    print(count,'번 만에 찾았습니다. 내 실력 대단하죠?, 게임을 종료합니다.')\n",
        "    break"
      ],
      "execution_count": null,
      "outputs": [
        {
          "output_type": "stream",
          "text": [
            "\n",
            "당신이 생각하는 숫자를 맞히겠습니다.\n",
            "\n",
            "=============================================================\n",
            "1부터 1000가운데 숫자 하나를 생각하세요.\n",
            "10번 안에 당신이 생각하고 있는 숫자를 맞힐 수 있습니다.\n",
            "숫자를 생각하셨으면 비밀리에 메모해 두고 enter를 누르세요.\n",
            "=============================================================\n",
            "\n",
            "\n",
            "Trial 1. 당신이 생각하고 있는 숫자는 500입니다. Yes or no?no\n",
            "Oops! 내가 예측한 숫자가 크나요 작나요(High or low?)high\n",
            "\n",
            "Trial 2. 당신이 생각하고 있는 숫자는 250입니다. Yes or no?no\n",
            "Oops! 내가 예측한 숫자가 크나요 작나요(High or low?)high\n",
            "\n",
            "Trial 3. 당신이 생각하고 있는 숫자는 125입니다. Yes or no?no\n",
            "Oops! 내가 예측한 숫자가 크나요 작나요(High or low?)high\n",
            "\n",
            "Trial 4. 당신이 생각하고 있는 숫자는 62입니다. Yes or no?no\n",
            "Oops! 내가 예측한 숫자가 크나요 작나요(High or low?)low\n",
            "\n",
            "Trial 5. 당신이 생각하고 있는 숫자는 93입니다. Yes or no?no\n",
            "Oops! 내가 예측한 숫자가 크나요 작나요(High or low?)high\n",
            "\n",
            "Trial 6. 당신이 생각하고 있는 숫자는 77입니다. Yes or no?no\n",
            "Oops! 내가 예측한 숫자가 크나요 작나요(High or low?)low\n",
            "\n",
            "Trial 7. 당신이 생각하고 있는 숫자는 85입니다. Yes or no?no\n",
            "Oops! 내가 예측한 숫자가 크나요 작나요(High or low?)low\n",
            "\n",
            "Trial 8. 당신이 생각하고 있는 숫자는 89입니다. Yes or no?yes\n",
            "8 번 만에 찾았습니다. 내 실력 대단하죠?, 게임을 종료합니다.\n"
          ],
          "name": "stdout"
        }
      ]
    },
    {
      "cell_type": "code",
      "metadata": {
        "colab": {
          "base_uri": "https://localhost:8080/"
        },
        "id": "jDgb1WuV7qEL",
        "outputId": "531200e9-377f-46a3-d56c-e11456038557"
      },
      "source": [
        "shape=['turtle','arrow','circle','square']\n",
        "print(shape[-4])"
      ],
      "execution_count": null,
      "outputs": [
        {
          "output_type": "stream",
          "text": [
            "turtle\n"
          ],
          "name": "stdout"
        }
      ]
    },
    {
      "cell_type": "code",
      "metadata": {
        "colab": {
          "base_uri": "https://localhost:8080/"
        },
        "id": "EPsZ12Ff8-Lw",
        "outputId": "5dd31314-c821-4df8-d840-62dbc09a43a5"
      },
      "source": [
        "shape=['turtle','arrow','circle','square']\n",
        "shape[1]='ARROW'\n",
        "shape.append('heart')\n",
        "shape.append(27)\n",
        "number=[1,2,3]\n",
        "shape.extend(number)\n",
        "print(shape)\n",
        "number.extend(number)\n",
        "print(number)\n",
        "shape.insert(1,'heart')\n",
        "print(shape)\n",
        "shape.insert(3,'triangle')\n",
        "print(shape)\n",
        "del shape[2]\n",
        "print(shape)\n",
        "shape.remove('heart')\n",
        "print(shape)"
      ],
      "execution_count": null,
      "outputs": [
        {
          "output_type": "stream",
          "text": [
            "['turtle', 'ARROW', 'circle', 'square', 'heart', 27, 1, 2, 3]\n",
            "[1, 2, 3, 1, 2, 3]\n",
            "['turtle', 'heart', 'ARROW', 'circle', 'square', 'heart', 27, 1, 2, 3]\n",
            "['turtle', 'heart', 'ARROW', 'triangle', 'circle', 'square', 'heart', 27, 1, 2, 3]\n",
            "['turtle', 'heart', 'triangle', 'circle', 'square', 'heart', 27, 1, 2, 3]\n",
            "['turtle', 'triangle', 'circle', 'square', 'heart', 27, 1, 2, 3]\n"
          ],
          "name": "stdout"
        }
      ]
    },
    {
      "cell_type": "code",
      "metadata": {
        "colab": {
          "base_uri": "https://localhost:8080/"
        },
        "id": "rfkKOl9aHBT2",
        "outputId": "b6fde81c-d549-4fe3-de73-9bc6a7f09842"
      },
      "source": [
        "a=[0,1,2,3,4,5]\n",
        "a[0:2]"
      ],
      "execution_count": null,
      "outputs": [
        {
          "output_type": "execute_result",
          "data": {
            "text/plain": [
              "[0, 1]"
            ]
          },
          "metadata": {
            "tags": []
          },
          "execution_count": 14
        }
      ]
    },
    {
      "cell_type": "code",
      "metadata": {
        "colab": {
          "base_uri": "https://localhost:8080/"
        },
        "id": "dUlWOUprHWQd",
        "outputId": "66f91e3e-bc38-4e09-e367-32f5aab39b87"
      },
      "source": [
        "a[2:]"
      ],
      "execution_count": null,
      "outputs": [
        {
          "output_type": "execute_result",
          "data": {
            "text/plain": [
              "[2, 3, 4, 5]"
            ]
          },
          "metadata": {
            "tags": []
          },
          "execution_count": 15
        }
      ]
    },
    {
      "cell_type": "code",
      "metadata": {
        "colab": {
          "base_uri": "https://localhost:8080/"
        },
        "id": "QzBJN-41HYBj",
        "outputId": "b0b4c6d6-5611-49d7-cb7e-7ae74b9343f8"
      },
      "source": [
        "a[:4:2]"
      ],
      "execution_count": null,
      "outputs": [
        {
          "output_type": "execute_result",
          "data": {
            "text/plain": [
              "[0, 2]"
            ]
          },
          "metadata": {
            "tags": []
          },
          "execution_count": 16
        }
      ]
    },
    {
      "cell_type": "code",
      "metadata": {
        "colab": {
          "base_uri": "https://localhost:8080/"
        },
        "id": "cS3zitmOHbzr",
        "outputId": "71bf1193-1695-4811-d0ac-717a0d541be8"
      },
      "source": [
        "a[-4:-2]"
      ],
      "execution_count": null,
      "outputs": [
        {
          "output_type": "execute_result",
          "data": {
            "text/plain": [
              "[2, 3]"
            ]
          },
          "metadata": {
            "tags": []
          },
          "execution_count": 17
        }
      ]
    },
    {
      "cell_type": "code",
      "metadata": {
        "colab": {
          "base_uri": "https://localhost:8080/"
        },
        "id": "OHHbpIWYHdBA",
        "outputId": "48ce5be7-07c3-48ab-9649-2d09ad9347cd"
      },
      "source": [
        "a[-3:]"
      ],
      "execution_count": null,
      "outputs": [
        {
          "output_type": "execute_result",
          "data": {
            "text/plain": [
              "[3, 4, 5]"
            ]
          },
          "metadata": {
            "tags": []
          },
          "execution_count": 18
        }
      ]
    },
    {
      "cell_type": "code",
      "metadata": {
        "colab": {
          "base_uri": "https://localhost:8080/"
        },
        "id": "-lVBgUt6HfGI",
        "outputId": "489e539e-0e2c-4b38-e06b-2362ec1513a0"
      },
      "source": [
        "a[:-3]"
      ],
      "execution_count": null,
      "outputs": [
        {
          "output_type": "execute_result",
          "data": {
            "text/plain": [
              "[0, 1, 2]"
            ]
          },
          "metadata": {
            "tags": []
          },
          "execution_count": 19
        }
      ]
    },
    {
      "cell_type": "code",
      "metadata": {
        "colab": {
          "base_uri": "https://localhost:8080/"
        },
        "id": "8z2uPMmsHsny",
        "outputId": "19629334-a855-44e0-8793-b92dcef223a3"
      },
      "source": [
        "a[0:0]"
      ],
      "execution_count": null,
      "outputs": [
        {
          "output_type": "execute_result",
          "data": {
            "text/plain": [
              "[]"
            ]
          },
          "metadata": {
            "tags": []
          },
          "execution_count": 20
        }
      ]
    },
    {
      "cell_type": "code",
      "metadata": {
        "colab": {
          "base_uri": "https://localhost:8080/"
        },
        "id": "FHDmk1YkHuqt",
        "outputId": "826e18e4-53fa-45b3-aa3f-381e57d7d269"
      },
      "source": [
        "a[:]"
      ],
      "execution_count": null,
      "outputs": [
        {
          "output_type": "execute_result",
          "data": {
            "text/plain": [
              "[0, 1, 2, 3, 4, 5]"
            ]
          },
          "metadata": {
            "tags": []
          },
          "execution_count": 21
        }
      ]
    },
    {
      "cell_type": "code",
      "metadata": {
        "colab": {
          "base_uri": "https://localhost:8080/",
          "height": 213
        },
        "id": "VSo-F0x9Ij5R",
        "outputId": "0438207e-6a69-49b5-c8d4-10ff00122264"
      },
      "source": [
        "num=[0,1,2,3,4,5]\n",
        "shape=['turtle','arrow','circle','square','heart']\n",
        "num+shape\n",
        "num*2\n",
        "shape[0]+shape[1]\n",
        "num[0]+shape[1]"
      ],
      "execution_count": null,
      "outputs": [
        {
          "output_type": "error",
          "ename": "TypeError",
          "evalue": "ignored",
          "traceback": [
            "\u001b[0;31m---------------------------------------------------------------------------\u001b[0m",
            "\u001b[0;31mTypeError\u001b[0m                                 Traceback (most recent call last)",
            "\u001b[0;32m<ipython-input-26-b6454be27e70>\u001b[0m in \u001b[0;36m<module>\u001b[0;34m()\u001b[0m\n\u001b[1;32m      4\u001b[0m \u001b[0mnum\u001b[0m\u001b[0;34m*\u001b[0m\u001b[0;36m2\u001b[0m\u001b[0;34m\u001b[0m\u001b[0;34m\u001b[0m\u001b[0m\n\u001b[1;32m      5\u001b[0m \u001b[0mshape\u001b[0m\u001b[0;34m[\u001b[0m\u001b[0;36m0\u001b[0m\u001b[0;34m]\u001b[0m\u001b[0;34m+\u001b[0m\u001b[0mshape\u001b[0m\u001b[0;34m[\u001b[0m\u001b[0;36m1\u001b[0m\u001b[0;34m]\u001b[0m\u001b[0;34m\u001b[0m\u001b[0;34m\u001b[0m\u001b[0m\n\u001b[0;32m----> 6\u001b[0;31m \u001b[0mnum\u001b[0m\u001b[0;34m[\u001b[0m\u001b[0;36m0\u001b[0m\u001b[0;34m]\u001b[0m\u001b[0;34m+\u001b[0m\u001b[0mshape\u001b[0m\u001b[0;34m[\u001b[0m\u001b[0;36m1\u001b[0m\u001b[0;34m]\u001b[0m\u001b[0;34m\u001b[0m\u001b[0;34m\u001b[0m\u001b[0m\n\u001b[0m",
            "\u001b[0;31mTypeError\u001b[0m: unsupported operand type(s) for +: 'int' and 'str'"
          ]
        }
      ]
    },
    {
      "cell_type": "code",
      "metadata": {
        "colab": {
          "base_uri": "https://localhost:8080/"
        },
        "id": "aWnmT6DbJonL",
        "outputId": "932cfeb0-9514-4e18-d920-c8f4e9c5014b"
      },
      "source": [
        "ID=[1,2,3,4]\n",
        "area=['Seoul','Kwangju']\n",
        "name=['Alice','Bob']\n",
        "student=[ID,area,name]\n",
        "student\n",
        "student=[1,ID,area,name,'pass']\n",
        "student"
      ],
      "execution_count": null,
      "outputs": [
        {
          "output_type": "execute_result",
          "data": {
            "text/plain": [
              "[1, [1, 2, 3, 4], ['Seoul', 'Kwangju'], ['Alice', 'Bob'], 'pass']"
            ]
          },
          "metadata": {
            "tags": []
          },
          "execution_count": 28
        }
      ]
    },
    {
      "cell_type": "code",
      "metadata": {
        "colab": {
          "base_uri": "https://localhost:8080/"
        },
        "id": "Q6Pxd1KhKu1i",
        "outputId": "9b2e2bb2-7394-4ec1-919d-5cca68b6438e"
      },
      "source": [
        "shape=['turtle','arrow','circle','square','heart']\n",
        "shape.sort()\n",
        "shape\n",
        "numbers=[8,6,3,10,2,9,1,4,7,5]\n",
        "numbers.sort()\n",
        "numbers\n",
        "numbers=[8,6,3,10,2,9,1,4,7,5]\n",
        "sorted_numbers=sorted(numbers)\n",
        "print(sorted_numbers)\n",
        "print(numbers)"
      ],
      "execution_count": null,
      "outputs": [
        {
          "output_type": "stream",
          "text": [
            "[1, 2, 3, 4, 5, 6, 7, 8, 9, 10]\n",
            "[8, 6, 3, 10, 2, 9, 1, 4, 7, 5]\n"
          ],
          "name": "stdout"
        }
      ]
    },
    {
      "cell_type": "code",
      "metadata": {
        "colab": {
          "base_uri": "https://localhost:8080/"
        },
        "id": "WSnsALSlNjB3",
        "outputId": "38e67a01-8d7b-4550-95fe-cdf0ff888cba"
      },
      "source": [
        "a='Hello world'\n",
        "b=list(a)\n",
        "c=a.split()\n",
        "d=a.split('o')\n",
        "print(a)\n",
        "print(b)\n",
        "print(c)\n",
        "print(d)"
      ],
      "execution_count": null,
      "outputs": [
        {
          "output_type": "stream",
          "text": [
            "Hello world\n",
            "['H', 'e', 'l', 'l', 'o', ' ', 'w', 'o', 'r', 'l', 'd']\n",
            "['Hello', 'world']\n",
            "['Hell', ' w', 'rld']\n"
          ],
          "name": "stdout"
        }
      ]
    },
    {
      "cell_type": "code",
      "metadata": {
        "colab": {
          "base_uri": "https://localhost:8080/",
          "height": 36
        },
        "id": "rUgd4hwJOkXb",
        "outputId": "0cc13c41-78ff-4ab0-c589-67df21ae79e9"
      },
      "source": [
        "a='123'\n",
        "a[0]\n",
        "a[1]\n",
        "a[2]\n",
        "a[-1]\n",
        "a[-2]\n",
        "a[-3]"
      ],
      "execution_count": null,
      "outputs": [
        {
          "output_type": "execute_result",
          "data": {
            "application/vnd.google.colaboratory.intrinsic+json": {
              "type": "string"
            },
            "text/plain": [
              "'1'"
            ]
          },
          "metadata": {
            "tags": []
          },
          "execution_count": 38
        }
      ]
    },
    {
      "cell_type": "code",
      "metadata": {
        "colab": {
          "base_uri": "https://localhost:8080/",
          "height": 36
        },
        "id": "EP6KxrI-PO3h",
        "outputId": "048d9dbc-3d74-4ff8-e5bf-6be98c577f9c"
      },
      "source": [
        "a='012345'\n",
        "a[0:2]\n",
        "a[2:]\n",
        "a[:4:2]\n",
        "a[-4:-2]\n",
        "a[-3:]\n",
        "a[:-3]"
      ],
      "execution_count": null,
      "outputs": [
        {
          "output_type": "execute_result",
          "data": {
            "application/vnd.google.colaboratory.intrinsic+json": {
              "type": "string"
            },
            "text/plain": [
              "'012'"
            ]
          },
          "metadata": {
            "tags": []
          },
          "execution_count": 46
        }
      ]
    },
    {
      "cell_type": "code",
      "metadata": {
        "colab": {
          "base_uri": "https://localhost:8080/"
        },
        "id": "gKt5OGK9Q8i6",
        "outputId": "95958be4-f6a9-4b80-a12d-89cbf68b970a"
      },
      "source": [
        "list(range(10))\n",
        "list(range(3,7))\n",
        "list(range(10,1,-2))\n",
        "list(range(1,7,-1))"
      ],
      "execution_count": null,
      "outputs": [
        {
          "output_type": "execute_result",
          "data": {
            "text/plain": [
              "[]"
            ]
          },
          "metadata": {
            "tags": []
          },
          "execution_count": 50
        }
      ]
    },
    {
      "cell_type": "code",
      "metadata": {
        "colab": {
          "base_uri": "https://localhost:8080/"
        },
        "id": "njLkKWWfR4r9",
        "outputId": "59a4e268-947a-41f1-e38b-d1632e226550"
      },
      "source": [
        "a=[6,2,3,3,8]\n",
        "a.count(3)\n",
        "a.count(6)\n",
        "a.count(9)\n",
        "len(a)\n",
        "a='Hello world'\n",
        "len(a)"
      ],
      "execution_count": null,
      "outputs": [
        {
          "output_type": "execute_result",
          "data": {
            "text/plain": [
              "11"
            ]
          },
          "metadata": {
            "tags": []
          },
          "execution_count": 55
        }
      ]
    },
    {
      "cell_type": "code",
      "metadata": {
        "colab": {
          "base_uri": "https://localhost:8080/"
        },
        "id": "cTzexTGiSjVq",
        "outputId": "de8d2d39-420b-44c5-b863-adec9e5c8c14"
      },
      "source": [
        "inputScores=input('Input scores: ')\n",
        "scores=inputScores.split(', ')\n",
        "sum=0\n",
        "index=0\n",
        "\n",
        "while index<len(scores):\n",
        "  sum+=int(scores[index])\n",
        "  index+=1\n",
        "\n",
        "print('Sum: ',sum)\n",
        "print('Average: ',sum/len(scores))"
      ],
      "execution_count": null,
      "outputs": [
        {
          "output_type": "stream",
          "text": [
            "Input scores: 32, 70, 46, 88\n",
            "Sum:  236\n",
            "Average:  59.0\n"
          ],
          "name": "stdout"
        }
      ]
    },
    {
      "cell_type": "code",
      "metadata": {
        "colab": {
          "base_uri": "https://localhost:8080/"
        },
        "id": "m_HFK3WFU6zm",
        "outputId": "ac0cde97-8534-4e9b-9d6e-718fd79a7dd2"
      },
      "source": [
        "drinks=['콜라','사이다','환타']\n",
        "coin=int(input('동전을 넣으세요: '))\n",
        "\n",
        "while coin>=500:\n",
        "  print('\\n현재 금액:',str(coin)+'원')\n",
        "  sel=int(input('콜라(0), 사이다(1), 환타(2): '))\n",
        "  print(drinks[sel]+'가 나왔습니다.')\n",
        "  coin-=500\n",
        "\n",
        "print('거스름돈:',str(coin)+'원')  "
      ],
      "execution_count": null,
      "outputs": [
        {
          "output_type": "stream",
          "text": [
            "동전을 넣으세요: 700\n",
            "\n",
            "현재 금액: 700원\n",
            "콜라(0), 사이다(1), 환타(2): 2\n",
            "환타가 나왔습니다.\n",
            "거스름돈: 200원\n"
          ],
          "name": "stdout"
        }
      ]
    },
    {
      "cell_type": "code",
      "metadata": {
        "colab": {
          "base_uri": "https://localhost:8080/"
        },
        "id": "87Q1TtCo3f-V",
        "outputId": "019be826-ba33-4746-daac-b6690d96e84a"
      },
      "source": [
        "for count in [1, 2, 3, 4, 5, 6, 7, 8, 9, 10]:\n",
        "  print('나무를 {}번 찍었습니다.'.format(count),'딱!'*count)\n",
        "print('넘어가즈아~~~')"
      ],
      "execution_count": null,
      "outputs": [
        {
          "output_type": "stream",
          "text": [
            "나무를 1번 찍었습니다. 딱!\n",
            "나무를 2번 찍었습니다. 딱!딱!\n",
            "나무를 3번 찍었습니다. 딱!딱!딱!\n",
            "나무를 4번 찍었습니다. 딱!딱!딱!딱!\n",
            "나무를 5번 찍었습니다. 딱!딱!딱!딱!딱!\n",
            "나무를 6번 찍었습니다. 딱!딱!딱!딱!딱!딱!\n",
            "나무를 7번 찍었습니다. 딱!딱!딱!딱!딱!딱!딱!\n",
            "나무를 8번 찍었습니다. 딱!딱!딱!딱!딱!딱!딱!딱!\n",
            "나무를 9번 찍었습니다. 딱!딱!딱!딱!딱!딱!딱!딱!딱!\n",
            "나무를 10번 찍었습니다. 딱!딱!딱!딱!딱!딱!딱!딱!딱!딱!\n",
            "넘어가즈아~~~\n"
          ],
          "name": "stdout"
        }
      ]
    },
    {
      "cell_type": "code",
      "metadata": {
        "colab": {
          "base_uri": "https://localhost:8080/"
        },
        "id": "MigZZ6RH4JhN",
        "outputId": "f1852709-a681-40a0-ea41-1b1c1cea80e2"
      },
      "source": [
        "for count in range(1,11):\n",
        "  print('나무를 {}번 찍었습니다.'.format(count),'딱!'*count)\n",
        "print('넘어가즈아~~~')"
      ],
      "execution_count": null,
      "outputs": [
        {
          "output_type": "stream",
          "text": [
            "나무를 1번 찍었습니다. 딱!\n",
            "나무를 2번 찍었습니다. 딱!딱!\n",
            "나무를 3번 찍었습니다. 딱!딱!딱!\n",
            "나무를 4번 찍었습니다. 딱!딱!딱!딱!\n",
            "나무를 5번 찍었습니다. 딱!딱!딱!딱!딱!\n",
            "나무를 6번 찍었습니다. 딱!딱!딱!딱!딱!딱!\n",
            "나무를 7번 찍었습니다. 딱!딱!딱!딱!딱!딱!딱!\n",
            "나무를 8번 찍었습니다. 딱!딱!딱!딱!딱!딱!딱!딱!\n",
            "나무를 9번 찍었습니다. 딱!딱!딱!딱!딱!딱!딱!딱!딱!\n",
            "나무를 10번 찍었습니다. 딱!딱!딱!딱!딱!딱!딱!딱!딱!딱!\n",
            "넘어가즈아~~~\n"
          ],
          "name": "stdout"
        }
      ]
    },
    {
      "cell_type": "code",
      "metadata": {
        "colab": {
          "base_uri": "https://localhost:8080/"
        },
        "id": "B-5cRZKq4Xly",
        "outputId": "7f1fc8ef-0a5f-4021-f2a0-37c931de4697"
      },
      "source": [
        "for count in (1,11):\n",
        "  print('나무를 {}번 찍었습니다.'.format(count),'딱!'*count)\n",
        "print('넘어가즈아~~~')"
      ],
      "execution_count": null,
      "outputs": [
        {
          "output_type": "stream",
          "text": [
            "나무를 1번 찍었습니다. 딱!\n",
            "나무를 11번 찍었습니다. 딱!딱!딱!딱!딱!딱!딱!딱!딱!딱!딱!\n",
            "넘어가즈아~~~\n"
          ],
          "name": "stdout"
        }
      ]
    },
    {
      "cell_type": "code",
      "metadata": {
        "colab": {
          "base_uri": "https://localhost:8080/"
        },
        "id": "ZO9JWnUb44IU",
        "outputId": "faecb740-e84a-4e43-d28a-cd3e5ad43a9b"
      },
      "source": [
        "for i in range(2,10):\n",
        "  for j in range(1,10):\n",
        "    print('{}*{}={}'.format(i, j, i*j))\n",
        "  print()"
      ],
      "execution_count": null,
      "outputs": [
        {
          "output_type": "stream",
          "text": [
            "2*1=2\n",
            "2*2=4\n",
            "2*3=6\n",
            "2*4=8\n",
            "2*5=10\n",
            "2*6=12\n",
            "2*7=14\n",
            "2*8=16\n",
            "2*9=18\n",
            "\n",
            "3*1=3\n",
            "3*2=6\n",
            "3*3=9\n",
            "3*4=12\n",
            "3*5=15\n",
            "3*6=18\n",
            "3*7=21\n",
            "3*8=24\n",
            "3*9=27\n",
            "\n",
            "4*1=4\n",
            "4*2=8\n",
            "4*3=12\n",
            "4*4=16\n",
            "4*5=20\n",
            "4*6=24\n",
            "4*7=28\n",
            "4*8=32\n",
            "4*9=36\n",
            "\n",
            "5*1=5\n",
            "5*2=10\n",
            "5*3=15\n",
            "5*4=20\n",
            "5*5=25\n",
            "5*6=30\n",
            "5*7=35\n",
            "5*8=40\n",
            "5*9=45\n",
            "\n",
            "6*1=6\n",
            "6*2=12\n",
            "6*3=18\n",
            "6*4=24\n",
            "6*5=30\n",
            "6*6=36\n",
            "6*7=42\n",
            "6*8=48\n",
            "6*9=54\n",
            "\n",
            "7*1=7\n",
            "7*2=14\n",
            "7*3=21\n",
            "7*4=28\n",
            "7*5=35\n",
            "7*6=42\n",
            "7*7=49\n",
            "7*8=56\n",
            "7*9=63\n",
            "\n",
            "8*1=8\n",
            "8*2=16\n",
            "8*3=24\n",
            "8*4=32\n",
            "8*5=40\n",
            "8*6=48\n",
            "8*7=56\n",
            "8*8=64\n",
            "8*9=72\n",
            "\n",
            "9*1=9\n",
            "9*2=18\n",
            "9*3=27\n",
            "9*4=36\n",
            "9*5=45\n",
            "9*6=54\n",
            "9*7=63\n",
            "9*8=72\n",
            "9*9=81\n",
            "\n"
          ],
          "name": "stdout"
        }
      ]
    },
    {
      "cell_type": "code",
      "metadata": {
        "colab": {
          "base_uri": "https://localhost:8080/"
        },
        "id": "rdl-Srug5Ytp",
        "outputId": "02917be8-89ec-4dae-a919-0d162d003677"
      },
      "source": [
        "for thing in ['programming', 'pasta', 'spam', 'play park']:\n",
        " print ('I really like ' + thing + '.')"
      ],
      "execution_count": null,
      "outputs": [
        {
          "output_type": "stream",
          "text": [
            "I really like programming.\n",
            "I really like pasta.\n",
            "I really like spam.\n",
            "I really like play park.\n"
          ],
          "name": "stdout"
        }
      ]
    },
    {
      "cell_type": "code",
      "metadata": {
        "colab": {
          "base_uri": "https://localhost:8080/"
        },
        "id": "Ycj9lRNv5rIU",
        "outputId": "07b522b8-98e8-4486-f34a-0cdab6b0c705"
      },
      "source": [
        "stuff = ['programming', 'pasta', 'spam', 'play park']\n",
        "for thing in stuff:\n",
        " print ('I really like ' + thing + '.')"
      ],
      "execution_count": null,
      "outputs": [
        {
          "output_type": "stream",
          "text": [
            "I really like programming.\n",
            "I really like pasta.\n",
            "I really like spam.\n",
            "I really like play park.\n"
          ],
          "name": "stdout"
        }
      ]
    },
    {
      "cell_type": "code",
      "metadata": {
        "colab": {
          "base_uri": "https://localhost:8080/"
        },
        "id": "MuIUlDoZ6S-3",
        "outputId": "394f418b-0696-4d3f-cad4-3cd7f6dd300e"
      },
      "source": [
        "for i in 'Hello world!':\n",
        "  print(i, end='')"
      ],
      "execution_count": null,
      "outputs": [
        {
          "output_type": "stream",
          "text": [
            "Hello world!"
          ],
          "name": "stdout"
        }
      ]
    },
    {
      "cell_type": "code",
      "metadata": {
        "colab": {
          "base_uri": "https://localhost:8080/"
        },
        "id": "lDGOGzyC6b6y",
        "outputId": "c72aef1b-deba-41ff-82f0-c54a89367a08"
      },
      "source": [
        "for i in 'Hello world!':\n",
        "  print(i)"
      ],
      "execution_count": null,
      "outputs": [
        {
          "output_type": "stream",
          "text": [
            "H\n",
            "e\n",
            "l\n",
            "l\n",
            "o\n",
            " \n",
            "w\n",
            "o\n",
            "r\n",
            "l\n",
            "d\n",
            "!\n"
          ],
          "name": "stdout"
        }
      ]
    },
    {
      "cell_type": "markdown",
      "metadata": {
        "id": "iMWtwy_dI_MC"
      },
      "source": [
        ""
      ]
    },
    {
      "cell_type": "markdown",
      "metadata": {
        "id": "yywZXlG-JBuq"
      },
      "source": [
        "# 강의 9~"
      ]
    },
    {
      "cell_type": "code",
      "metadata": {
        "id": "08Gl4ZNtNxOe"
      },
      "source": [
        "css_text = '''\n",
        "h1 {\n",
        "  color: red;\n",
        "  font-size: 5em;\n",
        "}\n",
        "\n",
        "p {\n",
        "  color: black;\n",
        "}\n",
        "\n",
        ".special {\n",
        "  color: orange;\n",
        "  font-weight: bold;\n",
        "}\n",
        "'''\n",
        "\n",
        "with open('styles.css', 'w') as css_file:\n",
        "  css_file.write(css_text)\n"
      ],
      "execution_count": null,
      "outputs": []
    },
    {
      "cell_type": "code",
      "metadata": {
        "id": "OTdAdsSKJHxk"
      },
      "source": [
        "html_text = \"\"\"\n",
        "<!DOCTYPE html >\n",
        "<html>\n",
        "  <head>\n",
        "    <meta charset=\"utf-8\">\n",
        "    <title> My test page </title>\n",
        "    <link rel=\"stylesheet\" href =\"styles.css\" >\n",
        "  </head>\n",
        "\n",
        "  <body>\n",
        "    <p> This is my page </p>\n",
        "    <h1>This is a Heading</h1>\n",
        "    <p>This is a paragraph.</p>\n",
        "    <h1>Some music</h1>\n",
        "    <p>I really enjoy <strong>playing the drums</strong>.\n",
        "      One of my favorite drummers is Neal Peart, who plays in the band\n",
        "      <a href=\"https://en.wikipedia.org/wiki/Rush_%28band%29\" title=\"Rush Wikipedia article\">Rush</a>.\n",
        "      My favourite Rush album is currently Moving Pictures.</p>\n",
        "      <img src=\"https://upload.wikimedia.org/wikipedia/commons/4/46/Rush-in-concert.jpg\">\n",
        "      <ul>\n",
        "        <li>항목 하나</li>\n",
        "        <li class=\"special\">항목 둘</li>\n",
        "        <li>항목 <em>셋</em></li>\n",
        "      </ul>\n",
        "      <button onclick=\"alertDialogBox()\">\n",
        "          alert 대화 상자</button>\n",
        "      <script>\n",
        "        function alertDialogBox() {\n",
        "          alert(\"확인버튼을 누르세요\");\n",
        "        }\n",
        "      </script>\n",
        "      <p>다음 예제는 버튼을 클릭하여 특정 태그의 내용을 변경하는 예제입니다.</p>\n",
        "\n",
        "      <h5>예제</h5>\n",
        "      <button onclick=\"document.getElementById('intro_01').innerHTML = '단락의 내용이 변경되었습니다.'\">단락의 내용 변경</button>\n",
        "      <p class=\"textarea\" id=\"intro_01\">이 단락의 내용을 바꾸고 싶어요!</p>\n",
        "      \n",
        "  </body >\n",
        "</html >\n",
        "\"\"\"\n",
        "\n",
        "with open('html_file.html', 'w') as html_file:\n",
        "  html_file.write(html_text)\n"
      ],
      "execution_count": null,
      "outputs": []
    },
    {
      "cell_type": "code",
      "metadata": {
        "colab": {
          "base_uri": "https://localhost:8080/"
        },
        "id": "vZdl3aQ-Xuqd",
        "outputId": "4089aa65-51f0-4b94-b65a-a9e122c3e178"
      },
      "source": [
        "import pandas_datareader.data as web\n",
        "import datetime\n",
        "start = datetime.datetime(2020, 9, 1)\n",
        "end = datetime.datetime(2020, 9, 30)\n",
        "f = web.DataReader(\"MSFT\", 'yahoo', start, end)\n",
        "print(f)\n",
        "f.to_csv('stock1.csv')"
      ],
      "execution_count": null,
      "outputs": [
        {
          "output_type": "stream",
          "text": [
            "                  High         Low  ...    Volume   Adj Close\n",
            "Date                                ...                      \n",
            "2020-09-01  227.449997  224.429993  ...  25725500  226.155685\n",
            "2020-09-02  232.860001  227.350006  ...  34080800  230.514191\n",
            "2020-09-03  229.309998  214.960007  ...  58400300  216.234558\n",
            "2020-09-04  218.360001  205.190002  ...  59664100  213.199524\n",
            "2020-09-08  210.029999  202.199997  ...  52924300  201.666336\n",
            "2020-09-09  214.839996  206.699997  ...  45679000  210.254013\n",
            "2020-09-10  214.740005  204.110001  ...  35461500  204.363037\n",
            "2020-09-11  208.630005  201.240005  ...  33620100  203.029633\n",
            "2020-09-14  209.199997  204.029999  ...  30375800  204.402847\n",
            "2020-09-15  209.779999  206.929993  ...  21823900  207.756332\n",
            "2020-09-16  210.649994  204.639999  ...  26328100  204.044617\n",
            "2020-09-17  204.330002  199.960007  ...  34011300  201.915115\n",
            "2020-09-18  203.649994  196.250000  ...  55225300  199.407455\n",
            "2020-09-21  202.710007  196.380005  ...  39839700  201.546921\n",
            "2020-09-22  208.100006  202.080002  ...  33517100  206.402985\n",
            "2020-09-23  208.100006  200.029999  ...  30803800  199.606476\n",
            "2020-09-24  205.570007  199.199997  ...  31202500  202.193741\n",
            "2020-09-25  209.039993  202.539993  ...  29437300  206.801041\n",
            "2020-09-28  212.570007  208.059998  ...  32004900  208.413101\n",
            "2020-09-29  210.070007  206.809998  ...  24221900  206.243774\n",
            "2020-09-30  211.979996  206.539993  ...  33829100  209.298721\n",
            "\n",
            "[21 rows x 6 columns]\n"
          ],
          "name": "stdout"
        }
      ]
    },
    {
      "cell_type": "code",
      "metadata": {
        "colab": {
          "base_uri": "https://localhost:8080/"
        },
        "id": "j0OHAfF8Y2Nj",
        "outputId": "b4a0306a-b964-4ad6-ecbc-0d8ef2702a1a"
      },
      "source": [
        "import pandas as pd\n",
        "csv_test = pd.read_csv('stock1.csv')\n",
        "print(csv_test)"
      ],
      "execution_count": null,
      "outputs": [
        {
          "output_type": "stream",
          "text": [
            "          Date        High         Low  ...       Close    Volume   Adj Close\n",
            "0   2020-09-01  227.449997  224.429993  ...  227.270004  25725500  226.155685\n",
            "1   2020-09-02  232.860001  227.350006  ...  231.649994  34080800  230.514191\n",
            "2   2020-09-03  229.309998  214.960007  ...  217.300003  58400300  216.234558\n",
            "3   2020-09-04  218.360001  205.190002  ...  214.250000  59664100  213.199524\n",
            "4   2020-09-08  210.029999  202.199997  ...  202.660004  52924300  201.666336\n",
            "5   2020-09-09  214.839996  206.699997  ...  211.289993  45679000  210.254013\n",
            "6   2020-09-10  214.740005  204.110001  ...  205.369995  35461500  204.363037\n",
            "7   2020-09-11  208.630005  201.240005  ...  204.029999  33620100  203.029633\n",
            "8   2020-09-14  209.199997  204.029999  ...  205.410004  30375800  204.402847\n",
            "9   2020-09-15  209.779999  206.929993  ...  208.779999  21823900  207.756332\n",
            "10  2020-09-16  210.649994  204.639999  ...  205.050003  26328100  204.044617\n",
            "11  2020-09-17  204.330002  199.960007  ...  202.910004  34011300  201.915115\n",
            "12  2020-09-18  203.649994  196.250000  ...  200.389999  55225300  199.407455\n",
            "13  2020-09-21  202.710007  196.380005  ...  202.539993  39839700  201.546921\n",
            "14  2020-09-22  208.100006  202.080002  ...  207.419998  33517100  206.402985\n",
            "15  2020-09-23  208.100006  200.029999  ...  200.589996  30803800  199.606476\n",
            "16  2020-09-24  205.570007  199.199997  ...  203.190002  31202500  202.193741\n",
            "17  2020-09-25  209.039993  202.539993  ...  207.820007  29437300  206.801041\n",
            "18  2020-09-28  212.570007  208.059998  ...  209.440002  32004900  208.413101\n",
            "19  2020-09-29  210.070007  206.809998  ...  207.259995  24221900  206.243774\n",
            "20  2020-09-30  211.979996  206.539993  ...  210.330002  33829100  209.298721\n",
            "\n",
            "[21 rows x 7 columns]\n"
          ],
          "name": "stdout"
        }
      ]
    },
    {
      "cell_type": "code",
      "metadata": {
        "colab": {
          "base_uri": "https://localhost:8080/"
        },
        "id": "cHyLzDNmbIoJ",
        "outputId": "7a79d370-3537-4110-8b6a-686211b63294"
      },
      "source": [
        "from urllib.request import urlopen\n",
        "f = urlopen('http://www.hanbit.co.kr/store/books/full_book_list.html')\n",
        "f.read()"
      ],
      "execution_count": null,
      "outputs": [
        {
          "output_type": "execute_result",
          "data": {
            "text/plain": [
              "b'<!DOCTYPE html>\\r\\n<html lang=\"ko\">\\r\\n<head>\\r\\n<!--[if lte IE 8]>\\r\\n<script>\\r\\n  location.replace(\\'/support/explorer_upgrade.html\\');\\r\\n</script>\\r\\n<![endif]-->\\r\\n<meta charset=\"utf-8\"/>\\r\\n<title>\\xed\\x95\\x9c\\xeb\\xb9\\x9b\\xec\\xb6\\x9c\\xed\\x8c\\x90\\xeb\\x84\\xa4\\xed\\x8a\\xb8\\xec\\x9b\\x8c\\xed\\x81\\xac</title>\\r\\n<link rel=\"shortcut icon\" href=\"https://www.hanbit.co.kr/images/common/hanbit.ico\"> \\r\\n<meta http-equiv=\"X-UA-Compatible\" content=\"IE=Edge\" />\\r\\n<meta property=\"og:type\" content=\"website\"/>\\r\\n<meta property=\"og:title\" content=\"\\xed\\x95\\x9c\\xeb\\xb9\\x9b\\xec\\xb6\\x9c\\xed\\x8c\\x90\\xeb\\x84\\xa4\\xed\\x8a\\xb8\\xec\\x9b\\x8c\\xed\\x81\\xac\"/>\\r\\n<meta property=\"og:description\" content=\"\\xeb\\x8d\\x94 \\xeb\\x84\\x93\\xec\\x9d\\x80 \\xec\\x84\\xb8\\xec\\x83\\x81, \\xeb\\x8d\\x94 \\xeb\\x82\\x98\\xec\\x9d\\x80 \\xeb\\xaf\\xb8\\xeb\\x9e\\x98\\xeb\\xa5\\xbc \\xec\\x9c\\x84\\xed\\x95\\x9c \\xec\\x95\\x84\\xec\\x8b\\x9c\\xec\\x95\\x84 \\xec\\xb6\\x9c\\xed\\x8c\\x90 \\xeb\\x84\\xa4\\xed\\x8a\\xb8\\xec\\x9b\\x8c\\xed\\x81\\xac :: \\xed\\x95\\x9c\\xeb\\xb9\\x9b\\xeb\\xaf\\xb8\\xeb\\x94\\x94\\xec\\x96\\xb4, \\xed\\x95\\x9c\\xeb\\xb9\\x9b\\xec\\x95\\x84\\xec\\xb9\\xb4\\xeb\\x8d\\xb0\\xeb\\xaf\\xb8, \\xed\\x95\\x9c\\xeb\\xb9\\x9b\\xeb\\xb9\\x84\\xec\\xa6\\x88, \\xed\\x95\\x9c\\xeb\\xb9\\x9b\\xeb\\x9d\\xbc\\xec\\x9d\\xb4\\xed\\x94\\x84, \\xed\\x95\\x9c\\xeb\\xb9\\x9b\\xec\\x97\\x90\\xeb\\x93\\x80\"/>\\r\\n<meta property=\"og:image\" content=\"https://www.hanbit.co.kr/images/hanbitpubnet_logo.jpg\" />\\r\\n<meta property=\"og:url\" content=\"https://www.hanbit.co.kr/store/books/full_book_list.html\"/>\\r\\n<link rel=\"canonical\" href=\"https://www.hanbit.co.kr/store/books/full_book_list.html\" />\\r\\n<meta name=\"keywords\" content=\"\\xed\\x95\\x9c\\xeb\\xb9\\x9b\\xeb\\xaf\\xb8\\xeb\\x94\\x94\\xec\\x96\\xb4,\\xed\\x95\\x9c\\xeb\\xb9\\x9b\\xec\\x95\\x84\\xec\\xb9\\xb4\\xeb\\x8d\\xb0\\xeb\\xaf\\xb8,\\xed\\x95\\x9c\\xeb\\xb9\\x9b\\xeb\\xb9\\x84\\xec\\xa6\\x88,\\xed\\x95\\x9c\\xeb\\xb9\\x9b\\xeb\\x9d\\xbc\\xec\\x9d\\xb4\\xed\\x94\\x84,\\xed\\x95\\x9c\\xeb\\xb9\\x9b\\xec\\x97\\x90\\xeb\\x93\\x80,\\xeb\\xa6\\xac\\xec\\x96\\xbc\\xed\\x83\\x80\\xec\\x9e\\x84,\\xeb\\x8c\\x80\\xea\\xb4\\x80\\xec\\x84\\x9c\\xeb\\xb9\\x84\\xec\\x8a\\xa4,\\xec\\xb1\\x85,\\xec\\xb6\\x9c\\xed\\x8c\\x90\\xec\\x82\\xac,IT\\xec\\xa0\\x84\\xeb\\xac\\xb8\\xec\\x84\\x9c,IT\\xed\\x99\\x9c\\xec\\x9a\\xa9\\xec\\x84\\x9c,\\xeb\\x8c\\x80\\xed\\x95\\x99\\xea\\xb5\\x90\\xec\\x9e\\xac,\\xea\\xb2\\xbd\\xec\\xa0\\x9c\\xea\\xb2\\xbd\\xec\\x98\\x81,\\xec\\x96\\xb4\\xeb\\xa6\\xb0\\xec\\x9d\\xb4/\\xec\\x9c\\xa0\\xec\\x95\\x84,\\xec\\x8b\\xa4\\xec\\x9a\\xa9/\\xec\\x97\\xac\\xed\\x96\\x89,\\xec\\xa0\\x84\\xec\\x9e\\x90\\xec\\xb1\\x85,\\xec\\x9e\\x90\\xea\\xb2\\xa9\\xec\\xa6\\x9d,\\xea\\xb5\\x90\\xec\\x9c\\xa1,\\xec\\x84\\xb8\\xeb\\xaf\\xb8\\xeb\\x82\\x98,\\xea\\xb0\\x95\\xec\\x9d\\x98,ebook,\\xec\\xa0\\x95\\xeb\\xb3\\xb4\\xea\\xb5\\x90\\xea\\xb3\\xbc\\xec\\x84\\x9c\" />\\r\\n<meta name=\"description\" content=\"\\xeb\\x8d\\x94 \\xeb\\x84\\x93\\xec\\x9d\\x80 \\xec\\x84\\xb8\\xec\\x83\\x81, \\xeb\\x8d\\x94 \\xeb\\x82\\x98\\xec\\x9d\\x80 \\xeb\\xaf\\xb8\\xeb\\x9e\\x98\\xeb\\xa5\\xbc \\xec\\x9c\\x84\\xed\\x95\\x9c \\xec\\x95\\x84\\xec\\x8b\\x9c\\xec\\x95\\x84 \\xec\\xb6\\x9c\\xed\\x8c\\x90 \\xeb\\x84\\xa4\\xed\\x8a\\xb8\\xec\\x9b\\x8c\\xed\\x81\\xac :: \\xed\\x95\\x9c\\xeb\\xb9\\x9b\\xeb\\xaf\\xb8\\xeb\\x94\\x94\\xec\\x96\\xb4, \\xed\\x95\\x9c\\xeb\\xb9\\x9b\\xec\\x95\\x84\\xec\\xb9\\xb4\\xeb\\x8d\\xb0\\xeb\\xaf\\xb8, \\xed\\x95\\x9c\\xeb\\xb9\\x9b\\xeb\\xb9\\x84\\xec\\xa6\\x88, \\xed\\x95\\x9c\\xeb\\xb9\\x9b\\xeb\\x9d\\xbc\\xec\\x9d\\xb4\\xed\\x94\\x84, \\xed\\x95\\x9c\\xeb\\xb9\\x9b\\xec\\x97\\x90\\xeb\\x93\\x80\" />\\r\\n<meta name=\"viewport\" content=\"width=device-width,initial-scale=1.0,minimum-scale=1.0,maximum-scale=1.0\">\\r\\n<meta name=\"viewport\" content=\"width=1260\">\\r\\n<meta name=\"apple-mobile-web-app-capable\" content=\"yes\" />\\r\\n<meta name=\"naver-site-verification\" content=\"01c29ed1852aecca7a48ac0c3e0869627bc512d8\"/>\\r\\n<link rel=\"stylesheet\" href=\"/css/common.css?20190625102532\" />\\r\\n<link href=\"/css/hover.css\" rel=\"stylesheet\" media=\"all\">\\r\\n<link rel=\"stylesheet\" href=\"/js/jquery.raty.css\" />\\r\\n<script type=\"text/javascript\" src=\"/js/jquery-latest.js\"></script>\\r\\n<script type=\"text/javascript\" src=\"/js/jquery-ui.js\"></script>\\r\\n<script type=\"text/javascript\" src=\"/js/jquery.event.drag-1.5.min.js\"></script>\\r\\n<script type=\"text/javascript\" src=\"/js/jquery.touchSlider.js\"></script>\\r\\n<script type=\"text/javascript\" src=\"/js/jquery.raty.js\"></script>\\r\\n<script type=\"text/javascript\" src=\"/js/main.js\"></script>\\r\\n<script type=\"text/javascript\" src=\"/lib/cheditor/cheditor.js\"></script>\\r\\n<script type=\"text/javascript\" src=\"/js/jquery.ui.datepicker-ko.js\"></script>\\r\\n<script type=\"text/javascript\" src=\"/js/engine.js\"></script>\\r\\n<script type=\"text/javascript\" src=\"/js/vue.js\"></script>\\r\\n\\r\\n<!-- Google Analytics -->\\r\\n<script>\\r\\n(function(i,s,o,g,r,a,m){i[\\'GoogleAnalyticsObject\\']=r;i[r]=i[r]||function(){\\r\\n(i[r].q=i[r].q||[]).push(arguments)},i[r].l=1*new Date();a=s.createElement(o),\\r\\nm=s.getElementsByTagName(o)[0];a.async=1;a.src=g;m.parentNode.insertBefore(a,m)\\r\\n})(window,document,\\'script\\',\\'//www.google-analytics.com/analytics.js\\',\\'ga\\');\\r\\nga(\\'create\\', \\'UA-47080738-1\\', \\'hanbit.co.kr\\');\\r\\nga(\\'require\\', \\'linkid\\', \\'linkid.js\\');\\r\\nga(\\'send\\', \\'pageview\\');\\r\\n</script>\\r\\n<!-- Google Analytics -->\\r\\n\\r\\n<!-- Facebook Pixel Code -->\\r\\n<script>\\r\\n  !function(f,b,e,v,n,t,s)\\r\\n  {if(f.fbq)return;n=f.fbq=function(){n.callMethod?\\r\\n  n.callMethod.apply(n,arguments):n.queue.push(arguments)};\\r\\n  if(!f._fbq)f._fbq=n;n.push=n;n.loaded=!0;n.version=\\'2.0\\';\\r\\n  n.queue=[];t=b.createElement(e);t.async=!0;\\r\\n  t.src=v;s=b.getElementsByTagName(e)[0];\\r\\n  s.parentNode.insertBefore(t,s)}(window, document,\\'script\\',\\r\\n  \\'https://connect.facebook.net/en_US/fbevents.js\\');\\r\\n  fbq(\\'init\\', \\'406459623338891\\');\\r\\n  fbq(\\'track\\', \\'PageView\\');\\r\\n</script>\\r\\n<noscript><img height=\"1\" width=\"1\" style=\"display:none\"\\r\\n  src=\"https://www.facebook.com/tr?id=406459623338891&ev=PageView&noscript=1\"\\r\\n/></noscript>\\r\\n<!-- End Facebook Pixel Code -->\\r\\n\\r\\n<!-- Kakao Pixel Code -->\\r\\n<script type=\"text/javascript\" charset=\"UTF-8\" src=\"//t1.daumcdn.net/adfit/static/kp.js\"></script>\\r\\n<script type=\"text/javascript\">\\r\\n  kakaoPixel(\\'3011392806152551233\\').pageView();\\r\\n</script>\\r\\n<!-- //Kakao Pixel Code -->\\r\\n</head>\\r\\n<body>\\r\\n<!-- Google Tag Manager (noscript) -->\\r\\n<noscript><iframe src=\"https://www.googletagmanager.com/ns.html?id=GTM-W9D5PM3\"\\r\\nheight=\"0\" width=\"0\" style=\"display:none;visibility:hidden\"></iframe></noscript>\\r\\n<!-- End Google Tag Manager (noscript) -->\\r\\n<link rel=\"stylesheet\" href=\"/css/layout-hanbit.css?20191130\" />\\r\\n<link rel=\"stylesheet\" href=\"/css/layout-member.css\" />\\r\\n<link rel=\"stylesheet\" href=\"/css/layout-network.css\" />\\r\\n<link rel=\"stylesheet\" href=\"/css/layout-store.css\" />\\r\\n<link rel=\"stylesheet\" href=\"/css/layout-myhanbit.css\" />\\r\\n<link rel=\"stylesheet\" href=\"/css/layout-event.css\" />\\r\\n<!-- \\xeb\\xa9\\x94\\xeb\\x89\\xb4 \\xeb\\xb0\\x94\\xeb\\xa1\\x9c\\xea\\xb0\\x80\\xea\\xb8\\xb0 -->\\r\\n<div id=\"quick_skip_menu\">\\r\\n  <a href=\"#gnb\" onclick=\"document.getElementById(\\'gnb\\').tabIndex = -1;document.getElementById(\\'gnb\\').focus();return false;\"><span>\\xeb\\xa9\\x94\\xeb\\x89\\xb4 \\xeb\\xb0\\x94\\xeb\\xa1\\x9c\\xea\\xb0\\x80\\xea\\xb8\\xb0</span></a>\\r\\n  <a href=\"#top_search\" onclick=\"view_hover(\\'main_search_area\\',\\'\\',\\'show\\'), document.getElementById(\\'top_search\\').tabIndex = -1;document.getElementById(\\'top_search\\').focus();return false;\"><span>\\xea\\xb2\\x80\\xec\\x83\\x89 \\xeb\\xb0\\x8f \\xec\\xb9\\xb4\\xed\\x85\\x8c\\xea\\xb3\\xa0\\xeb\\xa6\\xac \\xeb\\xb0\\x94\\xeb\\xa1\\x9c\\xea\\xb0\\x80\\xea\\xb8\\xb0</span></a>\\r\\n    <a href=\"#container\" onclick=\"document.getElementById(\\'container\\').tabIndex = -1;document.getElementById(\\'container\\').focus();return false;\"><span>\\xeb\\xb3\\xb8\\xeb\\xac\\xb8 \\xeb\\xb0\\x94\\xeb\\xa1\\x9c\\xea\\xb0\\x80\\xea\\xb8\\xb0</span></a>\\r\\n  </div>\\r\\n<!-- //\\xeb\\xa9\\x94\\xeb\\x89\\xb4 \\xeb\\xb0\\x94\\xeb\\xa1\\x9c\\xea\\xb0\\x80\\xea\\xb8\\xb0 -->\\r\\n\\r\\n<!-- header -->\\r\\n<header>\\r\\n  <!-- top menu -->\\r\\n  \\t<nav>\\r\\n\\t\\t<div id=\"wrap_nav\">\\r\\n\\t\\t\\t<ul class=\"top_brand\">\\r\\n\\t\\t\\t\\t<li><a href=\"https://www.hanbit.co.kr/index.html\" name=\"hanbit_network\"><span>HOME</span></a></li>\\r\\n\\t\\t\\t\\t<li><a href=\"https://www.hanbit.co.kr/media/\">\\xed\\x95\\x9c\\xeb\\xb9\\x9b\\xeb\\xaf\\xb8\\xeb\\x94\\x94\\xec\\x96\\xb4</a></li>\\r\\n\\t\\t\\t\\t<li><a href=\"https://www.hanbit.co.kr/academy/\">\\xed\\x95\\x9c\\xeb\\xb9\\x9b\\xec\\x95\\x84\\xec\\xb9\\xb4\\xeb\\x8d\\xb0\\xeb\\xaf\\xb8</a></li>\\r\\n\\t\\t\\t\\t<li><a href=\"https://www.hanbit.co.kr/biz/\">\\xed\\x95\\x9c\\xeb\\xb9\\x9b\\xeb\\xb9\\x84\\xec\\xa6\\x88</a></li>\\r\\n\\t\\t\\t\\t<li><a href=\"https://www.hanbit.co.kr/life/\">\\xed\\x95\\x9c\\xeb\\xb9\\x9b\\xeb\\x9d\\xbc\\xec\\x9d\\xb4\\xed\\x94\\x84</a></li>\\r\\n\\t\\t\\t\\t<li><a href=\"https://www.hanbit.co.kr/edu/\">\\xed\\x95\\x9c\\xeb\\xb9\\x9b\\xec\\x97\\x90\\xeb\\x93\\x80</a></li>\\r\\n\\t\\t\\t\\t<li><a href=\"https://www.hanbit.co.kr/realtime/\">\\xeb\\xa6\\xac\\xec\\x96\\xbc\\xed\\x83\\x80\\xec\\x9e\\x84</a></li>\\r\\n\\t\\t\\t\\t<li><a href=\"https://www.hanbit.co.kr/textbook/\" target=\"_blank\">\\xed\\x95\\x9c\\xeb\\xb9\\x9b\\xec\\xa0\\x95\\xeb\\xb3\\xb4\\xea\\xb5\\x90\\xea\\xb3\\xbc\\xec\\x84\\x9c</a></li>\\r\\n        <li><a href=\"https://www.hanbit.co.kr/rent/\" target=\"_blank\">\\xed\\x95\\x9c\\xeb\\xb9\\x9b\\xeb\\x8c\\x80\\xea\\xb4\\x80\\xec\\x84\\x9c\\xeb\\xb9\\x84\\xec\\x8a\\xa4</a></li>\\r\\n\\t\\t\\t</ul>\\r\\n\\t\\t\\t\\r\\n\\t\\t\\t<ul class=\"top_menu\">\\r\\n                        \\t<li><a href=\"https://www.hanbit.co.kr/member/login.html\" class=\"login\">\\xeb\\xa1\\x9c\\xea\\xb7\\xb8\\xec\\x9d\\xb8</a></li>\\r\\n\\t\\t\\t\\t<li><a href=\"https://www.hanbit.co.kr/member/member_agree.html\" class=\"join\">\\xed\\x9a\\x8c\\xec\\x9b\\x90\\xea\\xb0\\x80\\xec\\x9e\\x85</a></li>\\r\\n\\t\\t\\t\\t<li><a href=\"https://www.hanbit.co.kr/myhanbit/myhanbit.html\" class=\"myhanbit\">\\xeb\\xa7\\x88\\xec\\x9d\\xb4\\xed\\x95\\x9c\\xeb\\xb9\\x9b</a></li>\\r\\n\\t\\t\\t\\t<li><a href=\"https://www.hanbit.co.kr/myhanbit/cart.html\" class=\"cart\">\\xec\\x9e\\xa5\\xeb\\xb0\\x94\\xea\\xb5\\xac\\xeb\\x8b\\x88</a></li>\\r\\n            \\t\\t\\t\\t<li class=\"top_menu_store\"><a href=\"https://www.hanbit.co.kr/publisher/foreignrights.html?lang=e\" target=\"_blank\">ENGLISH</a></li>\\r\\n\\t\\t\\t</ul>\\r\\n\\t\\t</div>\\r\\n\\t</nav>  <!-- //top menu -->\\r\\n\\r\\n  <div id=\"wrap_gnb\">\\r\\n    <!-- logo -->\\r\\n    <h1><a href=\"https://www.hanbit.co.kr/index.html\">\\xed\\x95\\x9c\\xeb\\xb9\\x9b\\xec\\xb6\\x9c\\xed\\x8c\\x90\\xeb\\x84\\xa4\\xed\\x8a\\xb8\\xec\\x9b\\x8c\\xed\\x81\\xac</a></h1>\\r\\n    <!-- //logo -->\\r\\n\\r\\n    <!-- Menu -->\\r\\n    <div id=\"gnb\" name=\"gnb\">\\r\\n      <ul>\\r\\n        <li><a href=\"https://www.hanbit.co.kr/brand/brand_submain.html\" class=\"\">BRAND</a></li>\\r\\n        <li><a href=\"https://www.hanbit.co.kr/channel/channel_submain.html\" class=\"\">Channel.H</a></li>\\r\\n        <li><a href=\"https://www.hanbit.co.kr/store/store_submain.html\" class=\"curr\">STORE</a></li>\\r\\n        <li><a href=\"https://www.hanbit.co.kr/support/help_info.html\" class=\"\">SUPPORT</a></li>\\r\\n        <li><a href=\"https://www.hanbit.co.kr/event/current/current_event_list.html\" class=\"\">EVENT</a></li>\\r\\n        \\r\\n        <li><a href=\"https://www.hanbit.co.kr/publisher/foreignrights.html?lang=e\" class=\"\" target=\"_blank\">RIGHTS</a></li>\\r\\n        \\r\\n        <li id=\"top_search\" class=\"search\"><a href=\"javascript:;\" onClick=\"view_hover(\\'main_search_area\\',\\'\\',\\'show\\'); $(\\'#keyword_str\\').focus();\"><span>SERACH</span></a></li>\\r\\n      </ul>\\r\\n    </div>\\r\\n    <!-- //Menu -->\\r\\n    \\r\\n    <!-- lnb -->\\r\\n    <div class=\"lnb\" style=\"top:92px;\">\\r\\n      <div class=\"lnb_area\">\\r\\n      <!-- BRAND -->\\r\\n            <ul class=\"lnb_depth1_category\">\\r\\n        <li onmouseover=\"view_hover(\\'category_store\\',\\'\\',\\'show\\')\" onMouseOut=\"view_hover(\\'category_store\\',\\'\\',\\'hide\\')\"><a href=\"#\" onFocus=\"view_hover(\\'category_store\\',\\'\\',\\'show\\')\" class=\"gnb_category\">\\xec\\xb9\\xb4\\xed\\x85\\x8c\\xea\\xb3\\xa0\\xeb\\xa6\\xac</a>\\r\\n          <ul id=\"category_store\">\\r\\n\\r\\n                          <li onmouseover=\"view_hover(\\'category_store1\\',\\'\\',\\'show\\')\" onMouseOut=\"view_hover(\\'category_store1\\',\\'\\',\\'hide\\')\"><a href=\"/store/books/category_list.html?cate_cd=001\" onFocus=\"view_hover(\\'category_store1\\',\\'\\',\\'show\\')\">IT/\\xeb\\xaa\\xa8\\xeb\\xb0\\x94\\xec\\x9d\\xbc</a>\\r\\n                <ul id=\"category_store1\">\\r\\n                              <li><a href=\"/store/books/category_list.html?cate_cd=001001\">\\xed\\x94\\x84\\xeb\\xa1\\x9c\\xea\\xb7\\xb8\\xeb\\x9e\\x98\\xeb\\xb0\\x8d</a></li>      \\r\\n                              <li><a href=\"/store/books/category_list.html?cate_cd=001002\">\\xec\\x9b\\xb9</a></li>      \\r\\n                              <li><a href=\"/store/books/category_list.html?cate_cd=001003\">\\xeb\\xaa\\xa8\\xeb\\xb0\\x94\\xec\\x9d\\xbc/\\xec\\x8a\\xa4\\xeb\\xa7\\x88\\xed\\x8a\\xb8\\xea\\xb8\\xb0\\xea\\xb8\\xb0</a></li>      \\r\\n                              <li><a href=\"/store/books/category_list.html?cate_cd=001013\">\\xeb\\x8d\\xb0\\xec\\x9d\\xb4\\xed\\x84\\xb0\\xeb\\xb2\\xa0\\xec\\x9d\\xb4\\xec\\x8a\\xa4</a></li>      \\r\\n                              <li><a href=\"/store/books/category_list.html?cate_cd=001005\">\\xec\\x9a\\xb4\\xec\\x98\\x81\\xec\\xb2\\xb4\\xec\\xa0\\x9c</a></li>      \\r\\n                              <li><a href=\"/store/books/category_list.html?cate_cd=001014\">\\xed\\x95\\x98\\xeb\\x93\\x9c\\xec\\x9b\\xa8\\xec\\x96\\xb4</a></li>      \\r\\n                              <li><a href=\"/store/books/category_list.html?cate_cd=001015\">\\xec\\x8b\\x9c\\xec\\x8a\\xa4\\xed\\x85\\x9c/\\xeb\\x84\\xa4\\xed\\x8a\\xb8\\xec\\x9b\\x8c\\xed\\x81\\xac</a></li>      \\r\\n                              <li><a href=\"/store/books/category_list.html?cate_cd=001016\">\\xeb\\xb3\\xb4\\xec\\x95\\x88</a></li>      \\r\\n                              <li><a href=\"/store/books/category_list.html?cate_cd=001009\">\\xeb\\xb9\\x84\\xec\\xa6\\x88\\xeb\\x8b\\x88\\xec\\x8a\\xa4/\\xeb\\xac\\xb8\\xed\\x99\\x94</a></li>      \\r\\n                              <li><a href=\"/store/books/category_list.html?cate_cd=001010\">\\xea\\xb2\\x8c\\xec\\x9e\\x84</a></li>      \\r\\n                              <li><a href=\"/store/books/category_list.html?cate_cd=001017\">IT\\xec\\x97\\x90\\xec\\x84\\xb8\\xec\\x9d\\xb4</a></li>      \\r\\n                              <li><a href=\"/store/books/category_list.html?cate_cd=001012\">\\xec\\x9e\\x90\\xea\\xb2\\xa9\\xec\\xa6\\x9d</a></li>      \\r\\n                              <li><a href=\"/store/books/category_list.html?cate_cd=001018\">\\xec\\x9d\\xb8\\xea\\xb3\\xb5\\xec\\xa7\\x80\\xeb\\x8a\\xa5/\\xeb\\x8d\\xb0\\xec\\x9d\\xb4\\xed\\x84\\xb0\\xea\\xb3\\xbc\\xed\\x95\\x99</a></li>      \\r\\n              </ul></li>              <li onmouseover=\"view_hover(\\'category_store2\\',\\'\\',\\'show\\')\" onMouseOut=\"view_hover(\\'category_store2\\',\\'\\',\\'hide\\')\"><a href=\"/store/books/category_list.html?cate_cd=002\" onFocus=\"view_hover(\\'category_store2\\',\\'\\',\\'show\\')\">MAKE</a>\\r\\n                <ul id=\"category_store2\">\\r\\n                              <li><a href=\"/store/books/category_list.html?cate_cd=002001\">Make \\xeb\\xa7\\xa4\\xea\\xb1\\xb0\\xec\\xa7\\x84</a></li>      \\r\\n                              <li><a href=\"/store/books/category_list.html?cate_cd=002002\">Make \\xed\\x94\\x84\\xeb\\xa1\\x9c\\xec\\xa0\\x9d\\xed\\x8a\\xb8 \\xeb\\xb6\\x81</a></li>      \\r\\n              </ul></li>              <li onmouseover=\"view_hover(\\'category_store3\\',\\'\\',\\'show\\')\" onMouseOut=\"view_hover(\\'category_store3\\',\\'\\',\\'hide\\')\"><a href=\"/store/books/category_list.html?cate_cd=003\" onFocus=\"view_hover(\\'category_store3\\',\\'\\',\\'show\\')\">IT\\xed\\x99\\x9c\\xec\\x9a\\xa9</a>\\r\\n                <ul id=\"category_store3\">\\r\\n                              <li><a href=\"/store/books/category_list.html?cate_cd=003001\">\\xec\\x98\\xa4\\xed\\x94\\xbc\\xec\\x8a\\xa4/OA</a></li>      \\r\\n                              <li><a href=\"/store/books/category_list.html?cate_cd=003002\">\\xea\\xb7\\xb8\\xeb\\x9e\\x98\\xed\\x94\\xbd/\\xeb\\xa9\\x80\\xed\\x8b\\xb0\\xeb\\xaf\\xb8\\xeb\\x94\\x94\\xec\\x96\\xb4</a></li>      \\r\\n                              <li><a href=\"/store/books/category_list.html?cate_cd=003003\">\\xec\\x82\\xac\\xec\\xa7\\x84/\\xec\\x98\\x88\\xec\\x88\\xa0</a></li>      \\r\\n                              <li><a href=\"/store/books/category_list.html?cate_cd=003004\">\\xec\\xbb\\xb4\\xed\\x93\\xa8\\xed\\x84\\xb0\\xec\\x9e\\x85\\xeb\\xac\\xb8/IT\\xea\\xb5\\x90\\xec\\x96\\x91</a></li>      \\r\\n              </ul></li>              <li onmouseover=\"view_hover(\\'category_store4\\',\\'\\',\\'show\\')\" onMouseOut=\"view_hover(\\'category_store4\\',\\'\\',\\'hide\\')\"><a href=\"/store/books/category_list.html?cate_cd=004\" onFocus=\"view_hover(\\'category_store4\\',\\'\\',\\'show\\')\">\\xeb\\x8c\\x80\\xed\\x95\\x99\\xea\\xb5\\x90\\xec\\x9e\\xac</a>\\r\\n                <ul id=\"category_store4\">\\r\\n                              <li><a href=\"/store/books/category_list.html?cate_cd=004007\">\\xec\\xbb\\xb4\\xed\\x93\\xa8\\xed\\x84\\xb0\\xea\\xb3\\xb5\\xed\\x95\\x99</a></li>      \\r\\n                              <li><a href=\"/store/books/category_list.html?cate_cd=004008\">\\xec\\xa0\\x95\\xeb\\xb3\\xb4\\xed\\x86\\xb5\\xec\\x8b\\xa0/\\xec\\xa0\\x84\\xea\\xb8\\xb0/\\xec\\xa0\\x84\\xec\\x9e\\x90</a></li>      \\r\\n                              <li><a href=\"/store/books/category_list.html?cate_cd=004003\">\\xec\\x88\\x98\\xed\\x95\\x99/\\xea\\xb3\\xbc\\xed\\x95\\x99/\\xea\\xb3\\xb5\\xed\\x95\\x99</a></li>      \\r\\n                              <li><a href=\"/store/books/category_list.html?cate_cd=004004\">\\xed\\x94\\x84\\xeb\\xa1\\x9c\\xea\\xb7\\xb8\\xeb\\x9e\\x98\\xeb\\xb0\\x8d/\\xec\\x9b\\xb9</a></li>      \\r\\n                              <li><a href=\"/store/books/category_list.html?cate_cd=004005\">\\xea\\xb7\\xb8\\xeb\\x9e\\x98\\xed\\x94\\xbd/\\xeb\\x94\\x94\\xec\\x9e\\x90\\xec\\x9d\\xb8</a></li>      \\r\\n                              <li><a href=\"/store/books/category_list.html?cate_cd=004006\">OA/\\xed\\x99\\x9c\\xec\\x9a\\xa9</a></li>      \\r\\n                              <li><a href=\"/store/books/category_list.html?cate_cd=004009\">\\xec\\x88\\x98\\xed\\x97\\x98\\xec\\x84\\x9c/\\xec\\x9e\\x90\\xea\\xb2\\xa9\\xec\\xa6\\x9d</a></li>      \\r\\n              </ul></li>              <li onmouseover=\"view_hover(\\'category_store5\\',\\'\\',\\'show\\')\" onMouseOut=\"view_hover(\\'category_store5\\',\\'\\',\\'hide\\')\"><a href=\"/store/books/category_list.html?cate_cd=006\" onFocus=\"view_hover(\\'category_store5\\',\\'\\',\\'show\\')\">\\xec\\x8b\\xa4\\xec\\x9a\\xa9\\xec\\x84\\x9c</a>\\r\\n                <ul id=\"category_store5\">\\r\\n                              <li><a href=\"/store/books/category_list.html?cate_cd=006001\">\\xec\\xb7\\xa8\\xeb\\xaf\\xb8/\\xec\\x8b\\xa4\\xec\\x9a\\xa9</a></li>      \\r\\n                              <li><a href=\"/store/books/category_list.html?cate_cd=006002\">\\xec\\x97\\xac\\xed\\x96\\x89</a></li>      \\r\\n                              <li><a href=\"/store/books/category_list.html?cate_cd=006003\">\\xea\\xb1\\xb4\\xea\\xb0\\x95</a></li>      \\r\\n                              <li><a href=\"/store/books/category_list.html?cate_cd=006004\">\\xec\\x9c\\xa0\\xec\\x95\\x84/\\xec\\x9c\\xa1\\xec\\x95\\x84</a></li>      \\r\\n              </ul></li>              <li onmouseover=\"view_hover(\\'category_store6\\',\\'\\',\\'show\\')\" onMouseOut=\"view_hover(\\'category_store6\\',\\'\\',\\'hide\\')\"><a href=\"/store/books/category_list.html?cate_cd=007\" onFocus=\"view_hover(\\'category_store6\\',\\'\\',\\'show\\')\">\\xea\\xb2\\xbd\\xec\\xa0\\x9c/\\xea\\xb2\\xbd\\xec\\x98\\x81/\\xec\\x9d\\xb8\\xeb\\xac\\xb8</a>\\r\\n                <ul id=\"category_store6\">\\r\\n                              <li><a href=\"/store/books/category_list.html?cate_cd=007001\">\\xea\\xb2\\xbd\\xec\\xa0\\x9c/\\xea\\xb2\\xbd\\xec\\x98\\x81</a></li>      \\r\\n                              <li><a href=\"/store/books/category_list.html?cate_cd=007002\">\\xec\\x9e\\x90\\xea\\xb8\\xb0\\xea\\xb3\\x84\\xeb\\xb0\\x9c</a></li>      \\r\\n                              <li><a href=\"/store/books/category_list.html?cate_cd=007003\">\\xec\\x9d\\xb8\\xeb\\xac\\xb8/\\xea\\xb5\\x90\\xec\\x96\\x91</a></li>      \\r\\n                              <li><a href=\"/store/books/category_list.html?cate_cd=007004\">\\xeb\\xa7\\x88\\xec\\xbc\\x80\\xed\\x8c\\x85</a></li>      \\r\\n                              <li><a href=\"/store/books/category_list.html?cate_cd=007005\">\\xec\\x97\\x90\\xec\\x84\\xb8\\xec\\x9d\\xb4</a></li>      \\r\\n              </ul></li>              <li onmouseover=\"view_hover(\\'category_store7\\',\\'\\',\\'show\\')\" onMouseOut=\"view_hover(\\'category_store7\\',\\'\\',\\'hide\\')\"><a href=\"/store/books/category_list.html?cate_cd=008\" onFocus=\"view_hover(\\'category_store7\\',\\'\\',\\'show\\')\">\\xec\\x9c\\xa0\\xec\\x95\\x84/\\xec\\x96\\xb4\\xeb\\xa6\\xb0\\xec\\x9d\\xb4/\\xec\\xb4\\x88\\xeb\\x93\\xb1</a>\\r\\n                <ul id=\"category_store7\">\\r\\n                              <li><a href=\"/store/books/category_list.html?cate_cd=008001\">4~6\\xec\\x84\\xb8</a></li>      \\r\\n                              <li><a href=\"/store/books/category_list.html?cate_cd=008002\">5~7\\xec\\x84\\xb8</a></li>      \\r\\n                              <li><a href=\"/store/books/category_list.html?cate_cd=008003\">\\xec\\x98\\x88\\xeb\\xb9\\x84\\xec\\xb4\\x88\\xeb\\x93\\xb1</a></li>      \\r\\n                              <li><a href=\"/store/books/category_list.html?cate_cd=008004\">\\xec\\xb4\\x88\\xeb\\x93\\xb1\\xea\\xb5\\x90\\xea\\xb3\\xbc\\xec\\x97\\xb0\\xea\\xb3\\x84 1~12\\xec\\x98\\x81\\xec\\x97\\xad</a></li>      \\r\\n                              <li><a href=\"/store/books/category_list.html?cate_cd=008005\">\\xec\\xb4\\x88\\xeb\\x93\\xb1 \\xec\\xa0\\x84\\xed\\x95\\x99\\xeb\\x85\\x84</a></li>      \\r\\n              </ul></li>            \\r\\n          <!-- \\xed\\x95\\xad\\xec\\x83\\x81 \\xeb\\x85\\xb8\\xec\\xb6\\x9c \\xeb\\xa9\\x94\\xeb\\x89\\xb4 -->          \\r\\n          <li class=\"gnb_category_series\"><a href=\"https://www.hanbit.co.kr/store/books/series_list.html\">\\xec\\x8b\\x9c\\xeb\\xa6\\xac\\xec\\xa6\\x88</a></li>\\r\\n          <li class=\"gnb_category_reservations\"><a href=\"https://www.hanbit.co.kr/store/books/reservations_list.html\">\\xec\\x98\\x88\\xec\\x95\\xbd\\xeb\\x8f\\x84\\xec\\x84\\x9c</a></li>\\r\\n          <!--\\r\\n          <li class=\"gnb_category_full\"><a href=\"https://www.hanbit.co.kr/store/books/full_book_list.html\">\\xec\\xa0\\x84\\xec\\xb2\\xb4\\xeb\\x8f\\x84\\xec\\x84\\x9c\\xeb\\xaa\\xa9\\xeb\\xa1\\x9d</a></li>\\r\\n          -->\\r\\n          <!--/li-->\\r\\n        </ul>\\r\\n      </ul>\\r\\n      <!--/li-->        \\r\\n      <!--/ul-->\\r\\n\\r\\n      <ul class=\"lnb_depth1\">\\r\\n        <li><a href=\"https://www.hanbit.co.kr/store/books/new_book_list.html\">\\xec\\x83\\x88\\xeb\\xa1\\x9c\\xeb\\x82\\x98\\xec\\x98\\xa8 \\xec\\xb1\\x85</a></li><span>l</span>\\r\\n        <li><a href=\"https://www.hanbit.co.kr/store/books/bestseller_list.html\">\\xeb\\xb2\\xa0\\xec\\x8a\\xa4\\xed\\x8a\\xb8\\xec\\x85\\x80\\xeb\\x9f\\xac</a></li><span>l</span>\\r\\n        <li><a href=\"https://www.hanbit.co.kr/store/books/full_book_list.html\">\\xec\\xa0\\x84\\xec\\xb2\\xb4\\xeb\\x8f\\x84\\xec\\x84\\x9c\\xeb\\xaa\\xa9\\xeb\\xa1\\x9d</a></li><span>l</span>\\r\\n        <li><a href=\"https://www.hanbit.co.kr/store/education/edu_list.html\">\\xea\\xb5\\x90\\xec\\x9c\\xa1</a></li><span>l</span>\\r\\n        <li><a href=\"https://www.hanbit.co.kr/store/item/item_list.html\">Item &amp; Maker Shed</a></li>\\r\\n      </ul>\\r\\n      \\r\\n      <!-- SUPPORT -->\\r\\n          </div>\\r\\n    </div>\\r\\n    <!--// lnb -->\\r\\n  </div>\\r\\n</header>\\r\\n<!-- //header -->\\r\\n\\r\\n<!-- \\xeb\\xa9\\x94\\xec\\x9d\\xb8 \\xea\\xb2\\x80\\xec\\x83\\x89 \\xeb\\xb0\\x8f \\xec\\xb9\\xb4\\xed\\x85\\x8c\\xea\\xb3\\xa0\\xeb\\xa6\\xac \\xec\\x98\\x81\\xec\\x97\\xad -->\\r\\n<div id=\"main_search_area\" class=\"fixed\" style=\"display:none;\">\\n  <div class=\"msa_wrap\">\\n\\n    <!-- \\xea\\xb2\\x80\\xec\\x83\\x89 -->\\n    <div class=\"msa_srch_wrap\">\\n      <form onsubmit=\"return false;\">\\n      <fieldset class=\"msa_srch_field\">\\n        <legend>\\xed\\x95\\x9c\\xeb\\xb9\\x9b\\xec\\xb6\\x9c\\xed\\x8c\\x90\\xeb\\x84\\xa4\\xed\\x8a\\xb8\\xec\\x9b\\x8c\\xed\\x81\\xac \\xea\\xb2\\x80\\xec\\x83\\x89</legend>\\n        <input title=\"\\xea\\xb2\\x80\\xec\\x83\\x89\\xec\\x96\\xb4\" autocomplete=\"off\" class=\"srch_keyword\" accesskey=\"s\" type=\"text\" name=\"keyword_str\" id=\"keyword_str\" v-model=\"keyword\" @input=\"typeKeyword\">\\n        <input type=\"submit\" class=\"srch_btn\" style=\"cursor:pointer;\" @click=\"clickSearch\">\\n      </fieldset>\\n      </form>\\n    </div>\\n    <!-- //\\xea\\xb2\\x80\\xec\\x83\\x89 -->\\n\\n    <!-- \\xe2\\x91\\xa0 \\xec\\x9d\\xb8\\xea\\xb8\\xb0\\xea\\xb2\\x80\\xec\\x83\\x89\\xec\\x96\\xb4 -->\\n    <div class=\"msa_srch_polular\" v-if=\"showPopularKeyword === true\">\\n      <h2 class=\"tit\">\\xec\\x9d\\xb8\\xea\\xb8\\xb0 \\xea\\xb2\\x80\\xec\\x83\\x89\\xec\\x96\\xb4 <span>(\\xec\\xb5\\x9c\\xea\\xb7\\xbc 1\\xea\\xb0\\x9c\\xec\\x9b\\x94\\xea\\xb0\\x84)</span></h2>\\n        <div class=\"popula_box\">\\n          <ul class=\"left\">\\n            <li v-for=\"keyword in leftPopularKeywordList\">\\n              <a :class=\"keyword.bold\" @click=\"clickPopularKeyword(keyword)\">\\n                  {{ keyword.number }} {{ keyword.bookName }}\\n              </a>\\n            </li>\\n          </ul>\\n          <ul class=\"right\">\\n            <li v-for=\"keyword in rightPopularKeywordList\">\\n              <a :class=\"keyword.bold\" @click=\"clickPopularKeyword(keyword)\">\\n                  {{ keyword.number }} {{ keyword.bookName }}\\n              </a>\\n            </li>\\n          </ul>\\n        </div>\\n    </div>\\n    <!-- \\xe2\\x91\\xa0 \\xec\\x9d\\xb8\\xea\\xb8\\xb0\\xea\\xb2\\x80\\xec\\x83\\x89\\xec\\x96\\xb4 -->\\n\\n    <!-- \\xe2\\x91\\xa1 \\xea\\xb2\\x80\\xec\\x83\\x89\\xea\\xb2\\xb0\\xea\\xb3\\xbc/\\xea\\xb2\\x80\\xec\\x83\\x89\\xec\\x84\\x9c\\xec\\xa0\\x9c\\xec\\x8a\\xa4\\xec\\xb3\\x94 -->\\n    <div class=\"msa_srch_suggestion\" v-if=\"showPopularKeyword === false\">\\n      <div class=\"sugg_left\" v-if=\"bookList.length !== 0\">\\n        <h3 class=\"tit\">BOOK</h3>\\n        <ul class=\"books_list\">\\n          <li v-for=\"book in bookList\" @mouseover=\"mouseOverBook(book.id)\"><a @click=\"clickBookKeyword(book)\"><p v-html=\"book.name\"></p></a></li>\\n        </ul>\\n      </div>\\n\\n      <div class=\"sugg_right\">\\n        <div class=\"sugg_book\" v-if=\"bookList.length !== 0\">\\n          <table class=\"sugg_book_detail\">\\n            <tr>\\n              <td class=\"cover\">\\n                <a @click=\"clickBookKeyword(bookSummary)\">\\n                  <img :src=\"bookSummary.imgUrl\" class=\"b_cover\">\\n                </a>\\n              </td>\\n              <td class=\"draft\">\\n                <a @click=\"clickBookKeyword(bookSummary)\" class=\"b_title\"><strong v-html=\"bookSummary.originName\"></strong></a>\\n                <p class=\"b_int\">\\n                {{ bookSummary.author }} \\xec\\xa7\\x80\\xec\\x9d\\x8c<br />\\n                {{ bookSummary.publishingCompany }} | {{ bookSummary.date }}\\n                </p>\\n                <p class=\"b_type\">\\n                <span>{{ bookSummary.bookType }}</span>\\n                </p>\\n              </td>\\n            </tr>\\n          </table>\\n        </div>\\n\\n        <div class=\"sugg_edu\" v-if=\"educationList.length !== 0\">\\n          <h3 class=\"tit\">EDUCATION</h3>\\n          <ul class=\"edu_list\">\\n            <li v-for=\"education in educationList\">&#149; <a @click=\"clickEducationKeyword(education)\"><span v-html=\"education.title\"></span></a></li>\\n          </ul>\\n        </div>\\n\\n        <div class=\"sugg_cont\" v-if=\"contentList.length !== 0\">\\n          <h3 class=\"tit\">CONTENTS</h3>\\n          <ul class=\"cont_list\">\\n            <li v-for=\"content in contentList\">&#149; <a @click=\"clickContentKeyword(content)\"><span v-html=\"content.title\"></span></a></li>\\n          </ul>\\n        </div>\\n      </div>\\n    </div>\\n    <!-- //\\xe2\\x91\\xa1 \\xea\\xb2\\x80\\xec\\x83\\x89\\xea\\xb2\\xb0\\xea\\xb3\\xbc/\\xea\\xb2\\x80\\xec\\x83\\x89\\xec\\x84\\x9c\\xec\\xa0\\x9c\\xec\\x8a\\xa4\\xec\\xb3\\x94 -->\\n\\n  <!-- \\xeb\\x8b\\xab\\xea\\xb8\\xb0 -->\\n  <div class=\"msa_wrap_close\">\\n    <a href=\"javascript:;\" onclick=\"view_hover(\\'main_search_area\\',\\'\\',\\'hide\\')\">\\xeb\\x8b\\xab\\xea\\xb8\\xb0</a>\\n  </div>\\n  <!-- //\\xeb\\x8b\\xab\\xea\\xb8\\xb0 -->\\n\\n  </div>\\n</div>\\n\\n<!-- old // \\xea\\xb5\\xac\\xed\\x98\\x84\\xec\\x8b\\x9c \\xed\\x95\\x84\\xec\\x9a\\x94\\xec\\x97\\x86\\xec\\x9c\\xbc\\xeb\\xa9\\xb4 \\xec\\x82\\xad\\xec\\xa0\\x9c\\xed\\x95\\xb4\\xeb\\x8f\\x84 \\xeb\\x90\\xa9\\xeb\\x8b\\x88\\xeb\\x8b\\xa4.\\n<script type=\"text/javascript\">\\n  function sch_smit(){\\n    if(!$.trim($(\"#keyword_str\").val()).length) {\\n      alert(\"\\xea\\xb2\\x80\\xec\\x83\\x89\\xec\\x96\\xb4\\xeb\\xa5\\xbc \\xec\\x9e\\x85\\xeb\\xa0\\xa5\\xed\\x95\\xb4\\xec\\xa3\\xbc\\xec\\x84\\xb8\\xec\\x9a\\x94\");\\n      $(\"#keyword_str\").focus();\\n      return false;\\n    }else{\\n      $(\"#gnbsearchfrm\").attr(\"action\",\"/search/search_list.html\");\\n      $(\"#gnbsearchfrm\").submit(); \\n    }\\n  }\\n</script>\\n-->\\n\\n<script type=\"text/javascript\">\\n    \"use strict\";\\n\\n    var common_top_search_vue = new Vue({\\n        el: \\'#main_search_area\\',\\n        data: {\\n            //\\xea\\xb2\\x80\\xec\\x83\\x89\\xec\\x97\\x94\\xec\\xa7\\x84 URL\\n            searchProxyURL: \"https://search.hanbit.co.kr\",\\n            //\\xec\\x9d\\xb8\\xea\\xb8\\xb0 \\xea\\xb2\\x80\\xec\\x83\\x89\\xec\\x96\\xb4 show \\xec\\x97\\xac\\xeb\\xb6\\x80\\n            showPopularKeyword: true,\\n            //\\xec\\x82\\xac\\xec\\x9a\\xa9\\xec\\x9e\\x90 \\xea\\xb2\\x80\\xec\\x83\\x89 \\xed\\x82\\xa4\\xec\\x9b\\x8c\\xeb\\x93\\x9c\\n            keyword: \\'\\',\\n            //\\xec\\x9d\\xb8\\xea\\xb8\\xb0 \\xea\\xb2\\x80\\xec\\x83\\x89\\xec\\x96\\xb4 \\xeb\\xa6\\xac\\xec\\x8a\\xa4\\xed\\x8a\\xb8\\n            popularKeywordList: [],\\n            // \\xec\\x9d\\xb8\\xea\\xb8\\xb0 \\xea\\xb2\\x80\\xec\\x83\\x89\\xec\\x96\\xb4 \\xeb\\xa6\\xac\\xec\\x8a\\xa4\\xed\\x8a\\xb8 (\\xec\\x99\\xbc\\xec\\xaa\\xbd)\\n            leftPopularKeywordList: [],\\n            // \\xec\\x9d\\xb8\\xea\\xb8\\xb0 \\xea\\xb2\\x80\\xec\\x83\\x89\\xec\\x96\\xb4 \\xeb\\xa6\\xac\\xec\\x8a\\xa4\\xed\\x8a\\xb8 (\\xec\\x98\\xa4\\xeb\\xa5\\xb8\\xec\\xaa\\xbd)\\n            rightPopularKeywordList: [],\\n            // \\xec\\x9e\\x90\\xeb\\x8f\\x99\\xec\\x99\\x84\\xec\\x84\\xb1\\xec\\x97\\x90\\xec\\x84\\x9c\\xec\\x9d\\x98 \\xec\\xb1\\x85 \\xeb\\xa6\\xac\\xec\\x8a\\xa4\\xed\\x8a\\xb8\\n            bookList: [],\\n            // \\xec\\x9e\\x90\\xeb\\x8f\\x99\\xec\\x99\\x84\\xec\\x84\\xb1\\xec\\x97\\x90\\xec\\x84\\x9c\\xec\\x9d\\x98 \\xec\\xb1\\x85 \\xec\\xa0\\x95\\xeb\\xb3\\xb4\\n            bookSummary: {\\n                \\'imgUrl\\': \\'\\',\\n                \\'link\\': \\'\\',\\n                \\'name\\': \\'\\',\\n                \\'author\\': \\'\\',\\n                \\'publishingCompany\\': \\'\\',\\n                \\'date\\': \\'\\',\\n                \\'bookType\\': \\'\\'\\n            },\\n            //\\xec\\x97\\x90\\xeb\\x93\\x80\\xec\\xbc\\x80\\xec\\x9d\\xb4\\xec\\x85\\x98 \\xeb\\xa6\\xac\\xec\\x8a\\xa4\\xed\\x8a\\xb8\\n            educationList: [],\\n            //\\xec\\xbb\\xa8\\xed\\x85\\x90\\xec\\xb8\\xa0 \\xeb\\xa6\\xac\\xec\\x8a\\xa4\\xed\\x8a\\xb8\\n            contentList: []\\n        },\\n        created: function created() {\\n            // \\xec\\x9d\\xb8\\xea\\xb8\\xb0 \\xea\\xb2\\x80\\xec\\x83\\x89\\xec\\x96\\xb4 \\xec\\xa1\\xb0\\xed\\x9a\\x8c\\n            this.getPopularKeyword();\\n        },\\n        methods: {\\n            /**\\n             * \\xec\\x82\\xac\\xec\\x9a\\xa9\\xec\\x9e\\x90\\xea\\xb0\\x80 \\xea\\xb2\\x80\\xec\\x83\\x89 \\xed\\x82\\xa4\\xec\\x9b\\x8c\\xeb\\x93\\x9c\\xeb\\xa5\\xbc \\xec\\x9e\\x85\\xeb\\xa0\\xa5\\xed\\x95\\xa0\\xeb\\x95\\x8c \\xeb\\xb0\\x9c\\xec\\x83\\x9d\\xed\\x95\\x98\\xeb\\x8a\\x94 \\xec\\x9d\\xb4\\xeb\\xb2\\xa4\\xed\\x8a\\xb8\\n             */\\n            typeKeyword: function typeKeyword() {\\n                var self = this;\\n                var keyword = $(\"#keyword_str\").val();\\n\\n                if (keyword.length !== 0) {\\n                    //\\xec\\x9e\\x90\\xeb\\x8f\\x99\\xec\\x99\\x84\\xec\\x84\\xb1\\xec\\x96\\xb4\\n                    this.findAutocompleteResult(keyword);\\n                } else {\\n                    //\\xec\\x9d\\xb8\\xea\\xb8\\xb0\\xea\\xb2\\x80\\xec\\x83\\x89\\xec\\x96\\xb4\\n                    self.showPopularKeyword = true;\\n                }\\n            },\\n\\n            /**\\n             * \\xec\\x9d\\xb8\\xea\\xb8\\xb0\\xea\\xb2\\x80\\xec\\x83\\x89\\xec\\x96\\xb4 \\xec\\xa1\\xb0\\xed\\x9a\\x8c\\n             */\\n            getPopularKeyword: function getPopularKeyword() {\\n                var self = this;\\n                this.popularKeywordList = [];\\n                $.get(this.searchProxyURL + \"/querylog/popularKeyword\").done(function (data) {\\n                    if (data != null) {\\n                        self.drawPopularKeyword(data);\\n                    }\\n                });\\n            },\\n\\n            /**\\n             * \\xec\\x9d\\xb8\\xea\\xb8\\xb0 \\xea\\xb2\\x80\\xec\\x83\\x89\\xec\\x96\\xb4 \\xea\\xb7\\xb8\\xeb\\xa6\\xac\\xea\\xb8\\xb0\\n             */\\n            drawPopularKeyword: function drawPopularKeyword(popularBooks) {\\n                var self = this;\\n                popularBooks.forEach(function (item) {\\n                    var popularBook = {\\n                        bookName: item.keyword\\n                    };\\n                    self.popularKeywordList.push(popularBook);\\n                });\\n                var number = 0;\\n\\n                for (var _iterator = this.popularKeywordList, _isArray = Array.isArray(_iterator), _i = 0, _iterator = _isArray ? _iterator : _iterator[Symbol.iterator]();;) {\\n                    var _ref;\\n\\n                    if (_isArray) {\\n                        if (_i >= _iterator.length) break;\\n                        _ref = _iterator[_i++];\\n                    } else {\\n                        _i = _iterator.next();\\n                        if (_i.done) break;\\n                        _ref = _i.value;\\n                    }\\n\\n                    var keyword = _ref;\\n                    number = number + 1;\\n                    keyword.number = number.toString().length < 2 ? \"0\" + number : number;\\n\\n                    if (number > 5) {\\n                        keyword.direction = \"right\";\\n                        self.rightPopularKeywordList.push(keyword);\\n                    } else {\\n                        keyword.direction = \"left\";\\n\\n                        if (number < 4) {\\n                            keyword.bold = \\'active\\';\\n                        }\\n\\n                        self.leftPopularKeywordList.push(keyword);\\n                    }\\n                }\\n            },\\n\\n            /**\\n             * \\xec\\x9e\\x90\\xeb\\x8f\\x99\\xec\\x99\\x84\\xec\\x84\\xb1 \\xea\\xb2\\x80\\xec\\x83\\x89 \\xea\\xb2\\xb0\\xea\\xb3\\xbc\\n             */\\n            findAutocompleteResult: function findAutocompleteResult(keyword) {\\n                var self = this;\\n                var param = {\\n                    q: keyword,\\n                    types: \"education,book,contents\",\\n                    fq: keyword\\n                };\\n                $.post(this.searchProxyURL + \"/autocomplete/search\", param).done(function (data) {\\n                    if (data != null) {\\n                        var bookResult = data.booksResults;\\n                        self.changeBookList(keyword, bookResult);\\n                        var contentResult = data.contentsResults;\\n                        self.changeContentList(keyword, contentResult);\\n                        var educationResult = data.educationResults;\\n                        self.changeEducationList(keyword, educationResult);\\n                    }\\n                });\\n                this.showPopularKeyword = false;\\n            },\\n\\n            /**\\n             * \\xec\\x9e\\x90\\xeb\\x8f\\x99\\xec\\x99\\x84\\xec\\x84\\xb1\\xec\\x96\\xb4\\xec\\x97\\x90\\xec\\x84\\x9c BOOK \\xeb\\xb6\\x80\\xeb\\xb6\\x84\\xec\\x97\\x90\\xec\\x84\\x9c \\xeb\\xa7\\x88\\xec\\x9a\\xb0\\xec\\x8a\\xa4\\xeb\\xa5\\xbc \\xec\\x98\\xac\\xeb\\xa0\\xb8\\xec\\x9d\\x84 \\xec\\x8b\\x9c\\xec\\x97\\x90 \\xeb\\xb0\\x9c\\xec\\x83\\x9d\\xed\\x95\\x98\\xeb\\x8a\\x94 \\xec\\x9d\\xb4\\xeb\\xb2\\xa4\\xed\\x8a\\xb8\\n             * @param bookId\\n             */\\n            mouseOverBook: function mouseOverBook(bookId) {\\n                var currentBook = this.bookList.filter(function (book) {\\n                    return book.id === bookId;\\n                });\\n                this.changeBookSummary(currentBook[0]);\\n            },\\n\\n            /**\\n             * \\xec\\xb1\\x85 \\xec\\x86\\x8c\\xea\\xb0\\x9c \\xeb\\xb3\\x80\\xea\\xb2\\xbd\\n             * @param book\\n             */\\n            changeBookSummary: function changeBookSummary(book) {\\n                if (book !== {}) {\\n                    this.bookSummary.name = book.name;\\n                    this.bookSummary.originName = book.originName;\\n                    this.bookSummary.author = book.author;\\n                    this.bookSummary.bookType = book.bookType;\\n                    this.bookSummary.imgUrl = book.imgUrl;\\n                    this.bookSummary.link = book.link;\\n                    this.bookSummary.publishingCompany = book.publishingCompany;\\n                    this.bookSummary.date = book.date;\\n                    this.bookSummary.bookType = book.bookType;\\n                }\\n            },\\n\\n            /**\\n             * BOOK \\xeb\\xa6\\xac\\xec\\x8a\\xa4\\xed\\x8a\\xb8 \\xeb\\xb3\\x80\\xea\\xb2\\xbd\\n             */\\n            changeBookList: function changeBookList(keyword, bookResultList) {\\n                var self = this;\\n                self.bookList = [];\\n                var index = 0;\\n\\n                if (bookResultList != null) {\\n                    for (var _iterator2 = bookResultList, _isArray2 = Array.isArray(_iterator2), _i2 = 0, _iterator2 = _isArray2 ? _iterator2 : _iterator2[Symbol.iterator]();;) {\\n                        var _ref2;\\n\\n                        if (_isArray2) {\\n                            if (_i2 >= _iterator2.length) break;\\n                            _ref2 = _iterator2[_i2++];\\n                        } else {\\n                            _i2 = _iterator2.next();\\n                            if (_i2.done) break;\\n                            _ref2 = _i2.value;\\n                        }\\n\\n                        var result = _ref2;\\n\\n                        if (index < 10) {\\n                            var book = {};\\n                            book.id = result.code;\\n                            book.originName = result.title;\\n                            book.name = JSON.parse(JSON.stringify(self.replaceHighlightWord(result.title, keyword)));\\n                            book.link = result.code;\\n                            book.imgUrl = self.getBookImageURL(result.code);\\n                            book.author = result.author;\\n                            book.publishingCompany = result.brand;\\n                            book.date = result.pubDate;\\n                            book.bookType = result.bookType;\\n                            self.bookList.push(book); //\\xec\\xb1\\x85 \\xeb\\xaf\\xb8\\xeb\\xa6\\xac\\xeb\\xb3\\xb4\\xea\\xb8\\xb0 \\xeb\\xb3\\x80\\xea\\xb2\\xbd\\n\\n                            self.changeBookSummary(self.bookList[0]);\\n                        }\\n                    }\\n                } else {\\n                    self.initBookSummary();\\n                }\\n            },\\n\\n            /**\\n             * \\xec\\xb1\\x85 \\xec\\x9d\\xb4\\xeb\\xaf\\xb8\\xec\\xa7\\x80 \\xec\\xa3\\xbc\\xec\\x86\\x8c \\xea\\xb0\\x80\\xec\\xa0\\xb8\\xec\\x98\\xa4\\xea\\xb8\\xb0\\n             */\\n            getBookImageURL: function getBookImageURL(bookCode) {\\n                var imgURL;\\n\\n                if (bookCode.substr(0, 1) === \"E\") {\\n                    imgURL = \\'/data/ebook/\\' + bookCode + \\'_m.jpg\\';\\n                } else {\\n                    imgURL = \\'/data/books/\\' + bookCode + \"_m.jpg\";\\n                }\\n\\n                return imgURL;\\n            },\\n\\n            /**\\n             * \\xea\\xb2\\x80\\xec\\x83\\x89 \\xea\\xb2\\xb0\\xea\\xb3\\xbc\\xea\\xb0\\x80 \\xec\\x97\\x86\\xec\\x9d\\x84 \\xea\\xb2\\xbd\\xec\\x9a\\xb0 \\xec\\xb1\\x85 \\xeb\\xaf\\xb8\\xeb\\xa6\\xac\\xeb\\xb3\\xb4\\xea\\xb8\\xb0 \\xec\\xb4\\x88\\xea\\xb8\\xb0\\xed\\x99\\x94\\n             */\\n            initBookSummary: function initBookSummary() {\\n                this.bookSummary = {\\n                    \\'imgUrl\\': \\'\\',\\n                    \\'link\\': \\'\\',\\n                    \\'name\\': \\'\\',\\n                    \\'author\\': \\'\\',\\n                    \\'publishingCompany\\': \\'\\',\\n                    \\'date\\': \\'\\',\\n                    \\'bookType\\': \\'\\'\\n                };\\n            },\\n\\n            /**\\n             * education \\xeb\\xa6\\xac\\xec\\x8a\\xa4\\xed\\x8a\\xb8 \\xeb\\xb3\\x80\\xea\\xb2\\xbd\\n             */\\n            changeEducationList: function changeEducationList(keyword, educationResultList) {\\n                var self = this;\\n                self.educationList = [];\\n                var index = 0;\\n\\n                if (educationResultList != null) {\\n                    for (var _iterator3 = educationResultList, _isArray3 = Array.isArray(_iterator3), _i3 = 0, _iterator3 = _isArray3 ? _iterator3 : _iterator3[Symbol.iterator]();;) {\\n                        var _ref3;\\n\\n                        if (_isArray3) {\\n                            if (_i3 >= _iterator3.length) break;\\n                            _ref3 = _iterator3[_i3++];\\n                        } else {\\n                            _i3 = _iterator3.next();\\n                            if (_i3.done) break;\\n                            _ref3 = _i3.value;\\n                        }\\n\\n                        var result = _ref3;\\n\\n                        if (index < 3) {\\n                            var content = {};\\n                            content.title = JSON.parse(JSON.stringify(self.replaceHighlightWord(result.title, keyword)));\\n                            content.link = result.code;\\n                            self.educationList.push(content);\\n                            index = index + 1;\\n                        }\\n                    }\\n                }\\n            },\\n\\n            /**\\n             * contents \\xeb\\xa6\\xac\\xec\\x8a\\xa4\\xed\\x8a\\xb8 \\xeb\\xb3\\x80\\xea\\xb2\\xbd\\n             */\\n            changeContentList: function changeContentList(keyword, contentResult) {\\n                var self = this;\\n                self.contentList = [];\\n                var index = 0;\\n\\n                if (contentResult != null) {\\n                    for (var _iterator4 = contentResult, _isArray4 = Array.isArray(_iterator4), _i4 = 0, _iterator4 = _isArray4 ? _iterator4 : _iterator4[Symbol.iterator]();;) {\\n                        var _ref4;\\n\\n                        if (_isArray4) {\\n                            if (_i4 >= _iterator4.length) break;\\n                            _ref4 = _iterator4[_i4++];\\n                        } else {\\n                            _i4 = _iterator4.next();\\n                            if (_i4.done) break;\\n                            _ref4 = _i4.value;\\n                        }\\n\\n                        var result = _ref4;\\n\\n                        if (index < 3) {\\n                            var content = {};\\n                            content.title = JSON.parse(JSON.stringify(self.replaceHighlightWord(result.title, keyword)));\\n                            content.link = result.code;\\n                            self.contentList.push(content);\\n                            index = index + 1;\\n                        }\\n                    }\\n                }\\n            },\\n\\n            /**\\n             * \\xed\\x95\\x98\\xec\\x9d\\xb4\\xeb\\x9d\\xbc\\xec\\x9d\\xb4\\xed\\x8a\\xb8 \\xed\\x91\\x9c\\xec\\x8b\\x9c\\n             */\\n            replaceHighlightWord: function replaceHighlightWord(str, highlightKeyword) {\\n                var replaceHighlightKeyword = highlightKeyword.replace(/[^a-z0-9\\xea\\xb0\\x80-\\xed\\x9e\\xa3_ ]/gi, \\'\\');\\n                var regEx = new RegExp(replaceHighlightKeyword, \"gi\");\\n                str = str.replace(regEx, function (a) {\\n                    return \\'<span class=\"keysel\">\\' + a + \\'</span>\\';\\n                });\\n                return str;\\n            },\\n\\n            /**\\n             * \\xea\\xb2\\x80\\xec\\x83\\x89 \\xeb\\xb2\\x84\\xed\\x8a\\xbc \\xed\\x81\\xb4\\xeb\\xa6\\xad \\xec\\x8b\\x9c\\n             * @param e\\n             */\\n            clickSearch: function clickSearch(e) {\\n                if (!this.keyword || this.keyword.length === 0) {\\n                    alert(\"\\xea\\xb2\\x80\\xec\\x83\\x89\\xec\\x96\\xb4\\xeb\\xa5\\xbc \\xec\\x9e\\x85\\xeb\\xa0\\xa5\\xed\\x95\\x98\\xec\\x84\\xb8\\xec\\x9a\\x94\");\\n                    $(\"#keyword_str\").focus();\\n                    e.preventDefault();\\n                } else {\\n                    location.href = \"/search/search_list.html?keyword=\" + this.keyword;\\n                }\\n            },\\n\\n            /**\\n             * \\xec\\x9d\\xb8\\xea\\xb8\\xb0 \\xea\\xb2\\x80\\xec\\x83\\x89\\xec\\x96\\xb4 \\xed\\x81\\xb4\\xeb\\xa6\\xad\\xec\\x8b\\x9c\\n             * @param book\\n             */\\n            clickPopularKeyword: function clickPopularKeyword(book) {\\n                var searchKeyword = book.bookName;\\n                location.href = \"/search/search_list.html?keyword=\" + searchKeyword;\\n            },\\n\\n            /**\\n             * \\xec\\xb1\\x85 \\xea\\xb2\\x80\\xec\\x83\\x89\\xec\\x96\\xb4 \\xed\\x81\\xb4\\xeb\\xa6\\xad\\xec\\x8b\\x9c \\xec\\xb1\\x85 \\xec\\x83\\x81\\xec\\x84\\xb8\\xeb\\xa1\\x9c \\xec\\x9d\\xb4\\xeb\\x8f\\x99\\n             * @param book\\n             */\\n            clickBookKeyword: function clickBookKeyword(book) {\\n                location.href = \"/store/books/look.php?p_code=\" + book.link;\\n            },\\n\\n            /**\\n             * \\xea\\xb5\\x90\\xec\\x9c\\xa1 \\xed\\x81\\xb4\\xeb\\xa6\\xad\\xec\\x8b\\x9c \\xea\\xb5\\x90\\xec\\x9c\\xa1 \\xec\\x83\\x81\\xec\\x84\\xb8\\xeb\\xa1\\x9c \\xec\\x9d\\xb4\\xeb\\x8f\\x99\\n             * @param education\\n             */\\n            clickEducationKeyword: function clickEducationKeyword(education) {\\n                location.href = \"/store/education/edu_view.html?p_code=\" + education.link;\\n            },\\n\\n            /**\\n             * \\xec\\xbb\\xa8\\xed\\x85\\x90\\xec\\xb8\\xa0 \\xed\\x81\\xb4\\xeb\\xa6\\xad\\xec\\x8b\\x9c \\xec\\xbb\\xa8\\xed\\x85\\x90\\xec\\xb8\\xa0 \\xec\\x83\\x81\\xec\\x84\\xb8\\xeb\\xa1\\x9c \\xec\\x9d\\xb4\\xeb\\x8f\\x99\\n             * @param contents\\n             */\\n            clickContentKeyword: function clickContentKeyword(content) {\\n                location.href = \"/channel/category/category_view.html?cms_code=\" + content.link;\\n            }\\n        }\\n    });\\n</script>\\n<!-- //\\xeb\\xa9\\x94\\xec\\x9d\\xb8 \\xea\\xb2\\x80\\xec\\x83\\x89 \\xeb\\xb0\\x8f \\xec\\xb9\\xb4\\xed\\x85\\x8c\\xea\\xb3\\xa0\\xeb\\xa6\\xac \\xec\\x98\\x81\\xec\\x97\\xad -->\\r\\n\\r\\n<!-- Contents -->\\r\\n<div id=\"container\">\\r\\n\\t<div class=\"docu_title\">\\r\\n\\t\\t<h2>\\xec\\xa0\\x84\\xec\\xb2\\xb4\\xeb\\x8f\\x84\\xec\\x84\\x9c\\xeb\\xaa\\xa9\\xeb\\xa1\\x9d</h2>\\r\\n\\t</div>\\r\\n\\t\\r\\n\\t<!-- \\xec\\xa0\\x84\\xec\\xb2\\xb4\\xeb\\x8f\\x84\\xec\\x84\\x9c\\xeb\\xaa\\xa9\\xeb\\xa1\\x9d wrap -->\\r\\n\\t<div class=\"full_book_list_wrap\">\\r\\n\\t\\t<!-- \\xeb\\xb8\\x8c\\xeb\\x9e\\x9c\\xeb\\x93\\x9c \\xec\\xa0\\x95\\xeb\\xa0\\xac \\xeb\\xb2\\x84\\xed\\x8a\\xbc -->\\r\\n\\t\\t\\r\\n        <div class=\"btn_brand_area\">       \\r\\n\\t\\t\\t<ul>\\r\\n\\t\\t\\t\\t<li class=\"curr\">\\r\\n                \\t<a href=\"/store/books/full_book_list.html\">\\r\\n                    \\t                    <span class=\"name_full\">\\xec\\xa0\\x84\\xec\\xb2\\xb4</span>\\r\\n                                        </a>\\r\\n                    \\r\\n                </li>\\r\\n\\t\\t\\t\\t<li >\\r\\n\\t\\t\\t\\t\\t<a href=\"/store/books/full_book_list.html?brand=HM\">\\r\\n                                        \\t<span class=\"name_abbr\">M</span>\\r\\n                    \\t\\t\\t\\t\\t</a>\\r\\n\\t\\t\\t\\t</li>\\r\\n\\r\\n\\t\\t\\t\\t<li >\\r\\n                \\t<a href=\"/store/books/full_book_list.html?brand=HA\">\\r\\n                                        \\t<span class=\"name_abbr\">A</span>\\r\\n                    \\t\\t\\t\\t\\t</a>\\r\\n                </li>\\r\\n\\t\\t\\t\\t<li >\\r\\n                \\t<a href=\"/store/books/full_book_list.html?brand=HB\">\\r\\n                                        \\t<span class=\"name_abbr\">B</span>\\r\\n                    \\t\\t\\t\\t\\t</a>\\r\\n                </li>\\r\\n\\t\\t\\t\\t<li >\\r\\n                \\t<a href=\"/store/books/full_book_list.html?brand=HL\">\\r\\n                                        \\t<span class=\"name_abbr\">L</span>\\r\\n                    \\t\\t\\t\\t\\t</a>\\r\\n                </li>\\r\\n\\t\\t\\t\\t<li >\\r\\n                \\t<a href=\"/store/books/full_book_list.html?brand=HE\">\\r\\n                                        \\t<span class=\"name_abbr\">E</span>\\r\\n                    \\t\\t\\t\\t\\t</a>\\r\\n                </li>\\r\\n\\t\\t\\t\\t<li >\\r\\n                \\t<a href=\"/store/books/full_book_list.html?brand=HR\">\\r\\n                                        \\t<span class=\"name_abbr\">R</span>\\r\\n                    \\t\\t\\t\\t\\t</a>\\r\\n                </li>\\r\\n\\t\\t\\t\\t<li >\\r\\n                \\t<a href=\"/store/books/full_book_list.html?brand=MK\">\\r\\n                                        \\t<span class=\"name_abbr\">MK</span>\\r\\n                    \\t\\t\\t\\t\\t</a>\\r\\n                </li>\\r\\n\\t\\t\\t\\t\\r\\n\\t\\t\\t</ul>\\r\\n\\t\\t</div>\\r\\n\\r\\n\\r\\n\\r\\n\\t\\t<!-- //\\xeb\\xb8\\x8c\\xeb\\x9e\\x9c\\xeb\\x93\\x9c \\xec\\xa0\\x95\\xeb\\xa0\\xac \\xeb\\xb2\\x84\\xed\\x8a\\xbc -->\\r\\n\\t\\t\\r\\n\\t\\t<!-- \\xec\\xb6\\x9c\\xea\\xb0\\x84\\xec\\x9d\\xbc/\\xeb\\x8f\\x84\\xec\\x84\\x9c\\xeb\\xaa\\x85 \\xec\\x88\\x9c-->\\r\\n\\t\\t<div class=\"series_lineup\">\\r\\n\\t\\t\\t<ul>\\r\\n\\t\\t\\t\\t<li><a href=\"/store/books/full_book_list.html?srt=p_pub_date&brand=\"  class=\"curr\" >\\xec\\xb6\\x9c\\xea\\xb0\\x84\\xec\\x9d\\xbc \\xec\\x88\\x9c</a></li>\\r\\n\\t\\t\\t\\t<li><a href=\"/store/books/full_book_list.html?srt=p_title&brand=\" >\\xeb\\x8f\\x84\\xec\\x84\\x9c\\xeb\\xaa\\x85 \\xec\\x88\\x9c</a></li>\\r\\n\\t\\t\\t</ul>\\r\\n\\t\\t</div>\\r\\n\\t\\t<!-- //\\xec\\xb6\\x9c\\xea\\xb0\\x84\\xec\\x9d\\xbc/\\xeb\\x8f\\x84\\xec\\x84\\x9c\\xeb\\xaa\\x85 \\xec\\x88\\x9c-->\\r\\n\\t\\t\\r\\n\\t\\t<!-- \\xec\\xa0\\x84\\xec\\xb2\\xb4 \\xeb\\xaa\\xa9\\xeb\\xa1\\x9d \\xeb\\x8b\\xa4\\xec\\x9a\\xb4\\xeb\\xa1\\x9c\\xeb\\x93\\x9c \\xeb\\xb2\\x84\\xed\\x8a\\xbc-->\\r\\n\\t\\t<div class=\"btn_full_list\"><a href=\"javascript:document.frm.submit();\">\\xec\\xa0\\x84\\xec\\xb2\\xb4 \\xeb\\xaa\\xa9\\xeb\\xa1\\x9d \\xeb\\x8b\\xa4\\xec\\x9a\\xb4\\xeb\\xa1\\x9c\\xeb\\x93\\x9c</a></div>\\r\\n\\t\\t\\r\\n\\t\\t<!-- \\xec\\xb1\\x85 \\xeb\\xa6\\xac\\xec\\x8a\\xa4\\xed\\x8a\\xb8 -->\\r\\n\\t\\t<div class=\"table_area\">\\r\\n\\t\\t\\t<table class=\"tbl_type_list\" border=\"0\" cellspacing=\"0\" summary=\"\\xec\\xa0\\x84\\xec\\xb2\\xb4\\xeb\\xaa\\xa9\\xeb\\xa1\\x9d \\xeb\\xa6\\xac\\xec\\x8a\\xa4\\xed\\x8a\\xb8 \\xed\\x85\\x8c\\xec\\x9d\\xb4\\xeb\\xb8\\x94\">\\r\\n\\t\\t\\t\\t<caption>\\xec\\xa0\\x84\\xec\\xb2\\xb4\\xeb\\xaa\\xa9\\xeb\\xa1\\x9d \\xeb\\xa6\\xac\\xec\\x8a\\xa4\\xed\\x8a\\xb8</caption>\\r\\n\\t\\t\\t\\t<colgroup>\\r\\n\\t\\t\\t\\t<col width=\"180px\">\\r\\n\\t\\t\\t\\t<col width=\"\">\\r\\n\\t\\t\\t\\t<col width=\"160px\">\\r\\n\\t\\t\\t\\t<col width=\"134px\">\\r\\n\\t\\t\\t\\t<col width=\"130px\">\\r\\n\\t\\t\\t\\t</colgroup>\\r\\n\\t\\t\\t\\t<thead>\\r\\n\\t\\t\\t\\t\\t<tr>\\r\\n\\t\\t\\t\\t\\t\\t<th scope=\"col\">\\xeb\\xb8\\x8c\\xeb\\x9e\\x9c\\xeb\\x93\\x9c</th>\\r\\n\\t\\t\\t\\t\\t\\t<th scope=\"col\">\\xeb\\x8f\\x84\\xec\\x84\\x9c\\xeb\\xaa\\x85</th>\\r\\n\\t\\t\\t\\t\\t\\t<th scope=\"col\">\\xec\\xa0\\x80\\xec\\x9e\\x90</th>\\r\\n\\t\\t\\t\\t\\t\\t<th scope=\"col\">\\xeb\\xb0\\x9c\\xed\\x96\\x89\\xec\\x9d\\xbc</th>\\r\\n\\t\\t\\t\\t\\t\\t<th scope=\"col\">\\xec\\xa0\\x95\\xea\\xb0\\x80</th>\\r\\n\\t\\t\\t\\t\\t</tr>\\r\\n\\t\\t\\t\\t</thead>\\r\\n\\t\\t\\t\\t<tbody>\\r\\n\\t\\t\\t\\t\\t\\t\\t\\t\\t<tr>\\r\\n\\t\\t\\t\\t\\t\\t<td class=\"brd_m\">\\xed\\x95\\x9c\\xeb\\xb9\\x9b\\xeb\\xaf\\xb8\\xeb\\x94\\x94\\xec\\x96\\xb4</td>\\r\\n\\t\\t\\t\\t\\t\\t<td class=\"left\"><a href=\"/store/books/look.php?p_code=B7677466304\">\\xeb\\xaa\\xa8\\xeb\\x8d\\x98 \\xec\\x9e\\x90\\xeb\\xb0\\x94\\xec\\x8a\\xa4\\xed\\x81\\xac\\xeb\\xa6\\xbd\\xed\\x8a\\xb8 \\xed\\x95\\xb5\\xec\\x8b\\xac \\xea\\xb0\\x80\\xec\\x9d\\xb4\\xeb\\x93\\x9c</a></td>\\r\\n\\t\\t\\t\\t\\t\\t\\t\\t\\t\\t\\t\\t\\t<td class=\"left\">\\xec\\x95\\x8c\\xeb\\xb2\\xa0\\xeb\\xa5\\xb4\\xed\\x86\\xa0 \\xeb\\xaa\\xac\\xed\\x83\\x88\\xeb\\xa0\\x88\\xec\\x8b\\x9c   </td>\\r\\n\\t\\t\\t\\t\\t\\t\\t\\t\\t\\t\\t\\t<td>2021-05-31</td>\\r\\n\\t\\t\\t\\t\\t\\t<td class=\"right\">19,800\\xec\\x9b\\x90</td>\\r\\n\\t\\t\\t\\t\\t</tr>\\r\\n\\r\\n\\t\\t\\t\\t\\t\\t\\t\\t\\t\\t<tr>\\r\\n\\t\\t\\t\\t\\t\\t<td class=\"brd_m\">\\xed\\x95\\x9c\\xeb\\xb9\\x9b\\xeb\\xaf\\xb8\\xeb\\x94\\x94\\xec\\x96\\xb4</td>\\r\\n\\t\\t\\t\\t\\t\\t<td class=\"left\"><a href=\"/store/books/look.php?p_code=B8494674601\">\\xea\\xb3\\xa0\\xec\\x84\\xb1\\xeb\\x8a\\xa5 \\xed\\x8c\\x8c\\xec\\x9d\\xb4\\xec\\x8d\\xac&#40;2\\xed\\x8c\\x90&#41;</a></td>\\r\\n\\t\\t\\t\\t\\t\\t\\t\\t\\t\\t\\t\\t\\t<td class=\"left\">\\xeb\\xaf\\xb8\\xec\\x83\\xa4 \\xea\\xb3\\xa0\\xeb\\xa0\\x90\\xeb\\xa6\\xad \\xec\\x99\\xb8 1\\xeb\\xaa\\x85  </td>\\r\\n\\t\\t\\t\\t\\t\\t\\t\\t\\t\\t\\t\\t<td>2021-05-10</td>\\r\\n\\t\\t\\t\\t\\t\\t<td class=\"right\">36,000\\xec\\x9b\\x90</td>\\r\\n\\t\\t\\t\\t\\t</tr>\\r\\n\\r\\n\\t\\t\\t\\t\\t\\t\\t\\t\\t\\t<tr>\\r\\n\\t\\t\\t\\t\\t\\t<td class=\"brd_m\">\\xed\\x95\\x9c\\xeb\\xb9\\x9b\\xeb\\xaf\\xb8\\xeb\\x94\\x94\\xec\\x96\\xb4</td>\\r\\n\\t\\t\\t\\t\\t\\t<td class=\"left\"><a href=\"/store/books/look.php?p_code=B4998513859\">\\xeb\\x8d\\xb0\\xec\\x9d\\xb4\\xed\\x84\\xb0\\xea\\xb0\\x80 \\xeb\\x9b\\xb0\\xec\\x96\\xb4\\xeb\\x85\\xb8\\xeb\\x8a\\x94 AI \\xeb\\x86\\x80\\xec\\x9d\\xb4\\xed\\x84\\xb0, \\xec\\xba\\x90\\xea\\xb8\\x80</a></td>\\r\\n\\t\\t\\t\\t\\t\\t\\t\\t\\t\\t\\t\\t\\t<td class=\"left\">\\xea\\xb0\\x80\\xeb\\x8f\\x84\\xec\\x99\\x80\\xed\\x82\\xa4 \\xeb\\x8b\\xa4\\xec\\x9d\\xb4\\xec\\x8a\\xa4\\xec\\xbc\\x80 \\xec\\x99\\xb8 3\\xeb\\xaa\\x85  </td>\\r\\n\\t\\t\\t\\t\\t\\t\\t\\t\\t\\t\\t\\t<td>2021-05-10</td>\\r\\n\\t\\t\\t\\t\\t\\t<td class=\"right\">35,000\\xec\\x9b\\x90</td>\\r\\n\\t\\t\\t\\t\\t</tr>\\r\\n\\r\\n\\t\\t\\t\\t\\t\\t\\t\\t\\t\\t<tr>\\r\\n\\t\\t\\t\\t\\t\\t<td class=\"brd_m\">\\xed\\x95\\x9c\\xeb\\xb9\\x9b\\xeb\\xaf\\xb8\\xeb\\x94\\x94\\xec\\x96\\xb4</td>\\r\\n\\t\\t\\t\\t\\t\\t<td class=\"left\"><a href=\"/store/books/look.php?p_code=B2862122581\">\\xeb\\x8d\\xb0\\xec\\x9d\\xb4\\xed\\x84\\xb0 \\xea\\xb3\\xbc\\xed\\x95\\x99\\xec\\x9d\\x84 \\xec\\x9c\\x84\\xed\\x95\\x9c \\xed\\x86\\xb5\\xea\\xb3\\x84&#40;2\\xed\\x8c\\x90&#41;</a></td>\\r\\n\\t\\t\\t\\t\\t\\t\\t\\t\\t\\t\\t\\t\\t<td class=\"left\">\\xed\\x94\\xbc\\xed\\x84\\xb0 \\xeb\\xb8\\x8c\\xeb\\xa3\\xa8\\xec\\x8a\\xa4 \\xec\\x99\\xb8 2\\xeb\\xaa\\x85  </td>\\r\\n\\t\\t\\t\\t\\t\\t\\t\\t\\t\\t\\t\\t<td>2021-05-07</td>\\r\\n\\t\\t\\t\\t\\t\\t<td class=\"right\">34,000\\xec\\x9b\\x90</td>\\r\\n\\t\\t\\t\\t\\t</tr>\\r\\n\\r\\n\\t\\t\\t\\t\\t\\t\\t\\t\\t\\t<tr>\\r\\n\\t\\t\\t\\t\\t\\t<td class=\"brd_m\">\\xed\\x95\\x9c\\xeb\\xb9\\x9b\\xeb\\xaf\\xb8\\xeb\\x94\\x94\\xec\\x96\\xb4</td>\\r\\n\\t\\t\\t\\t\\t\\t<td class=\"left\"><a href=\"/store/books/look.php?p_code=B7461753617\">\\xec\\x9d\\xbc\\xec\\x9e\\x98\\xeb\\x9f\\xac\\xec\\x9d\\x98 \\xeb\\xb9\\x84\\xeb\\xb0\\x80, \\xea\\xb5\\xac\\xea\\xb8\\x80 \\xec\\x8a\\xa4\\xed\\x94\\x84\\xeb\\xa0\\x88\\xeb\\x93\\x9c\\xec\\x8b\\x9c\\xed\\x8a\\xb8 \\xec\\xa0\\x9c\\xeb\\x8c\\x80\\xeb\\xa1\\x9c \\xed\\x8c\\x8c\\xed\\x97\\xa4\\xec\\xb9\\x98\\xea\\xb8\\xb0</a></td>\\r\\n\\t\\t\\t\\t\\t\\t\\t\\t\\t\\t\\t\\t\\t<td class=\"left\">\\xea\\xb0\\x95\\xeb\\x82\\xa8\\xec\\x84\\x9d   </td>\\r\\n\\t\\t\\t\\t\\t\\t\\t\\t\\t\\t\\t\\t<td>2021-05-07</td>\\r\\n\\t\\t\\t\\t\\t\\t<td class=\"right\">28,000\\xec\\x9b\\x90</td>\\r\\n\\t\\t\\t\\t\\t</tr>\\r\\n\\r\\n\\t\\t\\t\\t\\t\\t\\t\\t\\t\\t<tr>\\r\\n\\t\\t\\t\\t\\t\\t<td class=\"brd_b\">\\xed\\x95\\x9c\\xeb\\xb9\\x9b\\xeb\\xb9\\x84\\xec\\xa6\\x88</td>\\r\\n\\t\\t\\t\\t\\t\\t<td class=\"left\"><a href=\"/store/books/look.php?p_code=B7599434121\">\\xeb\\xb6\\x80\\xeb\\x8f\\x99\\xec\\x82\\xb0 \\xec\\x84\\xb8\\xea\\xb8\\x88 \\xec\\x82\\xac\\xec\\x9a\\xa9\\xec\\x84\\xa4\\xeb\\xaa\\x85\\xec\\x84\\x9c</a></td>\\r\\n\\t\\t\\t\\t\\t\\t\\t\\t\\t\\t\\t\\t\\t<td class=\"left\">\\xea\\xb9\\x80\\xec\\x84\\xb1\\xec\\x9d\\xbc \\xec\\x99\\xb8 1\\xeb\\xaa\\x85  </td>\\r\\n\\t\\t\\t\\t\\t\\t\\t\\t\\t\\t\\t\\t<td>2021-05-03</td>\\r\\n\\t\\t\\t\\t\\t\\t<td class=\"right\">12,000\\xec\\x9b\\x90</td>\\r\\n\\t\\t\\t\\t\\t</tr>\\r\\n\\r\\n\\t\\t\\t\\t\\t\\t\\t\\t\\t\\t<tr>\\r\\n\\t\\t\\t\\t\\t\\t<td class=\"brd_m\">\\xed\\x95\\x9c\\xeb\\xb9\\x9b\\xeb\\xaf\\xb8\\xeb\\x94\\x94\\xec\\x96\\xb4</td>\\r\\n\\t\\t\\t\\t\\t\\t<td class=\"left\"><a href=\"/store/books/look.php?p_code=B6410605208\">\\xec\\x9d\\xb4\\xeb\\xb2\\xa4\\xed\\x8a\\xb8 \\xea\\xb8\\xb0\\xeb\\xb0\\x98 \\xeb\\xa7\\x88\\xec\\x9d\\xb4\\xed\\x81\\xac\\xeb\\xa1\\x9c\\xec\\x84\\x9c\\xeb\\xb9\\x84\\xec\\x8a\\xa4 \\xea\\xb5\\xac\\xec\\xb6\\x95</a></td>\\r\\n\\t\\t\\t\\t\\t\\t\\t\\t\\t\\t\\t\\t\\t<td class=\"left\">\\xec\\x95\\xa0\\xeb\\x8d\\xa4 \\xeb\\xb2\\xa8\\xeb\\xa9\\x94\\xec\\x96\\xb4   </td>\\r\\n\\t\\t\\t\\t\\t\\t\\t\\t\\t\\t\\t\\t<td>2021-05-01</td>\\r\\n\\t\\t\\t\\t\\t\\t<td class=\"right\">28,000\\xec\\x9b\\x90</td>\\r\\n\\t\\t\\t\\t\\t</tr>\\r\\n\\r\\n\\t\\t\\t\\t\\t\\t\\t\\t\\t\\t<tr>\\r\\n\\t\\t\\t\\t\\t\\t<td class=\"brd_m\">\\xed\\x95\\x9c\\xeb\\xb9\\x9b\\xeb\\xaf\\xb8\\xeb\\x94\\x94\\xec\\x96\\xb4</td>\\r\\n\\t\\t\\t\\t\\t\\t<td class=\"left\"><a href=\"/store/books/look.php?p_code=B7267069633\">\\xed\\x8c\\x8c\\xec\\x9d\\xb4\\xec\\x8d\\xac \\xeb\\xb9\\x84\\xeb\\x8f\\x99\\xea\\xb8\\xb0 \\xeb\\x9d\\xbc\\xec\\x9d\\xb4\\xeb\\xb8\\x8c\\xeb\\x9f\\xac\\xeb\\xa6\\xac Asyncio</a></td>\\r\\n\\t\\t\\t\\t\\t\\t\\t\\t\\t\\t\\t\\t\\t<td class=\"left\">\\xec\\xbc\\x80\\xec\\x9d\\xbc\\xeb\\x9f\\xbd \\xed\\x95\\xb4\\xed\\x8c\\x85   </td>\\r\\n\\t\\t\\t\\t\\t\\t\\t\\t\\t\\t\\t\\t<td>2021-05-01</td>\\r\\n\\t\\t\\t\\t\\t\\t<td class=\"right\">18,000\\xec\\x9b\\x90</td>\\r\\n\\t\\t\\t\\t\\t</tr>\\r\\n\\r\\n\\t\\t\\t\\t\\t\\t\\t\\t\\t\\t<tr>\\r\\n\\t\\t\\t\\t\\t\\t<td class=\"brd_m\">\\xed\\x95\\x9c\\xeb\\xb9\\x9b\\xeb\\xaf\\xb8\\xeb\\x94\\x94\\xec\\x96\\xb4</td>\\r\\n\\t\\t\\t\\t\\t\\t<td class=\"left\"><a href=\"/store/books/look.php?p_code=B9078814814\">\\xed\\x95\\x9c \\xea\\xb6\\x8c\\xec\\x9c\\xbc\\xeb\\xa1\\x9c \\xeb\\x81\\x9d\\xeb\\x82\\xb4\\xeb\\x8a\\x94 Node & Express&#40;2\\xed\\x8c\\x90&#41;</a></td>\\r\\n\\t\\t\\t\\t\\t\\t\\t\\t\\t\\t\\t\\t\\t<td class=\"left\">\\xec\\x9d\\xb4\\xec\\x84\\xa0 \\xeb\\xb8\\x8c\\xeb\\x9d\\xbc\\xec\\x9a\\xb4   </td>\\r\\n\\t\\t\\t\\t\\t\\t\\t\\t\\t\\t\\t\\t<td>2021-05-01</td>\\r\\n\\t\\t\\t\\t\\t\\t<td class=\"right\">28,000\\xec\\x9b\\x90</td>\\r\\n\\t\\t\\t\\t\\t</tr>\\r\\n\\r\\n\\t\\t\\t\\t\\t\\t\\t\\t\\t\\t<tr>\\r\\n\\t\\t\\t\\t\\t\\t<td class=\"brd_m\">\\xed\\x95\\x9c\\xeb\\xb9\\x9b\\xeb\\xaf\\xb8\\xeb\\x94\\x94\\xec\\x96\\xb4</td>\\r\\n\\t\\t\\t\\t\\t\\t<td class=\"left\"><a href=\"/store/books/look.php?p_code=B9543045444\">\\xec\\x86\\x8c\\xeb\\xac\\xb8\\xeb\\x82\\x9c \\xeb\\xaa\\x85\\xea\\xb0\\x95\\xec\\x9d\\x98 : \\xea\\xb9\\x80\\xec\\x83\\x81\\xed\\x98\\x95\\xec\\x9d\\x98 SQL \\xec\\xa0\\x95\\xeb\\xb3\\xb5</a></td>\\r\\n\\t\\t\\t\\t\\t\\t\\t\\t\\t\\t\\t\\t\\t<td class=\"left\">\\xea\\xb9\\x80\\xec\\x83\\x81\\xed\\x98\\x95   </td>\\r\\n\\t\\t\\t\\t\\t\\t\\t\\t\\t\\t\\t\\t<td>2021-05-01</td>\\r\\n\\t\\t\\t\\t\\t\\t<td class=\"right\">39,000\\xec\\x9b\\x90</td>\\r\\n\\t\\t\\t\\t\\t</tr>\\r\\n\\r\\n\\t\\t\\t\\t\\t\\t\\t\\t\\t\\t<tr>\\r\\n\\t\\t\\t\\t\\t\\t<td class=\"brd_b\">\\xed\\x95\\x9c\\xeb\\xb9\\x9b\\xeb\\xb9\\x84\\xec\\xa6\\x88</td>\\r\\n\\t\\t\\t\\t\\t\\t<td class=\"left\"><a href=\"/store/books/look.php?p_code=B5960452302\">\\xeb\\x82\\x98\\xeb\\x8a\\x94 \\xeb\\x8f\\x85\\xec\\x9d\\xb4 \\xeb\\x90\\x98\\xeb\\x8a\\x94 \\xea\\xb4\\x80\\xea\\xb3\\x84\\xeb\\xa5\\xbc \\xeb\\x81\\x9d\\xeb\\x82\\xb4\\xea\\xb8\\xb0\\xeb\\xa1\\x9c \\xed\\x96\\x88\\xeb\\x8b\\xa4</a></td>\\r\\n\\t\\t\\t\\t\\t\\t\\t\\t\\t\\t\\t\\t\\t<td class=\"left\">\\xeb\\xa7\\x88\\xeb\\xa6\\xac\\xec\\x98\\xb9 \\xeb\\xb8\\x94\\xeb\\xa6\\xac\\xed\\x81\\xac   </td>\\r\\n\\t\\t\\t\\t\\t\\t\\t\\t\\t\\t\\t\\t<td>2021-04-30</td>\\r\\n\\t\\t\\t\\t\\t\\t<td class=\"right\">15,500\\xec\\x9b\\x90</td>\\r\\n\\t\\t\\t\\t\\t</tr>\\r\\n\\r\\n\\t\\t\\t\\t\\t\\t\\t\\t\\t\\t<tr>\\r\\n\\t\\t\\t\\t\\t\\t<td class=\"brd_m\">\\xed\\x95\\x9c\\xeb\\xb9\\x9b\\xeb\\xaf\\xb8\\xeb\\x94\\x94\\xec\\x96\\xb4</td>\\r\\n\\t\\t\\t\\t\\t\\t<td class=\"left\"><a href=\"/store/books/look.php?p_code=B7362588632\">\\xec\\x97\\x91\\xec\\x85\\x80 \\xeb\\x8d\\xb0\\xec\\x9d\\xb4\\xed\\x84\\xb0 \\xeb\\xb6\\x84\\xec\\x84\\x9d \\xeb\\xb0\\x94\\xec\\x9d\\xb4\\xeb\\xb8\\x94</a></td>\\r\\n\\t\\t\\t\\t\\t\\t\\t\\t\\t\\t\\t\\t\\t<td class=\"left\">\\xec\\xb5\\x9c\\xec\\xa4\\x80\\xec\\x84\\xa0   </td>\\r\\n\\t\\t\\t\\t\\t\\t\\t\\t\\t\\t\\t\\t<td>2021-04-30</td>\\r\\n\\t\\t\\t\\t\\t\\t<td class=\"right\">38,000\\xec\\x9b\\x90</td>\\r\\n\\t\\t\\t\\t\\t</tr>\\r\\n\\r\\n\\t\\t\\t\\t\\t\\t\\t\\t\\t\\t<tr>\\r\\n\\t\\t\\t\\t\\t\\t<td class=\"brd_m\">\\xed\\x95\\x9c\\xeb\\xb9\\x9b\\xeb\\xaf\\xb8\\xeb\\x94\\x94\\xec\\x96\\xb4</td>\\r\\n\\t\\t\\t\\t\\t\\t<td class=\"left\"><a href=\"/store/books/look.php?p_code=B5726083423\">\\xeb\\xa7\\x9b\\xec\\x9e\\x88\\xeb\\x8a\\x94 \\xeb\\x94\\x94\\xec\\x9e\\x90\\xec\\x9d\\xb8 \\xec\\x96\\xb4\\xeb\\x8f\\x84\\xeb\\xb9\\x84 XD CC</a></td>\\r\\n\\t\\t\\t\\t\\t\\t\\t\\t\\t\\t\\t\\t\\t<td class=\"left\">\\xec\\x9e\\x84\\xec\\x84\\xa0\\xec\\xa3\\xbc   </td>\\r\\n\\t\\t\\t\\t\\t\\t\\t\\t\\t\\t\\t\\t<td>2021-04-30</td>\\r\\n\\t\\t\\t\\t\\t\\t<td class=\"right\">24,000\\xec\\x9b\\x90</td>\\r\\n\\t\\t\\t\\t\\t</tr>\\r\\n\\r\\n\\t\\t\\t\\t\\t\\t\\t\\t\\t\\t<tr>\\r\\n\\t\\t\\t\\t\\t\\t<td class=\"brd_e\">\\xed\\x95\\x9c\\xeb\\xb9\\x9b\\xec\\x97\\x90\\xeb\\x93\\x80</td>\\r\\n\\t\\t\\t\\t\\t\\t<td class=\"left\"><a href=\"/store/books/look.php?p_code=B8970347723\">\\xec\\x9d\\xbd\\xeb\\x8a\\x94 \\xec\\x88\\x9c\\xea\\xb0\\x84 \\xec\\x9b\\x83\\xec\\x9d\\x8c\\xec\\x9d\\xb4 \\xed\\x8c\\xa1! \\xeb\\x82\\xb1\\xeb\\xa7\\x90 \\xed\\x8d\\xbc\\xec\\xa6\\x90\\xec\\x9d\\x98 \\xec\\x8b\\xa0</a></td>\\r\\n\\t\\t\\t\\t\\t\\t\\t\\t\\t\\t\\t\\t\\t<td class=\"left\">\\xed\\x95\\x9c\\xeb\\xb9\\x9b\\xed\\x95\\x99\\xec\\x8a\\xb5\\xec\\x97\\xb0\\xea\\xb5\\xac\\xed\\x9a\\x8c \\xec\\x99\\xb8 1\\xeb\\xaa\\x85  </td>\\r\\n\\t\\t\\t\\t\\t\\t\\t\\t\\t\\t\\t\\t<td>2021-04-30</td>\\r\\n\\t\\t\\t\\t\\t\\t<td class=\"right\">9,800\\xec\\x9b\\x90</td>\\r\\n\\t\\t\\t\\t\\t</tr>\\r\\n\\r\\n\\t\\t\\t\\t\\t\\t\\t\\t\\t\\t<tr>\\r\\n\\t\\t\\t\\t\\t\\t<td class=\"brd_e\">\\xed\\x95\\x9c\\xeb\\xb9\\x9b\\xec\\x97\\x90\\xeb\\x93\\x80</td>\\r\\n\\t\\t\\t\\t\\t\\t<td class=\"left\"><a href=\"/store/books/look.php?p_code=B1260294646\">\\xec\\x9d\\xbd\\xeb\\x8a\\x94 \\xec\\x88\\x9c\\xea\\xb0\\x84 \\xec\\x9b\\x83\\xec\\x9d\\x8c\\xec\\x9d\\xb4 \\xed\\x8c\\xa1! \\xec\\x86\\x8d\\xeb\\x8b\\xb4\\xec\\x9d\\x98 \\xec\\x8b\\xa0</a></td>\\r\\n\\t\\t\\t\\t\\t\\t\\t\\t\\t\\t\\t\\t\\t<td class=\"left\">\\xed\\x95\\x9c\\xeb\\xb9\\x9b\\xed\\x95\\x99\\xec\\x8a\\xb5\\xec\\x97\\xb0\\xea\\xb5\\xac\\xed\\x9a\\x8c \\xec\\x99\\xb8 1\\xeb\\xaa\\x85  </td>\\r\\n\\t\\t\\t\\t\\t\\t\\t\\t\\t\\t\\t\\t<td>2021-04-30</td>\\r\\n\\t\\t\\t\\t\\t\\t<td class=\"right\">11,000\\xec\\x9b\\x90</td>\\r\\n\\t\\t\\t\\t\\t</tr>\\r\\n\\r\\n\\t\\t\\t\\t\\t\\t\\t\\t\\t\\t<tr>\\r\\n\\t\\t\\t\\t\\t\\t<td class=\"brd_e\">\\xed\\x95\\x9c\\xeb\\xb9\\x9b\\xec\\x97\\x90\\xeb\\x93\\x80</td>\\r\\n\\t\\t\\t\\t\\t\\t<td class=\"left\"><a href=\"/store/books/look.php?p_code=B8662800021\">\\xec\\x9d\\xbd\\xeb\\x8a\\x94 \\xec\\x88\\x9c\\xea\\xb0\\x84 \\xec\\x9b\\x83\\xec\\x9d\\x8c\\xec\\x9d\\xb4 \\xed\\x8c\\xa1! \\xec\\x88\\x98\\xec\\x88\\x98\\xea\\xbb\\x98\\xeb\\x81\\xbc\\xec\\x9d\\x98 \\xec\\x8b\\xa0</a></td>\\r\\n\\t\\t\\t\\t\\t\\t\\t\\t\\t\\t\\t\\t\\t<td class=\"left\">\\xed\\x95\\x9c\\xeb\\xb9\\x9b\\xed\\x95\\x99\\xec\\x8a\\xb5\\xec\\x97\\xb0\\xea\\xb5\\xac\\xed\\x9a\\x8c \\xec\\x99\\xb8 1\\xeb\\xaa\\x85  </td>\\r\\n\\t\\t\\t\\t\\t\\t\\t\\t\\t\\t\\t\\t<td>2021-04-30</td>\\r\\n\\t\\t\\t\\t\\t\\t<td class=\"right\">11,000\\xec\\x9b\\x90</td>\\r\\n\\t\\t\\t\\t\\t</tr>\\r\\n\\r\\n\\t\\t\\t\\t\\t\\t\\t\\t\\t\\t<tr>\\r\\n\\t\\t\\t\\t\\t\\t<td class=\"brd_m\">\\xed\\x95\\x9c\\xeb\\xb9\\x9b\\xeb\\xaf\\xb8\\xeb\\x94\\x94\\xec\\x96\\xb4</td>\\r\\n\\t\\t\\t\\t\\t\\t<td class=\"left\"><a href=\"/store/books/look.php?p_code=B7614945801\">\\xec\\xbf\\xbc\\xec\\xbb\\xa4\\xec\\x8a\\xa4 \\xec\\xbf\\xa1\\xeb\\xb6\\x81</a></td>\\r\\n\\t\\t\\t\\t\\t\\t\\t\\t\\t\\t\\t\\t\\t<td class=\"left\">\\xec\\x95\\x8c\\xeb\\xa0\\x89\\xec\\x8a\\xa4 \\xec\\x86\\x8c\\xed\\x86\\xa0 \\xeb\\xb6\\x80\\xec\\x97\\x90\\xeb\\x85\\xb8 \\xec\\x99\\xb8 1\\xeb\\xaa\\x85  </td>\\r\\n\\t\\t\\t\\t\\t\\t\\t\\t\\t\\t\\t\\t<td>2021-04-28</td>\\r\\n\\t\\t\\t\\t\\t\\t<td class=\"right\">35,000\\xec\\x9b\\x90</td>\\r\\n\\t\\t\\t\\t\\t</tr>\\r\\n\\r\\n\\t\\t\\t\\t\\t\\t\\t\\t\\t\\t<tr>\\r\\n\\t\\t\\t\\t\\t\\t<td class=\"brd_b\">\\xed\\x95\\x9c\\xeb\\xb9\\x9b\\xeb\\xb9\\x84\\xec\\xa6\\x88</td>\\r\\n\\t\\t\\t\\t\\t\\t<td class=\"left\"><a href=\"/store/books/look.php?p_code=B6666542497\">1\\xeb\\x85\\x84 \\xed\\x9b\\x84 \\xeb\\x82\\xb4\\xea\\xb0\\x80 \\xec\\x9d\\xb4 \\xec\\x84\\xb8\\xec\\x83\\x81\\xec\\x97\\x90 \\xec\\x97\\x86\\xeb\\x8b\\xa4\\xeb\\xa9\\xb4</a></td>\\r\\n\\t\\t\\t\\t\\t\\t\\t\\t\\t\\t\\t\\t\\t<td class=\"left\">\\xec\\x8b\\x9c\\xeb\\xaf\\xb8\\xec\\xa6\\x88 \\xec\\xbc\\x84   </td>\\r\\n\\t\\t\\t\\t\\t\\t\\t\\t\\t\\t\\t\\t<td>2021-04-23</td>\\r\\n\\t\\t\\t\\t\\t\\t<td class=\"right\">13,800\\xec\\x9b\\x90</td>\\r\\n\\t\\t\\t\\t\\t</tr>\\r\\n\\r\\n\\t\\t\\t\\t\\t\\t\\t\\t\\t\\t<tr>\\r\\n\\t\\t\\t\\t\\t\\t<td class=\"brd_b\">\\xed\\x95\\x9c\\xeb\\xb9\\x9b\\xeb\\xb9\\x84\\xec\\xa6\\x88</td>\\r\\n\\t\\t\\t\\t\\t\\t<td class=\"left\"><a href=\"/store/books/look.php?p_code=B9915338821\">\\xec\\xa4\\x91\\xec\\x84\\xb8 1 : \\xeb\\xa7\\x8c\\xed\\x99\\x94\\xeb\\xa1\\x9c \\xeb\\xb0\\xb0\\xec\\x9a\\xb0\\xeb\\x8a\\x94 \\xec\\x84\\x9c\\xec\\x96\\x91\\xec\\x82\\xac</a></td>\\r\\n\\t\\t\\t\\t\\t\\t\\t\\t\\t\\t\\t\\t\\t<td class=\"left\">\\xed\\x94\\x8c\\xeb\\xa1\\x9c\\xeb\\xa6\\xac\\xec\\x95\\x99 \\xeb\\xa7\\x88\\xec\\xa0\\xa4 \\xec\\x99\\xb8 1\\xeb\\xaa\\x85  </td>\\r\\n\\t\\t\\t\\t\\t\\t\\t\\t\\t\\t\\t\\t<td>2021-04-23</td>\\r\\n\\t\\t\\t\\t\\t\\t<td class=\"right\">18,500\\xec\\x9b\\x90</td>\\r\\n\\t\\t\\t\\t\\t</tr>\\r\\n\\r\\n\\t\\t\\t\\t\\t\\t\\t\\t\\t\\t<tr>\\r\\n\\t\\t\\t\\t\\t\\t<td class=\"brd_b\">\\xed\\x95\\x9c\\xeb\\xb9\\x9b\\xeb\\xb9\\x84\\xec\\xa6\\x88</td>\\r\\n\\t\\t\\t\\t\\t\\t<td class=\"left\"><a href=\"/store/books/look.php?p_code=B2832646005\">\\xec\\xa4\\x91\\xec\\x84\\xb8 2 : \\xeb\\xa7\\x8c\\xed\\x99\\x94\\xeb\\xa1\\x9c \\xeb\\xb0\\xb0\\xec\\x9a\\xb0\\xeb\\x8a\\x94 \\xec\\x84\\x9c\\xec\\x96\\x91\\xec\\x82\\xac</a></td>\\r\\n\\t\\t\\t\\t\\t\\t\\t\\t\\t\\t\\t\\t\\t<td class=\"left\">\\xed\\x8c\\x8c\\xeb\\x8b\\x88 \\xeb\\xa7\\x88\\xeb\\x93\\xa4\\xeb\\xa6\\xb0 \\xec\\x99\\xb8 1\\xeb\\xaa\\x85  </td>\\r\\n\\t\\t\\t\\t\\t\\t\\t\\t\\t\\t\\t\\t<td>2021-04-23</td>\\r\\n\\t\\t\\t\\t\\t\\t<td class=\"right\">18,500\\xec\\x9b\\x90</td>\\r\\n\\t\\t\\t\\t\\t</tr>\\r\\n\\r\\n\\t\\t\\t\\t\\t\\t\\t\\t\\t\\t<tr>\\r\\n\\t\\t\\t\\t\\t\\t<td class=\"brd_m\">\\xed\\x95\\x9c\\xeb\\xb9\\x9b\\xeb\\xaf\\xb8\\xeb\\x94\\x94\\xec\\x96\\xb4</td>\\r\\n\\t\\t\\t\\t\\t\\t<td class=\"left\"><a href=\"/store/books/look.php?p_code=B9090689318\">\\xec\\x8b\\xa4\\xec\\xa0\\x84 \\xec\\x8b\\x9c\\xea\\xb3\\x84\\xec\\x97\\xb4 \\xeb\\xb6\\x84\\xec\\x84\\x9d</a></td>\\r\\n\\t\\t\\t\\t\\t\\t\\t\\t\\t\\t\\t\\t\\t<td class=\"left\">\\xec\\x97\\x90\\xec\\x9d\\xbc\\xeb\\xa6\\xb0 \\xeb\\x8b\\x90\\xec\\x8a\\xa8   </td>\\r\\n\\t\\t\\t\\t\\t\\t\\t\\t\\t\\t\\t\\t<td>2021-04-09</td>\\r\\n\\t\\t\\t\\t\\t\\t<td class=\"right\">38,000\\xec\\x9b\\x90</td>\\r\\n\\t\\t\\t\\t\\t</tr>\\r\\n\\r\\n\\t\\t\\t\\t\\t\\t\\t\\t\\t\\t<tr>\\r\\n\\t\\t\\t\\t\\t\\t<td class=\"brd_a\">\\xed\\x95\\x9c\\xeb\\xb9\\x9b\\xec\\x95\\x84\\xec\\xb9\\xb4\\xeb\\x8d\\xb0\\xeb\\xaf\\xb8</td>\\r\\n\\t\\t\\t\\t\\t\\t<td class=\"left\"><a href=\"/store/books/look.php?p_code=B9477508508\">\\xeb\\x88\\x84\\xec\\x9b\\x8c\\xec\\x84\\x9c \\xec\\x9d\\xbd\\xeb\\x8a\\x94 \\xed\\x86\\xb5\\xea\\xb3\\x84\\xed\\x95\\x99</a></td>\\r\\n\\t\\t\\t\\t\\t\\t\\t\\t\\t\\t\\t\\t\\t<td class=\"left\">\\xec\\x99\\x80\\xec\\xbf\\xa0\\xec\\x9d\\xb4 \\xec\\x9a\\x94\\xec\\x8b\\x9c\\xec\\x9c\\xa0\\xed\\x82\\xa4 \\xec\\x99\\xb8 1\\xeb\\xaa\\x85  </td>\\r\\n\\t\\t\\t\\t\\t\\t\\t\\t\\t\\t\\t\\t<td>2021-04-09</td>\\r\\n\\t\\t\\t\\t\\t\\t<td class=\"right\">19,800\\xec\\x9b\\x90</td>\\r\\n\\t\\t\\t\\t\\t</tr>\\r\\n\\r\\n\\t\\t\\t\\t\\t\\t\\t\\t\\t\\t<tr>\\r\\n\\t\\t\\t\\t\\t\\t<td class=\"brd_b\">\\xed\\x95\\x9c\\xeb\\xb9\\x9b\\xeb\\xb9\\x84\\xec\\xa6\\x88</td>\\r\\n\\t\\t\\t\\t\\t\\t<td class=\"left\"><a href=\"/store/books/look.php?p_code=B7301449278\">\\xec\\xa0\\xa0\\xeb\\x8d\\x94 \\xeb\\xaa\\xa8\\xec\\x9e\\x90\\xec\\x9d\\xb4\\xed\\x81\\xac</a></td>\\r\\n\\t\\t\\t\\t\\t\\t\\t\\t\\t\\t\\t\\t\\t<td class=\"left\">\\xeb\\x8b\\xa4\\xed\\x94\\x84\\xeb\\x82\\x98 \\xec\\xa1\\xb0\\xec\\x97\\x98 \\xec\\x99\\xb8 1\\xeb\\xaa\\x85  </td>\\r\\n\\t\\t\\t\\t\\t\\t\\t\\t\\t\\t\\t\\t<td>2021-04-05</td>\\r\\n\\t\\t\\t\\t\\t\\t<td class=\"right\">16,500\\xec\\x9b\\x90</td>\\r\\n\\t\\t\\t\\t\\t</tr>\\r\\n\\r\\n\\t\\t\\t\\t\\t\\t\\t\\t\\t\\t<tr>\\r\\n\\t\\t\\t\\t\\t\\t<td class=\"brd_l\">\\xed\\x95\\x9c\\xeb\\xb9\\x9b\\xeb\\x9d\\xbc\\xec\\x9d\\xb4\\xed\\x94\\x84</td>\\r\\n\\t\\t\\t\\t\\t\\t<td class=\"left\"><a href=\"/store/books/look.php?p_code=B2781572316\">\\xec\\x9a\\xb0\\xeb\\xa6\\xac\\xea\\xb0\\x80 \\xec\\x8b\\x9c\\xeb\\xa5\\xbc \\xec\\xb2\\x98\\xec\\x9d\\x8c \\xec\\x93\\xb4\\xeb\\x8b\\xa4\\xeb\\xa9\\xb4 \\xea\\xb7\\xb8\\xea\\xb1\\xb4 \\xeb\\xb6\\x84\\xeb\\xaa\\x85 \\xec\\x9c\\xa4\\xeb\\x8f\\x99\\xec\\xa3\\xbc\\xec\\x9d\\xbc \\xea\\xb1\\xb0\\xec\\x95\\xbc: \\xe3\\x80\\x8e\\xed\\x95\\x98\\xeb\\x8a\\x98\\xea\\xb3\\xbc \\xeb\\xb0\\x94\\xeb\\x9e\\x8c\\xea\\xb3\\xbc \\xeb\\xb3\\x84\\xea\\xb3\\xbc \\xec\\x8b\\x9c\\xe3\\x80\\x8f \\xed\\x95\\x84\\xec\\x82\\xac</a></td>\\r\\n\\t\\t\\t\\t\\t\\t\\t\\t\\t\\t\\t\\t\\t<td class=\"left\">\\xec\\x9c\\xa4\\xeb\\x8f\\x99\\xec\\xa3\\xbc \\xec\\x99\\xb8 2\\xeb\\xaa\\x85  </td>\\r\\n\\t\\t\\t\\t\\t\\t\\t\\t\\t\\t\\t\\t<td>2021-04-05</td>\\r\\n\\t\\t\\t\\t\\t\\t<td class=\"right\">13,800\\xec\\x9b\\x90</td>\\r\\n\\t\\t\\t\\t\\t</tr>\\r\\n\\r\\n\\t\\t\\t\\t\\t\\t\\t\\t\\t\\t<tr>\\r\\n\\t\\t\\t\\t\\t\\t<td class=\"brd_m\">\\xed\\x95\\x9c\\xeb\\xb9\\x9b\\xeb\\xaf\\xb8\\xeb\\x94\\x94\\xec\\x96\\xb4</td>\\r\\n\\t\\t\\t\\t\\t\\t<td class=\"left\"><a href=\"/store/books/look.php?p_code=B7070333457\">\\xec\\x8a\\xa4\\xed\\x8c\\x8c\\xed\\x81\\xac\\xeb\\xa5\\xbc \\xed\\x99\\x9c\\xec\\x9a\\xa9\\xed\\x95\\x9c \\xec\\x8b\\xa4\\xec\\x8b\\x9c\\xea\\xb0\\x84 \\xec\\xb2\\x98\\xeb\\xa6\\xac</a></td>\\r\\n\\t\\t\\t\\t\\t\\t\\t\\t\\t\\t\\t\\t\\t<td class=\"left\">\\xec\\xa0\\x9c\\xeb\\x9f\\xac\\xeb\\x93\\x9c \\xeb\\xa7\\x88\\xec\\x8a\\xa4 \\xec\\x99\\xb8 1\\xeb\\xaa\\x85  </td>\\r\\n\\t\\t\\t\\t\\t\\t\\t\\t\\t\\t\\t\\t<td>2021-04-02</td>\\r\\n\\t\\t\\t\\t\\t\\t<td class=\"right\">38,000\\xec\\x9b\\x90</td>\\r\\n\\t\\t\\t\\t\\t</tr>\\r\\n\\r\\n\\t\\t\\t\\t\\t\\t\\t\\t\\t\\t<tr>\\r\\n\\t\\t\\t\\t\\t\\t<td class=\"brd_b\">\\xed\\x95\\x9c\\xeb\\xb9\\x9b\\xeb\\xb9\\x84\\xec\\xa6\\x88</td>\\r\\n\\t\\t\\t\\t\\t\\t<td class=\"left\"><a href=\"/store/books/look.php?p_code=B5735013586\">\\xeb\\x82\\x98 \\xec\\x95\\x84\\xec\\xa7\\x81 \\xec\\x95\\x88 \\xec\\xa3\\xbd\\xec\\x97\\x88\\xeb\\x8b\\xa4</a></td>\\r\\n\\t\\t\\t\\t\\t\\t\\t\\t\\t\\t\\t\\t\\t<td class=\"left\">\\xea\\xb9\\x80\\xec\\x9e\\xac\\xec\\x99\\x84   </td>\\r\\n\\t\\t\\t\\t\\t\\t\\t\\t\\t\\t\\t\\t<td>2021-04-02</td>\\r\\n\\t\\t\\t\\t\\t\\t<td class=\"right\">14,500\\xec\\x9b\\x90</td>\\r\\n\\t\\t\\t\\t\\t</tr>\\r\\n\\r\\n\\t\\t\\t\\t\\t\\t\\t\\t\\t\\t<tr>\\r\\n\\t\\t\\t\\t\\t\\t<td class=\"brd_m\">\\xed\\x95\\x9c\\xeb\\xb9\\x9b\\xeb\\xaf\\xb8\\xeb\\x94\\x94\\xec\\x96\\xb4</td>\\r\\n\\t\\t\\t\\t\\t\\t<td class=\"left\"><a href=\"/store/books/look.php?p_code=B6489048497\">\\xea\\xb2\\x8c\\xec\\x9e\\x84 \\xec\\x97\\x94\\xec\\xa7\\x84 \\xeb\\xb8\\x94\\xeb\\x9e\\x99 \\xeb\\xb6\\x81 : \\xeb\\x91\\xa0</a></td>\\r\\n\\t\\t\\t\\t\\t\\t\\t\\t\\t\\t\\t\\t\\t<td class=\"left\">\\xed\\x8c\\x8c\\xeb\\xb9\\x84\\xec\\x95\\x99 \\xec\\x83\\x81\\xea\\xb8\\x80\\xeb\\x9d\\xbc\\xeb\\xa5\\xb4   </td>\\r\\n\\t\\t\\t\\t\\t\\t\\t\\t\\t\\t\\t\\t<td>2021-04-01</td>\\r\\n\\t\\t\\t\\t\\t\\t<td class=\"right\">42,000\\xec\\x9b\\x90</td>\\r\\n\\t\\t\\t\\t\\t</tr>\\r\\n\\r\\n\\t\\t\\t\\t\\t\\t\\t\\t\\t\\t<tr>\\r\\n\\t\\t\\t\\t\\t\\t<td class=\"brd_a\">\\xed\\x95\\x9c\\xeb\\xb9\\x9b\\xec\\x95\\x84\\xec\\xb9\\xb4\\xeb\\x8d\\xb0\\xeb\\xaf\\xb8</td>\\r\\n\\t\\t\\t\\t\\t\\t<td class=\"left\"><a href=\"/store/books/look.php?p_code=B1073758476\">\\xeb\\xa7\\x8c\\xeb\\xa7\\x8c\\xed\\x95\\x9c \\xed\\x86\\xb5\\xea\\xb3\\x84 : R \\xed\\x99\\x9c\\xec\\x9a\\xa9</a></td>\\r\\n\\t\\t\\t\\t\\t\\t\\t\\t\\t\\t\\t\\t\\t<td class=\"left\">\\xeb\\x8b\\x90 J. \\xec\\x83\\x90\\xec\\xb9\\xb4\\xec\\x9d\\xb8\\xeb\\x93\\x9c \\xec\\x99\\xb8 1\\xeb\\xaa\\x85  </td>\\r\\n\\t\\t\\t\\t\\t\\t\\t\\t\\t\\t\\t\\t<td>2021-04-01</td>\\r\\n\\t\\t\\t\\t\\t\\t<td class=\"right\">28,000\\xec\\x9b\\x90</td>\\r\\n\\t\\t\\t\\t\\t</tr>\\r\\n\\r\\n\\t\\t\\t\\t\\t\\t\\t\\t\\t\\t<tr>\\r\\n\\t\\t\\t\\t\\t\\t<td class=\"brd_m\">\\xed\\x95\\x9c\\xeb\\xb9\\x9b\\xeb\\xaf\\xb8\\xeb\\x94\\x94\\xec\\x96\\xb4</td>\\r\\n\\t\\t\\t\\t\\t\\t<td class=\"left\"><a href=\"/store/books/look.php?p_code=B4640245615\">\\xeb\\x9f\\xac\\xeb\\x8b\\x9d SQL</a></td>\\r\\n\\t\\t\\t\\t\\t\\t\\t\\t\\t\\t\\t\\t\\t<td class=\"left\">\\xec\\x95\\xa8\\xeb\\x9f\\xb0 \\xeb\\xb3\\xbc\\xeb\\xa6\\xac\\xec\\x99\\xb8   </td>\\r\\n\\t\\t\\t\\t\\t\\t\\t\\t\\t\\t\\t\\t<td>2021-03-30</td>\\r\\n\\t\\t\\t\\t\\t\\t<td class=\"right\">30,000\\xec\\x9b\\x90</td>\\r\\n\\t\\t\\t\\t\\t</tr>\\r\\n\\r\\n\\t\\t\\t\\t\\t\\t\\t\\t\\t\\t<tr>\\r\\n\\t\\t\\t\\t\\t\\t<td class=\"brd_m\">\\xed\\x95\\x9c\\xeb\\xb9\\x9b\\xeb\\xaf\\xb8\\xeb\\x94\\x94\\xec\\x96\\xb4</td>\\r\\n\\t\\t\\t\\t\\t\\t<td class=\"left\"><a href=\"/store/books/look.php?p_code=B6735191805\">\\xec\\x9d\\xb4\\xec\\x95\\xbc\\xea\\xb8\\xb0\\xeb\\xa1\\x9c \\xeb\\xb0\\xb0\\xec\\x9a\\xb0\\xeb\\x8a\\x94 \\xea\\xb5\\xac\\xea\\xb8\\x80 \\xeb\\xb9\\x85\\xec\\xbf\\xbc\\xeb\\xa6\\xac</a></td>\\r\\n\\t\\t\\t\\t\\t\\t\\t\\t\\t\\t\\t\\t\\t<td class=\"left\">\\xea\\xb5\\xac\\xeb\\x8f\\x84 \\xeb\\xa7\\x88\\xec\\x82\\xac\\xed\\x86\\xa0 \\xec\\x99\\xb8 3\\xeb\\xaa\\x85  </td>\\r\\n\\t\\t\\t\\t\\t\\t\\t\\t\\t\\t\\t\\t<td>2021-03-30</td>\\r\\n\\t\\t\\t\\t\\t\\t<td class=\"right\">20,000\\xec\\x9b\\x90</td>\\r\\n\\t\\t\\t\\t\\t</tr>\\r\\n\\r\\n\\t\\t\\t\\t\\t\\t\\t\\t\\t\\t<tr>\\r\\n\\t\\t\\t\\t\\t\\t<td class=\"brd_b\">\\xed\\x95\\x9c\\xeb\\xb9\\x9b\\xeb\\xb9\\x84\\xec\\xa6\\x88</td>\\r\\n\\t\\t\\t\\t\\t\\t<td class=\"left\"><a href=\"/store/books/look.php?p_code=B1227197960\">\\xec\\xa0\\x80\\xeb\\x8a\\x94 \\xec\\x8b\\xac\\xeb\\xa6\\xac\\xed\\x95\\x99\\xec\\x9d\\xb4 \\xec\\xb2\\x98\\xec\\x9d\\x8c\\xec\\x9d\\xb8\\xeb\\x8d\\xb0\\xec\\x9a\\x94&#40;\\xea\\xb0\\x9c\\xec\\xa0\\x95\\xed\\x8c\\x90&#41;</a></td>\\r\\n\\t\\t\\t\\t\\t\\t\\t\\t\\t\\t\\t\\t\\t<td class=\"left\">\\xea\\xb0\\x95\\xed\\x98\\x84\\xec\\x8b\\x9d   </td>\\r\\n\\t\\t\\t\\t\\t\\t\\t\\t\\t\\t\\t\\t<td>2021-03-30</td>\\r\\n\\t\\t\\t\\t\\t\\t<td class=\"right\">18,000\\xec\\x9b\\x90</td>\\r\\n\\t\\t\\t\\t\\t</tr>\\r\\n\\r\\n\\t\\t\\t\\t\\t\\t\\t\\t\\t\\t<tr>\\r\\n\\t\\t\\t\\t\\t\\t<td class=\"brd_b\">\\xed\\x95\\x9c\\xeb\\xb9\\x9b\\xeb\\xb9\\x84\\xec\\xa6\\x88</td>\\r\\n\\t\\t\\t\\t\\t\\t<td class=\"left\"><a href=\"/store/books/look.php?p_code=B1835066256\">\\xec\\xa0\\x80\\xeb\\x8a\\x94 \\xec\\x9d\\xb8\\xeb\\xac\\xb8\\xed\\x95\\x99\\xec\\x9d\\xb4 \\xec\\xb2\\x98\\xec\\x9d\\x8c\\xec\\x9d\\xb8\\xeb\\x8d\\xb0\\xec\\x9a\\x94&#40;\\xea\\xb0\\x9c\\xec\\xa0\\x95\\xed\\x8c\\x90&#41;</a></td>\\r\\n\\t\\t\\t\\t\\t\\t\\t\\t\\t\\t\\t\\t\\t<td class=\"left\">\\xeb\\xb0\\x95\\xed\\x99\\x8d\\xec\\x88\\x9c   </td>\\r\\n\\t\\t\\t\\t\\t\\t\\t\\t\\t\\t\\t\\t<td>2021-03-30</td>\\r\\n\\t\\t\\t\\t\\t\\t<td class=\"right\">18,000\\xec\\x9b\\x90</td>\\r\\n\\t\\t\\t\\t\\t</tr>\\r\\n\\r\\n\\t\\t\\t\\t\\t\\t\\t\\t\\t\\t<tr>\\r\\n\\t\\t\\t\\t\\t\\t<td class=\"brd_m\">\\xed\\x95\\x9c\\xeb\\xb9\\x9b\\xeb\\xaf\\xb8\\xeb\\x94\\x94\\xec\\x96\\xb4</td>\\r\\n\\t\\t\\t\\t\\t\\t<td class=\"left\"><a href=\"/store/books/look.php?p_code=B7050837867\">\\xec\\x93\\xb0\\xeb\\xa9\\xb4\\xec\\x84\\x9c \\xec\\x9d\\xb5\\xed\\x9e\\x88\\xeb\\x8a\\x94 \\xec\\x95\\x8c\\xea\\xb3\\xa0\\xeb\\xa6\\xac\\xec\\xa6\\x98\\xea\\xb3\\xbc \\xec\\x9e\\x90\\xeb\\xa3\\x8c\\xea\\xb5\\xac\\xec\\xa1\\xb0</a></td>\\r\\n\\t\\t\\t\\t\\t\\t\\t\\t\\t\\t\\t\\t\\t<td class=\"left\">\\xec\\x9c\\xa4\\xeb\\x8c\\x80\\xec\\x84\\x9d   </td>\\r\\n\\t\\t\\t\\t\\t\\t\\t\\t\\t\\t\\t\\t<td>2021-03-29</td>\\r\\n\\t\\t\\t\\t\\t\\t<td class=\"right\">26,000\\xec\\x9b\\x90</td>\\r\\n\\t\\t\\t\\t\\t</tr>\\r\\n\\r\\n\\t\\t\\t\\t\\t\\t\\t\\t\\t\\t<tr>\\r\\n\\t\\t\\t\\t\\t\\t<td class=\"brd_e\">\\xed\\x95\\x9c\\xeb\\xb9\\x9b\\xec\\x97\\x90\\xeb\\x93\\x80</td>\\r\\n\\t\\t\\t\\t\\t\\t<td class=\"left\"><a href=\"/store/books/look.php?p_code=B3087610055\">\\xec\\xb0\\xbe\\xec\\x95\\x84\\xeb\\x8f\\x84 \\xec\\xb0\\xbe\\xec\\x95\\x84\\xeb\\x8f\\x84 \\xeb\\x81\\x9d\\xed\\x8c\\x90\\xec\\x99\\x95 \\xec\\xa7\\x91\\xec\\xa4\\x91\\xeb\\xa0\\xa5 \\xeb\\xaf\\xb8\\xeb\\xa1\\x9c\\xec\\xb0\\xbe\\xea\\xb8\\xb0 101</a></td>\\r\\n\\t\\t\\t\\t\\t\\t\\t\\t\\t\\t\\t\\t\\t<td class=\"left\">\\xeb\\xa7\\xa4\\xed\\x8a\\x9c \\xec\\x8a\\xa4\\xec\\xba\\x87   </td>\\r\\n\\t\\t\\t\\t\\t\\t\\t\\t\\t\\t\\t\\t<td>2021-03-25</td>\\r\\n\\t\\t\\t\\t\\t\\t<td class=\"right\">8,000\\xec\\x9b\\x90</td>\\r\\n\\t\\t\\t\\t\\t</tr>\\r\\n\\r\\n\\t\\t\\t\\t\\t\\t\\t\\t\\t\\t<tr>\\r\\n\\t\\t\\t\\t\\t\\t<td class=\"brd_e\">\\xed\\x95\\x9c\\xeb\\xb9\\x9b\\xec\\x97\\x90\\xeb\\x93\\x80</td>\\r\\n\\t\\t\\t\\t\\t\\t<td class=\"left\"><a href=\"/store/books/look.php?p_code=B8101312807\">\\xec\\xb0\\xbe\\xec\\x95\\x84\\xeb\\x8f\\x84 \\xec\\xb0\\xbe\\xec\\x95\\x84\\xeb\\x8f\\x84 \\xeb\\x81\\x9d\\xed\\x8c\\x90\\xec\\x99\\x95 \\xec\\xb0\\xbd\\xec\\x9d\\x98\\xeb\\xa0\\xa5 \\xeb\\xaf\\xb8\\xeb\\xa1\\x9c\\xec\\xb0\\xbe\\xea\\xb8\\xb0 101</a></td>\\r\\n\\t\\t\\t\\t\\t\\t\\t\\t\\t\\t\\t\\t\\t<td class=\"left\">\\xeb\\xa1\\x9d\\xeb\\xa6\\xac\\xec\\xa7\\x80 \\xed\\x94\\x84\\xeb\\xa0\\x88\\xec\\x8a\\xa4   </td>\\r\\n\\t\\t\\t\\t\\t\\t\\t\\t\\t\\t\\t\\t<td>2021-03-25</td>\\r\\n\\t\\t\\t\\t\\t\\t<td class=\"right\">8,000\\xec\\x9b\\x90</td>\\r\\n\\t\\t\\t\\t\\t</tr>\\r\\n\\r\\n\\t\\t\\t\\t\\t\\t\\t\\t\\t\\t<tr>\\r\\n\\t\\t\\t\\t\\t\\t<td class=\"brd_l\">\\xed\\x95\\x9c\\xeb\\xb9\\x9b\\xeb\\x9d\\xbc\\xec\\x9d\\xb4\\xed\\x94\\x84</td>\\r\\n\\t\\t\\t\\t\\t\\t<td class=\"left\"><a href=\"/store/books/look.php?p_code=B1790423150\">\\xec\\x98\\xa4\\xeb\\x8a\\x98\\xeb\\xb6\\x80\\xed\\x84\\xb0 \\xeb\\x8b\\xac\\xeb\\xa6\\xac\\xea\\xb8\\xb0\\xeb\\xa5\\xbc \\xed\\x95\\xa9\\xeb\\x8b\\x88\\xeb\\x8b\\xa4</a></td>\\r\\n\\t\\t\\t\\t\\t\\t\\t\\t\\t\\t\\t\\t\\t<td class=\"left\">\\xec\\x9d\\xb4\\xec\\xa7\\x84\\xec\\x9d\\xb4(\\xec\\xa7\\x80\\xeb\\x8b\\x88\\xec\\xbd\\x94\\xec\\xb9\\x98)   </td>\\r\\n\\t\\t\\t\\t\\t\\t\\t\\t\\t\\t\\t\\t<td>2021-03-25</td>\\r\\n\\t\\t\\t\\t\\t\\t<td class=\"right\">14,800\\xec\\x9b\\x90</td>\\r\\n\\t\\t\\t\\t\\t</tr>\\r\\n\\r\\n\\t\\t\\t\\t\\t\\t\\t\\t\\t\\t<tr>\\r\\n\\t\\t\\t\\t\\t\\t<td class=\"brd_m\">\\xed\\x95\\x9c\\xeb\\xb9\\x9b\\xeb\\xaf\\xb8\\xeb\\x94\\x94\\xec\\x96\\xb4</td>\\r\\n\\t\\t\\t\\t\\t\\t<td class=\"left\"><a href=\"/store/books/look.php?p_code=B2586509403\">\\xeb\\xaa\\xbd\\xea\\xb3\\xa0DB \\xec\\x99\\x84\\xeb\\xb2\\xbd \\xea\\xb0\\x80\\xec\\x9d\\xb4\\xeb\\x93\\x9c&#40;3\\xed\\x8c\\x90&#41;</a></td>\\r\\n\\t\\t\\t\\t\\t\\t\\t\\t\\t\\t\\t\\t\\t<td class=\"left\">\\xed\\x81\\xac\\xeb\\xa6\\xac\\xec\\x8a\\xa4\\xed\\x8b\\xb0\\xeb\\x82\\x98 \\xec\\xb4\\x88\\xeb\\x8f\\x84\\xeb\\xa1\\x9c\\xec\\x9a\\xb0 \\xec\\x99\\xb8 2\\xeb\\xaa\\x85  </td>\\r\\n\\t\\t\\t\\t\\t\\t\\t\\t\\t\\t\\t\\t<td>2021-03-22</td>\\r\\n\\t\\t\\t\\t\\t\\t<td class=\"right\">36,000\\xec\\x9b\\x90</td>\\r\\n\\t\\t\\t\\t\\t</tr>\\r\\n\\r\\n\\t\\t\\t\\t\\t\\t\\t\\t\\t\\t<tr>\\r\\n\\t\\t\\t\\t\\t\\t<td class=\"brd_l\">\\xed\\x95\\x9c\\xeb\\xb9\\x9b\\xeb\\x9d\\xbc\\xec\\x9d\\xb4\\xed\\x94\\x84</td>\\r\\n\\t\\t\\t\\t\\t\\t<td class=\"left\"><a href=\"/store/books/look.php?p_code=B6340928295\">\\xec\\x96\\xb4\\xeb\\xa6\\xb0\\xec\\x9d\\xb4\\xeb\\xa5\\xbc \\xec\\x9c\\x84\\xed\\x95\\x9c \\xec\\xb4\\x88\\xeb\\x93\\xb1 \\xec\\x9e\\x90\\xea\\xb8\\xb0\\xec\\xa3\\xbc\\xeb\\x8f\\x84 \\xea\\xb3\\xb5\\xeb\\xb6\\x80\\xeb\\xb2\\x95\\xc3\\x97\\xeb\\xb0\\xb0\\xec\\x9b\\x80\\xea\\xb3\\xb5\\xec\\xb1\\x85</a></td>\\r\\n\\t\\t\\t\\t\\t\\t\\t\\t\\t\\t\\t\\t\\t<td class=\"left\">\\xec\\x9d\\xb4\\xec\\x9d\\x80\\xea\\xb2\\xbd \\xec\\x99\\xb8 1\\xeb\\xaa\\x85  </td>\\r\\n\\t\\t\\t\\t\\t\\t\\t\\t\\t\\t\\t\\t<td>2021-03-20</td>\\r\\n\\t\\t\\t\\t\\t\\t<td class=\"right\">14,800\\xec\\x9b\\x90</td>\\r\\n\\t\\t\\t\\t\\t</tr>\\r\\n\\r\\n\\t\\t\\t\\t\\t\\t\\t\\t\\t\\t<tr>\\r\\n\\t\\t\\t\\t\\t\\t<td class=\"brd_b\">\\xed\\x95\\x9c\\xeb\\xb9\\x9b\\xeb\\xb9\\x84\\xec\\xa6\\x88</td>\\r\\n\\t\\t\\t\\t\\t\\t<td class=\"left\"><a href=\"/store/books/look.php?p_code=B1057946120\">\\xea\\xb8\\xb0\\xec\\x88\\xa0\\xec\\x9d\\x98 \\xec\\x8b\\x9c\\xeb\\x8c\\x80</a></td>\\r\\n\\t\\t\\t\\t\\t\\t\\t\\t\\t\\t\\t\\t\\t<td class=\"left\">\\xeb\\xb8\\x8c\\xeb\\x9e\\x98\\xeb\\x93\\x9c \\xec\\x8a\\xa4\\xeb\\xaf\\xb8\\xec\\x8a\\xa4 \\xec\\x99\\xb8 1\\xeb\\xaa\\x85  </td>\\r\\n\\t\\t\\t\\t\\t\\t\\t\\t\\t\\t\\t\\t<td>2021-03-15</td>\\r\\n\\t\\t\\t\\t\\t\\t<td class=\"right\">25,000\\xec\\x9b\\x90</td>\\r\\n\\t\\t\\t\\t\\t</tr>\\r\\n\\r\\n\\t\\t\\t\\t\\t\\t\\t\\t\\t\\t<tr>\\r\\n\\t\\t\\t\\t\\t\\t<td class=\"brd_m\">\\xed\\x95\\x9c\\xeb\\xb9\\x9b\\xeb\\xaf\\xb8\\xeb\\x94\\x94\\xec\\x96\\xb4</td>\\r\\n\\t\\t\\t\\t\\t\\t<td class=\"left\"><a href=\"/store/books/look.php?p_code=B4734841062\">\\xeb\\xa7\\x9b\\xec\\x9e\\x88\\xeb\\x8a\\x94 \\xeb\\x94\\x94\\xec\\x9e\\x90\\xec\\x9d\\xb8 \\xed\\x94\\x84\\xeb\\xa6\\xac\\xeb\\xaf\\xb8\\xec\\x96\\xb4 \\xed\\x94\\x84\\xeb\\xa1\\x9c CC 2021</a></td>\\r\\n\\t\\t\\t\\t\\t\\t\\t\\t\\t\\t\\t\\t\\t<td class=\"left\">\\xec\\xa0\\x95\\xec\\xa7\\x80\\xec\\x9b\\x90 \\xec\\x99\\xb8 3\\xeb\\xaa\\x85  </td>\\r\\n\\t\\t\\t\\t\\t\\t\\t\\t\\t\\t\\t\\t<td>2021-03-12</td>\\r\\n\\t\\t\\t\\t\\t\\t<td class=\"right\">24,000\\xec\\x9b\\x90</td>\\r\\n\\t\\t\\t\\t\\t</tr>\\r\\n\\r\\n\\t\\t\\t\\t\\t\\t\\t\\t\\t\\t<tr>\\r\\n\\t\\t\\t\\t\\t\\t<td class=\"brd_m\">\\xed\\x95\\x9c\\xeb\\xb9\\x9b\\xeb\\xaf\\xb8\\xeb\\x94\\x94\\xec\\x96\\xb4</td>\\r\\n\\t\\t\\t\\t\\t\\t<td class=\"left\"><a href=\"/store/books/look.php?p_code=B9417661237\">GAN \\xec\\xb2\\xab\\xea\\xb1\\xb8\\xec\\x9d\\x8c</a></td>\\r\\n\\t\\t\\t\\t\\t\\t\\t\\t\\t\\t\\t\\t\\t<td class=\"left\">\\xed\\x83\\x80\\xeb\\xa6\\xac\\xed\\x81\\xac \\xeb\\x9d\\xbc\\xec\\x8b\\x9c\\xeb\\x93\\x9c   </td>\\r\\n\\t\\t\\t\\t\\t\\t\\t\\t\\t\\t\\t\\t<td>2021-03-10</td>\\r\\n\\t\\t\\t\\t\\t\\t<td class=\"right\">25,000\\xec\\x9b\\x90</td>\\r\\n\\t\\t\\t\\t\\t</tr>\\r\\n\\r\\n\\t\\t\\t\\t\\t\\t\\t\\t\\t\\t<tr>\\r\\n\\t\\t\\t\\t\\t\\t<td class=\"brd_m\">\\xed\\x95\\x9c\\xeb\\xb9\\x9b\\xeb\\xaf\\xb8\\xeb\\x94\\x94\\xec\\x96\\xb4</td>\\r\\n\\t\\t\\t\\t\\t\\t<td class=\"left\"><a href=\"/store/books/look.php?p_code=B8371133122\">\\xeb\\x94\\x94\\xeb\\x85\\xb8 \\xec\\xb2\\xab\\xea\\xb1\\xb8\\xec\\x9d\\x8c</a></td>\\r\\n\\t\\t\\t\\t\\t\\t\\t\\t\\t\\t\\t\\t\\t<td class=\"left\">\\xed\\x8e\\x98\\xeb\\xa5\\xb4\\xeb\\x82\\x9c\\xeb\\x8f\\x84 \\xeb\\x8f\\x8c\\xeb\\xa6\\xac\\xec\\x98\\xa4   </td>\\r\\n\\t\\t\\t\\t\\t\\t\\t\\t\\t\\t\\t\\t<td>2021-03-10</td>\\r\\n\\t\\t\\t\\t\\t\\t<td class=\"right\">17,000\\xec\\x9b\\x90</td>\\r\\n\\t\\t\\t\\t\\t</tr>\\r\\n\\r\\n\\t\\t\\t\\t\\t\\t\\t\\t\\t\\t<tr>\\r\\n\\t\\t\\t\\t\\t\\t<td class=\"brd_m\">\\xed\\x95\\x9c\\xeb\\xb9\\x9b\\xeb\\xaf\\xb8\\xeb\\x94\\x94\\xec\\x96\\xb4</td>\\r\\n\\t\\t\\t\\t\\t\\t<td class=\"left\"><a href=\"/store/books/look.php?p_code=B4979866790\">\\xeb\\xa7\\x9b\\xec\\x9e\\x88\\xeb\\x8a\\x94 \\xeb\\x94\\x94\\xec\\x9e\\x90\\xec\\x9d\\xb8 \\xec\\x9d\\xbc\\xeb\\x9f\\xac\\xec\\x8a\\xa4\\xed\\x8a\\xb8\\xeb\\xa0\\x88\\xec\\x9d\\xb4\\xed\\x84\\xb0 CC 2021</a></td>\\r\\n\\t\\t\\t\\t\\t\\t\\t\\t\\t\\t\\t\\t\\t<td class=\"left\">\\xeb\\xb9\\xa8\\xea\\xb0\\x84\\xea\\xb3\\xa0\\xeb\\x9e\\x98(\\xeb\\xb0\\x95\\xec\\xa0\\x95\\xec\\x95\\x84)   </td>\\r\\n\\t\\t\\t\\t\\t\\t\\t\\t\\t\\t\\t\\t<td>2021-03-09</td>\\r\\n\\t\\t\\t\\t\\t\\t<td class=\"right\">24,000\\xec\\x9b\\x90</td>\\r\\n\\t\\t\\t\\t\\t</tr>\\r\\n\\r\\n\\t\\t\\t\\t\\t\\t\\t\\t\\t\\t<tr>\\r\\n\\t\\t\\t\\t\\t\\t<td class=\"brd_a\">\\xed\\x95\\x9c\\xeb\\xb9\\x9b\\xec\\x95\\x84\\xec\\xb9\\xb4\\xeb\\x8d\\xb0\\xeb\\xaf\\xb8</td>\\r\\n\\t\\t\\t\\t\\t\\t<td class=\"left\"><a href=\"/store/books/look.php?p_code=B6808882615\">4\\xec\\xb0\\xa8 \\xec\\x82\\xb0\\xec\\x97\\x85\\xed\\x98\\x81\\xeb\\xaa\\x85 \\xec\\x8b\\x9c\\xeb\\x8c\\x80\\xeb\\xa5\\xbc \\xec\\x9c\\x84\\xed\\x95\\x9c e-\\xeb\\xb9\\x84\\xec\\xa6\\x88\\xeb\\x8b\\x88\\xec\\x8a\\xa4 \\xea\\xb0\\x9c\\xeb\\xa1\\xa0&#40;4\\xed\\x8c\\x90&#41;</a></td>\\r\\n\\t\\t\\t\\t\\t\\t\\t\\t\\t\\t\\t\\t\\t<td class=\"left\">\\xec\\x9d\\xb4\\xeb\\x8f\\x99\\xed\\x9b\\x88   </td>\\r\\n\\t\\t\\t\\t\\t\\t\\t\\t\\t\\t\\t\\t<td>2021-03-07</td>\\r\\n\\t\\t\\t\\t\\t\\t<td class=\"right\">27,000\\xec\\x9b\\x90</td>\\r\\n\\t\\t\\t\\t\\t</tr>\\r\\n\\r\\n\\t\\t\\t\\t\\t\\t\\t\\t\\t\\t<tr>\\r\\n\\t\\t\\t\\t\\t\\t<td class=\"brd_l\">\\xed\\x95\\x9c\\xeb\\xb9\\x9b\\xeb\\x9d\\xbc\\xec\\x9d\\xb4\\xed\\x94\\x84</td>\\r\\n\\t\\t\\t\\t\\t\\t<td class=\"left\"><a href=\"/store/books/look.php?p_code=B3104313168\">\\xec\\x82\\xac\\xec\\x8b\\xa4\\xec\\x9d\\x80 \\xec\\x82\\xac\\xeb\\x9e\\x91\\xeb\\xb0\\x9b\\xea\\xb3\\xa0 \\xec\\x8b\\xb6\\xec\\x97\\x88\\xec\\x96\\xb4</a></td>\\r\\n\\t\\t\\t\\t\\t\\t\\t\\t\\t\\t\\t\\t\\t<td class=\"left\">\\xeb\\xb0\\x95\\xec\\x9e\\xac\\xec\\x97\\xb0 \\xec\\x99\\xb8 1\\xeb\\xaa\\x85  </td>\\r\\n\\t\\t\\t\\t\\t\\t\\t\\t\\t\\t\\t\\t<td>2021-03-05</td>\\r\\n\\t\\t\\t\\t\\t\\t<td class=\"right\">14,800\\xec\\x9b\\x90</td>\\r\\n\\t\\t\\t\\t\\t</tr>\\r\\n\\r\\n\\t\\t\\t\\t\\t\\t\\t\\t\\t\\t<tr>\\r\\n\\t\\t\\t\\t\\t\\t<td class=\"brd_b\">\\xed\\x95\\x9c\\xeb\\xb9\\x9b\\xeb\\xb9\\x84\\xec\\xa6\\x88</td>\\r\\n\\t\\t\\t\\t\\t\\t<td class=\"left\"><a href=\"/store/books/look.php?p_code=B6068039583\">\\xeb\\x8c\\x80\\xed\\x95\\x9c\\xeb\\xaf\\xbc\\xea\\xb5\\xad \\xeb\\xb6\\x80\\xeb\\x8f\\x99\\xec\\x82\\xb0 \\xeb\\xaf\\xb8\\xeb\\x9e\\x98\\xec\\xa7\\x80\\xeb\\x8f\\x84</a></td>\\r\\n\\t\\t\\t\\t\\t\\t\\t\\t\\t\\t\\t\\t\\t<td class=\"left\">\\xea\\xb9\\x80\\xed\\x95\\x99\\xeb\\xa0\\xac(\\xeb\\xb9\\xa0\\xec\\x88\\x91)   </td>\\r\\n\\t\\t\\t\\t\\t\\t\\t\\t\\t\\t\\t\\t<td>2021-03-04</td>\\r\\n\\t\\t\\t\\t\\t\\t<td class=\"right\">33,500\\xec\\x9b\\x90</td>\\r\\n\\t\\t\\t\\t\\t</tr>\\r\\n\\r\\n\\t\\t\\t\\t\\t\\t\\t\\t\\t\\t<tr>\\r\\n\\t\\t\\t\\t\\t\\t<td class=\"brd_m\">\\xed\\x95\\x9c\\xeb\\xb9\\x9b\\xeb\\xaf\\xb8\\xeb\\x94\\x94\\xec\\x96\\xb4</td>\\r\\n\\t\\t\\t\\t\\t\\t<td class=\"left\"><a href=\"/store/books/look.php?p_code=B1925383546\">\\xeb\\xa7\\x9b\\xec\\x9e\\x88\\xeb\\x8a\\x94 \\xeb\\x94\\x94\\xec\\x9e\\x90\\xec\\x9d\\xb8 \\xed\\x8f\\xac\\xed\\x86\\xa0\\xec\\x83\\xb5 CC 2021</a></td>\\r\\n\\t\\t\\t\\t\\t\\t\\t\\t\\t\\t\\t\\t\\t<td class=\"left\">\\xec\\x9c\\xa4\\xec\\x9d\\xb4\\xec\\x82\\xac\\xeb\\x9d\\xbc(\\xed\\x8f\\xac\\xec\\x99\\x84\\xec\\xb9\\xb4) \\xec\\x99\\xb8 1\\xeb\\xaa\\x85  </td>\\r\\n\\t\\t\\t\\t\\t\\t\\t\\t\\t\\t\\t\\t<td>2021-03-03</td>\\r\\n\\t\\t\\t\\t\\t\\t<td class=\"right\">21,000\\xec\\x9b\\x90</td>\\r\\n\\t\\t\\t\\t\\t</tr>\\r\\n\\r\\n\\t\\t\\t\\t\\t\\t\\t\\t\\t\\t<tr>\\r\\n\\t\\t\\t\\t\\t\\t<td class=\"brd_m\">\\xed\\x95\\x9c\\xeb\\xb9\\x9b\\xeb\\xaf\\xb8\\xeb\\x94\\x94\\xec\\x96\\xb4</td>\\r\\n\\t\\t\\t\\t\\t\\t<td class=\"left\"><a href=\"/store/books/look.php?p_code=B1863505588\">\\xeb\\xa7\\x9b\\xec\\x9e\\x88\\xeb\\x8a\\x94 \\xeb\\x94\\x94\\xec\\x9e\\x90\\xec\\x9d\\xb8 \\xec\\x95\\xa0\\xed\\x94\\x84\\xed\\x84\\xb0 \\xec\\x9d\\xb4\\xed\\x8e\\x99\\xed\\x8a\\xb8 CC 2021</a></td>\\r\\n\\t\\t\\t\\t\\t\\t\\t\\t\\t\\t\\t\\t\\t<td class=\"left\">\\xec\\x9d\\xb4\\xec\\x88\\x98\\xec\\xa0\\x95   </td>\\r\\n\\t\\t\\t\\t\\t\\t\\t\\t\\t\\t\\t\\t<td>2021-03-03</td>\\r\\n\\t\\t\\t\\t\\t\\t<td class=\"right\">24,000\\xec\\x9b\\x90</td>\\r\\n\\t\\t\\t\\t\\t</tr>\\r\\n\\r\\n\\t\\t\\t\\t\\t\\t\\t\\t\\t\\t<tr>\\r\\n\\t\\t\\t\\t\\t\\t<td class=\"brd_m\">\\xed\\x95\\x9c\\xeb\\xb9\\x9b\\xeb\\xaf\\xb8\\xeb\\x94\\x94\\xec\\x96\\xb4</td>\\r\\n\\t\\t\\t\\t\\t\\t<td class=\"left\"><a href=\"/store/books/look.php?p_code=B3866059305\">\\xec\\xb9\\x9c\\xec\\xa0\\x88\\xed\\x95\\x9c \\xeb\\x94\\xa5\\xeb\\x9f\\xac\\xeb\\x8b\\x9d \\xec\\x88\\x98\\xed\\x95\\x99</a></td>\\r\\n\\t\\t\\t\\t\\t\\t\\t\\t\\t\\t\\t\\t\\t<td class=\"left\">\\xeb\\x8b\\xa4\\xed\\x85\\x8c\\xec\\x9d\\xb4\\xec\\x8b\\x9c \\xea\\xb2\\x90\\xea\\xb3\\xa0   </td>\\r\\n\\t\\t\\t\\t\\t\\t\\t\\t\\t\\t\\t\\t<td>2021-03-02</td>\\r\\n\\t\\t\\t\\t\\t\\t<td class=\"right\">28,000\\xec\\x9b\\x90</td>\\r\\n\\t\\t\\t\\t\\t</tr>\\r\\n\\r\\n\\t\\t\\t\\t\\t\\t\\t\\t\\t\\t<tr>\\r\\n\\t\\t\\t\\t\\t\\t<td class=\"brd_m\">\\xed\\x95\\x9c\\xeb\\xb9\\x9b\\xeb\\xaf\\xb8\\xeb\\x94\\x94\\xec\\x96\\xb4</td>\\r\\n\\t\\t\\t\\t\\t\\t<td class=\"left\"><a href=\"/store/books/look.php?p_code=B3136457679\">\\xec\\x9d\\xb4\\xea\\xb2\\x83\\xec\\x9d\\xb4 \\xec\\x95\\x88\\xeb\\x93\\x9c\\xeb\\xa1\\x9c\\xec\\x9d\\xb4\\xeb\\x93\\x9c\\xeb\\x8b\\xa4 with \\xec\\xbd\\x94\\xed\\x8b\\x80\\xeb\\xa6\\xb0&#40;\\xea\\xb0\\x9c\\xec\\xa0\\x95\\xed\\x8c\\x90&#41;</a></td>\\r\\n\\t\\t\\t\\t\\t\\t\\t\\t\\t\\t\\t\\t\\t<td class=\"left\">\\xea\\xb3\\xa0\\xeb\\x8f\\x88\\xed\\x98\\xb8   </td>\\r\\n\\t\\t\\t\\t\\t\\t\\t\\t\\t\\t\\t\\t<td>2021-03-02</td>\\r\\n\\t\\t\\t\\t\\t\\t<td class=\"right\">34,000\\xec\\x9b\\x90</td>\\r\\n\\t\\t\\t\\t\\t</tr>\\r\\n\\r\\n\\t\\t\\t\\t\\t\\t\\t\\t\\t\\r\\n\\t\\t\\t\\t</tbody>\\r\\n\\t\\t\\t</table>\\r\\n\\t\\t</div>\\r\\n\\t\\t<!-- //\\xec\\xb1\\x85 \\xeb\\xa6\\xac\\xec\\x8a\\xa4\\xed\\x8a\\xb8 -->\\r\\n\\t\\t\\r\\n\\t\\t<!-- \\xed\\x8e\\x98\\xec\\x9d\\xb4\\xec\\xa7\\x95 -->\\r\\n\\t\\t<div class=\"paginate bdr_no\">\\r\\n\\t\\t\\t<strong>1</strong>\\n<a href=\"/store/books/full_book_list.html?page=2&srt=p_pub_date&brand=\">2</a>\\n<a href=\"/store/books/full_book_list.html?page=3&srt=p_pub_date&brand=\">3</a>\\n<a href=\"/store/books/full_book_list.html?page=4&srt=p_pub_date&brand=\">4</a>\\n<a href=\"/store/books/full_book_list.html?page=5&srt=p_pub_date&brand=\">5</a>\\n<a href=\"/store/books/full_book_list.html?page=6&srt=p_pub_date&brand=\">6</a>\\n<a href=\"/store/books/full_book_list.html?page=7&srt=p_pub_date&brand=\">7</a>\\n<a href=\"/store/books/full_book_list.html?page=8&srt=p_pub_date&brand=\">8</a>\\n<a href=\"/store/books/full_book_list.html?page=9&srt=p_pub_date&brand=\">9</a>\\n<a href=\"/store/books/full_book_list.html?page=10&srt=p_pub_date&brand=\">10</a>\\n<a href=\"/store/books/full_book_list.html?page=11&srt=p_pub_date&brand=\" class=\"next\"><span>&gt;</span></a>\\n\\t\\t</div>\\r\\n\\t\\t<!-- //\\xed\\x8e\\x98\\xec\\x9d\\xb4\\xec\\xa7\\x95 -->\\r\\n\\t\\t\\r\\n\\t\\t<!-- \\xec\\xa0\\x84\\xec\\xb2\\xb4 \\xeb\\xaa\\xa9\\xeb\\xa1\\x9d \\xeb\\x8b\\xa4\\xec\\x9a\\xb4\\xeb\\xa1\\x9c\\xeb\\x93\\x9c \\xeb\\xb2\\x84\\xed\\x8a\\xbc-->\\r\\n\\t\\t<div class=\"btn_full_list mt40\"><a href=\"javascript:document.frm.submit();\">\\xec\\xa0\\x84\\xec\\xb2\\xb4 \\xeb\\xaa\\xa9\\xeb\\xa1\\x9d \\xeb\\x8b\\xa4\\xec\\x9a\\xb4\\xeb\\xa1\\x9c\\xeb\\x93\\x9c</a></div>\\r\\n\\t\\r\\n\\t</div>\\r\\n\\t<!-- //\\xec\\xa0\\x84\\xec\\xb2\\xb4\\xeb\\x8f\\x84\\xec\\x84\\x9c\\xeb\\xaa\\xa9\\xeb\\xa1\\x9d wrap -->\\t\\r\\n\\t\\r\\n</div>\\r\\n<!-- //Contents -->\\r\\n<form name=\"frm\" id=\"frm\" method=\"post\" action=\"./full_book_list_down.php\">\\r\\n<input type=\"hidden\" name=\"brand\" id=\"brand\" value=\"\">\\r\\n<input type=\"hidden\" name=\"srt\" id=\"srt\" value=\"p_pub_date\">\\r\\n</form>\\r\\n<!-- Footer -->\\r\\n<footer>\\r\\n  <!-- \\xea\\xb3\\xb5\\xec\\xa7\\x80\\xec\\x82\\xac\\xed\\x95\\xad -->\\r\\n  <div class=\"foot_notice\">\\r\\n      </div>\\r\\n  <!-- //\\xea\\xb3\\xb5\\xec\\xa7\\x80\\xec\\x82\\xac\\xed\\x95\\xad -->\\r\\n  \\r\\n  <div class=\"foot_contents\">\\r\\n    <!-- \\xed\\x95\\x98\\xeb\\x8b\\xa8 \\xeb\\xa9\\x94\\xeb\\x89\\xb4 -->\\r\\n    <div class=\"foot_menu\">\\r\\n      <!-- added by coffin -->\\r\\n            <ul>\\r\\n        <li><a href=\"https://www.hanbit.co.kr/publisher/index.html\" target=\"_blank\">\\xed\\x9a\\x8c\\xec\\x82\\xac\\xec\\x86\\x8c\\xea\\xb0\\x9c</a>(<a href=\"https://www.hanbit.co.kr/publisher/index.html\" target=\"_blank\">KOR</a> | <a href=\"https://www.hanbit.co.kr/publisher/index.html?lang=e\" target=\"_blank\">ENG</a>) &#149; <a href=\"https://www.hanbit.co.kr/publisher/contact.html?lang=k\" target=\"_blank\">\\xec\\x95\\xbd\\xeb\\x8f\\x84</a></li>\\r\\n        <li><a href=\"https://www.hanbit.co.kr/publisher/write.html\" target=\"_blank\">\\xea\\xb8\\xb0\\xed\\x9a\\x8d \\xeb\\xb0\\x8f \\xec\\x9b\\x90\\xea\\xb3\\xa0 \\xeb\\xaa\\xa8\\xec\\xa7\\x91</a></li>\\r\\n        <li><a href=\"https://www.hanbit.co.kr/publisher/career.html\" target=\"_blank\">\\xec\\xb1\\x84\\xec\\x9a\\xa9</a> &#149; \\xec\\x9e\\x85\\xec\\x82\\xac\\xec\\xa7\\x80\\xec\\x9b\\x90 <a href=\"mailto:jobs@hanbit.co.kr\">jobs@hanbit.co.kr</a></li>\\r\\n        <li><a href=\"https://www.hanbit.co.kr/publisher/foreignrights.html\" target=\"_blank\">FOREIGN RIGHTS</a></li>\\r\\n        <li><a href=\"https://www.hanbit.co.kr/member/use_agreement.html\">\\xec\\x9d\\xb4\\xec\\x9a\\xa9\\xec\\x95\\xbd\\xea\\xb4\\x80</a></li>\\r\\n        <li><a href=\"https://www.hanbit.co.kr/member/privacy_policy.html\"><strong>\\xea\\xb0\\x9c\\xec\\x9d\\xb8\\xec\\xa0\\x95\\xeb\\xb3\\xb4\\xec\\xb7\\xa8\\xea\\xb8\\x89\\xeb\\xb0\\xa9\\xec\\xb9\\xa8</strong></a></li>\\r\\n        <!-- <li><a href=\"https://www.hanbit.co.kr/sitemap/sitemap.html\">\\xec\\x82\\xac\\xec\\x9d\\xb4\\xed\\x8a\\xb8\\xeb\\xa7\\xb5</a></li> -->\\r\\n      </ul>\\r\\n          </div>\\r\\n    <!-- //\\xed\\x95\\x98\\xeb\\x8b\\xa8 \\xeb\\xa9\\x94\\xeb\\x89\\xb4 -->\\r\\n\\r\\n    <!-- SNS -->\\r\\n    <div class=\"foot_sns\">\\r\\n            \\r\\n      <ul>\\r\\n        <li class=\"foot_facebook\"><a href=\"https://www.facebook.com/hanbitmedia\" target=\"_blank\"><span>\\xed\\x8e\\x98\\xec\\x9d\\xb4\\xec\\x8a\\xa4\\xeb\\xb6\\x81</span></a></li>\\r\\n        <!-- <li class=\"foot_googleplus\"><a href=\"https://plus.google.com/u/0/+HanbitCoKr/posts\" target=\"_blank\"><span>\\xea\\xb5\\xac\\xea\\xb8\\x80\\xed\\x94\\x8c\\xeb\\x9f\\xac\\xec\\x8a\\xa4</span></a></li> -->\\r\\n        <li class=\"foot_twitter\"><a href=\"https://twitter.com/hanbit\" target=\"_blank\"><span>\\xed\\x8a\\xb8\\xec\\x9c\\x84\\xed\\x84\\xb0</span></a></li>\\r\\n        <li class=\"foot_youtube\"><a href=\"https://www.youtube.com/user/HanbitMedia93\" target=\"_blank\"><span>\\xec\\x9c\\xa0\\xed\\x8a\\x9c\\xeb\\xb8\\x8c</span></a></li>\\r\\n        <li class=\"foot_bolg\"><a href=\"http://blog.hanbit.co.kr/\" target=\"_blank\"><span>\\xeb\\xb8\\x94\\xeb\\xa1\\x9c\\xea\\xb7\\xb8</span></a></li>\\r\\n        <li class=\"foot_naverpost\"><a href=\"https://m.post.naver.com/hanbitstory\" target=\"_blank\"><span>\\xeb\\x84\\xa4\\xec\\x9d\\xb4\\xeb\\xb2\\x84\\xed\\x8f\\xac\\xec\\x8a\\xa4\\xed\\x8a\\xb8</span></a></li>\\r\\n      </ul>\\r\\n      \\r\\n      \\r\\n        <fieldset class=\"foot_srch\">\\r\\n          <legend>\\xed\\x95\\x98\\xeb\\x8b\\xa8 \\xea\\xb2\\x80\\xec\\x83\\x89\\xec\\x98\\x81\\xec\\x97\\xad</legend>\\r\\n          <input title=\"\\xea\\xb2\\x80\\xec\\x83\\x89\\xec\\x96\\xb4\" class=\"foot_srch_keyword\" accesskey=\"s\" type=\"text\" value=\"\"  id=\"foot_keyword_str\" style=\"font-size:16px;\">\\r\\n          <input type=\"button\" alt=\"\" class=\"foot_srch_btn\" onclick=\"foot_sch_smit();\" style=\"cursor: pointer;\">\\r\\n        </fieldset>\\r\\n\\r\\n      \\r\\n      <script>\\r\\n        // \\xea\\xb2\\x80\\xec\\x83\\x89 \\xeb\\xa6\\xac\\xec\\x8a\\xa4\\xed\\x8a\\xb8  \\r\\n        $(document).ready(function() {       \\r\\n          $(\\'#foot_keyword_str\\').keyup(function(e) {\\r\\n            if (e.keyCode == 13) \\r\\n              foot_sch_smit();\\r\\n          });        \\r\\n        });\\r\\n\\r\\n        function foot_sch_smit(){            \\r\\n          var foot_keyword_str = $(\"#foot_keyword_str\").val();      \\r\\n          var searchUrl = \"/search/search_list.html?keyword=\"+foot_keyword_str;\\r\\n\\r\\n          if(!foot_keyword_str){\\r\\n            alert(\"\\xea\\xb2\\x80\\xec\\x83\\x89\\xec\\x96\\xb4\\xeb\\xa5\\xbc \\xec\\x9e\\x85\\xeb\\xa0\\xa5\\xed\\x95\\xb4\\xec\\xa3\\xbc\\xec\\x84\\xb8\\xec\\x9a\\x94\");\\r\\n            $(\"#foot_keyword_str\").focus();\\r\\n          }else{\\r\\n            location.href = searchUrl;\\r\\n          }\\r\\n        }\\r\\n      </script>  \\r\\n      \\r\\n    </div>\\r\\n    <!-- //SNS -->\\r\\n    \\r\\n    <!-- \\xed\\x95\\x9c\\xeb\\xb9\\x9b \\xec\\xa0\\x95\\xeb\\xb3\\xb4 -->\\r\\n    <div class=\"foot_about\">\\r\\n      <div class=\"foot_about_area\">\\r\\n        \\r\\n\\r\\n        <p><strong>\\xed\\x95\\x9c\\xeb\\xb9\\x9b\\xeb\\xaf\\xb8\\xeb\\x94\\x94\\xec\\x96\\xb4\\xe3\\x88\\x9c &#149; \\xed\\x95\\x9c\\xeb\\xb9\\x9b\\xec\\x95\\x84\\xec\\xb9\\xb4\\xeb\\x8d\\xb0\\xeb\\xaf\\xb8\\xe3\\x88\\x9c &#149; \\xed\\x95\\x9c\\xeb\\xb9\\x9b\\xeb\\xb9\\x84\\xec\\xa6\\x88\\xe3\\x88\\x9c</strong></p>\\r\\n        <p>(03785) \\xec\\x84\\x9c\\xec\\x9a\\xb8 \\xec\\x84\\x9c\\xeb\\x8c\\x80\\xeb\\xac\\xb8\\xea\\xb5\\xac \\xec\\x97\\xb0\\xed\\x9d\\xac\\xeb\\xa1\\x9c2\\xea\\xb8\\xb8 62</p>\\r\\n        <p>EMAIL : support@hanbit.co.kr</p>\\r\\n        <p>\\xeb\\x8c\\x80\\xed\\x91\\x9c\\xec\\x9d\\xb4\\xec\\x82\\xac : \\xea\\xb9\\x80\\xed\\x83\\x9c\\xed\\x97\\x8c</p>\\r\\n        <p>\\xec\\x82\\xac\\xec\\x97\\x85\\xec\\x9e\\x90\\xeb\\x93\\xb1\\xeb\\xa1\\x9d\\xeb\\xb2\\x88\\xed\\x98\\xb8 : 220-81-05665 <a href=\"http://www.ftc.go.kr/bizCommPop.do?wrkr_no=2208105665\" target=\"_blank\">[\\xed\\x99\\x95\\xec\\x9d\\xb8]</a></p>\\r\\n        <p>\\xed\\x86\\xb5\\xec\\x8b\\xa0\\xed\\x8c\\x90\\xeb\\xa7\\xa4\\xec\\x97\\x85\\xec\\x8b\\xa0\\xea\\xb3\\xa0 : 2017-\\xec\\x84\\x9c\\xec\\x9a\\xb8\\xec\\x84\\x9c\\xeb\\x8c\\x80\\xeb\\xac\\xb8-0671\\xed\\x98\\xb8</p>\\r\\n        <p>\\xed\\x98\\xb8\\xec\\x8a\\xa4\\xed\\x8c\\x85\\xec\\xa0\\x9c\\xea\\xb3\\xb5\\xec\\x9e\\x90 : (\\xec\\xa3\\xbc)\\xeb\\x88\\x84\\xeb\\xa6\\xac\\xed\\x98\\xb8\\xec\\x8a\\xa4\\xed\\x8c\\x85</p>        \\r\\n\\r\\n      </div>\\r\\n    </div>\\r\\n    <!-- //\\xed\\x95\\x9c\\xeb\\xb9\\x9b \\xec\\xa0\\x95\\xeb\\xb3\\xb4 -->\\r\\n  </div>\\r\\n  \\r\\n  <div class=\"copyright\">&copy;1993-2021 Hanbit Publishing Network, Inc. All rights reserved.</div>\\r\\n</footer>\\r\\n<!-- //\\xed\\x91\\xb8\\xed\\x84\\xb0 -->\\r\\n<div class=\"foot_download_btn\"><a href=\"https://www.hanbit.co.kr/support/supplement_list.html\">\\xec\\x9e\\x90\\xeb\\xa3\\x8c\\xec\\x8b\\xa4</a></div>\\r\\n\\r\\n<!-- \\xea\\xb3\\xb5\\xed\\x86\\xb5 JS \\xed\\x98\\xb8\\xec\\xb6\\x9c -->\\r\\n<script type=\"text/javascript\" src=\"/js/common.js\"></script>\\r\\n<!-- //\\xea\\xb3\\xb5\\xed\\x86\\xb5 JS \\xed\\x98\\xb8\\xec\\xb6\\x9c -->\\r\\n\\r\\n</body>\\r\\n</html>\\r\\n'"
            ]
          },
          "metadata": {
            "tags": []
          },
          "execution_count": 4
        }
      ]
    },
    {
      "cell_type": "code",
      "metadata": {
        "colab": {
          "base_uri": "https://localhost:8080/",
          "height": 34
        },
        "id": "B5-ED7m0bNBG",
        "outputId": "c08b4e59-ac50-428a-fe05-4a0976395cc5"
      },
      "source": [
        "f.getheader('Content-Type')"
      ],
      "execution_count": null,
      "outputs": [
        {
          "output_type": "execute_result",
          "data": {
            "application/vnd.google.colaboratory.intrinsic+json": {
              "type": "string"
            },
            "text/plain": [
              "'text/html; charset=UTF-8'"
            ]
          },
          "metadata": {
            "tags": []
          },
          "execution_count": 5
        }
      ]
    },
    {
      "cell_type": "code",
      "metadata": {
        "colab": {
          "base_uri": "https://localhost:8080/"
        },
        "id": "IdweOL8nbP2n",
        "outputId": "eecc16f9-baf4-423c-ec6b-a920b178bb37"
      },
      "source": [
        "encoding=f.info().get_content_charset(failobj=\"utf-8\")\n",
        "print(encoding)"
      ],
      "execution_count": null,
      "outputs": [
        {
          "output_type": "stream",
          "text": [
            "utf-8\n"
          ],
          "name": "stdout"
        }
      ]
    },
    {
      "cell_type": "code",
      "metadata": {
        "colab": {
          "base_uri": "https://localhost:8080/"
        },
        "id": "arNEZrYWbRw4",
        "outputId": "0cc27ff6-e1e2-4440-9afc-bbbaa227c905"
      },
      "source": [
        "text=f.read().decode(encoding)\n",
        "print(text)"
      ],
      "execution_count": null,
      "outputs": [
        {
          "output_type": "stream",
          "text": [
            "\n"
          ],
          "name": "stdout"
        }
      ]
    },
    {
      "cell_type": "code",
      "metadata": {
        "colab": {
          "resources": {
            "http://localhost:8080/nbextensions/google.colab/files.js": {
              "data": "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",
              "ok": true,
              "headers": [
                [
                  "content-type",
                  "application/javascript"
                ]
              ],
              "status": 200,
              "status_text": ""
            }
          },
          "base_uri": "https://localhost:8080/",
          "height": 75
        },
        "id": "G3clQF9CdEIO",
        "outputId": "aa699b2d-1a80-4d9b-8097-f350a8b57997"
      },
      "source": [
        "from google.colab import files\n",
        "myfile = files.upload() "
      ],
      "execution_count": null,
      "outputs": [
        {
          "output_type": "display_data",
          "data": {
            "text/html": [
              "\n",
              "     <input type=\"file\" id=\"files-9b62e4fa-2b56-4a80-b52b-b93733d86b34\" name=\"files[]\" multiple disabled\n",
              "        style=\"border:none\" />\n",
              "     <output id=\"result-9b62e4fa-2b56-4a80-b52b-b93733d86b34\">\n",
              "      Upload widget is only available when the cell has been executed in the\n",
              "      current browser session. Please rerun this cell to enable.\n",
              "      </output>\n",
              "      <script src=\"/nbextensions/google.colab/files.js\"></script> "
            ],
            "text/plain": [
              "<IPython.core.display.HTML object>"
            ]
          },
          "metadata": {
            "tags": []
          }
        },
        {
          "output_type": "stream",
          "text": [
            "Saving 03. test_first.html to 03. test_first.html\n"
          ],
          "name": "stdout"
        }
      ]
    },
    {
      "cell_type": "code",
      "metadata": {
        "id": "d5zBcipbdSA-"
      },
      "source": [
        "from bs4 import BeautifulSoup\n",
        "page = open('/content/03. test_first.html', 'r').read()\n",
        "soup = BeautifulSoup(page, 'html.parser') "
      ],
      "execution_count": null,
      "outputs": []
    },
    {
      "cell_type": "code",
      "metadata": {
        "colab": {
          "base_uri": "https://localhost:8080/"
        },
        "id": "W8-M1T4feLqI",
        "outputId": "24b3c170-9bf2-4e22-9674-ccf871c2e447"
      },
      "source": [
        "print(soup)"
      ],
      "execution_count": null,
      "outputs": [
        {
          "output_type": "stream",
          "text": [
            "<!DOCTYPE html>\n",
            "\n",
            "<html>\n",
            "<head>\n",
            "<title>Very Simple HTML Code by PinkWink</title>\n",
            "</head>\n",
            "<body>\n",
            "<div>\n",
            "<p class=\"inner-text first-item\" id=\"first\">\n",
            "                Happy PinkWink.\n",
            "                <a href=\"http://www.pinkwink.kr\" id=\"pw-link\">PinkWink</a>\n",
            "</p>\n",
            "<p class=\"inner-text second-item\">\n",
            "                Happy Data Science.\n",
            "                <a href=\"https://www.python.org\" id=\"py-link\">Python</a>\n",
            "</p>\n",
            "</div>\n",
            "<p class=\"outer-text first-item\" id=\"second\">\n",
            "<b>\n",
            "                Data Science is funny.\n",
            "            </b>\n",
            "</p>\n",
            "<p class=\"outer-text\">\n",
            "<b>\n",
            "                All I need is Love.\n",
            "            </b>\n",
            "</p>\n",
            "</body>\n",
            "</html>\n"
          ],
          "name": "stdout"
        }
      ]
    },
    {
      "cell_type": "code",
      "metadata": {
        "colab": {
          "base_uri": "https://localhost:8080/"
        },
        "id": "SpFyQgi3efHW",
        "outputId": "9b97ab21-defb-4f39-f87d-3a612abf075c"
      },
      "source": [
        "print(soup.prettify())"
      ],
      "execution_count": null,
      "outputs": [
        {
          "output_type": "stream",
          "text": [
            "<!DOCTYPE html>\n",
            "<html>\n",
            " <head>\n",
            "  <title>\n",
            "   Very Simple HTML Code by PinkWink\n",
            "  </title>\n",
            " </head>\n",
            " <body>\n",
            "  <div>\n",
            "   <p class=\"inner-text first-item\" id=\"first\">\n",
            "    Happy PinkWink.\n",
            "    <a href=\"http://www.pinkwink.kr\" id=\"pw-link\">\n",
            "     PinkWink\n",
            "    </a>\n",
            "   </p>\n",
            "   <p class=\"inner-text second-item\">\n",
            "    Happy Data Science.\n",
            "    <a href=\"https://www.python.org\" id=\"py-link\">\n",
            "     Python\n",
            "    </a>\n",
            "   </p>\n",
            "  </div>\n",
            "  <p class=\"outer-text first-item\" id=\"second\">\n",
            "   <b>\n",
            "    Data Science is funny.\n",
            "   </b>\n",
            "  </p>\n",
            "  <p class=\"outer-text\">\n",
            "   <b>\n",
            "    All I need is Love.\n",
            "   </b>\n",
            "  </p>\n",
            " </body>\n",
            "</html>\n"
          ],
          "name": "stdout"
        }
      ]
    },
    {
      "cell_type": "code",
      "metadata": {
        "colab": {
          "base_uri": "https://localhost:8080/"
        },
        "id": "eNRBhXIzgoPl",
        "outputId": "ae37ccad-bbc2-4f4d-e14f-e6c662cf5ab0"
      },
      "source": [
        "soup.find('p') "
      ],
      "execution_count": null,
      "outputs": [
        {
          "output_type": "execute_result",
          "data": {
            "text/plain": [
              "<p class=\"inner-text first-item\" id=\"first\">\n",
              "                Happy PinkWink.\n",
              "                <a href=\"http://www.pinkwink.kr\" id=\"pw-link\">PinkWink</a>\n",
              "</p>"
            ]
          },
          "metadata": {
            "tags": []
          },
          "execution_count": 18
        }
      ]
    },
    {
      "cell_type": "code",
      "metadata": {
        "colab": {
          "base_uri": "https://localhost:8080/"
        },
        "id": "3lUJLuBCgqf0",
        "outputId": "781be0ab-2d8e-4c09-a2af-3cf71dfb7e54"
      },
      "source": [
        "soup.find_all('p')"
      ],
      "execution_count": null,
      "outputs": [
        {
          "output_type": "execute_result",
          "data": {
            "text/plain": [
              "[<p class=\"inner-text first-item\" id=\"first\">\n",
              "                 Happy PinkWink.\n",
              "                 <a href=\"http://www.pinkwink.kr\" id=\"pw-link\">PinkWink</a>\n",
              " </p>, <p class=\"inner-text second-item\">\n",
              "                 Happy Data Science.\n",
              "                 <a href=\"https://www.python.org\" id=\"py-link\">Python</a>\n",
              " </p>, <p class=\"outer-text first-item\" id=\"second\">\n",
              " <b>\n",
              "                 Data Science is funny.\n",
              "             </b>\n",
              " </p>, <p class=\"outer-text\">\n",
              " <b>\n",
              "                 All I need is Love.\n",
              "             </b>\n",
              " </p>]"
            ]
          },
          "metadata": {
            "tags": []
          },
          "execution_count": 19
        }
      ]
    },
    {
      "cell_type": "code",
      "metadata": {
        "colab": {
          "base_uri": "https://localhost:8080/"
        },
        "id": "lonID6tagsaM",
        "outputId": "05474c49-6e32-410b-f8e4-25a73bbe72f6"
      },
      "source": [
        "soup.find_all('p', class_ = 'outer-text')"
      ],
      "execution_count": null,
      "outputs": [
        {
          "output_type": "execute_result",
          "data": {
            "text/plain": [
              "[<p class=\"outer-text first-item\" id=\"second\">\n",
              " <b>\n",
              "                 Data Science is funny.\n",
              "             </b>\n",
              " </p>, <p class=\"outer-text\">\n",
              " <b>\n",
              "                 All I need is Love.\n",
              "             </b>\n",
              " </p>]"
            ]
          },
          "metadata": {
            "tags": []
          },
          "execution_count": 20
        }
      ]
    },
    {
      "cell_type": "code",
      "metadata": {
        "colab": {
          "base_uri": "https://localhost:8080/"
        },
        "id": "ItLl1afIguNw",
        "outputId": "4f868030-f395-41b5-9864-43671b690e84"
      },
      "source": [
        "soup.find_all(class_ = 'outer-text') "
      ],
      "execution_count": null,
      "outputs": [
        {
          "output_type": "execute_result",
          "data": {
            "text/plain": [
              "[<p class=\"outer-text first-item\" id=\"second\">\n",
              " <b>\n",
              "                 Data Science is funny.\n",
              "             </b>\n",
              " </p>, <p class=\"outer-text\">\n",
              " <b>\n",
              "                 All I need is Love.\n",
              "             </b>\n",
              " </p>]"
            ]
          },
          "metadata": {
            "tags": []
          },
          "execution_count": 21
        }
      ]
    },
    {
      "cell_type": "code",
      "metadata": {
        "colab": {
          "base_uri": "https://localhost:8080/"
        },
        "id": "vBkrQulogwEi",
        "outputId": "598765fa-97c4-49e1-b8b7-d45f4e457516"
      },
      "source": [
        "soup.find_all(id = 'first')"
      ],
      "execution_count": null,
      "outputs": [
        {
          "output_type": "execute_result",
          "data": {
            "text/plain": [
              "[<p class=\"inner-text first-item\" id=\"first\">\n",
              "                 Happy PinkWink.\n",
              "                 <a href=\"http://www.pinkwink.kr\" id=\"pw-link\">PinkWink</a>\n",
              " </p>]"
            ]
          },
          "metadata": {
            "tags": []
          },
          "execution_count": 22
        }
      ]
    },
    {
      "cell_type": "code",
      "metadata": {
        "colab": {
          "base_uri": "https://localhost:8080/",
          "height": 52
        },
        "id": "uTw1UV8SgyEI",
        "outputId": "3132aaca-1462-4977-ec9d-b97384dc296b"
      },
      "source": [
        "body = soup.body\n",
        "body.get_text() "
      ],
      "execution_count": null,
      "outputs": [
        {
          "output_type": "execute_result",
          "data": {
            "application/vnd.google.colaboratory.intrinsic+json": {
              "type": "string"
            },
            "text/plain": [
              "'\\n\\n\\n                Happy PinkWink.\\n                PinkWink\\n\\n\\n                Happy Data Science.\\n                Python\\n\\n\\n\\n\\n                Data Science is funny.\\n            \\n\\n\\n\\n                All I need is Love.\\n            \\n\\n'"
            ]
          },
          "metadata": {
            "tags": []
          },
          "execution_count": 23
        }
      ]
    },
    {
      "cell_type": "code",
      "metadata": {
        "colab": {
          "base_uri": "https://localhost:8080/"
        },
        "id": "5lQuVuyFgzy6",
        "outputId": "e5864b65-c4e3-4f78-9656-deb76ea4aadb"
      },
      "source": [
        "for each_tag in soup.find_all('p'):\n",
        "  print(each_tag.get_text()) "
      ],
      "execution_count": null,
      "outputs": [
        {
          "output_type": "stream",
          "text": [
            "\n",
            "                Happy PinkWink.\n",
            "                PinkWink\n",
            "\n",
            "\n",
            "                Happy Data Science.\n",
            "                Python\n",
            "\n",
            "\n",
            "\n",
            "                Data Science is funny.\n",
            "            \n",
            "\n",
            "\n",
            "\n",
            "                All I need is Love.\n",
            "            \n",
            "\n"
          ],
          "name": "stdout"
        }
      ]
    },
    {
      "cell_type": "code",
      "metadata": {
        "colab": {
          "base_uri": "https://localhost:8080/"
        },
        "id": "q-A4LdnIg2zE",
        "outputId": "3ca43423-77ed-4f1f-98af-19f77baf9307"
      },
      "source": [
        "for each_tag in soup.find_all('a'):\n",
        "  print(each_tag.string)"
      ],
      "execution_count": null,
      "outputs": [
        {
          "output_type": "stream",
          "text": [
            "PinkWink\n",
            "Python\n"
          ],
          "name": "stdout"
        }
      ]
    },
    {
      "cell_type": "code",
      "metadata": {
        "colab": {
          "base_uri": "https://localhost:8080/"
        },
        "id": "UNnGm_ZPg9r0",
        "outputId": "4eb91d84-8a1a-44e0-9110-9016abdfa448"
      },
      "source": [
        "body.p "
      ],
      "execution_count": null,
      "outputs": [
        {
          "output_type": "execute_result",
          "data": {
            "text/plain": [
              "<p class=\"inner-text first-item\" id=\"first\">\n",
              "                Happy PinkWink.\n",
              "                <a href=\"http://www.pinkwink.kr\" id=\"pw-link\">PinkWink</a>\n",
              "</p>"
            ]
          },
          "metadata": {
            "tags": []
          },
          "execution_count": 28
        }
      ]
    },
    {
      "cell_type": "code",
      "metadata": {
        "colab": {
          "base_uri": "https://localhost:8080/"
        },
        "id": "ucIv3Fujg_Mj",
        "outputId": "efb991ea-8a52-4834-91d0-788d56bd2c57"
      },
      "source": [
        "body.p['class'] "
      ],
      "execution_count": null,
      "outputs": [
        {
          "output_type": "execute_result",
          "data": {
            "text/plain": [
              "['inner-text', 'first-item']"
            ]
          },
          "metadata": {
            "tags": []
          },
          "execution_count": 29
        }
      ]
    },
    {
      "cell_type": "code",
      "metadata": {
        "colab": {
          "base_uri": "https://localhost:8080/"
        },
        "id": "34tBb2b0hAq3",
        "outputId": "6ce56bd6-1bf1-4514-9bb6-e26b48e83172"
      },
      "source": [
        "links = soup.find_all('a')\n",
        "print(links) "
      ],
      "execution_count": null,
      "outputs": [
        {
          "output_type": "stream",
          "text": [
            "[<a href=\"http://www.pinkwink.kr\" id=\"pw-link\">PinkWink</a>, <a href=\"https://www.python.org\" id=\"py-link\">Python</a>]\n"
          ],
          "name": "stdout"
        }
      ]
    },
    {
      "cell_type": "code",
      "metadata": {
        "colab": {
          "base_uri": "https://localhost:8080/"
        },
        "id": "vb7nfYpmhCNs",
        "outputId": "0fb94097-09e6-4778-ad48-5a5c0fa23345"
      },
      "source": [
        "for each in links:\n",
        "  text = each.string\n",
        "  href = each['href']\n",
        "  print(text, '->', href)"
      ],
      "execution_count": null,
      "outputs": [
        {
          "output_type": "stream",
          "text": [
            "PinkWink -> http://www.pinkwink.kr\n",
            "Python -> https://www.python.org\n"
          ],
          "name": "stdout"
        }
      ]
    },
    {
      "cell_type": "code",
      "metadata": {
        "colab": {
          "base_uri": "https://localhost:8080/"
        },
        "id": "YWmqu2CthGQ5",
        "outputId": "7854a369-0676-4f3d-aa71-94acad0aa8bf"
      },
      "source": [
        "from bs4 import BeautifulSoup\n",
        "page = open('/content/03. test_first.html', 'r').read()\n",
        "soup = BeautifulSoup(page, 'html.parser')\n",
        "#print(soup)\n",
        "#print(soup.prettify())\n",
        "links = soup.find_all('a')\n",
        "for each in links:\n",
        "  href = each['href']\n",
        "  text = each.string\n",
        "  print(text, '->', href) "
      ],
      "execution_count": null,
      "outputs": [
        {
          "output_type": "stream",
          "text": [
            "PinkWink -> http://www.pinkwink.kr\n",
            "Python -> https://www.python.org\n"
          ],
          "name": "stdout"
        }
      ]
    },
    {
      "cell_type": "code",
      "metadata": {
        "colab": {
          "base_uri": "https://localhost:8080/"
        },
        "id": "ZpKy8hmBiDc3",
        "outputId": "84dc219f-ea3a-43e2-d1de-70a438b717a7"
      },
      "source": [
        "from bs4 import BeautifulSoup\n",
        "from urllib.request import urlopen\n",
        "url = 'http://finance.naver.com/marketindex/'\n",
        "page = urlopen(url)\n",
        "soup = BeautifulSoup(page, 'html.parser')\n",
        "print(soup.prettify()) "
      ],
      "execution_count": null,
      "outputs": [
        {
          "output_type": "stream",
          "text": [
            "<script language=\"javascript\" src=\"/template/head_js.nhn?referer=info.finance.naver.com&amp;menu=marketindex&amp;submenu=market\">\n",
            "</script>\n",
            "<script src=\"https://ssl.pstatic.net/imgstock/static.pc/20210428175742/js/info/jindo.min.ns.1.5.3.euckr.js\" type=\"text/javascript\">\n",
            "</script>\n",
            "<script src=\"https://ssl.pstatic.net/imgstock/static.pc/20210428175742/js/jindo.1.5.3.element-text-patch.js\" type=\"text/javascript\">\n",
            "</script>\n",
            "<div id=\"container\" style=\"padding-bottom:0px;\">\n",
            " <div class=\"market_include\">\n",
            "  <div class=\"market_data\">\n",
            "   <div class=\"market1\">\n",
            "    <div class=\"title\">\n",
            "     <h2 class=\"h_market1\">\n",
            "      <span>\n",
            "       환전 고시 환율\n",
            "      </span>\n",
            "     </h2>\n",
            "    </div>\n",
            "    <!-- data -->\n",
            "    <div class=\"data\">\n",
            "     <ul class=\"data_lst\" id=\"exchangeList\">\n",
            "      <li class=\"on\">\n",
            "       <a class=\"head usd\" href=\"/marketindex/exchangeDetail.nhn?marketindexCd=FX_USDKRW\" onclick=\"clickcr(this, 'fr1.usdt', '', '', event);\">\n",
            "        <h3 class=\"h_lst\">\n",
            "         <span class=\"blind\">\n",
            "          미국 USD\n",
            "         </span>\n",
            "        </h3>\n",
            "        <div class=\"head_info point_dn\">\n",
            "         <span class=\"value\">\n",
            "          1,124.00\n",
            "         </span>\n",
            "         <span class=\"txt_krw\">\n",
            "          <span class=\"blind\">\n",
            "           원\n",
            "          </span>\n",
            "         </span>\n",
            "         <span class=\"change\">\n",
            "          2.00\n",
            "         </span>\n",
            "         <span class=\"blind\">\n",
            "          하락\n",
            "         </span>\n",
            "        </div>\n",
            "       </a>\n",
            "       <a class=\"graph_img\" href=\"/marketindex/exchangeDetail.nhn?marketindexCd=FX_USDKRW\" onclick=\"clickcr(this, 'fr1.usdc', '', '', event);\">\n",
            "        <img alt=\"\" height=\"153\" src=\"https://ssl.pstatic.net/imgfinance/chart/marketindex/FX_USDKRW.png\" width=\"295\"/>\n",
            "       </a>\n",
            "       <div class=\"graph_info\">\n",
            "        <span class=\"time\">\n",
            "         2021.05.06 20:00\n",
            "        </span>\n",
            "        <span class=\"source\">\n",
            "         하나은행 기준\n",
            "        </span>\n",
            "        <span class=\"count\">\n",
            "         고시회차\n",
            "         <span class=\"num\">\n",
            "          208\n",
            "         </span>\n",
            "         회\n",
            "        </span>\n",
            "       </div>\n",
            "      </li>\n",
            "      <li class=\"\">\n",
            "       <a class=\"head jpy\" href=\"/marketindex/exchangeDetail.nhn?marketindexCd=FX_JPYKRW\" onclick=\"clickcr(this, 'fr1.jpyt', '', '', event);\">\n",
            "        <h3 class=\"h_lst\">\n",
            "         <span class=\"blind\">\n",
            "          일본 JPY(100엔)\n",
            "         </span>\n",
            "        </h3>\n",
            "        <div class=\"head_info point_up\">\n",
            "         <span class=\"value\">\n",
            "          1,030.01\n",
            "         </span>\n",
            "         <span class=\"txt_krw\">\n",
            "          <span class=\"blind\">\n",
            "           원\n",
            "          </span>\n",
            "         </span>\n",
            "         <span class=\"change\">\n",
            "          0.43\n",
            "         </span>\n",
            "         <span class=\"blind\">\n",
            "          상승\n",
            "         </span>\n",
            "        </div>\n",
            "       </a>\n",
            "       <a class=\"graph_img\" href=\"/marketindex/exchangeDetail.nhn?marketindexCd=FX_JPYKRW\" onclick=\"clickcr(this, 'fr1.jpyc', '', '', event);\">\n",
            "        <img alt=\"\" height=\"153\" src=\"https://ssl.pstatic.net/imgfinance/chart/marketindex/FX_JPYKRW.png\" width=\"295\"/>\n",
            "       </a>\n",
            "       <div class=\"graph_info\">\n",
            "        <span class=\"time\">\n",
            "         2021.05.06 20:00\n",
            "        </span>\n",
            "        <span class=\"source\">\n",
            "         하나은행 기준\n",
            "        </span>\n",
            "        <span class=\"count\">\n",
            "         고시회차\n",
            "         <span class=\"num\">\n",
            "          208\n",
            "         </span>\n",
            "         회\n",
            "        </span>\n",
            "       </div>\n",
            "      </li>\n",
            "      <li class=\"\">\n",
            "       <a class=\"head eur\" href=\"/marketindex/exchangeDetail.nhn?marketindexCd=FX_EURKRW\" onclick=\"clickcr(this, 'fr1.eurt', '', '', event);\">\n",
            "        <h3 class=\"h_lst\">\n",
            "         <span class=\"blind\">\n",
            "          유럽연합 EUR\n",
            "         </span>\n",
            "        </h3>\n",
            "        <div class=\"head_info point_up\">\n",
            "         <span class=\"value\">\n",
            "          1,353.58\n",
            "         </span>\n",
            "         <span class=\"txt_krw\">\n",
            "          <span class=\"blind\">\n",
            "           원\n",
            "          </span>\n",
            "         </span>\n",
            "         <span class=\"change\">\n",
            "          0.24\n",
            "         </span>\n",
            "         <span class=\"blind\">\n",
            "          상승\n",
            "         </span>\n",
            "        </div>\n",
            "       </a>\n",
            "       <a class=\"graph_img\" href=\"/marketindex/exchangeDetail.nhn?marketindexCd=FX_EURKRW\" onclick=\"clickcr(this, 'fr1.eurc', '', '', event);\">\n",
            "        <img alt=\"\" height=\"153\" src=\"https://ssl.pstatic.net/imgfinance/chart/marketindex/FX_EURKRW.png\" width=\"295\"/>\n",
            "       </a>\n",
            "       <div class=\"graph_info\">\n",
            "        <span class=\"time\">\n",
            "         2021.05.06 20:00\n",
            "        </span>\n",
            "        <span class=\"source\">\n",
            "         하나은행 기준\n",
            "        </span>\n",
            "        <span class=\"count\">\n",
            "         고시회차\n",
            "         <span class=\"num\">\n",
            "          208\n",
            "         </span>\n",
            "         회\n",
            "        </span>\n",
            "       </div>\n",
            "      </li>\n",
            "      <li class=\"\">\n",
            "       <a class=\"head cny\" href=\"/marketindex/exchangeDetail.nhn?marketindexCd=FX_CNYKRW\" onclick=\"clickcr(this, 'fr1.cnyt', '', '', event);\">\n",
            "        <h3 class=\"h_lst\">\n",
            "         <span class=\"blind\">\n",
            "          중국 CNY\n",
            "         </span>\n",
            "        </h3>\n",
            "        <div class=\"head_info point_dn\">\n",
            "         <span class=\"value\">\n",
            "          173.63\n",
            "         </span>\n",
            "         <span class=\"txt_krw\">\n",
            "          <span class=\"blind\">\n",
            "           원\n",
            "          </span>\n",
            "         </span>\n",
            "         <span class=\"change\">\n",
            "          0.01\n",
            "         </span>\n",
            "         <span class=\"blind\">\n",
            "          하락\n",
            "         </span>\n",
            "        </div>\n",
            "       </a>\n",
            "       <a class=\"graph_img\" href=\"/marketindex/exchangeDetail.nhn?marketindexCd=FX_CNYKRW\" onclick=\"clickcr(this, 'fr1.cnyc', '', '', event);\">\n",
            "        <img alt=\"\" height=\"153\" src=\"https://ssl.pstatic.net/imgfinance/chart/marketindex/FX_CNYKRW.png\" width=\"295\"/>\n",
            "       </a>\n",
            "       <div class=\"graph_info\">\n",
            "        <span class=\"time\">\n",
            "         2021.05.06 20:00\n",
            "        </span>\n",
            "        <span class=\"source\">\n",
            "         하나은행 기준\n",
            "        </span>\n",
            "        <span class=\"count\">\n",
            "         고시회차\n",
            "         <span class=\"num\">\n",
            "          208\n",
            "         </span>\n",
            "         회\n",
            "        </span>\n",
            "       </div>\n",
            "      </li>\n",
            "     </ul>\n",
            "    </div>\n",
            "    <!-- //data -->\n",
            "   </div>\n",
            "   <div class=\"market2\">\n",
            "    <div class=\"title\">\n",
            "     <h2 class=\"h_market2\">\n",
            "      <span>\n",
            "       국제 시장 환율\n",
            "      </span>\n",
            "     </h2>\n",
            "    </div>\n",
            "    <!-- data -->\n",
            "    <div class=\"data\">\n",
            "     <ul class=\"data_lst\" id=\"worldExchangeList\">\n",
            "      <li class=\"on\">\n",
            "       <a class=\"head jpy_usd\" href=\"/marketindex/worldExchangeDetail.nhn?marketindexCd=FX_USDJPY\" onclick=\"clickcr(this, 'fr2.jpyut', '', '', event);\">\n",
            "        <h3 class=\"h_lst\">\n",
            "         <span class=\"blind\">\n",
            "          달러/일본 엔\n",
            "         </span>\n",
            "        </h3>\n",
            "        <div class=\"head_info point_up\">\n",
            "         <span class=\"value\">\n",
            "          109.2100\n",
            "         </span>\n",
            "         <span class=\"txt_jpy\">\n",
            "          <span class=\"blind\">\n",
            "           엔\n",
            "          </span>\n",
            "         </span>\n",
            "         <span class=\"change\">\n",
            "          0.0100\n",
            "         </span>\n",
            "         <span class=\"blind\">\n",
            "          상승\n",
            "         </span>\n",
            "        </div>\n",
            "       </a>\n",
            "       <a class=\"graph_img\" href=\"/marketindex/worldExchangeDetail.nhn?marketindexCd=FX_USDJPY\" onclick=\"clickcr(this, 'fr2.jpyuc', '', '', event);\">\n",
            "        <img alt=\"\" height=\"153\" src=\"https://ssl.pstatic.net/imgfinance/chart/marketindex/FX_USDJPY.png\" width=\"295\"/>\n",
            "       </a>\n",
            "       <div class=\"graph_info\">\n",
            "        <span class=\"time\">\n",
            "         2021.05.05\n",
            "        </span>\n",
            "        <span class=\"source\">\n",
            "         모닝스타 기준\n",
            "        </span>\n",
            "       </div>\n",
            "      </li>\n",
            "      <li class=\"\">\n",
            "       <a class=\"head usd_eur\" href=\"/marketindex/worldExchangeDetail.nhn?marketindexCd=FX_EURUSD\" onclick=\"clickcr(this, 'fr2.eurdt', '', '', event);\">\n",
            "        <h3 class=\"h_lst\">\n",
            "         <span class=\"blind\">\n",
            "          유로/달러\n",
            "         </span>\n",
            "        </h3>\n",
            "        <div class=\"head_info point_dn\">\n",
            "         <span class=\"value\">\n",
            "          1.2003\n",
            "         </span>\n",
            "         <span class=\"txt_usd\">\n",
            "          <span class=\"blind\">\n",
            "           달러\n",
            "          </span>\n",
            "         </span>\n",
            "         <span class=\"change\">\n",
            "          0.0027\n",
            "         </span>\n",
            "         <span class=\"blind\">\n",
            "          하락\n",
            "         </span>\n",
            "        </div>\n",
            "       </a>\n",
            "       <a class=\"graph_img\" href=\"/marketindex/worldExchangeDetail.nhn?marketindexCd=FX_EURUSD\" onclick=\"clickcr(this, 'fr2.eurdc', '', '', event);\">\n",
            "        <img alt=\"\" height=\"153\" src=\"https://ssl.pstatic.net/imgfinance/chart/marketindex/FX_EURUSD.png\" width=\"295\"/>\n",
            "       </a>\n",
            "       <div class=\"graph_info\">\n",
            "        <span class=\"time\">\n",
            "         2021.05.05\n",
            "        </span>\n",
            "        <span class=\"source\">\n",
            "         모닝스타 기준\n",
            "        </span>\n",
            "       </div>\n",
            "      </li>\n",
            "      <li class=\"\">\n",
            "       <a class=\"head usd_gbp\" href=\"/marketindex/worldExchangeDetail.nhn?marketindexCd=FX_GBPUSD\" onclick=\"clickcr(this, 'fr2.gbpdt', '', '', event);\">\n",
            "        <h3 class=\"h_lst\">\n",
            "         <span class=\"blind\">\n",
            "          영국 파운드/달러\n",
            "         </span>\n",
            "        </h3>\n",
            "        <div class=\"head_info point_up\">\n",
            "         <span class=\"value\">\n",
            "          1.3910\n",
            "         </span>\n",
            "         <span class=\"txt_usd\">\n",
            "          <span class=\"blind\">\n",
            "           달러\n",
            "          </span>\n",
            "         </span>\n",
            "         <span class=\"change\">\n",
            "          0.0027\n",
            "         </span>\n",
            "         <span class=\"blind\">\n",
            "          상승\n",
            "         </span>\n",
            "        </div>\n",
            "       </a>\n",
            "       <a class=\"graph_img\" href=\"/marketindex/worldExchangeDetail.nhn?marketindexCd=FX_GBPUSD\" onclick=\"clickcr(this, 'fr2.gbpdc', '', '', event);\">\n",
            "        <img alt=\"\" height=\"153\" src=\"https://ssl.pstatic.net/imgfinance/chart/marketindex/FX_GBPUSD.png\" width=\"295\"/>\n",
            "       </a>\n",
            "       <div class=\"graph_info\">\n",
            "        <span class=\"time\">\n",
            "         2021.05.05\n",
            "        </span>\n",
            "        <span class=\"source\">\n",
            "         모닝스타 기준\n",
            "        </span>\n",
            "       </div>\n",
            "      </li>\n",
            "      <li class=\"\">\n",
            "       <a class=\"head usd_idx\" href=\"/marketindex/worldExchangeDetail.nhn?marketindexCd=FX_USDX\" onclick=\"clickcr(this, 'fr2.indt', '', '', event);\">\n",
            "        <h3 class=\"h_lst\">\n",
            "         <span class=\"blind\">\n",
            "          달러인덱스\n",
            "         </span>\n",
            "        </h3>\n",
            "        <div class=\"head_info point_up\">\n",
            "         <span class=\"value\">\n",
            "          91.2900\n",
            "         </span>\n",
            "         <span class=\"change\">\n",
            "          0.0200\n",
            "         </span>\n",
            "         <span class=\"blind\">\n",
            "          상승\n",
            "         </span>\n",
            "        </div>\n",
            "       </a>\n",
            "       <a class=\"graph_img\" href=\"/marketindex/worldExchangeDetail.nhn?marketindexCd=FX_USDX\" onclick=\"clickcr(this, 'fr2.indc', '', '', event);\">\n",
            "        <img alt=\"\" height=\"153\" src=\"https://ssl.pstatic.net/imgfinance/chart/marketindex/FX_USDX.png\" width=\"295\"/>\n",
            "       </a>\n",
            "       <div class=\"graph_info\">\n",
            "        <span class=\"time\">\n",
            "         2021.05.05\n",
            "        </span>\n",
            "        <span class=\"source\">\n",
            "         ICE 기준\n",
            "        </span>\n",
            "       </div>\n",
            "      </li>\n",
            "     </ul>\n",
            "    </div>\n",
            "    <!-- //data -->\n",
            "   </div>\n",
            "   <div class=\"market3\">\n",
            "    <div class=\"title\">\n",
            "     <h2 class=\"h_market3\">\n",
            "      <span>\n",
            "       유가·금시세\n",
            "      </span>\n",
            "     </h2>\n",
            "    </div>\n",
            "    <!-- data -->\n",
            "    <div class=\"data\">\n",
            "     <ul class=\"data_lst\" id=\"oilGoldList\">\n",
            "      <li class=\"on\">\n",
            "       <a class=\"head wti\" href=\"/marketindex/worldOilDetail.nhn?marketindexCd=OIL_CL&amp;fdtc=2\" onclick=\"clickcr(this, 'fr3.wtit', '', '', event);\">\n",
            "        <h3 class=\"h_lst\">\n",
            "         <span class=\"blind\">\n",
            "          WTI\n",
            "         </span>\n",
            "        </h3>\n",
            "        <div class=\"head_info point_dn\">\n",
            "         <span class=\"value\">\n",
            "          65.63\n",
            "         </span>\n",
            "         <span class=\"txt_usd\">\n",
            "          <span class=\"blind\">\n",
            "           달러\n",
            "          </span>\n",
            "         </span>\n",
            "         <span class=\"change\">\n",
            "          0.06\n",
            "         </span>\n",
            "         <span class=\"blind\">\n",
            "          하락\n",
            "         </span>\n",
            "        </div>\n",
            "       </a>\n",
            "       <a class=\"graph_img\" href=\"/marketindex/worldOilDetail.nhn?marketindexCd=OIL_CL&amp;fdtc=2\" onclick=\"clickcr(this, 'fr3.wtic', '', '', event);\">\n",
            "        <img alt=\"\" height=\"153\" src=\"https://ssl.pstatic.net/imgfinance/chart/marketindex/OIL_CL.png\" width=\"295\"/>\n",
            "       </a>\n",
            "       <div class=\"graph_info\">\n",
            "        <span class=\"time\">\n",
            "         2021.05.05\n",
            "        </span>\n",
            "        <span class=\"source\">\n",
            "         NYMEX(뉴욕상업거래소) 기준\n",
            "        </span>\n",
            "       </div>\n",
            "      </li>\n",
            "      <li class=\"\">\n",
            "       <a class=\"head gasoline\" href=\"/marketindex/oilDetail.nhn?marketindexCd=OIL_GSL\" onclick=\"clickcr(this, 'fr3.oilt', '', '', event);\">\n",
            "        <h3 class=\"h_lst\">\n",
            "         <span class=\"blind\">\n",
            "          휘발유\n",
            "         </span>\n",
            "        </h3>\n",
            "        <div class=\"head_info point_up\">\n",
            "         <span class=\"value\">\n",
            "          1534.53\n",
            "         </span>\n",
            "         <span class=\"txt_krw\">\n",
            "          <span class=\"blind\">\n",
            "           원\n",
            "          </span>\n",
            "         </span>\n",
            "         <span class=\"change\">\n",
            "          0.17\n",
            "         </span>\n",
            "         <span class=\"blind\">\n",
            "          상승\n",
            "         </span>\n",
            "        </div>\n",
            "       </a>\n",
            "       <a class=\"graph_img\" href=\"/marketindex/oilDetail.nhn?marketindexCd=OIL_GSL\" onclick=\"clickcr(this, 'fr3.oilc', '', '', event);\">\n",
            "        <img alt=\"\" height=\"153\" src=\"https://ssl.pstatic.net/imgfinance/chart/marketindex/OIL_GSL.png\" width=\"295\"/>\n",
            "       </a>\n",
            "       <div class=\"graph_info\">\n",
            "        <span class=\"time\">\n",
            "         2021.05.06\n",
            "        </span>\n",
            "        <span class=\"source\">\n",
            "         한국석유공사 Opinet 기준\n",
            "        </span>\n",
            "       </div>\n",
            "      </li>\n",
            "      <li class=\"\">\n",
            "       <a class=\"head gold_inter\" href=\"/marketindex/worldGoldDetail.nhn?marketindexCd=CMDT_GC&amp;fdtc=2\" onclick=\"clickcr(this, 'fr3.agoldt', '', '', event);\">\n",
            "        <h3 class=\"h_lst\">\n",
            "         <span class=\"blind\">\n",
            "          국제 금\n",
            "         </span>\n",
            "        </h3>\n",
            "        <div class=\"head_info point_up\">\n",
            "         <span class=\"value\">\n",
            "          1784.1\n",
            "         </span>\n",
            "         <span class=\"txt_usd\">\n",
            "          <span class=\"blind\">\n",
            "           달러\n",
            "          </span>\n",
            "         </span>\n",
            "         <span class=\"change\">\n",
            "          8.30\n",
            "         </span>\n",
            "         <span class=\"blind\">\n",
            "          상승\n",
            "         </span>\n",
            "        </div>\n",
            "       </a>\n",
            "       <a class=\"graph_img\" href=\"/marketindex/worldGoldDetail.nhn?marketindexCd=CMDT_GC&amp;fdtc=2\" onclick=\"clickcr(this, 'fr3.agoldc', '', '', event);\">\n",
            "        <img alt=\"\" height=\"153\" src=\"https://ssl.pstatic.net/imgfinance/chart/marketindex/CMDT_GC.png\" width=\"295\"/>\n",
            "       </a>\n",
            "       <div class=\"graph_info\">\n",
            "        <span class=\"time\">\n",
            "         2021.05.05\n",
            "        </span>\n",
            "        <span class=\"source\">\n",
            "         COMEX(뉴욕상품거래소) 기준\n",
            "        </span>\n",
            "       </div>\n",
            "      </li>\n",
            "      <li class=\"\">\n",
            "       <a class=\"head gold_domestic\" href=\"/marketindex/goldDetail.nhn\" onclick=\"clickcr(this, 'fr3.kgoldt', '', '', event);\">\n",
            "        <h3 class=\"h_lst\">\n",
            "         <span class=\"blind\">\n",
            "          국내 금\n",
            "         </span>\n",
            "        </h3>\n",
            "        <div class=\"head_info point_up\">\n",
            "         <span class=\"value\">\n",
            "          64928.03\n",
            "         </span>\n",
            "         <span class=\"txt_krw\">\n",
            "          <span class=\"blind\">\n",
            "           원\n",
            "          </span>\n",
            "         </span>\n",
            "         <span class=\"change\">\n",
            "          340.80\n",
            "         </span>\n",
            "         <span class=\"blind\">\n",
            "          상승\n",
            "         </span>\n",
            "        </div>\n",
            "       </a>\n",
            "       <a class=\"graph_img\" href=\"/marketindex/goldDetail.nhn\" onclick=\"clickcr(this, 'fr3.kgoldc', '', '', event);\">\n",
            "        <img alt=\"\" height=\"153\" src=\"https://ssl.pstatic.net/imgfinance/chart/marketindex/CMDT_GD.png\" width=\"295\"/>\n",
            "       </a>\n",
            "       <div class=\"graph_info\">\n",
            "        <span class=\"time\">\n",
            "         2021.05.06 18:00\n",
            "        </span>\n",
            "        <span class=\"source\">\n",
            "         신한은행 기준\n",
            "        </span>\n",
            "        (\n",
            "        <span class=\"num\">\n",
            "         145\n",
            "        </span>\n",
            "        회차)\n",
            "       </div>\n",
            "      </li>\n",
            "     </ul>\n",
            "    </div>\n",
            "    <!-- //data -->\n",
            "   </div>\n",
            "  </div>\n",
            " </div>\n",
            " <div class=\"marketindex_content\" id=\"content\">\n",
            "  <div class=\"section_news\">\n",
            "   <h3 class=\"h_news2\">\n",
            "    <span>\n",
            "     주요 뉴스\n",
            "    </span>\n",
            "   </h3>\n",
            "   <div class=\"list_area\">\n",
            "    <ul>\n",
            "     <li>\n",
            "      <p>\n",
            "       <a href=\"/marketindex/news/newsRead.nhn?officeId=029&amp;articleId=0002672047&amp;category=\" onclick=\"clickcr(this, 'mhn.list', '029_0002672047', '0', event);\">\n",
            "        국제유가 60달러 되면 국내 물가 0.6%\n",
            "       </a>\n",
            "       <img alt=\"NEW\" height=\"8\" src=\"https://ssl.pstatic.net/static/nfinance/ico_new.gif\" width=\"8\"/>\n",
            "      </p>\n",
            "      <span>\n",
            "       05.06 19:21\n",
            "      </span>\n",
            "     </li>\n",
            "     <li>\n",
            "      <p>\n",
            "       <a href=\"/marketindex/news/newsRead.nhn?officeId=001&amp;articleId=0012377883&amp;category=\" onclick=\"clickcr(this, 'mhn.list', '001_0012377883', '1', event);\">\n",
            "        현대중공업, 유가증권시장 상장예비심사 신청\n",
            "       </a>\n",
            "       <img alt=\"NEW\" height=\"8\" src=\"https://ssl.pstatic.net/static/nfinance/ico_new.gif\" width=\"8\"/>\n",
            "      </p>\n",
            "      <span>\n",
            "       05.06 18:31\n",
            "      </span>\n",
            "     </li>\n",
            "     <li>\n",
            "      <p>\n",
            "       <a href=\"/marketindex/news/newsRead.nhn?officeId=014&amp;articleId=0004634266&amp;category=\" onclick=\"clickcr(this, 'mhn.list', '014_0004634266', '2', event);\">\n",
            "        정유사 효자된 ‘윤활기유’… 가동률 낮추자\n",
            "       </a>\n",
            "       <img alt=\"NEW\" height=\"8\" src=\"https://ssl.pstatic.net/static/nfinance/ico_new.gif\" width=\"8\"/>\n",
            "      </p>\n",
            "      <span>\n",
            "       05.06 16:55\n",
            "      </span>\n",
            "     </li>\n",
            "     <li>\n",
            "      <p>\n",
            "       <a href=\"/marketindex/news/newsRead.nhn?officeId=001&amp;articleId=0012377543&amp;category=\" onclick=\"clickcr(this, 'mhn.list', '001_0012377543', '3', event);\">\n",
            "        국고채 금리 일제히 하락…3년물 연 1.1\n",
            "       </a>\n",
            "       <img alt=\"NEW\" height=\"8\" src=\"https://ssl.pstatic.net/static/nfinance/ico_new.gif\" width=\"8\"/>\n",
            "      </p>\n",
            "      <span>\n",
            "       05.06 16:33\n",
            "      </span>\n",
            "     </li>\n",
            "     <li>\n",
            "      <p>\n",
            "       <a href=\"/marketindex/news/newsRead.nhn?officeId=014&amp;articleId=0004634242&amp;category=\" onclick=\"clickcr(this, 'mhn.list', '014_0004634242', '4', event);\">\n",
            "        [fn마켓워치] 옐런 발언에도 국고채 금리\n",
            "       </a>\n",
            "       <img alt=\"NEW\" height=\"8\" src=\"https://ssl.pstatic.net/static/nfinance/ico_new.gif\" width=\"8\"/>\n",
            "      </p>\n",
            "      <span>\n",
            "       05.06 16:29\n",
            "      </span>\n",
            "     </li>\n",
            "     <li>\n",
            "      <p>\n",
            "       <a href=\"/marketindex/news/newsRead.nhn?officeId=018&amp;articleId=0004922137&amp;category=\" onclick=\"clickcr(this, 'mhn.list', '018_0004922137', '5', event);\">\n",
            "        [외환마감]환율 2거래일만 1120원대 중\n",
            "       </a>\n",
            "       <img alt=\"NEW\" height=\"8\" src=\"https://ssl.pstatic.net/static/nfinance/ico_new.gif\" width=\"8\"/>\n",
            "      </p>\n",
            "      <span>\n",
            "       05.06 16:01\n",
            "      </span>\n",
            "     </li>\n",
            "     <li>\n",
            "      <p>\n",
            "       <a href=\"/marketindex/news/newsRead.nhn?officeId=421&amp;articleId=0005335167&amp;category=\" onclick=\"clickcr(this, 'mhn.list', '421_0005335167', '6', event);\">\n",
            "        [Q&amp;A] \"백신 지재권 풀려도 안심 못해\n",
            "       </a>\n",
            "       <img alt=\"NEW\" height=\"8\" src=\"https://ssl.pstatic.net/static/nfinance/ico_new.gif\" width=\"8\"/>\n",
            "      </p>\n",
            "      <span>\n",
            "       05.06 15:53\n",
            "      </span>\n",
            "     </li>\n",
            "     <li>\n",
            "      <p>\n",
            "       <a href=\"/marketindex/news/newsRead.nhn?officeId=018&amp;articleId=0004922115&amp;category=\" onclick=\"clickcr(this, 'mhn.list', '018_0004922115', '7', event);\">\n",
            "        최대 실적에도 웃지 못한 조선업계 \"산안법\n",
            "       </a>\n",
            "       <img alt=\"NEW\" height=\"8\" src=\"https://ssl.pstatic.net/static/nfinance/ico_new.gif\" width=\"8\"/>\n",
            "      </p>\n",
            "      <span>\n",
            "       05.06 15:45\n",
            "      </span>\n",
            "     </li>\n",
            "     <li>\n",
            "      <p>\n",
            "       <a href=\"/marketindex/news/newsRead.nhn?officeId=001&amp;articleId=0012377260&amp;category=\" onclick=\"clickcr(this, 'mhn.list', '001_0012377260', '8', event);\">\n",
            "        [그래픽] 유가 변동 시나리오별 국내 경제\n",
            "       </a>\n",
            "       <img alt=\"NEW\" height=\"8\" src=\"https://ssl.pstatic.net/static/nfinance/ico_new.gif\" width=\"8\"/>\n",
            "      </p>\n",
            "      <span>\n",
            "       05.06 15:44\n",
            "      </span>\n",
            "     </li>\n",
            "     <li>\n",
            "      <p>\n",
            "       <a href=\"/marketindex/news/newsRead.nhn?officeId=014&amp;articleId=0004634174&amp;category=\" onclick=\"clickcr(this, 'mhn.list', '014_0004634174', '9', event);\">\n",
            "        정유사 효자된 '윤활기유'...가동률 낮추\n",
            "       </a>\n",
            "       <img alt=\"NEW\" height=\"8\" src=\"https://ssl.pstatic.net/static/nfinance/ico_new.gif\" width=\"8\"/>\n",
            "      </p>\n",
            "      <span>\n",
            "       05.06 15:28\n",
            "      </span>\n",
            "     </li>\n",
            "    </ul>\n",
            "   </div>\n",
            "   <a class=\"btn_more\" href=\"/marketindex/news/newsList.nhn\" onclick=\"clickcr(this, 'mhn.more', '', '', event);\">\n",
            "    <img alt=\"더보기\" height=\"18\" src=\"https://ssl.pstatic.net/static/nfinance/btn_more.gif\" width=\"34\"/>\n",
            "   </a>\n",
            "  </div>\n",
            "  <div class=\"tab_default1\" id=\"tab_section\">\n",
            "   <ul>\n",
            "    <li class=\"on\">\n",
            "     <a href=\"./?tabSel=exchange#tab_section\" onclick=\"clickcr(this, 'mtb.exnoti', '', '', event);\">\n",
            "      <span class=\"tab1\">\n",
            "       환전고시 환율\n",
            "      </span>\n",
            "     </a>\n",
            "    </li>\n",
            "    <li class=\"\">\n",
            "     <a href=\"./?tabSel=worldExchange#tab_section\" onclick=\"clickcr(this, 'mtb.interex', '', '', event);\">\n",
            "      <span class=\"tab2\">\n",
            "       국제시장 환율\n",
            "      </span>\n",
            "     </a>\n",
            "    </li>\n",
            "    <li class=\"\">\n",
            "     <a href=\"./?tabSel=gold#tab_section\" onclick=\"clickcr(this, 'mtb.oilgold', '', '', event);\">\n",
            "      <span class=\"tab3\">\n",
            "       유가 금시세\n",
            "      </span>\n",
            "     </a>\n",
            "    </li>\n",
            "    <li class=\"\">\n",
            "     <a href=\"./?tabSel=materials#tab_section\" onclick=\"clickcr(this, 'mtb.material', '', '', event);\">\n",
            "      <span class=\"tab4\">\n",
            "       원자재\n",
            "      </span>\n",
            "     </a>\n",
            "    </li>\n",
            "   </ul>\n",
            "   <h2 class=\"blind\">\n",
            "    환전고시 환율\n",
            "   </h2>\n",
            "  </div>\n",
            "  <div class=\"section_calculator\">\n",
            "   <h3 class=\"h_calculator\">\n",
            "    <span>\n",
            "     환율계산기 (매매기준율 기준)\n",
            "    </span>\n",
            "   </h3>\n",
            "   <div class=\"calculator\">\n",
            "    <div class=\"inner\">\n",
            "     <div class=\"input\">\n",
            "      <div class=\"selectbox-noscript\" id=\"sInput\">\n",
            "       <select class=\"selectbox-source\" id=\"select_from\">\n",
            "        <option label=\"1\" value=\"1\">\n",
            "         대한민국 원 KRW\n",
            "        </option>\n",
            "        <option class=\"selectbox-default\" label=\"1\" selected=\"selected\" value=\"1124.0\">\n",
            "         미국 달러 USD\n",
            "        </option>\n",
            "        <option label=\"1\" value=\"1124.0\">\n",
            "         미국 달러 USD\n",
            "        </option>\n",
            "        <option label=\"1\" value=\"1353.58\">\n",
            "         유럽연합 유로 EUR\n",
            "        </option>\n",
            "        <option label=\"100\" value=\"10.3001\">\n",
            "         일본 엔 JPY\n",
            "        </option>\n",
            "        <option label=\"1\" value=\"173.63\">\n",
            "         중국 위안 CNY\n",
            "        </option>\n",
            "        <option label=\"1\" value=\"144.69\">\n",
            "         홍콩 달러 HKD\n",
            "        </option>\n",
            "        <option label=\"1\" value=\"40.21\">\n",
            "         대만 달러 TWD\n",
            "        </option>\n",
            "        <option label=\"1\" value=\"1561.8\">\n",
            "         영국 파운드 GBP\n",
            "        </option>\n",
            "        <option label=\"1\" value=\"2923.28\">\n",
            "         오만 리알 OMR\n",
            "        </option>\n",
            "        <option label=\"1\" value=\"918.15\">\n",
            "         캐나다 달러 CAD\n",
            "        </option>\n",
            "        <option label=\"1\" value=\"1236.39\">\n",
            "         스위스 프랑 CHF\n",
            "        </option>\n",
            "        <option label=\"1\" value=\"132.91\">\n",
            "         스웨덴 크로나 SEK\n",
            "        </option>\n",
            "        <option label=\"1\" value=\"870.88\">\n",
            "         호주 달러 AUD\n",
            "        </option>\n",
            "        <option label=\"1\" value=\"809.95\">\n",
            "         뉴질랜드 달러 NZD\n",
            "        </option>\n",
            "        <option label=\"1\" value=\"52.37\">\n",
            "         체코 코루나 CZK\n",
            "        </option>\n",
            "        <option label=\"1\" value=\"1.59\">\n",
            "         칠레 페소 CLP\n",
            "        </option>\n",
            "        <option label=\"1\" value=\"135.17\">\n",
            "         터키 리라 TRY\n",
            "        </option>\n",
            "        <option label=\"1\" value=\"0.39\">\n",
            "         몽골 투그릭 MNT\n",
            "        </option>\n",
            "        <option label=\"1\" value=\"344.28\">\n",
            "         이스라엘 세켈 ILS\n",
            "        </option>\n",
            "        <option label=\"1\" value=\"182.04\">\n",
            "         덴마크 크로네 DKK\n",
            "        </option>\n",
            "        <option label=\"1\" value=\"134.85\">\n",
            "         노르웨이 크로네 NOK\n",
            "        </option>\n",
            "        <option label=\"1\" value=\"299.71\">\n",
            "         사우디아라비아 리얄 SAR\n",
            "        </option>\n",
            "        <option label=\"1\" value=\"3728.77\">\n",
            "         쿠웨이트 디나르 KWD\n",
            "        </option>\n",
            "        <option label=\"1\" value=\"2980.8\">\n",
            "         바레인 디나르 BHD\n",
            "        </option>\n",
            "        <option label=\"1\" value=\"306.0\">\n",
            "         아랍에미리트 디르함 AED\n",
            "        </option>\n",
            "        <option label=\"1\" value=\"1585.33\">\n",
            "         요르단 디나르 JOD\n",
            "        </option>\n",
            "        <option label=\"1\" value=\"71.73\">\n",
            "         이집트 파운드 EGP\n",
            "        </option>\n",
            "        <option label=\"1\" value=\"35.98\">\n",
            "         태국 바트 THB\n",
            "        </option>\n",
            "        <option label=\"1\" value=\"841.92\">\n",
            "         싱가포르 달러 SGD\n",
            "        </option>\n",
            "        <option label=\"1\" value=\"272.68\">\n",
            "         말레이시아 링깃 MYR\n",
            "        </option>\n",
            "        <option label=\"100\" value=\"0.0787\">\n",
            "         인도네시아 루피아 IDR\n",
            "        </option>\n",
            "        <option label=\"1\" value=\"308.71\">\n",
            "         카타르 리얄 QAR\n",
            "        </option>\n",
            "        <option label=\"1\" value=\"2.63\">\n",
            "         카자흐스탄 텡게 KZT\n",
            "        </option>\n",
            "        <option label=\"1\" value=\"841.92\">\n",
            "         브루나이 달러 BND\n",
            "        </option>\n",
            "        <option label=\"1\" value=\"15.24\">\n",
            "         인도 루피 INR\n",
            "        </option>\n",
            "        <option label=\"1\" value=\"7.38\">\n",
            "         파키스탄 루피 PKR\n",
            "        </option>\n",
            "        <option label=\"1\" value=\"13.26\">\n",
            "         방글라데시 타카 BDT\n",
            "        </option>\n",
            "        <option label=\"1\" value=\"23.43\">\n",
            "         필리핀 페소 PHP\n",
            "        </option>\n",
            "        <option label=\"1\" value=\"55.61\">\n",
            "         멕시코 페소 MXN\n",
            "        </option>\n",
            "        <option label=\"1\" value=\"209.94\">\n",
            "         브라질 레알 BRL\n",
            "        </option>\n",
            "        <option label=\"100\" value=\"0.0487\">\n",
            "         베트남 동 VND\n",
            "        </option>\n",
            "        <option label=\"1\" value=\"78.74\">\n",
            "         남아프리카 공화국 랜드 ZAR\n",
            "        </option>\n",
            "        <option label=\"1\" value=\"15.06\">\n",
            "         러시아 루블 RUB\n",
            "        </option>\n",
            "        <option label=\"1\" value=\"3.78\">\n",
            "         헝가리 포린트 HUF\n",
            "        </option>\n",
            "        <option label=\"1\" value=\"295.08\">\n",
            "         폴란드 즈워티 PLN\n",
            "        </option>\n",
            "       </select>\n",
            "       <div class=\"selectbox-box\" onclick=\"clickcr(this, 'exl*c.clist1', '', '', event);\">\n",
            "        <div class=\"selectbox-label\">\n",
            "        </div>\n",
            "       </div>\n",
            "       <div class=\"selectbox-layer ly_calculator\">\n",
            "        <div class=\"selectbox-list\">\n",
            "        </div>\n",
            "       </div>\n",
            "      </div>\n",
            "      <div class=\"input_area\" id=\"input_from\">\n",
            "       <input id=\"input_from_money\" maxlength=\"10\" onclick=\"clickcr(this, 'exl*c.unit1', '', '', event);\" onfocus=\"changeActiveInput('from', 'to'); return false;\" onkeyup=\"calcExchange('from', 'to', 'on', event);\" type=\"text\" value=\"1\"/>\n",
            "       <img alt=\"\" height=\"13\" id=\"img_from_monetary\" src=\"https://ssl.pstatic.net/static/nfinance/img_money_USD.gif\" width=\"26\"/>\n",
            "      </div>\n",
            "     </div>\n",
            "     <div class=\"same\">\n",
            "      <img alt=\"\" height=\"15\" src=\"https://ssl.pstatic.net/static/nfinance/ico_same.gif\" width=\"28\"/>\n",
            "     </div>\n",
            "     <div class=\"view\">\n",
            "      <div class=\"selectbox-noscript\" id=\"sView\">\n",
            "       <select class=\"selectbox-source\" id=\"select_to\">\n",
            "        <option class=\"selectbox-default\" label=\"1\" value=\"1\">\n",
            "         대한민국 원 KRW\n",
            "        </option>\n",
            "        <option label=\"1\" value=\"1\">\n",
            "         대한민국 원 KRW\n",
            "        </option>\n",
            "        <option label=\"1\" value=\"1124.0\">\n",
            "         미국 달러 USD\n",
            "        </option>\n",
            "        <option label=\"1\" value=\"1353.58\">\n",
            "         유럽연합 유로 EUR\n",
            "        </option>\n",
            "        <option label=\"100\" value=\"10.3001\">\n",
            "         일본 엔 JPY\n",
            "        </option>\n",
            "        <option label=\"1\" value=\"173.63\">\n",
            "         중국 위안 CNY\n",
            "        </option>\n",
            "        <option label=\"1\" value=\"144.69\">\n",
            "         홍콩 달러 HKD\n",
            "        </option>\n",
            "        <option label=\"1\" value=\"40.21\">\n",
            "         대만 달러 TWD\n",
            "        </option>\n",
            "        <option label=\"1\" value=\"1561.8\">\n",
            "         영국 파운드 GBP\n",
            "        </option>\n",
            "        <option label=\"1\" value=\"2923.28\">\n",
            "         오만 리알 OMR\n",
            "        </option>\n",
            "        <option label=\"1\" value=\"918.15\">\n",
            "         캐나다 달러 CAD\n",
            "        </option>\n",
            "        <option label=\"1\" value=\"1236.39\">\n",
            "         스위스 프랑 CHF\n",
            "        </option>\n",
            "        <option label=\"1\" value=\"132.91\">\n",
            "         스웨덴 크로나 SEK\n",
            "        </option>\n",
            "        <option label=\"1\" value=\"870.88\">\n",
            "         호주 달러 AUD\n",
            "        </option>\n",
            "        <option label=\"1\" value=\"809.95\">\n",
            "         뉴질랜드 달러 NZD\n",
            "        </option>\n",
            "        <option label=\"1\" value=\"52.37\">\n",
            "         체코 코루나 CZK\n",
            "        </option>\n",
            "        <option label=\"1\" value=\"1.59\">\n",
            "         칠레 페소 CLP\n",
            "        </option>\n",
            "        <option label=\"1\" value=\"135.17\">\n",
            "         터키 리라 TRY\n",
            "        </option>\n",
            "        <option label=\"1\" value=\"0.39\">\n",
            "         몽골 투그릭 MNT\n",
            "        </option>\n",
            "        <option label=\"1\" value=\"344.28\">\n",
            "         이스라엘 세켈 ILS\n",
            "        </option>\n",
            "        <option label=\"1\" value=\"182.04\">\n",
            "         덴마크 크로네 DKK\n",
            "        </option>\n",
            "        <option label=\"1\" value=\"134.85\">\n",
            "         노르웨이 크로네 NOK\n",
            "        </option>\n",
            "        <option label=\"1\" value=\"299.71\">\n",
            "         사우디아라비아 리얄 SAR\n",
            "        </option>\n",
            "        <option label=\"1\" value=\"3728.77\">\n",
            "         쿠웨이트 디나르 KWD\n",
            "        </option>\n",
            "        <option label=\"1\" value=\"2980.8\">\n",
            "         바레인 디나르 BHD\n",
            "        </option>\n",
            "        <option label=\"1\" value=\"306.0\">\n",
            "         아랍에미리트 디르함 AED\n",
            "        </option>\n",
            "        <option label=\"1\" value=\"1585.33\">\n",
            "         요르단 디나르 JOD\n",
            "        </option>\n",
            "        <option label=\"1\" value=\"71.73\">\n",
            "         이집트 파운드 EGP\n",
            "        </option>\n",
            "        <option label=\"1\" value=\"35.98\">\n",
            "         태국 바트 THB\n",
            "        </option>\n",
            "        <option label=\"1\" value=\"841.92\">\n",
            "         싱가포르 달러 SGD\n",
            "        </option>\n",
            "        <option label=\"1\" value=\"272.68\">\n",
            "         말레이시아 링깃 MYR\n",
            "        </option>\n",
            "        <option label=\"100\" value=\"0.0787\">\n",
            "         인도네시아 루피아 IDR\n",
            "        </option>\n",
            "        <option label=\"1\" value=\"308.71\">\n",
            "         카타르 리얄 QAR\n",
            "        </option>\n",
            "        <option label=\"1\" value=\"2.63\">\n",
            "         카자흐스탄 텡게 KZT\n",
            "        </option>\n",
            "        <option label=\"1\" value=\"841.92\">\n",
            "         브루나이 달러 BND\n",
            "        </option>\n",
            "        <option label=\"1\" value=\"15.24\">\n",
            "         인도 루피 INR\n",
            "        </option>\n",
            "        <option label=\"1\" value=\"7.38\">\n",
            "         파키스탄 루피 PKR\n",
            "        </option>\n",
            "        <option label=\"1\" value=\"13.26\">\n",
            "         방글라데시 타카 BDT\n",
            "        </option>\n",
            "        <option label=\"1\" value=\"23.43\">\n",
            "         필리핀 페소 PHP\n",
            "        </option>\n",
            "        <option label=\"1\" value=\"55.61\">\n",
            "         멕시코 페소 MXN\n",
            "        </option>\n",
            "        <option label=\"1\" value=\"209.94\">\n",
            "         브라질 레알 BRL\n",
            "        </option>\n",
            "        <option label=\"100\" value=\"0.0487\">\n",
            "         베트남 동 VND\n",
            "        </option>\n",
            "        <option label=\"1\" value=\"78.74\">\n",
            "         남아프리카 공화국 랜드 ZAR\n",
            "        </option>\n",
            "        <option label=\"1\" value=\"15.06\">\n",
            "         러시아 루블 RUB\n",
            "        </option>\n",
            "        <option label=\"1\" value=\"3.78\">\n",
            "         헝가리 포린트 HUF\n",
            "        </option>\n",
            "        <option label=\"1\" value=\"295.08\">\n",
            "         폴란드 즈워티 PLN\n",
            "        </option>\n",
            "       </select>\n",
            "       <div class=\"selectbox-box\" onclick=\"clickcr(this, 'exl*c.clist2', '', '', event);\">\n",
            "        <div class=\"selectbox-label\">\n",
            "        </div>\n",
            "       </div>\n",
            "       <div class=\"selectbox-layer ly_calculator\">\n",
            "        <div class=\"selectbox-list\">\n",
            "        </div>\n",
            "       </div>\n",
            "      </div>\n",
            "      <div class=\"input_area\" id=\"input_to\">\n",
            "       <input id=\"input_to_money\" maxlength=\"10\" onclick=\"clickcr(this, 'exl*c.unit2', '', '', event);\" onfocus=\"changeActiveInput('to', 'from'); return false;\" onkeyup=\"calcExchange('to', 'from', 'on', event);\" type=\"text\"/>\n",
            "       <img alt=\"\" height=\"13\" id=\"img_to_monetary\" src=\"https://ssl.pstatic.net/static/nfinance/img_money_KRW.gif\" width=\"26\"/>\n",
            "      </div>\n",
            "     </div>\n",
            "    </div>\n",
            "   </div>\n",
            "  </div>\n",
            "  <div class=\"section_exchange\">\n",
            "   <div id=\"section_ex1\">\n",
            "    <h3 class=\"blind\" id=\"exchange1\">\n",
            "     환전 고시 환율\n",
            "    </h3>\n",
            "    <div class=\"exchange_info\">\n",
            "     <span class=\"date\">\n",
            "      2021.05.06 20:00\n",
            "     </span>\n",
            "     <span class=\"standard\">\n",
            "      하나은행 기준\n",
            "     </span>\n",
            "     <span class=\"round\">\n",
            "      고시회차\n",
            "      <em>\n",
            "       208\n",
            "      </em>\n",
            "      회\n",
            "     </span>\n",
            "    </div>\n",
            "    <iframe frameborder=\"0\" height=\"1378px\" id=\"frame_ex1\" marginheight=\"0\" marginwidth=\"0\" scrolling=\"no\" src=\"/marketindex/exchangeList.nhn\" title=\"환전 고시 환율\" width=\"100%\">\n",
            "    </iframe>\n",
            "   </div>\n",
            "   <ul class=\"tbl_info\">\n",
            "    <li>\n",
            "     통화명과 심볼은 앞에 위치한 통화에 1이 생략된 형태로, 달러/일본 엔(심볼: USDJPY)인 경우 1 USD(달러)가 JPY(일본 엔)으로 얼마인가를 의미합니다.\n",
            "    </li>\n",
            "   </ul>\n",
            "  </div>\n",
            "  <script language=\"javascript\" src=\"https://ssl.pstatic.net/imgstock/static.pc/20210428175742/js/jindoComponent/jindo.Component.1.0.3.js\" type=\"text/javascript\">\n",
            "  </script>\n",
            "  <script language=\"javascript\" src=\"https://ssl.pstatic.net/imgstock/static.pc/20210428175742/js/jindoComponent/jindo.UIComponent.1.0.1.js\" type=\"text/javascript\">\n",
            "  </script>\n",
            "  <script language=\"javascript\" src=\"https://ssl.pstatic.net/imgstock/static.pc/20210428175742/js/jindoComponent/jindo.HTMLComponent.1.0.1.js\" type=\"text/javascript\">\n",
            "  </script>\n",
            "  <script language=\"javascript\" src=\"https://ssl.pstatic.net/imgstock/static.pc/20210428175742/js/jindoComponent/jindo.Timer.1.0.3.js\" type=\"text/javascript\">\n",
            "  </script>\n",
            "  <script language=\"javascript\" src=\"https://ssl.pstatic.net/imgstock/static.pc/20210428175742/js/jindoComponent/jindo.LayerManager.1.0.1.js\" type=\"text/javascript\">\n",
            "  </script>\n",
            "  <script language=\"javascript\" src=\"https://ssl.pstatic.net/imgstock/static.pc/20210428175742/js/jindoComponent/jindo.LayerPosition.1.0.1.js\" type=\"text/javascript\">\n",
            "  </script>\n",
            "  <script language=\"javascript\" src=\"https://ssl.pstatic.net/imgstock/static.pc/20210428175742/js/jindoComponent/jindo.RolloverArea.1.0.1.js\" type=\"text/javascript\">\n",
            "  </script>\n",
            "  <script language=\"javascript\" src=\"https://ssl.pstatic.net/imgstock/static.pc/20210428175742/js/jindoComponent/jindo.RolloverClick.1.0.1.js\" type=\"text/javascript\">\n",
            "  </script>\n",
            "  <script language=\"javascript\" src=\"https://ssl.pstatic.net/imgstock/static.pc/20210428175742/js/jindoComponent/jindo.SelectBox.1.0.1.js\" type=\"text/javascript\">\n",
            "  </script>\n",
            "  <script charset=\"euckr\" language=\"javascript\" src=\"https://ssl.pstatic.net/imgstock/static.pc/20210428175742/js/jindoComponent/jindo.TextRange.1.0.1.js\" type=\"text/javascript\">\n",
            "  </script>\n",
            "  <script charset=\"euckr\" language=\"javascript\" src=\"https://ssl.pstatic.net/imgstock/static.pc/20210428175742/js/jindoComponent/jindo.WatchInput.1.0.1.js\" type=\"text/javascript\">\n",
            "  </script>\n",
            "  <script charset=\"euckr\" language=\"javascript\" src=\"https://ssl.pstatic.net/imgstock/static.pc/20210428175742/js/jindoComponent/jindo.Formatter.1.1.0.js\" type=\"text/javascript\">\n",
            "  </script>\n",
            "  <script charset=\"euckr\" language=\"javascript\" src=\"https://ssl.pstatic.net/imgstock/static.pc/20210428175742/js/jindoComponent/jindo.NumberFormatter.1.0.1.js\" type=\"text/javascript\">\n",
            "  </script>\n",
            "  <script language=\"javascript\" src=\"https://ssl.pstatic.net/imgstock/static.pc/20210428175742/js/exchange.js\" type=\"text/javascript\">\n",
            "  </script>\n",
            "  <script type=\"text/javascript\">\n",
            "   // exchangeDetail.jsp에도 동일 스크립트 있음 - 로딩시 디자인이 0.5초간 디자인이 안뜬다는 이슈로 include하지 않고 같은 스크립트를 두벌로 관리함\n",
            "\n",
            "//환율 계산\n",
            "function calcExchange(str1, str2, cssOn, event) {\n",
            "\tvar oEvent = event || window.event;\n",
            "    var sKeyCode = (undefined === oEvent) ? undefined : jindo.$Event(oEvent).key().keyCode;\n",
            "\t\n",
            "\tif (sKeyCode != 13 && sKeyCode != 27 && sKeyCode != 37 && sKeyCode != 38 && sKeyCode != 110 && sKeyCode != 229) {\n",
            "\t\tif (str1 == '' && str2 == '') {\n",
            "\t\t\tif (jindo.$('input_to').className == 'input_area') {\n",
            "\t\t\t\tstr1 = 'from';\n",
            "\t\t\t\tstr2 = 'to';\n",
            "\t\t\t} else {\n",
            "\t\t\t\tstr1 = 'to';\n",
            "\t\t\t\tstr2 = 'from';\n",
            "\t\t\t}\n",
            "\t\t}\n",
            "\t\t\n",
            "\t\tvar regExp = new RegExp(\"[^0-9\\.\\,]\");\n",
            "\t    var sInputValue = jindo.$('input_' + str1 + '_money').value;\n",
            "\t\t\n",
            "\t    if(regExp.test(sInputValue)){\n",
            "\t\t\talert('숫자, 소수점(.)만 입력하실 수 있습니다.');\n",
            "\t\t\tjindo.$('input_' + str1 + '_money').value = revertInputText(sInputValue);\n",
            "\t\t\treturn false;\n",
            "\t\t}\n",
            "\t\t\n",
            "\t\t// 사용자가 입력한 콤마(,) 제거\n",
            "\t    if (sInputValue.substr(sInputValue.length - 1, 1) == ',') {\n",
            "\t    \tjindo.$('input_' + str1 + '_money').value = revertInputText(sInputValue);\n",
            "\t    \treturn false;\n",
            "\t    }\n",
            "\t\t\n",
            "\t\t// 맨 앞에 있는 숫자 0 없애기\n",
            "\t\tif (sInputValue == '0' || sInputValue == '.' || sInputValue == ',') {\n",
            "\t\t\tjindo.$('input_' + str1 + '_money').value = revertInputText(sInputValue);\n",
            "\t\t\treturn false;\n",
            "\t\t}\n",
            "\t\t\n",
            "\t\t// 소수점 2개가 없도록\n",
            "\t\tvar match = sInputValue.match(/\\./g);\n",
            "\t\tif (match != null && match.length >= 2) {\n",
            "\t\t\tjindo.$('input_' + str1 + '_money').value = revertInputText(sInputValue);\n",
            "\t\t\treturn false;\n",
            "\t\t}\n",
            "\t\t\n",
            "\t\t// 소수점을 입력한 경우, 일단 대기\n",
            "\t\tvar pointPosIndex = sInputValue.indexOf('.');\n",
            "\t\tif (pointPosIndex != -1 && pointPosIndex == sInputValue.length - 1) {\n",
            "\t\t\treturn false;\n",
            "\t\t}\n",
            "\t\t\n",
            "\t\t// 소수점 2자리 유지\n",
            "\t\tif (pointPosIndex != -1 && sInputValue.substring(pointPosIndex + 1, sInputValue.length).length > 2) {\n",
            "\t\t\tjindo.$('input_' + str1 + '_money').value = revertInputText(sInputValue);\n",
            "\t\t\treturn false;\n",
            "\t\t}\n",
            "\t\t\n",
            "\t\tvar e_select_from\t= jindo.$('select_'+str1);\n",
            "\t\tvar e_select_to\t= jindo.$('select_'+str2);\n",
            "\t\n",
            "\t\tvar input_from_money\t= jindo.$('input_'+str1+'_money').value ;\n",
            "\t\tvar input_from\t\t= e_select_from.options[e_select_from.selectedIndex].value ;\n",
            "\t\tvar input_to\t\t= e_select_to.options[e_select_to.selectedIndex].value ;\n",
            "\t\tvar unit_from\t= e_select_from.options[e_select_from.selectedIndex].text ;\n",
            "\t\tvar unit_to\t\t= e_select_to.options[e_select_to.selectedIndex].text ;\n",
            "\t\tinput_from_money = input_from_money.replace(/ |,|\\t/g, \"\") ;\n",
            "\t\tinput_from\t= input_from.replace(/ |,|\\t/g, \"\") ;\n",
            "\t\tinput_to\t= input_to.replace(/ |,|\\t/g, \"\") ;\n",
            "\t\tunit_from = unit_from.substr(unit_from.length-3, 3);\n",
            "\t\tunit_to = unit_to.substr(unit_to.length-3, 3);\n",
            "\t\n",
            "\t\tvar str1_result = input_from_money * 1 ;\n",
            "\t\tvar str1_str\t= str1_result.toFixed(0) ;\n",
            "\t\tvar str1_len = str1_str.length ;\n",
            "\t\tvar str1_result_str = new String(\"\") ;\n",
            "\t\n",
            "\t\tif(str1_str > str1_result)\n",
            "\t\t\tstr1_str = new String(str1_str-1) ;\n",
            "\t\n",
            "\t\tif (str1_len >= 3) {\n",
            "\t\t\tfor (i = str1_len - 3; i > 0; i-=3)\n",
            "\t\t\t\tstr1_result_str = \",\" + str1_str.substr(i, 3) + str1_result_str ;\n",
            "\t\n",
            "\t\t\tstr1_result_str = str1_str.substr(0, 3+i) + str1_result_str ;\n",
            "\t\n",
            "\t\t\tfor (var i=0; i<input_from_money.length; i++) {\n",
            "\t\t\t\tif (input_from_money.substr(i,1) != '0') {\n",
            "\t\t\t\t\tinput_from_money = input_from_money.substring(i,input_from_money.length) ;\n",
            "\t\t\t\t\tbreak;\n",
            "\t\t\t\t}\n",
            "\t\t\t}\n",
            "\t\n",
            "\t\t\tif (str1_str != input_from_money) {\n",
            "\t\t\t\tstr1_result_str += str1_result.toFixed(input_from_money.split(\".\")[1].length).substr(str1_len, input_from_money.split(\".\")[1].length + 1) ;\n",
            "\t\t\t}\n",
            "\t\t} else\n",
            "\t\t\tstr1_result_str = input_from_money ;\n",
            "\t\n",
            "\t\tvar str2_result = input_from_money * input_from / input_to ;\n",
            "\t\tvar str2_str\t= str2_result.toFixed(0) ;\n",
            "\t\tvar str2_len = str2_str.length ;\n",
            "\t\tvar str2_result_str = new String(\"\") ;\n",
            "\t\n",
            "\t\tif (str2_str > str2_result)\n",
            "\t\t\tstr2_str = new String(str2_str-1) ;\n",
            "\t\n",
            "\t\tif (str2_len >= 3) {\n",
            "\t\t\tfor (i = str2_len - 3; i > 0; i-=3)\n",
            "\t\t\t\tstr2_result_str = \",\" + str2_str.substr(i, 3) + str2_result_str ;\n",
            "\t\n",
            "\t\t\tstr2_result_str = str2_str.substr(0, 3+i) + str2_result_str ;\n",
            "\t\t\tstr2_result_str += str2_result.toFixed(2).substr(str2_len, 3) ;\n",
            "\t\t} else\n",
            "\t\t\tstr2_result_str = str2_result.toFixed(2) ;\n",
            "\t\n",
            "\t\tjindo.$('input_'+str1+'_money').value = str1_result_str;\n",
            "\t\tjindo.$('input_'+str2+'_money').value = str2_result_str;\n",
            "\t\tjindo.$('img_'+str1+'_monetary').src = \"https://ssl.pstatic.net/static/nfinance/img_money_\"+unit_from+\".gif\";\n",
            "\t\tjindo.$('img_'+str2+'_monetary').src = \"https://ssl.pstatic.net/static/nfinance/img_money_\"+unit_to+\".gif\";\n",
            "\t\tjindo.$Element(jindo.$('input_'+str1)).addClass(\"on\");\n",
            "\t\tjindo.$Element(jindo.$('input_'+str2)).removeClass(\"on\");\n",
            "\t\tif (cssOn == \"off\"){\n",
            "\t\t\tjindo.$Element(jindo.$('input_'+str1)).removeClass(\"on\");\n",
            "\t\t}\n",
            "\t}\n",
            "}\n",
            "\n",
            "function revertInputText(sOrgText) {\n",
            "\tvar sResult = sOrgText;\n",
            "\t\n",
            "\tif (sOrgText != '') {\n",
            "\t\tsResult = sOrgText.substr(0, sOrgText.length - 1);\n",
            "\t}\n",
            "\t\n",
            "\treturn sResult;\n",
            "}\n",
            "\n",
            "jindo.$Fn(function(){\n",
            "\tchartMouseOverEvent('exchangeList');\t\t\n",
            "   }).attach(document, \"domready\");\n",
            "  </script>\n",
            " </div>\n",
            " <script language=\"javascript\" src=\"https://ssl.pstatic.net/imgstock/static.pc/20210428175742/js/jindo_ellipse.js\">\n",
            " </script>\n",
            " <script language=\"javascript\" src=\"https://ssl.pstatic.net/imgstock/static.pc/20210428175742/js/util.js\">\n",
            " </script>\n",
            " <script type=\"text/javascript\">\n",
            "  function ellipseTopNewsTitle() {\n",
            "\tjindo.EllipseText.factory(jindo.$$(\".news_list ul li\"), {nAssistWidth: 10});\n",
            "}\n",
            "\n",
            "var basicDates;\n",
            "\n",
            "function initDate() {\n",
            "\tbasicDates = jindo.$H();\n",
            "\tbasicDates.add('', '');\n",
            "\tbasicDates.add('', '');\n",
            "\tbasicDates.add('', '');\n",
            "\tbasicDates.add('', '');\n",
            "\tbasicDates.add('', '');\n",
            "\tbasicDates.add('', '');\n",
            "}\n",
            "\n",
            "var basicDescriptions;\n",
            "\n",
            "function initDescription() {\n",
            "\tbasicDescriptions = jindo.$H();\n",
            "\tbasicDescriptions.add('CMDT_CDY','<em></em>  기준<span>단위:</span>');\n",
            "\tbasicDescriptions.add('CMDT_PDY','<em></em>  기준<span>단위:</span>');\n",
            "\tbasicDescriptions.add('CMDT_NG','<em></em>  기준<span>단위:</span>');\n",
            "\tbasicDescriptions.add('CMDT_S','<em></em>  기준<span>단위:</span>');\n",
            "\tbasicDescriptions.add('CMDT_C','<em></em>  기준<span>단위:</span>');\n",
            "\tbasicDescriptions.add('CMDT_SB','<em></em>  기준<span>단위:</span>');\n",
            "}\n",
            "\n",
            "function setEvent(num, imgChartUrl){\t\n",
            "\tvar parentElemnt = jindo.$$('.tbl_market')[num];\n",
            "\tvar elementList = jindo.$$('tr',parentElemnt);\n",
            "\t\n",
            "\tjindo.$Fn(function(e){\t\n",
            "\t\tvar elementListSize = elementList.length;\n",
            "\t\t\n",
            "\t\tfor(var i = 0 ; i < elementListSize ; i ++)\n",
            "\t\t{\n",
            "\t\t\tvar selectedElement = jindo.$Element(elementList[i]);\n",
            "\t\t\tvar selectedClassName = selectedElement.className();\n",
            "\t\t\tif (selectedClassName != \"\") {\n",
            "\t\t\t\tselectedElement.removeClass(selectedClassName);\n",
            "\t\t\t\tselectedElement.addClass(selectedClassName.replace(\"on\",\"\"));\n",
            "\t\t\t}\n",
            "\t\t} \n",
            "\t\t\n",
            "\t\tvar ele = jindo.$Element(jindo.$Event(e).currentElement);\n",
            "\t\tvar linkUrl = jindo.$$.getSingle('a' , ele.$value()).href;\n",
            "\t\tvar marketindexCd = linkUrl.split('=')[1];\n",
            "\t\tvar className = ele.className();\n",
            "\t\tele.removeClass(className);\n",
            "\t\tele.addClass(className+\" on\");\n",
            "\t\tvar graphElement = jindo.$Element(jindo.$$('.thum')[num]);\n",
            "\t\tgraphElement.html('<a href=\\\"'+linkUrl+'\\\"><img src=\\\"https://ssl.pstatic.net/imgfinance/chart/marketindex/' + marketindexCd + '.png\\\" width=\\\"295\\\" height=\\\"153\\\" alt=\"\"></a>');\n",
            "\t\t\n",
            "\t\tif (basicDates.hasKey(marketindexCd)) {\n",
            "\t\t\tjindo.$Element(\"basicDate\").text(basicDates.$(marketindexCd));\n",
            "\t\t}\n",
            "\t\tif (basicDescriptions.hasKey(marketindexCd)) {\n",
            "\t\t\tjindo.$Element(\"basicDescription\").html(basicDescriptions.$(marketindexCd));\n",
            "\t\t}\n",
            "\t\n",
            "\t}).attach(elementList, \"mouseover\");\t\n",
            "}\n",
            "\n",
            "jindo.$Fn(function(){\n",
            "\t\tinitDate();\n",
            "\t\tinitDescription();\n",
            "\t\tchartMouseOverEvent('exchangeList');\n",
            "\t\tchartMouseOverEvent('worldExchangeList');\n",
            "\t\tchartMouseOverEvent('oilGoldList');\n",
            "\t\tjindo.$$('title')[0].innerHTML = \"시장지표 : 네이버 금융\";\n",
            "}).attach(document, \"domready\");\n",
            " </script>\n",
            " <div class=\"aside\" id=\"marketindex_aside\">\n",
            "  <div class=\"section_aside\">\n",
            "   <h3 class=\"h_interest\">\n",
            "    <span>\n",
            "     국내시장금리\n",
            "    </span>\n",
            "   </h3>\n",
            "   <table class=\"tbl_exchange market\" summary=\"국제시장 환율 리스트\">\n",
            "    <caption>\n",
            "     국내시장금리\n",
            "    </caption>\n",
            "    <colgroup>\n",
            "     <col width=\"94\"/>\n",
            "     <col width=\"50\"/>\n",
            "     <col width=\"75\"/>\n",
            "    </colgroup>\n",
            "    <thead>\n",
            "     <tr>\n",
            "      <th>\n",
            "       구분\n",
            "      </th>\n",
            "      <th>\n",
            "       금리\n",
            "      </th>\n",
            "      <th>\n",
            "       등락율\n",
            "      </th>\n",
            "     </tr>\n",
            "    </thead>\n",
            "    <tbody>\n",
            "     <tr class=\"same\">\n",
            "      <th class=\"th_inter4\">\n",
            "       <a href=\"/marketindex/interestDetail.nhn?marketindexCd=IRR_CD91\" onclick=\"clickcr(this, 'rid.local', 'IRR_CD91', '1', event);\">\n",
            "        <span>\n",
            "         CD금리(91일)\n",
            "        </span>\n",
            "       </a>\n",
            "      </th>\n",
            "      <td>\n",
            "       0.73\n",
            "      </td>\n",
            "      <td>\n",
            "       <img alt=\"보합\" height=\"6\" src=\"https://ssl.pstatic.net/static/nfinance/ico_same2.gif\" width=\"7\"/>\n",
            "       0.00\n",
            "      </td>\n",
            "     </tr>\n",
            "     <tr class=\"up\">\n",
            "      <th class=\"th_inter1\">\n",
            "       <a href=\"/marketindex/interestDetail.nhn?marketindexCd=IRR_CALL\" onclick=\"clickcr(this, 'met.8', 'IRR_CALL', '2', event);\">\n",
            "        <span>\n",
            "         콜 금리\n",
            "        </span>\n",
            "       </a>\n",
            "      </th>\n",
            "      <td>\n",
            "       0.49\n",
            "      </td>\n",
            "      <td>\n",
            "       <img alt=\"상승\" height=\"6\" src=\"https://ssl.pstatic.net/static/nfinance/ico_up.gif\" width=\"7\"/>\n",
            "       0.07\n",
            "      </td>\n",
            "     </tr>\n",
            "     <tr class=\"down\">\n",
            "      <th class=\"th_inter2\">\n",
            "       <a href=\"/marketindex/interestDetail.nhn?marketindexCd=IRR_GOVT03Y\" onclick=\"clickcr(this, 'met.8', 'IRR_GOVT03Y', '3', event);\">\n",
            "        <span>\n",
            "         국고채 (3년)\n",
            "        </span>\n",
            "       </a>\n",
            "      </th>\n",
            "      <td>\n",
            "       1.14\n",
            "      </td>\n",
            "      <td>\n",
            "       <img alt=\"하락\" height=\"6\" src=\"https://ssl.pstatic.net/static/nfinance/ico_down.gif\" width=\"7\"/>\n",
            "       0.01\n",
            "      </td>\n",
            "     </tr>\n",
            "     <tr class=\"down\">\n",
            "      <th class=\"th_inter3\">\n",
            "       <a href=\"/marketindex/interestDetail.nhn?marketindexCd=IRR_CORP03Y\" onclick=\"clickcr(this, 'met.8', 'IRR_CORP03Y', '4', event);\">\n",
            "        <span>\n",
            "         회사채 (3년)\n",
            "        </span>\n",
            "       </a>\n",
            "      </th>\n",
            "      <td>\n",
            "       1.90\n",
            "      </td>\n",
            "      <td>\n",
            "       <img alt=\"하락\" height=\"6\" src=\"https://ssl.pstatic.net/static/nfinance/ico_down.gif\" width=\"7\"/>\n",
            "       0.02\n",
            "      </td>\n",
            "     </tr>\n",
            "     <tr class=\"down\">\n",
            "      <th class=\"th_inter5\">\n",
            "       <a href=\"/marketindex/interestDetail.nhn?marketindexCd=IRR_COFIXBAL\" onclick=\"clickcr(this, 'met.8', 'IRR_COFIXBAL', '5', event);\">\n",
            "        <span>\n",
            "         COFIX 잔액\n",
            "        </span>\n",
            "       </a>\n",
            "      </th>\n",
            "      <td>\n",
            "       1.06\n",
            "      </td>\n",
            "      <td>\n",
            "       <img alt=\"하락\" height=\"6\" src=\"https://ssl.pstatic.net/static/nfinance/ico_down.gif\" width=\"7\"/>\n",
            "       0.03\n",
            "      </td>\n",
            "     </tr>\n",
            "     <tr class=\"up\">\n",
            "      <th class=\"th_inter6\">\n",
            "       <a href=\"/marketindex/interestDetail.nhn?marketindexCd=IRR_COFIXNEW\" onclick=\"clickcr(this, 'met.8', 'IRR_COFIXNEW', '6', event);\">\n",
            "        <span>\n",
            "         COFIX 신규취급액\n",
            "        </span>\n",
            "       </a>\n",
            "      </th>\n",
            "      <td>\n",
            "       0.84\n",
            "      </td>\n",
            "      <td>\n",
            "       <img alt=\"상승\" height=\"6\" src=\"https://ssl.pstatic.net/static/nfinance/ico_up.gif\" width=\"7\"/>\n",
            "       0.01\n",
            "      </td>\n",
            "     </tr>\n",
            "    </tbody>\n",
            "   </table>\n",
            "   <table class=\"tbl_exchange tbl_exchange_v1 market\" style=\"margin-top:10px;\" summary=\"달러 인덱스\">\n",
            "    <caption>\n",
            "     달러 인덱스\n",
            "    </caption>\n",
            "    <colgroup>\n",
            "     <col width=\"88\"/>\n",
            "     <col width=\"46\"/>\n",
            "     <col width=\"66\"/>\n",
            "    </colgroup>\n",
            "    <thead>\n",
            "     <tr>\n",
            "      <th>\n",
            "       구분\n",
            "      </th>\n",
            "      <th>\n",
            "       금리\n",
            "      </th>\n",
            "      <th>\n",
            "       등락율\n",
            "      </th>\n",
            "     </tr>\n",
            "    </thead>\n",
            "    <tbody>\n",
            "     <tr class=\"other_t1 up\">\n",
            "      <th class=\"th_inter7\">\n",
            "       <a href=\"/marketindex/worldExchangeDetail.nhn?marketindexCd=FX_USDX&amp;fdtc=4\" onclick=\"clickcr(this, 'rid.dollar', 'FX_USDX', '', event);\">\n",
            "        <span>\n",
            "         달러 인덱스\n",
            "        </span>\n",
            "       </a>\n",
            "      </th>\n",
            "      <td>\n",
            "       91.2900\n",
            "      </td>\n",
            "      <td>\n",
            "       <img alt=\"상승\" height=\"6\" src=\"https://ssl.pstatic.net/static/nfinance/ico_up.gif\" width=\"7\"/>\n",
            "       0.0200\n",
            "      </td>\n",
            "     </tr>\n",
            "    </tbody>\n",
            "   </table>\n",
            "  </div>\n",
            "  <div class=\"section_aside\">\n",
            "   <div class=\"tab_search search3\">\n",
            "    <a href=\"#\" onclick=\"clickcr(this, 'rch.1', '', '', event); return false;\">\n",
            "     <span>\n",
            "      최근조회\n",
            "     </span>\n",
            "    </a>\n",
            "    <a href=\"#\" onclick=\"clickcr(this, 'rch.3', '', '', event); return false;\">\n",
            "     <span>\n",
            "      MY STOCK\n",
            "     </span>\n",
            "    </a>\n",
            "   </div>\n",
            "   <h3 class=\"blind\">\n",
            "    최근조회\n",
            "   </h3>\n",
            "   <table class=\"tbl_search\" summary=\"최근조회 리스트\">\n",
            "    <caption>\n",
            "     최근조회\n",
            "    </caption>\n",
            "    <colgroup>\n",
            "     <col/>\n",
            "     <col width=\"55\"/>\n",
            "     <col width=\"87\"/>\n",
            "    </colgroup>\n",
            "    <thead>\n",
            "     <tr>\n",
            "      <th>\n",
            "       업체명\n",
            "      </th>\n",
            "      <th>\n",
            "       거래량\n",
            "      </th>\n",
            "      <th>\n",
            "       전일비\n",
            "      </th>\n",
            "     </tr>\n",
            "    </thead>\n",
            "    <tbody>\n",
            "    </tbody>\n",
            "   </table>\n",
            "   <div class=\"more_info\">\n",
            "    <span>\n",
            "     <a href=\"#\" onclick=\"clickcr(this, 'rch.5', '', '', event); return false;\">\n",
            "      <img alt=\"이전\" height=\"15\" src=\"https://ssl.pstatic.net/static/nfinance/btn_prev2.gif\" width=\"17\"/>\n",
            "     </a>\n",
            "     <a href=\"#\" onclick=\"clickcr(this, 'rch.6', '', '', event); return false;\">\n",
            "      <img alt=\"다음\" height=\"15\" src=\"https://ssl.pstatic.net/static/nfinance/btn_next2.gif\" width=\"17\"/>\n",
            "     </a>\n",
            "    </span>\n",
            "    <a class=\"btn_more _mystock_more_info\" href=\"#\" onclick=\"javascript:openMyitemNew('https://finance.naver.com'); clickcr(this, 'rch.7', '', '', event);\">\n",
            "     <img alt=\"더보기\" height=\"10\" src=\"https://ssl.pstatic.net/static/nfinance/btn_more5.gif\" width=\"33\"/>\n",
            "    </a>\n",
            "   </div>\n",
            "  </div>\n",
            "  <div class=\"section_aside\">\n",
            "   <h3 class=\"h_report\">\n",
            "    <span>\n",
            "     경제분석 리포트\n",
            "    </span>\n",
            "   </h3>\n",
            "   <ul class=\"list_report\">\n",
            "    <li>\n",
            "     <a href=\"/research/economy_read.nhn?nid=7234\" onclick=\"clickcr(this, 'rer.list', '', '', event);\">\n",
            "      국내외 경제이슈\n",
            "     </a>\n",
            "    </li>\n",
            "    <li>\n",
            "     <a href=\"/research/economy_read.nhn?nid=7233\" onclick=\"clickcr(this, 'rer.list', '', '', event);\">\n",
            "      국내외 경제이슈\n",
            "     </a>\n",
            "    </li>\n",
            "    <li>\n",
            "     <a href=\"/research/economy_read.nhn?nid=7232\" onclick=\"clickcr(this, 'rer.list', '', '', event);\">\n",
            "      다시 확인해봐야 할 것들\n",
            "     </a>\n",
            "    </li>\n",
            "    <li>\n",
            "     <a href=\"/research/economy_read.nhn?nid=7231\" onclick=\"clickcr(this, 'rer.list', '', '', event);\">\n",
            "      금리 반락 일단락 이제는 유럽 금...\n",
            "     </a>\n",
            "    </li>\n",
            "    <li>\n",
            "     <a href=\"/research/economy_read.nhn?nid=7230\" onclick=\"clickcr(this, 'rer.list', '', '', event);\">\n",
            "      미국 4월 고용지표 등\n",
            "     </a>\n",
            "    </li>\n",
            "   </ul>\n",
            "   <a class=\"btn_more\" href=\"/research/economy_list.nhn\" onclick=\"clickcr(this, 'rer.more', '', '', event);\">\n",
            "    <img alt=\"경제분석 리포트 더보기\" height=\"18\" src=\"https://ssl.pstatic.net/static/nfinance/btn_more.gif\" width=\"34\"/>\n",
            "   </a>\n",
            "  </div>\n",
            " </div>\n",
            " <script language=\"javascript\" src=\"https://ssl.pstatic.net/imgstock/static.pc/20210428175742/js/info/myStock.js\" type=\"text/javascript\">\n",
            " </script>\n",
            " <script language=\"javascript\" src=\"https://ssl.pstatic.net/imgstock/static.pc/20210428175742/js/util.js\" type=\"text/javascript\">\n",
            " </script>\n",
            " <script language=\"javascript\">\n",
            "  function toggleTabSearch(e){\n",
            "\tvar currentElement = jindo.$Element(jindo.$Event(e).currentElement);\n",
            "\tvar parentElement = currentElement.parent();\n",
            "\tvar id = currentElement.className();\n",
            "\tvar order = parentElement.indexOf(currentElement) + 3;\n",
            "\tparentElement.className(\"tab_search search\"+ order);\n",
            "\n",
            "\t// 페이징을 위해서 order값에 따라 최근조회인지 mystock인지 type을 저장\n",
            "\tif (order == 3) {\n",
            "\t\tcurrentType = \"recent\";\n",
            "\t} else {\n",
            "\t\tcurrentType = \"mystock\";\n",
            "\t}\n",
            "}\n",
            "\n",
            "jindo.$Fn(function(){\n",
            "\tif ('true' == 'true') {\n",
            "\t\tgetStockRightMenuData('000000', 'recent', 1, 'https://finance.naver.com', 'https://ssl.pstatic.net/static/nfinance');\n",
            "\n",
            "\t\tvar tabSearchArea = jindo.$$.getSingle('.tab_search');\n",
            "\t\tvar moreInfoArea = jindo.$Element(jindo.$$.getSingle('.tbl_search')).next().$value();\n",
            "\n",
            "\t\tjindo.$Fn(function(e) {toggleTabSearch(e); getStockRightMenuData('000000', 'recent', 1, 'https://finance.naver.com', 'https://ssl.pstatic.net/static/nfinance'); }).attach(jindo.$$.getSingle('a' ,tabSearchArea), 'click');\n",
            "\t\tjindo.$Fn(function(e) {toggleTabSearch(e); getStockRightMenuData('000000', 'mystock', 1, 'https://finance.naver.com', 'https://ssl.pstatic.net/static/nfinance'); }).attach(jindo.$$('a' ,tabSearchArea)[1], 'click');\n",
            "\t\tjindo.$Fn(function(e) {updatePageForPaging (currentType, 'up', 'https://finance.naver.com', 'https://ssl.pstatic.net/static/nfinance'); }).attach(jindo.$$.getSingle('a', moreInfoArea), 'click');\n",
            "\t\tjindo.$Fn(function(e) {updatePageForPaging (currentType, 'down', 'https://finance.naver.com', 'https://ssl.pstatic.net/static/nfinance'); }).attach(jindo.$$('a', moreInfoArea)[1], 'click');\n",
            "\t}\n",
            "\n",
            "}).attach(document,\"domready\");\n",
            "\n",
            "function openMyitemNew(stockHost) {\n",
            "\tvar selectedElement = jindo.$Element(jindo.$$.getSingle(\".tab_search\"));\n",
            "\tif (selectedElement != null) {\n",
            "\t\tif (selectedElement.hasClass(\"search1\")) {\n",
            "\t\t\tdocument.location.href = stockHost + '/mystock/recentSearchItemList.nhn';\n",
            "\t\t} else {\n",
            "\t\t\tdocument.location.href = stockHost + '/mystock/itemList.nhn';\n",
            "\t\t}\n",
            "\t}\n",
            "}\n",
            " </script>\n",
            "</div>\n",
            "<div id=\"footer\">\n",
            " <ul>\n",
            "  <li class=\"first\">\n",
            "   <a href=\"https://www.naver.com/rules/service.html\" onclick=\"clickcr(this, 'fot.service', '', '', event);\" target=\"_blank\">\n",
            "    이용약관\n",
            "   </a>\n",
            "  </li>\n",
            "  <li>\n",
            "   <a href=\"/rules.nhn\" onclick=\"clickcr(this, 'fot.policy', '', '', event);\" target=\"_blank\">\n",
            "    금융게시판 운영원칙\n",
            "   </a>\n",
            "  </li>\n",
            "  <li>\n",
            "   <a href=\"https://www.naver.com/rules/privacy.html\" onclick=\"clickcr(this, 'fot.privacy', '', '', event);\" target=\"_blank\">\n",
            "    <strong>\n",
            "     개인정보처리방침\n",
            "    </strong>\n",
            "   </a>\n",
            "  </li>\n",
            "  <li>\n",
            "   <a href=\"https://www.naver.com/rules/disclaimer.html\" onclick=\"clickcr(this, 'fot.limit', '', '', event);\" target=\"_blank\">\n",
            "    책임의 한계와 법적고지\n",
            "   </a>\n",
            "  </li>\n",
            "  <li>\n",
            "   <a href=\"https://help.naver.com/support/alias/contents2/finance/finance_1.naver\" onclick=\"clickcr(this, 'fot.help', '', '', event);\" target=\"_blank\">\n",
            "    금융 고객센터\n",
            "   </a>\n",
            "  </li>\n",
            " </ul>\n",
            " <p class=\"desc\">\n",
            "  네이버(주)가 제공하는 금융 정보는 각 콘텐츠 제공업체로부터 받는 투자 참고사항이며, 오류가 발생하거나 지연될 수 있습니다.\n",
            "  <br/>\n",
            "  네이버(주)와 콘텐츠 제공업체는 제공된 정보에 의한 투자 결과에 법적인 책임을 지지 않습니다. 게시된 정보는 무단으로 배포할 수 없습니다.\n",
            " </p>\n",
            " <address>\n",
            "  <a class=\"logo\" href=\"https://www.navercorp.com/\" onclick=\"clickcr(this, 'fot.nhn', '', '', event);\" target=\"_blank\">\n",
            "   <img alt=\"NAVER\" height=\"11\" src=\"https://ssl.pstatic.net/static/nfinance/2019/02/22/ci_naver.png\" width=\"58\"/>\n",
            "  </a>\n",
            "  <em>\n",
            "   Copyright ©\n",
            "  </em>\n",
            "  <a href=\"https://www.navercorp.com/\" onclick=\"clickcr(this, 'fot.nhn', '', '', event);\" target=\"_blank\">\n",
            "   NAVER Corp.\n",
            "  </a>\n",
            "  <span>\n",
            "   All Rights Reserved.\n",
            "  </span>\n",
            " </address>\n",
            "</div>\n",
            "<script type=\"text/javascript\">\n",
            " function isVisible(obj) {\n",
            "    if (obj == document) return true\n",
            " \n",
            "    if (!obj) return false\n",
            "    if (!obj.parentNode) return false\n",
            "    if (obj.style) {\n",
            "        if (obj.style.display == 'none') return false\n",
            "        if (obj.style.visibility == 'hidden') return false\n",
            "    }\n",
            " \n",
            "    if (window.getComputedStyle) {\n",
            "        var style = window.getComputedStyle(obj, \"\")\n",
            "        if (style.display == 'none') return false\n",
            "        if (style.visibility == 'hidden') return false\n",
            "    }\n",
            " \n",
            "    var style = obj.currentStyle\n",
            "    if (style) {\n",
            "        if (style['display'] == 'none') return false\n",
            "        if (style['visibility'] == 'hidden') return false\n",
            "    }\n",
            " \n",
            "    return isVisible(obj.parentNode)\n",
            "}\n",
            "\n",
            "function isChildOf(myobj, containerObj) {\n",
            "\twhile(myobj != undefined) {\n",
            "\t\tif (myobj == document.body) {\n",
            "\t\t\tbreak;\n",
            "\t\t} \n",
            "\t\tif (myobj == containerObj) {\n",
            "\t\t\treturn true;\n",
            "\t\t}\n",
            "\t\tmyobj = myobj.parentElement;\n",
            "\t}\n",
            "\treturn false;\t\n",
            "}\n",
            "\n",
            "function gnbLayerClose(e){\n",
            "\tvar target = e.target ? e.target : e.srcElement;\n",
            "\tif (isVisible(document.getElementById('gnb_service_lyr')) || isVisible(document.getElementById('gnb_notice_lyr')) ||isVisible(document.getElementById('gnb_my_lyr')) ) {\n",
            "\t\tif (!isChildOf(target, document.getElementById('gnb'))) {\n",
            "\t\t\tgnbAllLayerClose();\n",
            "\t\t}\n",
            "\t}\t\n",
            "}\n",
            "\n",
            "var isIE = (navigator.userAgent.toLowerCase().indexOf(\"msie\")!=-1 && window.document.all) ? true:false;\n",
            "if (isIE) {\n",
            "\tdocument.attachEvent('onmousedown', gnbLayerClose);\n",
            "} else {\n",
            "\twindow.addEventListener('mousedown', gnbLayerClose);\n",
            "}\n",
            "</script>\n",
            "\n"
          ],
          "name": "stdout"
        }
      ]
    },
    {
      "cell_type": "code",
      "metadata": {
        "colab": {
          "base_uri": "https://localhost:8080/"
        },
        "id": "BqD1WI_4iwiY",
        "outputId": "45a8857b-4b37-4b39-dfae-b7ff7414759f"
      },
      "source": [
        "soup.find_all('span', 'value')"
      ],
      "execution_count": null,
      "outputs": [
        {
          "output_type": "execute_result",
          "data": {
            "text/plain": [
              "[<span class=\"value\">1,124.00</span>,\n",
              " <span class=\"value\">1,030.01</span>,\n",
              " <span class=\"value\">1,353.58</span>,\n",
              " <span class=\"value\">173.63</span>,\n",
              " <span class=\"value\">109.2100</span>,\n",
              " <span class=\"value\">1.2003</span>,\n",
              " <span class=\"value\">1.3910</span>,\n",
              " <span class=\"value\">91.2900</span>,\n",
              " <span class=\"value\">65.63</span>,\n",
              " <span class=\"value\">1534.53</span>,\n",
              " <span class=\"value\">1784.1</span>,\n",
              " <span class=\"value\">64928.03</span>]"
            ]
          },
          "metadata": {
            "tags": []
          },
          "execution_count": 36
        }
      ]
    },
    {
      "cell_type": "code",
      "metadata": {
        "colab": {
          "base_uri": "https://localhost:8080/",
          "height": 36
        },
        "id": "-hRPfH9SirGa",
        "outputId": "1d629180-6019-4068-f9c3-c69e174ae8f0"
      },
      "source": [
        "soup.find_all('span', 'value')[0].string "
      ],
      "execution_count": null,
      "outputs": [
        {
          "output_type": "execute_result",
          "data": {
            "application/vnd.google.colaboratory.intrinsic+json": {
              "type": "string"
            },
            "text/plain": [
              "'1,124.00'"
            ]
          },
          "metadata": {
            "tags": []
          },
          "execution_count": 35
        }
      ]
    },
    {
      "cell_type": "code",
      "metadata": {
        "colab": {
          "base_uri": "https://localhost:8080/"
        },
        "id": "SlOkT4kKi5sg",
        "outputId": "c6f3e207-9825-47ad-fb72-d0974825e5b9"
      },
      "source": [
        "soup_list = soup.find_all('span', 'value')\n",
        "for each in soup_list:\n",
        "  print(each.string)"
      ],
      "execution_count": null,
      "outputs": [
        {
          "output_type": "stream",
          "text": [
            "1,124.00\n",
            "1,030.01\n",
            "1,353.58\n",
            "173.63\n",
            "109.2100\n",
            "1.2003\n",
            "1.3910\n",
            "91.2900\n",
            "65.63\n",
            "1534.53\n",
            "1784.1\n",
            "64928.03\n"
          ],
          "name": "stdout"
        }
      ]
    },
    {
      "cell_type": "code",
      "metadata": {
        "colab": {
          "base_uri": "https://localhost:8080/"
        },
        "id": "qAruEF0xjalU",
        "outputId": "0042ccca-2b41-4ade-fdb6-187a6c491a97"
      },
      "source": [
        "soup_nation = soup.find_all('h3', 'h_lst') \n",
        "for each in soup_nation:\n",
        "  print(each.string)"
      ],
      "execution_count": null,
      "outputs": [
        {
          "output_type": "stream",
          "text": [
            "미국 USD\n",
            "일본 JPY(100엔)\n",
            "유럽연합 EUR\n",
            "중국 CNY\n",
            "달러/일본 엔\n",
            "유로/달러\n",
            "영국 파운드/달러\n",
            "달러인덱스\n",
            "WTI\n",
            "휘발유\n",
            "국제 금\n",
            "국내 금\n"
          ],
          "name": "stdout"
        }
      ]
    },
    {
      "cell_type": "code",
      "metadata": {
        "colab": {
          "base_uri": "https://localhost:8080/"
        },
        "id": "jpAznGOmkJn6",
        "outputId": "bf20ef3a-3e43-4d94-da68-53bbd3be1b72"
      },
      "source": [
        "soup_list = soup.find_all('span', 'value')\n",
        "soup_nation = soup.find_all('h3', 'h_lst')\n",
        "i = 0\n",
        "for each in soup_list:\n",
        "  print(soup_nation[i].string, '->', each.string) \n",
        "  i+=1"
      ],
      "execution_count": null,
      "outputs": [
        {
          "output_type": "stream",
          "text": [
            "미국 USD -> 1,124.00\n",
            "일본 JPY(100엔) -> 1,030.01\n",
            "유럽연합 EUR -> 1,353.58\n",
            "중국 CNY -> 173.63\n",
            "달러/일본 엔 -> 109.2100\n",
            "유로/달러 -> 1.2003\n",
            "영국 파운드/달러 -> 1.3910\n",
            "달러인덱스 -> 91.2900\n",
            "WTI -> 65.63\n",
            "휘발유 -> 1534.53\n",
            "국제 금 -> 1784.1\n",
            "국내 금 -> 64928.03\n"
          ],
          "name": "stdout"
        }
      ]
    },
    {
      "cell_type": "code",
      "metadata": {
        "colab": {
          "base_uri": "https://localhost:8080/"
        },
        "id": "ri5Xie-lkuvw",
        "outputId": "4f1e26bc-f085-4703-f08e-1f6e7ea2c389"
      },
      "source": [
        "soup_list = soup.find_all('span', 'value')\n",
        "soup_nation = soup.find_all('h3', 'h_lst')\n",
        "for n, l in zip(soup_nation, soup_list):\n",
        "  print(n.string, '->', l.string) "
      ],
      "execution_count": null,
      "outputs": [
        {
          "output_type": "stream",
          "text": [
            "미국 USD -> 1,124.00\n",
            "일본 JPY(100엔) -> 1,030.01\n",
            "유럽연합 EUR -> 1,353.58\n",
            "중국 CNY -> 173.63\n",
            "달러/일본 엔 -> 109.2100\n",
            "유로/달러 -> 1.2003\n",
            "영국 파운드/달러 -> 1.3910\n",
            "달러인덱스 -> 91.2900\n",
            "WTI -> 65.63\n",
            "휘발유 -> 1534.53\n",
            "국제 금 -> 1784.1\n",
            "국내 금 -> 64928.03\n"
          ],
          "name": "stdout"
        }
      ]
    },
    {
      "cell_type": "markdown",
      "metadata": {
        "id": "jkPwpecu3Xcy"
      },
      "source": [
        "# 실습 2-1"
      ]
    },
    {
      "cell_type": "code",
      "metadata": {
        "colab": {
          "base_uri": "https://localhost:8080/"
        },
        "id": "Xafe3_Q-3UB8",
        "outputId": "b3bdc904-9f1a-498b-d321-7d8a016f490b"
      },
      "source": [
        "10+20"
      ],
      "execution_count": null,
      "outputs": [
        {
          "output_type": "execute_result",
          "data": {
            "text/plain": [
              "30"
            ]
          },
          "metadata": {
            "tags": []
          },
          "execution_count": 2
        }
      ]
    },
    {
      "cell_type": "code",
      "metadata": {
        "colab": {
          "base_uri": "https://localhost:8080/"
        },
        "id": "fL6KE3Py32gA",
        "outputId": "aa48ce41-c92e-4b87-affb-11e56332f47d"
      },
      "source": [
        "30-5"
      ],
      "execution_count": null,
      "outputs": [
        {
          "output_type": "execute_result",
          "data": {
            "text/plain": [
              "25"
            ]
          },
          "metadata": {
            "tags": []
          },
          "execution_count": 3
        }
      ]
    },
    {
      "cell_type": "code",
      "metadata": {
        "colab": {
          "base_uri": "https://localhost:8080/"
        },
        "id": "Sqycl3lL34VM",
        "outputId": "e3bc7d7e-5f74-4a32-a623-75c8a5ed5206"
      },
      "source": [
        "15*7.0"
      ],
      "execution_count": null,
      "outputs": [
        {
          "output_type": "execute_result",
          "data": {
            "text/plain": [
              "105.0"
            ]
          },
          "metadata": {
            "tags": []
          },
          "execution_count": 4
        }
      ]
    },
    {
      "cell_type": "code",
      "metadata": {
        "colab": {
          "base_uri": "https://localhost:8080/"
        },
        "id": "GovHGpTy35ah",
        "outputId": "e10c2ddc-6042-43b1-fd93-bab6556a2ca7"
      },
      "source": [
        "2/4"
      ],
      "execution_count": null,
      "outputs": [
        {
          "output_type": "execute_result",
          "data": {
            "text/plain": [
              "0.5"
            ]
          },
          "metadata": {
            "tags": []
          },
          "execution_count": 5
        }
      ]
    },
    {
      "cell_type": "code",
      "metadata": {
        "colab": {
          "base_uri": "https://localhost:8080/"
        },
        "id": "qD18e8aQ37mq",
        "outputId": "9288cde4-874f-4ae1-828c-2bf4f420958c"
      },
      "source": [
        "2.0/4.0"
      ],
      "execution_count": null,
      "outputs": [
        {
          "output_type": "execute_result",
          "data": {
            "text/plain": [
              "0.5"
            ]
          },
          "metadata": {
            "tags": []
          },
          "execution_count": 6
        }
      ]
    },
    {
      "cell_type": "code",
      "metadata": {
        "colab": {
          "base_uri": "https://localhost:8080/"
        },
        "id": "_mpj9UIK36pi",
        "outputId": "dca26318-bb20-4679-b829-8ea87a5bf580"
      },
      "source": [
        "2.0/4"
      ],
      "execution_count": null,
      "outputs": [
        {
          "output_type": "execute_result",
          "data": {
            "text/plain": [
              "0.5"
            ]
          },
          "metadata": {
            "tags": []
          },
          "execution_count": 7
        }
      ]
    },
    {
      "cell_type": "code",
      "metadata": {
        "colab": {
          "base_uri": "https://localhost:8080/"
        },
        "id": "fl2mAAGN3_CO",
        "outputId": "61c11a1c-8493-48a9-9d10-a6663d4ed2f4"
      },
      "source": [
        "50%4"
      ],
      "execution_count": null,
      "outputs": [
        {
          "output_type": "execute_result",
          "data": {
            "text/plain": [
              "2"
            ]
          },
          "metadata": {
            "tags": []
          },
          "execution_count": 8
        }
      ]
    },
    {
      "cell_type": "code",
      "metadata": {
        "colab": {
          "base_uri": "https://localhost:8080/"
        },
        "id": "tsU5ps7n4AQk",
        "outputId": "2d6aa371-cff7-41e9-f25f-fe12a0537e39"
      },
      "source": [
        "10**3"
      ],
      "execution_count": null,
      "outputs": [
        {
          "output_type": "execute_result",
          "data": {
            "text/plain": [
              "1000"
            ]
          },
          "metadata": {
            "tags": []
          },
          "execution_count": 9
        }
      ]
    },
    {
      "cell_type": "code",
      "metadata": {
        "colab": {
          "base_uri": "https://localhost:8080/"
        },
        "id": "4vGScjxA4Gz3",
        "outputId": "49729308-e6f0-4ca3-b29a-e5a6dc717956"
      },
      "source": [
        "milk=1850\n",
        "egg=4000\n",
        "price=(milk*2+egg)*0.95\n",
        "print(price)"
      ],
      "execution_count": null,
      "outputs": [
        {
          "output_type": "stream",
          "text": [
            "7315.0\n"
          ],
          "name": "stdout"
        }
      ]
    },
    {
      "cell_type": "code",
      "metadata": {
        "colab": {
          "base_uri": "https://localhost:8080/"
        },
        "id": "_TbaG3X34vJ4",
        "outputId": "2f610793-0a90-465c-b092-24c75f665918"
      },
      "source": [
        "f=100\n",
        "c=5.0/9.0*(f-32.0)\n",
        "print(c)"
      ],
      "execution_count": null,
      "outputs": [
        {
          "output_type": "stream",
          "text": [
            "37.77777777777778\n"
          ],
          "name": "stdout"
        }
      ]
    },
    {
      "cell_type": "code",
      "metadata": {
        "colab": {
          "base_uri": "https://localhost:8080/"
        },
        "id": "YdZjPXfY5LdU",
        "outputId": "4a958d4a-1a66-4dfd-b8d3-48b12b8968e5"
      },
      "source": [
        "c=50\n",
        "f=9.0/5.0*c+32.0\n",
        "print(f)"
      ],
      "execution_count": null,
      "outputs": [
        {
          "output_type": "stream",
          "text": [
            "122.0\n"
          ],
          "name": "stdout"
        }
      ]
    },
    {
      "cell_type": "markdown",
      "metadata": {
        "id": "rEX-C8y0BtXK"
      },
      "source": [
        "# 실습 2-2"
      ]
    },
    {
      "cell_type": "code",
      "metadata": {
        "colab": {
          "base_uri": "https://localhost:8080/"
        },
        "id": "jKcwyScVBu7V",
        "outputId": "fc09a20e-f848-4213-9fa4-232986b9e7b5"
      },
      "source": [
        "print('파이썬은 즐거워 '*5)"
      ],
      "execution_count": null,
      "outputs": [
        {
          "output_type": "stream",
          "text": [
            "파이썬은 즐거워 파이썬은 즐거워 파이썬은 즐거워 파이썬은 즐거워 파이썬은 즐거워 \n"
          ],
          "name": "stdout"
        }
      ]
    },
    {
      "cell_type": "code",
      "metadata": {
        "colab": {
          "base_uri": "https://localhost:8080/"
        },
        "id": "rQxzi87dB9Am",
        "outputId": "73966aa7-6f7f-4c6f-94c7-041cc7d1c00a"
      },
      "source": [
        "num=10\n",
        "print('콩 '*num,'나무를 ',num,'번 찍었습니다.')"
      ],
      "execution_count": null,
      "outputs": [
        {
          "output_type": "stream",
          "text": [
            "콩 콩 콩 콩 콩 콩 콩 콩 콩 콩  나무를  10 번 찍었습니다.\n"
          ],
          "name": "stdout"
        }
      ]
    },
    {
      "cell_type": "code",
      "metadata": {
        "colab": {
          "base_uri": "https://localhost:8080/"
        },
        "id": "OVIwdzMTCdI3",
        "outputId": "abc62958-fcf7-4a66-fc4e-99dac3401173"
      },
      "source": [
        "print('Tell me your favorite stuff.')\n",
        "fruit=input('Your favorite fruit is ')\n",
        "flower=input('Your favorite flower is ')\n",
        "drink=input('Your favorite drink is ')\n",
        "print('You entered: ',fruit, flower, drink)"
      ],
      "execution_count": null,
      "outputs": [
        {
          "output_type": "stream",
          "text": [
            "Tell me your favorite stuff.\n",
            "Your favorite fruit is apple\n",
            "Your favorite flower is rose\n",
            "Your favorite drink is coke\n",
            "You entered:  apple rose coke\n"
          ],
          "name": "stdout"
        }
      ]
    },
    {
      "cell_type": "code",
      "metadata": {
        "colab": {
          "base_uri": "https://localhost:8080/"
        },
        "id": "PeFsphv7DJg5",
        "outputId": "010cba08-22ca-404c-af7e-b6da896dfa72"
      },
      "source": [
        "name=input('이름:')\n",
        "age=input('나이:')\n",
        "univ=input('학교:')\n",
        "dept=input('학부:')\n",
        "print()\n",
        "wish=input('수업에 바라는 점:')\n",
        "print()\n",
        "print(univ, dept, age,'세', name,'님')\n",
        "print(wish, '의견 감사합니다.')\n",
        "\n"
      ],
      "execution_count": null,
      "outputs": [
        {
          "output_type": "stream",
          "text": [
            "이름:손다인\n",
            "나이:21\n",
            "학교:서울대학교\n",
            "학부:경제학부\n",
            " \n",
            "수업에 바라는 점:수업 일찍 끝내주세요,,\n",
            " \n",
            "서울대학교 경제학부 21 세 손다인 님\n",
            "수업 일찍 끝내주세요,, 의견 감사합니다.\n"
          ],
          "name": "stdout"
        }
      ]
    },
    {
      "cell_type": "code",
      "metadata": {
        "colab": {
          "base_uri": "https://localhost:8080/"
        },
        "id": "ATfC1aaYFXUU",
        "outputId": "65fe21e1-3aac-4389-d09d-4494498ff7e7"
      },
      "source": [
        "print('대화를 시작합니다.')\n",
        "print()\n",
        "parrot=input()\n",
        "print(parrot)"
      ],
      "execution_count": null,
      "outputs": [
        {
          "output_type": "stream",
          "text": [
            "대화를 시작합니다.\n",
            " \n",
            "너 이름이 뭐야?\n",
            "너 이름이 뭐야?\n"
          ],
          "name": "stdout"
        }
      ]
    },
    {
      "cell_type": "code",
      "metadata": {
        "colab": {
          "base_uri": "https://localhost:8080/"
        },
        "id": "iGOkzqIcFtax",
        "outputId": "be248a3f-56d8-406e-8edd-5e6853508f5f"
      },
      "source": [
        "print('대화를 시작합니다.')\n",
        "print()\n",
        "human='조련사: '\n",
        "parrot='앵무새: '\n",
        "ment=input(human)\n",
        "print(parrot+ment)\n",
        "print()\n",
        "ment=input(human)\n",
        "print(parrot+ment)\n",
        "print()\n",
        "ment=input(human)\n",
        "print(parrot+ment)\n",
        "print()"
      ],
      "execution_count": null,
      "outputs": [
        {
          "output_type": "stream",
          "text": [
            "대화를 시작합니다.\n",
            "\n",
            "조련사: 너 이름이 뭐야?\n",
            "앵무새: 너 이름이 뭐야?\n",
            "\n",
            "조련사: 난 블랙핑크 로제야.\n",
            "앵무새: 난 블랙핑크 로제야.\n",
            "\n",
            "조련사: 난 뉴욕을 매료시킨 완벽한 인형미모야.\n",
            "앵무새: 난 뉴욕을 매료시킨 완벽한 인형미모야.\n",
            "\n"
          ],
          "name": "stdout"
        }
      ]
    },
    {
      "cell_type": "markdown",
      "metadata": {
        "id": "f9P5_8rk1RxS"
      },
      "source": [
        "# 실습 3-1"
      ]
    },
    {
      "cell_type": "code",
      "metadata": {
        "id": "8zU63Lx51Qgn"
      },
      "source": [
        "dept=input('학과: ')\n",
        "num=input('학번: ')\n",
        "name=input('이름: ')\n",
        "\n",
        "print('학과:',dept+',','학번:',num+',','이름:',name)\n",
        "print()\n",
        "print('온도 변환 프로그램')\n",
        "f1=int(input('화씨 온도를 입력하세요.'))\n",
        "c1=5.0/9.0*(f1-32.0)\n",
        "print('섭씨 온도는',c1,'입니다.')\n",
        "print()\n",
        "c2=int(input('섭씨 온도를 입력하세요.'))\n",
        "f2=9.0/5.0*c2+32.0\n",
        "print('화씨 온도는',f2,'입니다.')\n"
      ],
      "execution_count": null,
      "outputs": []
    },
    {
      "cell_type": "code",
      "metadata": {
        "id": "w6f9-2vy34Ex"
      },
      "source": [
        "print('환율계산 프로그램')\n",
        "print()\n",
        "num=input('금액을 입력하세요: ')\n",
        "num1=int(num)\n",
        "krw=num1*0.00084\n",
        "cny=num1*0.15\n",
        "jpy=num1*0.0094\n",
        "php=num1*0.021\n",
        "print('대한민국 '+num+'원은 '+str(krw)+'달러입니다.')\n",
        "print('중국 '+num+'위안은 '+str(cny)+'달러입니다.')\n",
        "print('일본 '+num+'엔은 '+str(jpy)+'달러입니다.')\n",
        "print('필리핀 '+num+'페소는 '+str(php)+'달러입니다.')"
      ],
      "execution_count": null,
      "outputs": []
    },
    {
      "cell_type": "code",
      "metadata": {
        "id": "TyfyrH1Z6-I6"
      },
      "source": [
        "print('부가세 계산 프로그램')\n",
        "print()\n",
        "num=int(input('합계 금액을 입력하세요: '))\n",
        "a=num*(100/110)\n",
        "print('공급가액 '+str(round(a))+'원')\n",
        "b=num*(10/110)\n",
        "print('세액 '+str(round(b))+'원입니다.')"
      ],
      "execution_count": null,
      "outputs": []
    },
    {
      "cell_type": "code",
      "metadata": {
        "id": "-IOtZF3a8VIL"
      },
      "source": [
        "print('칼로리 계산 프로그램')\n",
        "print()\n",
        "weight=input('몸무게(kg): ')\n",
        "time=input('운동시간(분): ')\n",
        "print()\n",
        "walking=(4*3.5*int(weight)/200)*int(time)\n",
        "jogging=(7*3.5*int(weight)/200)*int(time)\n",
        "hiking=(7*3.5*int(weight)/200)*int(time)\n",
        "stair=(5*3.5*int(weight)/200)*int(time)\n",
        "swimming=(9*3.5*int(weight)/200)*int(time)\n",
        "print('걷기운동 '+time+'분은 '+str(walking)+'kcal가 소모됩니다.')\n",
        "print('조깅운동 '+time+'분은 '+str(jogging)+'kcal가 소모됩니다.')\n",
        "print('등산운동 '+time+'분은 '+str(hiking)+'kcal가 소모됩니다.')\n",
        "print('계단오르기기운동 '+time+'분은 '+str(stair)+'kcal가 소모됩니다.')\n",
        "print('수영운동 '+time+'분은 '+str(swimming)+'kcal가 소모됩니다.')"
      ],
      "execution_count": null,
      "outputs": []
    },
    {
      "cell_type": "markdown",
      "metadata": {
        "id": "X8C2ErN9BJxE"
      },
      "source": [
        "# 실습 3-2"
      ]
    },
    {
      "cell_type": "code",
      "metadata": {
        "colab": {
          "base_uri": "https://localhost:8080/"
        },
        "id": "kdLHe_QyBJNo",
        "outputId": "6b1facbf-fed9-4d07-d854-73f80bad9b71"
      },
      "source": [
        "print('성적을 입력하시오.')\n",
        "score=input()\n",
        "if int(score)>=90:\n",
        "  print('합격입니다.')\n",
        "else:\n",
        "  print('불합격입니다.')  "
      ],
      "execution_count": null,
      "outputs": [
        {
          "output_type": "stream",
          "text": [
            "성적을 입력하시오.\n",
            "76\n",
            "불합격입니다.\n"
          ],
          "name": "stdout"
        }
      ]
    },
    {
      "cell_type": "code",
      "metadata": {
        "colab": {
          "base_uri": "https://localhost:8080/"
        },
        "id": "BY1HMarKBwK8",
        "outputId": "5f6f0f4c-14b2-4eab-e088-d8f64cfca78c"
      },
      "source": [
        "int1=input('첫 번째 정수를 입력하시오: ')\n",
        "int2=input('두 번째 정수를 입력하시오: ')\n",
        "print()\n",
        "if int(int1)>int(int2):\n",
        "  print('큰수: ' +int1)\n",
        "  print('작은수: '+int2)\n",
        "elif int(int1)<int(int2):\n",
        "  print('큰수: ' +int2)\n",
        "  print('작은수: '+int1)\n",
        "else:\n",
        "  print('두 수는 같습니다.')\n"
      ],
      "execution_count": null,
      "outputs": [
        {
          "output_type": "stream",
          "text": [
            "첫 번째 정수를 입력하시오: 45\n",
            "두 번째 정수를 입력하시오: 45\n",
            "\n",
            "두 수는 같습니다.\n"
          ],
          "name": "stdout"
        }
      ]
    },
    {
      "cell_type": "code",
      "metadata": {
        "colab": {
          "base_uri": "https://localhost:8080/"
        },
        "id": "4NWgqnWaCog2",
        "outputId": "fd202830-e3c4-46cc-a362-5feed325d087"
      },
      "source": [
        "print('숫자를 입력하시오.')\n",
        "num=input()\n",
        "if int(num)%2==1:\n",
        "  print('홀수입니다.')\n",
        "if int(num)%2==0:\n",
        "  print('짝수입니다.')"
      ],
      "execution_count": null,
      "outputs": [
        {
          "output_type": "stream",
          "text": [
            "숫자를 입력하시오.\n",
            "76\n",
            "짝수입니다.\n"
          ],
          "name": "stdout"
        }
      ]
    },
    {
      "cell_type": "code",
      "metadata": {
        "colab": {
          "base_uri": "https://localhost:8080/"
        },
        "id": "dGK9pfHEDbWv",
        "outputId": "ca3c2342-4654-4ddb-d014-3f32dc289795"
      },
      "source": [
        "print('몸무게(kg)와 키(m)를 차례대로 입력하세요.')\n",
        "weight=input()\n",
        "height=input()\n",
        "bmi=float(weight)/float(height)**2\n",
        "print('BMI', \"%.2f\"%bmi)\n",
        "if bmi>25:\n",
        "  print('비만입니다. 운동으로 감량이 필요합니다.')\n",
        "else:\n",
        "  print('정상입니다. 꾸준한 운동으로 유지시켜주세요.')\n"
      ],
      "execution_count": null,
      "outputs": [
        {
          "output_type": "stream",
          "text": [
            "몸무게(kg)와 키(m)를 차례대로 입력하세요.\n",
            "50\n",
            "1.6\n",
            "BMI 19.53\n",
            "정상입니다. 꾸준한 운동으로 유지시켜주세요.\n"
          ],
          "name": "stdout"
        }
      ]
    },
    {
      "cell_type": "code",
      "metadata": {
        "colab": {
          "base_uri": "https://localhost:8080/"
        },
        "id": "vFWMy63YEyTX",
        "outputId": "448d55d4-b016-4401-e823-80d66cea5361"
      },
      "source": [
        "import random\n",
        "print('범위의 시작 값을 입력하세요.')\n",
        "first=input()\n",
        "print('범위의 끝 값을 입력하세요.')\n",
        "last=input()\n",
        "if int(first)<=int(last):\n",
        "  print('범위 '+first+'부터 '+last+'가운데 선택된 랜덤 넘버는 '+str(random.randint(int(first),int(last)))+'입니다.')\n",
        "else:\n",
        "  print('끝 값을 잘못 입력하셨습니다.')"
      ],
      "execution_count": null,
      "outputs": [
        {
          "output_type": "stream",
          "text": [
            "범위의 시작 값을 입력하세요.\n",
            "100\n",
            "범위의 끝 값을 입력하세요.\n",
            "200\n",
            "범위 100부터 200가운데 선택된 랜덤 넘버는 153입니다.\n"
          ],
          "name": "stdout"
        }
      ]
    },
    {
      "cell_type": "code",
      "metadata": {
        "colab": {
          "base_uri": "https://localhost:8080/"
        },
        "id": "8mWNOjHHGY5r",
        "outputId": "27141ecf-7c61-45d8-d24a-b4363f9170de"
      },
      "source": [
        "name=input('당신의 이름은? ')\n",
        "kor=int(input('국어 점수는? '))\n",
        "math=int(input('수학 점수는? '))\n",
        "eng=int(input('영어 점수는? '))\n",
        "average=(kor+math+eng)/3\n",
        "if average<60:\n",
        "  print(name+'님은 불합격..입니다.')\n",
        "elif kor<40:\n",
        "  print(name+'님은 과락...입니다.')\n",
        "elif math<40:\n",
        "  print(name+'님은 과락...입니다.')\n",
        "elif eng<40:\n",
        "  print(name+'님은 과락...입니다.')\n",
        "else:\n",
        "  print(name+'님은 합격입니다.')"
      ],
      "execution_count": null,
      "outputs": [
        {
          "output_type": "stream",
          "text": [
            "당신의 이름은? 홍길동\n",
            "국어 점수는? 62\n",
            "수학 점수는? 37\n",
            "영어 점수는? 68\n",
            "홍길동님은 불합격..입니다.\n"
          ],
          "name": "stdout"
        }
      ]
    },
    {
      "cell_type": "markdown",
      "metadata": {
        "id": "cKa4oCA7HaPI"
      },
      "source": [
        "# 실습 4-1"
      ]
    },
    {
      "cell_type": "code",
      "metadata": {
        "colab": {
          "base_uri": "https://localhost:8080/"
        },
        "id": "gOy0hPhJ2KqD",
        "outputId": "32c1a5d3-fa5b-4ee0-e5a8-5c8c3c32b499"
      },
      "source": [
        "count=1\n",
        "print('열 번 찍어 안 넘어가는 나무 없다!!!')\n",
        "print()\n",
        "while count<=10:\n",
        "  print('나무를', str(count)+'번', '찍었습니다.')\n",
        "  count+=1\n",
        "print()\n",
        "print('간다~ 간다~ 넘어간다!!!')\n"
      ],
      "execution_count": null,
      "outputs": [
        {
          "output_type": "stream",
          "text": [
            "열 번 찍어 안 넘어가는 나무 없다!!!\n",
            "\n",
            "나무를 1번 찍었습니다.\n",
            "나무를 2번 찍었습니다.\n",
            "나무를 3번 찍었습니다.\n",
            "나무를 4번 찍었습니다.\n",
            "나무를 5번 찍었습니다.\n",
            "나무를 6번 찍었습니다.\n",
            "나무를 7번 찍었습니다.\n",
            "나무를 8번 찍었습니다.\n",
            "나무를 9번 찍었습니다.\n",
            "나무를 10번 찍었습니다.\n",
            "\n",
            "간다~ 간다~ 넘어간다!!!\n"
          ],
          "name": "stdout"
        }
      ]
    },
    {
      "cell_type": "code",
      "metadata": {
        "colab": {
          "base_uri": "https://localhost:8080/"
        },
        "id": "xdnVmHQl3oFF",
        "outputId": "24bc7638-a4f1-4201-8140-0e5f4f174970"
      },
      "source": [
        "print('티끌 모아 태산!!!')\n",
        "print()\n",
        "count=1\n",
        "while count<=10:\n",
        "  print('땡그랑, '*count+'동전 {}원을 모았습니다.'.format(count*100))\n",
        "  count+=1\n",
        "print()\n",
        "print('산다. 산다. 집 산다!!!') "
      ],
      "execution_count": null,
      "outputs": [
        {
          "output_type": "stream",
          "text": [
            "티끌 모아 태산!!!\n",
            "\n",
            "땡그랑, 동전 100원을 모았습니다.\n",
            "땡그랑, 땡그랑, 동전 200원을 모았습니다.\n",
            "땡그랑, 땡그랑, 땡그랑, 동전 300원을 모았습니다.\n",
            "땡그랑, 땡그랑, 땡그랑, 땡그랑, 동전 400원을 모았습니다.\n",
            "땡그랑, 땡그랑, 땡그랑, 땡그랑, 땡그랑, 동전 500원을 모았습니다.\n",
            "땡그랑, 땡그랑, 땡그랑, 땡그랑, 땡그랑, 땡그랑, 동전 600원을 모았습니다.\n",
            "땡그랑, 땡그랑, 땡그랑, 땡그랑, 땡그랑, 땡그랑, 땡그랑, 동전 700원을 모았습니다.\n",
            "땡그랑, 땡그랑, 땡그랑, 땡그랑, 땡그랑, 땡그랑, 땡그랑, 땡그랑, 동전 800원을 모았습니다.\n",
            "땡그랑, 땡그랑, 땡그랑, 땡그랑, 땡그랑, 땡그랑, 땡그랑, 땡그랑, 땡그랑, 동전 900원을 모았습니다.\n",
            "땡그랑, 땡그랑, 땡그랑, 땡그랑, 땡그랑, 땡그랑, 땡그랑, 땡그랑, 땡그랑, 땡그랑, 동전 1000원을 모았습니다.\n",
            "\n",
            "산다. 산다. 집 산다!!!\n"
          ],
          "name": "stdout"
        }
      ]
    },
    {
      "cell_type": "code",
      "metadata": {
        "colab": {
          "base_uri": "https://localhost:8080/"
        },
        "id": "hfM9hENp4ndD",
        "outputId": "26ab6a3b-dd63-4dbb-8fa2-64803ff226e8"
      },
      "source": [
        "print('로또 번호 생성기 프로그램')\n",
        "import random\n",
        "num=1\n",
        "while num<=6:\n",
        "  print('{}번째 번호는 {}입니다.'.format(num, random.randint(1,45)))\n",
        "  num+=1\n",
        "print()\n",
        "print()\n",
        "print('산다. 산다. 집 산다!!!')  "
      ],
      "execution_count": null,
      "outputs": [
        {
          "output_type": "stream",
          "text": [
            "로또 번호 생성기 프로그램\n",
            "1번째 번호는 15입니다.\n",
            "2번째 번호는 27입니다.\n",
            "3번째 번호는 22입니다.\n",
            "4번째 번호는 28입니다.\n",
            "5번째 번호는 14입니다.\n",
            "6번째 번호는 24입니다.\n",
            "\n",
            "\n",
            "산다. 산다. 집 산다!!!\n"
          ],
          "name": "stdout"
        }
      ]
    },
    {
      "cell_type": "code",
      "metadata": {
        "colab": {
          "base_uri": "https://localhost:8080/"
        },
        "id": "egmQZrmR62QF",
        "outputId": "99c362c3-1995-4925-fd36-fb75c1b50364"
      },
      "source": [
        "password=' '\n",
        "while password!='pythonisfun':\n",
        "  print('암호를 입력하세요.')\n",
        "  password=input()\n",
        "print('로그인 성공')\n",
        "\n",
        "   "
      ],
      "execution_count": null,
      "outputs": [
        {
          "output_type": "stream",
          "text": [
            "암호를 입력하세요.\n",
            "pythonis\n",
            "암호를 입력하세요.\n",
            "funfunfun\n",
            "암호를 입력하세요.\n",
            "pythonisfun\n",
            "로그인 성공\n"
          ],
          "name": "stdout"
        }
      ]
    },
    {
      "cell_type": "code",
      "metadata": {
        "colab": {
          "base_uri": "https://localhost:8080/"
        },
        "id": "Eun4xQ8n8tzt",
        "outputId": "289afa8b-7713-40c2-ad3f-0cb1f5868033"
      },
      "source": [
        "password=' '\n",
        "trial=1\n",
        "while password!='pythonisfun' and trial<=5:\n",
        "  print('암호를 입력하세요.')\n",
        "  password=input()\n",
        "  trial+=1\n",
        "if password=='pythonisfun':\n",
        "  print('로그인 성공')\n",
        "if trial>=6:\n",
        "  print('5회 틀렸습니다. 로그인에 실패하셨습니다.') \n"
      ],
      "execution_count": null,
      "outputs": [
        {
          "output_type": "stream",
          "text": [
            "암호를 입력하세요.\n",
            "python\n",
            "암호를 입력하세요.\n",
            "pythonisfun\n",
            "로그인 성공\n"
          ],
          "name": "stdout"
        }
      ]
    },
    {
      "cell_type": "code",
      "metadata": {
        "colab": {
          "base_uri": "https://localhost:8080/"
        },
        "id": "Ce0lBS7B-obE",
        "outputId": "c87becb9-84af-4254-f907-12e02110bc1f"
      },
      "source": [
        "num=input('원하는 단은:')\n",
        "count=1\n",
        "while count<=9:\n",
        "  print('{}*{}={}'.format(num, count, int(num)*count))\n",
        "  count+=1"
      ],
      "execution_count": null,
      "outputs": [
        {
          "output_type": "stream",
          "text": [
            "원하는 단은:9\n",
            "9*1=9\n",
            "9*2=18\n",
            "9*3=27\n",
            "9*4=36\n",
            "9*5=45\n",
            "9*6=54\n",
            "9*7=63\n",
            "9*8=72\n",
            "9*9=81\n"
          ],
          "name": "stdout"
        }
      ]
    },
    {
      "cell_type": "code",
      "metadata": {
        "colab": {
          "base_uri": "https://localhost:8080/"
        },
        "id": "bCJ1upaK_j0W",
        "outputId": "a3bf4ae4-8be1-4dab-981c-ad3dd1f96934"
      },
      "source": [
        "num=2\n",
        "while num<=9:\n",
        "  print('{}단'.format(num))\n",
        "  count=1\n",
        "  while count<=9:\n",
        "    print('{}*{}={}'.format(num, count,num*count))\n",
        "    count+=1\n",
        "  num+=1\n",
        "  print()"
      ],
      "execution_count": null,
      "outputs": [
        {
          "output_type": "stream",
          "text": [
            "2단\n",
            "2*1=2\n",
            "2*2=4\n",
            "2*3=6\n",
            "2*4=8\n",
            "2*5=10\n",
            "2*6=12\n",
            "2*7=14\n",
            "2*8=16\n",
            "2*9=18\n",
            "\n",
            "3단\n",
            "3*1=3\n",
            "3*2=6\n",
            "3*3=9\n",
            "3*4=12\n",
            "3*5=15\n",
            "3*6=18\n",
            "3*7=21\n",
            "3*8=24\n",
            "3*9=27\n",
            "\n",
            "4단\n",
            "4*1=4\n",
            "4*2=8\n",
            "4*3=12\n",
            "4*4=16\n",
            "4*5=20\n",
            "4*6=24\n",
            "4*7=28\n",
            "4*8=32\n",
            "4*9=36\n",
            "\n",
            "5단\n",
            "5*1=5\n",
            "5*2=10\n",
            "5*3=15\n",
            "5*4=20\n",
            "5*5=25\n",
            "5*6=30\n",
            "5*7=35\n",
            "5*8=40\n",
            "5*9=45\n",
            "\n",
            "6단\n",
            "6*1=6\n",
            "6*2=12\n",
            "6*3=18\n",
            "6*4=24\n",
            "6*5=30\n",
            "6*6=36\n",
            "6*7=42\n",
            "6*8=48\n",
            "6*9=54\n",
            "\n",
            "7단\n",
            "7*1=7\n",
            "7*2=14\n",
            "7*3=21\n",
            "7*4=28\n",
            "7*5=35\n",
            "7*6=42\n",
            "7*7=49\n",
            "7*8=56\n",
            "7*9=63\n",
            "\n",
            "8단\n",
            "8*1=8\n",
            "8*2=16\n",
            "8*3=24\n",
            "8*4=32\n",
            "8*5=40\n",
            "8*6=48\n",
            "8*7=56\n",
            "8*8=64\n",
            "8*9=72\n",
            "\n",
            "9단\n",
            "9*1=9\n",
            "9*2=18\n",
            "9*3=27\n",
            "9*4=36\n",
            "9*5=45\n",
            "9*6=54\n",
            "9*7=63\n",
            "9*8=72\n",
            "9*9=81\n",
            "\n"
          ],
          "name": "stdout"
        }
      ]
    },
    {
      "cell_type": "code",
      "metadata": {
        "colab": {
          "base_uri": "https://localhost:8080/"
        },
        "id": "IGvLi17yCYDM",
        "outputId": "d2b26956-da27-4751-cd64-59209b203f6d"
      },
      "source": [
        "num=input('숫자를 입력하세요: ')\n",
        "num=int(num)\n",
        "sum=0\n",
        "while num>0:\n",
        "  sum=sum+num\n",
        "  num=num-1\n",
        "print() \n",
        "print('합: {}'.format(sum))"
      ],
      "execution_count": null,
      "outputs": [
        {
          "output_type": "stream",
          "text": [
            "숫자를 입력하세요: 100\n",
            "\n",
            "합: 5050\n"
          ],
          "name": "stdout"
        }
      ]
    },
    {
      "cell_type": "code",
      "metadata": {
        "colab": {
          "base_uri": "https://localhost:8080/"
        },
        "id": "gcsin51HDsvu",
        "outputId": "b9a04f60-ca2d-46f5-9332-2b2f5182623f"
      },
      "source": [
        "total = 0\n",
        "count = 0\n",
        "maximum = float('-inf')\n",
        "minimum = float('inf')\n",
        "print('숫자를 입력하세요.')\n",
        "while True :\n",
        "  num = input()\n",
        "  if num == '입력 끝' :\n",
        "    break\n",
        "  num = int(num)\n",
        "  total = total + num\n",
        "  count = count + 1\n",
        "  if num > maximum :\n",
        "    maximum = num\n",
        "  if num < minimum :\n",
        "    minimum = num\n",
        "average = total / count\n",
        "print('입력 받은 숫자들의 합:', total)\n",
        "print('입력 받은 숫자들의 평균:', average)\n",
        "print('가장 큰 숫자:', maximum)\n",
        "print('가장 작은 숫자:', minimum)\n",
        "\n"
      ],
      "execution_count": null,
      "outputs": [
        {
          "output_type": "stream",
          "text": [
            "숫자를 입력하세요.\n",
            "10\n",
            "11\n",
            "9\n",
            "15\n",
            "3\n",
            "입력 끝\n",
            "입력 받은 숫자들의 합: 48\n",
            "입력 받은 숫자들의 평균: 9.6\n",
            "가장 큰 숫자: 15\n",
            "가장 작은 숫자: 3\n"
          ],
          "name": "stdout"
        }
      ]
    },
    {
      "cell_type": "markdown",
      "metadata": {
        "id": "KvFVlTtNHbpL"
      },
      "source": [
        "# 실습 4-2"
      ]
    },
    {
      "cell_type": "code",
      "metadata": {
        "id": "-mGiPbU_IAD_"
      },
      "source": [
        "import time\n",
        "import random\n",
        "trial=0\n",
        "while trial==0 or trial=='yes' or trial=='y':\n",
        "  print('You are in a land full of dragons.')\n",
        "  time.sleep(1)\n",
        "  print('In front of you, you see two caves.')\n",
        "  time.sleep(1)\n",
        "  print('In one cave, the dragon is friendly,')\n",
        "  time.sleep(1)\n",
        "  print('and will share his treasure with you.')\n",
        "  time.sleep(1)\n",
        "  print('The other dragon is greedy and hungry,')\n",
        "  time.sleep(1)\n",
        "  print('and will eat you on sight.')\n",
        "  time.sleep(1)\n",
        "  answer=int(input('Which cave will you go into? (1 or 2)'))\n",
        "  while answer!=1 and answer!=2:\n",
        "    answer=input('Which cave will you go into? (1 or 2)')\n",
        "  print('\\nYou approach the cave…')\n",
        "  time.sleep(1)\n",
        "  print('It is dark and spooky...')\n",
        "  time.sleep(1)\n",
        "  print('A large dragon jumps out in front of you!')\n",
        "  time.sleep(1)\n",
        "  print('He opens his jaws and...')\n",
        "  time.sleep(1)\n",
        "  cave=random.randint(1,2)\n",
        "  if answer==cave:\n",
        "    print('Gives you his treasure!')\n",
        "    time.sleep(1)\n",
        "    print('''\n",
        "                                __/>^^^;:,'\n",
        "              .    \\'    ,      /-.       :,/|/|'\n",
        "                _______     __/ ^         :,/ \\__'\n",
        "            _ ./_|___|_\\. _(~             ;/ /  /'\n",
        "                \\ \\   / /    `-\\'--._       / / ,<  ___'\n",
        "                \\ \\' \\' /   ,__.   /=\\     /  _/  >|_\\'.'\n",
        "                  \\ \" /     `_ `--------\\'    __ / \\',\\ \\\\'\n",
        "                  \\./   ,_// ,---_____,   ,_  \\_  ,| |'\n",
        "                    V     `--\\' |=|           \\._/ ,/  |'\n",
        "                                \\=\\            `,,/   |'\n",
        "                                \\=\\            ||    /'\n",
        "                                  \\=\\____       |\\    \\\\'\n",
        "                                  / \\/    `     <__)    \\\\'\n",
        "                                  | |                    |'\n",
        "                                ,__\\,\\                   /'\n",
        "                              ,--____>    /\\.         ./'\n",
        "                              \\'-__________>  \\.______/'\n",
        "          ''')\n",
        "  else:\n",
        "    print('will gobble you down in one bite!')\n",
        "    time.sleep(1)\n",
        "    print('''\n",
        "                (  )   /\\   _                 (    ' \n",
        "                \\ |  (  \\ ( \\.(               )                      _____'\n",
        "              \\  \\ \\  `  `   ) \\             (  ___                 / _   \\\\'\n",
        "              (_`    \\+   . x  ( .\\            \\/   \\____-----------/ (o)   \\_'\n",
        "            - .-               \\+  ;          (  O                           \\____'\n",
        "                                      )        \\_____________  `              \\  /'\n",
        "            (__                +- .( -\\'.- <. - _  VVVVVVV VV V\\                 \\/'\n",
        "            (_____            ._._: <_ - <- _  (--  _AAAAAAA__A_/                  |'\n",
        "              .    /./.+-  . .- /  +--  - .     \\______________//_              \\_______'\n",
        "              (__ \\' /x  / x _/ (                                  \\___\\'          \\     /'\n",
        "              , x / ( \\'  . / .  /                                      |           \\   /'\n",
        "                /  /  _/ /    +                                      /              \\/'\n",
        "              \\'  (__/                                             /                  \\\\'\n",
        "          ''')\n",
        "    dragonhp=100\n",
        "    power=random.randint(1,30)\n",
        "    time.sleep(1)\n",
        "    print('The dragon has 100 HP.')\n",
        "    time.sleep(1)\n",
        "    print('Your power is {}.'.format(power))\n",
        "    time.sleep(1)\n",
        "    input('Push ENTER key and attack.')\n",
        "    trial2=1\n",
        "    dragonhp-=power\n",
        "    print('The dragon has {} HP now.'.format(dragonhp))\n",
        "    while dragonhp>0 and trial2<=5:\n",
        "        input('Push the ENTER key and attack again.')\n",
        "        trial2+=1\n",
        "        dragonhp-=power\n",
        "        time.sleep(1)\n",
        "        print('The dragon has {} HP now.'.format(dragonhp))\n",
        "        time.sleep(1)\n",
        "    if dragonhp<=0:\n",
        "        print('The dragon is dead. YOU WIN!')\n",
        "    else:\n",
        "        print('The dragon gobbles you down in one bite! YOU LOSE!')\n",
        "  trial=input('Do you want to play again?(yes or no)')\n",
        "  print()\n",
        "print('Thank you!')  \n",
        "\n",
        "\n"
      ],
      "execution_count": null,
      "outputs": []
    },
    {
      "cell_type": "markdown",
      "metadata": {
        "id": "4pFjmIi3Wimd"
      },
      "source": [
        ""
      ]
    },
    {
      "cell_type": "markdown",
      "metadata": {
        "id": "Ujj7ySm6W9x-"
      },
      "source": [
        "# 실습 5"
      ]
    },
    {
      "cell_type": "code",
      "metadata": {
        "colab": {
          "base_uri": "https://localhost:8080/"
        },
        "id": "ciZHgBAhW-_T",
        "outputId": "48cb61d9-5fb0-4ce1-c0cd-813856034c05"
      },
      "source": [
        "prodList=['커피', '우유', '바나나', '감귤', '화장지', '장갑', '이불', '베개', '장난감', '음료수', '빵']\n",
        "print('상품재고관리 프로그램\\n')\n",
        "admin=int(input('상품관리(1. 삽입, 2. 삭제, 3. 상품 확인, 4. 종료): '))\n",
        "while admin!=4:\n",
        "  if admin==1:\n",
        "    prod1=input('상품관리1-삽입) 삽입하고자 하는 상품은? ')\n",
        "    index=int(input('상품관리1-삽입) 삽입하고자 하는 위치는? '))\n",
        "    print(prod1,'삽입 완료')\n",
        "    prodList.insert(index, prod1)\n",
        "    print(prodList)\n",
        "    print()\n",
        "    admin=int(input('상품관리(1. 삽입, 2. 삭제, 3. 상품 확인, 4. 종료): '))\n",
        "  if admin==2:\n",
        "    prod2=input('상품관리2-삭제) 삭제하고자 하는 상품은? ')\n",
        "    print(prod2,'삭제 완료')\n",
        "    prodList.remove(prod2)\n",
        "    print(prodList)\n",
        "    print()\n",
        "    admin=int(input('상품관리(1. 삽입, 2. 삭제, 3. 상품 확인, 4. 종료): '))\n",
        "  if admin==3:\n",
        "    prod3=input('상품관리2-상품 확인) 확인하고자 하는 상품은? ')\n",
        "    if prod3 in prodList:\n",
        "      print(prod3,'검색 완료')\n",
        "      print()\n",
        "      admin=int(input('상품관리(1. 삽입, 2. 삭제, 3. 상품 확인, 4. 종료): '))\n",
        "    else:\n",
        "      print('검색한 상품을 찾지 못하였습니다.')\n",
        "      print()\n",
        "      admin=int(input('상품관리(1. 삽입, 2. 삭제, 3. 상품 확인, 4. 종료): '))\n",
        "print('프로그램을 종료합니다.')\n",
        "\n",
        "\n"
      ],
      "execution_count": null,
      "outputs": [
        {
          "output_type": "stream",
          "text": [
            "상품재고관리 프로그램\n",
            "\n",
            "상품관리(1. 삽입, 2. 삭제, 3. 상품 확인, 4. 종료): 2\n",
            "상품관리2-삭제) 삭제하고자 하는 상품은? 화장지\n",
            "화장지 삭제 완료\n",
            "['커피', '우유', '바나나', '감귤', '장갑', '이불', '베개', '장난감', '음료수', '빵']\n",
            "\n",
            "상품관리(1. 삽입, 2. 삭제, 3. 상품 확인, 4. 종료): 3\n",
            "상품관리2-상품 확인) 확인하고자 하는 상품은? 사과\n",
            "검색한 상품을 찾지 못하였습니다.\n",
            "\n",
            "상품관리(1. 삽입, 2. 삭제, 3. 상품 확인, 4. 종료): 3\n",
            "상품관리2-상품 확인) 확인하고자 하는 상품은? 음료수\n",
            "음료수 검색 완료\n",
            "\n",
            "상품관리(1. 삽입, 2. 삭제, 3. 상품 확인, 4. 종료): 1\n",
            "상품관리1-삽입) 삽입하고자 하는 상품은? 과자\n",
            "상품관리1-삽입) 삽입하고자 하는 위치는? 7\n",
            "과자 삽입 완료\n",
            "['커피', '우유', '바나나', '감귤', '장갑', '이불', '베개', '과자', '장난감', '음료수', '빵']\n",
            "\n",
            "상품관리(1. 삽입, 2. 삭제, 3. 상품 확인, 4. 종료): 4\n",
            "프로그램을 종료합니다.\n"
          ],
          "name": "stdout"
        }
      ]
    },
    {
      "cell_type": "code",
      "metadata": {
        "colab": {
          "base_uri": "https://localhost:8080/"
        },
        "id": "KiQtxl_JfOg8",
        "outputId": "2b9ca0de-cd15-48a0-87ed-23fe5522e940"
      },
      "source": [
        "name=input('In: ')\n",
        "print('=====\\n동이름\\n=====')\n",
        "list1=list(name.split())\n",
        "num=len(list1)\n",
        "count=0\n",
        "while count<=num-1:\n",
        "  list2=list(list1[count])\n",
        "  num2=len(list2)\n",
        "  if list2[num2-1]=='동':\n",
        "    print(list1[count])\n",
        "  count+=1"
      ],
      "execution_count": null,
      "outputs": [
        {
          "output_type": "stream",
          "text": [
            "In: 강동구 노원구 용산구 상암동 서울시 논현동 평창동 중구\n",
            "=====\n",
            "동이름\n",
            "=====\n",
            "상암동\n",
            "논현동\n",
            "평창동\n"
          ],
          "name": "stdout"
        }
      ]
    },
    {
      "cell_type": "code",
      "metadata": {
        "colab": {
          "base_uri": "https://localhost:8080/"
        },
        "id": "NktIs7MCFoJv",
        "outputId": "0d418487-599a-4ab1-f8a3-426c74b06a8e"
      },
      "source": [
        "input1=input('Input: ')\n",
        "list1=list(input1.split())\n",
        "list2=['A', 'a', 'An', 'an', 'The', 'the']\n",
        "count=0\n",
        "while count<=len(list1)-1:\n",
        "  if list1[count] in list2:\n",
        "    del list1[count]\n",
        "  count+=1\n",
        "print(list1)"
      ],
      "execution_count": null,
      "outputs": [
        {
          "output_type": "stream",
          "text": [
            "Input: A gift in season is a double favor to the needy.\n",
            "['gift', 'in', 'season', 'is', 'double', 'favor', 'to', 'needy.']\n"
          ],
          "name": "stdout"
        }
      ]
    },
    {
      "cell_type": "code",
      "metadata": {
        "colab": {
          "base_uri": "https://localhost:8080/"
        },
        "id": "OQJtzRCgHIa_",
        "outputId": "8316776c-62e4-4d56-8cc5-a9a37d0c7f54"
      },
      "source": [
        "import random\n",
        "print('이번 주 컴또 복권!\\n')\n",
        "start=0\n",
        "sum=0\n",
        "while start==0:\n",
        "  num1=input('네 개의 숫자를 입력하세요: ')\n",
        "  list1=list(num1.split(', '))\n",
        "  count1=0\n",
        "  list2=[]\n",
        "  while count1<=3:\n",
        "    num2=random.randint(1,10)\n",
        "    list2.append(num2)\n",
        "    count1+=1\n",
        "  list2.sort()\n",
        "  print('이번 주 컴또 복권 번호는',list2,'입니다.')\n",
        "  count2=0\n",
        "  list3=[]\n",
        "  while count2<=len(list1)-1:\n",
        "    if int(list1[count2])in list2:\n",
        "      list3.append(int(list1[count2]))\n",
        "    count2+=1\n",
        "  list3.sort()\n",
        "  print('맞춘 숫자는', list3, '입니다.')\n",
        "  if len(list3)==4:\n",
        "    print('4개를 맞춰 당첨금은 10000원 입니다.')\n",
        "    num3=10000\n",
        "  elif len(list3)==3:\n",
        "    print('3개를 맞춰 당첨금은 5000원 입니다.')\n",
        "    num3=5000\n",
        "  else:\n",
        "    print(str(len(list3))+'개를 맞춰 당첨금은 없습니다.')\n",
        "    num3=0\n",
        "  re=input('계속 하시겠습니까?: ')\n",
        "  print()\n",
        "  if re=='n' or re=='N':\n",
        "    start=1\n",
        "  sum+=num3\n",
        "print('총 당첨금은 {}원입니다.'.format(sum))  \n",
        "\n"
      ],
      "execution_count": null,
      "outputs": [
        {
          "output_type": "stream",
          "text": [
            "이번 주 컴또 복권!\n",
            "\n",
            "네 개의 숫자를 입력하세요: 2, 5, 7, 9\n",
            "이번 주 컴또 복권 번호는 [2, 3, 7, 8] 입니다.\n",
            "맞춘 숫자는 [2, 7] 입니다.\n",
            "2개를 맞춰 당첨금은 없습니다.\n",
            "계속 하시겠습니까?: y\n",
            "\n",
            "네 개의 숫자를 입력하세요: 2, 3, 5, 7\n",
            "이번 주 컴또 복권 번호는 [3, 4, 6, 9] 입니다.\n",
            "맞춘 숫자는 [3] 입니다.\n",
            "1개를 맞춰 당첨금은 없습니다.\n",
            "계속 하시겠습니까?: y\n",
            "\n",
            "네 개의 숫자를 입력하세요: 2, 3, 4, 5\n",
            "이번 주 컴또 복권 번호는 [2, 3, 5, 7] 입니다.\n",
            "맞춘 숫자는 [2, 3, 5] 입니다.\n",
            "3개를 맞춰 당첨금은 5000원 입니다.\n",
            "계속 하시겠습니까?: y\n",
            "\n",
            "네 개의 숫자를 입력하세요: 2, 3, 4, 5\n",
            "이번 주 컴또 복권 번호는 [2, 3, 5, 10] 입니다.\n",
            "맞춘 숫자는 [2, 3, 5] 입니다.\n",
            "3개를 맞춰 당첨금은 5000원 입니다.\n",
            "계속 하시겠습니까?: n\n",
            "\n",
            "총 당첨금은 10000원입니다.\n"
          ],
          "name": "stdout"
        }
      ]
    },
    {
      "cell_type": "code",
      "metadata": {
        "colab": {
          "base_uri": "https://localhost:8080/"
        },
        "id": "4Q98R3bzQ5KS",
        "outputId": "a185f71f-7383-4baa-c858-d7c972f51296"
      },
      "source": [
        "import random\n",
        "list1=['꿈을 지녀라. 그러면 어려운 현실을 이길 수 있다.', '고생없이 얻을 수 있는 진실로 귀중핚 것은 하나도 없다.',\n",
        "       '사람은 사랑할 때 누구나 시인이 된다.', '시작이 반이다.', '나는 사랑으로 내가 이해하는 모든 것들을 이해한다.']\n",
        "print('''================================\n",
        "         오늘의 명언\n",
        "================================''')\n",
        "print(list1[random.randint(0,4)])\n"
      ],
      "execution_count": null,
      "outputs": [
        {
          "output_type": "stream",
          "text": [
            "================================\n",
            "         오늘의 명언\n",
            "================================\n",
            "사람은 사랑할 때 누구나 시인이 된다.\n"
          ],
          "name": "stdout"
        }
      ]
    },
    {
      "cell_type": "code",
      "metadata": {
        "colab": {
          "base_uri": "https://localhost:8080/"
        },
        "id": "Kx6In7nASLCH",
        "outputId": "7e0ee74d-1c3a-46d0-9b53-2fa696bb1c02"
      },
      "source": [
        "name=input()\n",
        "print('정렬된 데이터')\n",
        "list1=list(name.split())\n",
        "list1.sort()\n",
        "print(list1)"
      ],
      "execution_count": null,
      "outputs": [
        {
          "output_type": "stream",
          "text": [
            "강동구 노원구 용산구 중구 관악구 중랑구 동대문구 서대문구\n",
            "정렬된 데이터\n",
            "['강동구', '관악구', '노원구', '동대문구', '서대문구', '용산구', '중구', '중랑구']\n"
          ],
          "name": "stdout"
        }
      ]
    },
    {
      "cell_type": "code",
      "metadata": {
        "colab": {
          "base_uri": "https://localhost:8080/"
        },
        "id": "UeUEqyqtS_O5",
        "outputId": "717d38f4-03c6-4c4f-d736-a95518ba716c"
      },
      "source": [
        "name=input()\n",
        "print('정렬된 데이터')\n",
        "list1=list(name.split())\n",
        "list1.sort()\n",
        "print(list1)\n",
        "print()\n",
        "name2=input('지역구이름: ')\n",
        "print(list1[:list1.index(name2)+1])\n"
      ],
      "execution_count": null,
      "outputs": [
        {
          "output_type": "stream",
          "text": [
            "강동구 노원구 용산구 중구 관악구 중랑구 동대문구 서대문구\n",
            "정렬된 데이터\n",
            "['강동구', '관악구', '노원구', '동대문구', '서대문구', '용산구', '중구', '중랑구']\n",
            "\n",
            "지역구이름: 서대문구\n",
            "['강동구', '관악구', '노원구', '동대문구', '서대문구']\n"
          ],
          "name": "stdout"
        }
      ]
    },
    {
      "cell_type": "code",
      "metadata": {
        "colab": {
          "base_uri": "https://localhost:8080/"
        },
        "id": "VvNR2ASCVMJx",
        "outputId": "dc3e4ce6-c95e-4328-fa50-ea6b40d98118"
      },
      "source": [
        "list1=['02-334-0000', '서울시', '노원구', '행복동', '가즈아로', '낙엽', '패딩점퍼']\n",
        "count=0\n",
        "list2=[]\n",
        "while count<=len(list1)-1:\n",
        "  list3=list(list1[count])\n",
        "  if list3[-1]=='시' or list3[-1]=='구' or list3[-1]=='동' or list3[-1]=='로':\n",
        "    list2.append(list1[count])\n",
        "  count+=1\n",
        "print(list2)"
      ],
      "execution_count": null,
      "outputs": [
        {
          "output_type": "stream",
          "text": [
            "['서울시', '노원구', '행복동', '가즈아로']\n"
          ],
          "name": "stdout"
        }
      ]
    },
    {
      "cell_type": "code",
      "metadata": {
        "colab": {
          "base_uri": "https://localhost:8080/"
        },
        "id": "dhJ5GOJwWQij",
        "outputId": "cc4610ea-ad56-4258-80f1-3d883c91381f"
      },
      "source": [
        "input('학생들의 이름 입력(,로 구분): ')\n",
        "grade=input('학생들의 국어성적 입력(,로 구분): ')\n",
        "list1=list(grade.split(','))\n",
        "sum=0\n",
        "count=0\n",
        "while count<=len(list1)-1:\n",
        "  sum+=int(list1[count])\n",
        "  count+=1\n",
        "print('\\nSum: {}'.format(sum))"
      ],
      "execution_count": null,
      "outputs": [
        {
          "output_type": "stream",
          "text": [
            "학생들의 이름 입력(,로 구분): 영희,철수,미나\n",
            "학생들의 국어성적 입력(,로 구분): 90,80,95\n",
            "\n",
            "Sum: 265\n"
          ],
          "name": "stdout"
        }
      ]
    },
    {
      "cell_type": "code",
      "metadata": {
        "colab": {
          "base_uri": "https://localhost:8080/"
        },
        "id": "ML77LO34XFyE",
        "outputId": "2ab677ff-82f8-40e0-8f04-9e1ccd94efcf"
      },
      "source": [
        "input1=input()\n",
        "list1=list(input1.split())\n",
        "print('\\ncount: {}'.format(len(list1)))"
      ],
      "execution_count": null,
      "outputs": [
        {
          "output_type": "stream",
          "text": [
            "ant baboon badger bat bear beaver camel cat clam cobra cougar coyote crow deer dog donkey duck eagle ferret fox frog goat goose hawk lion lizard llama mole monkey moose mouse mule newt otter owl panda parrot pigeon python rabbit ram rat raven rhino salmon seal shark sheep skunk sloth snake spider stork swan tiger toad trout turkey turtle weasel whale wolf zebra\n",
            "\n",
            "count: 63\n"
          ],
          "name": "stdout"
        }
      ]
    },
    {
      "cell_type": "code",
      "metadata": {
        "colab": {
          "base_uri": "https://localhost:8080/"
        },
        "id": "v_4xoSyAXhYJ",
        "outputId": "a3905365-1a14-4249-fafa-6bca79a9aca3"
      },
      "source": [
        "input1=input()\n",
        "list1=list(input1.split())\n",
        "num=len(list1)\n",
        "print('\\ncount: {}'.format(num))\n",
        "print(list(range(num)))"
      ],
      "execution_count": null,
      "outputs": [
        {
          "output_type": "stream",
          "text": [
            "ant baboon badger bat bear beaver camel cat clam cobra cougar coyote crow deer dog donkey duck eagle ferret fox frog goat goose hawk lion lizard llama mole monkey moose mouse mule newt otter owl panda parrot pigeon python rabbit ram rat raven rhino salmon seal shark sheep skunk sloth snake spider stork swan tiger toad trout turkey turtle weasel whale wolf zebra\n",
            "\n",
            "count: 63\n",
            "[0, 1, 2, 3, 4, 5, 6, 7, 8, 9, 10, 11, 12, 13, 14, 15, 16, 17, 18, 19, 20, 21, 22, 23, 24, 25, 26, 27, 28, 29, 30, 31, 32, 33, 34, 35, 36, 37, 38, 39, 40, 41, 42, 43, 44, 45, 46, 47, 48, 49, 50, 51, 52, 53, 54, 55, 56, 57, 58, 59, 60, 61, 62]\n"
          ],
          "name": "stdout"
        }
      ]
    },
    {
      "cell_type": "markdown",
      "metadata": {
        "id": "RZibCJstqBTc"
      },
      "source": [
        "# 실습 6"
      ]
    },
    {
      "cell_type": "code",
      "metadata": {
        "colab": {
          "base_uri": "https://localhost:8080/"
        },
        "id": "ODhJCmewqG3a",
        "outputId": "3166f81f-4b28-482c-b84e-c73b63f6fa90"
      },
      "source": [
        "def login(pwd):\n",
        "  if pwd=='pythonisfun':\n",
        "    return True\n",
        "  else:\n",
        "    return False\n",
        "password=''\n",
        "while login(password)==False:\n",
        "  password=input('암호를 입력하시오: ')\n",
        "print('로그인 성공')\n"
      ],
      "execution_count": null,
      "outputs": [
        {
          "output_type": "stream",
          "text": [
            "암호를 입력하시오: password\n",
            "암호를 입력하시오: hello\n",
            "암호를 입력하시오: abcdefg\n",
            "암호를 입력하시오: 1234567\n",
            "암호를 입력하시오: pythonisfun\n",
            "로그인 성공\n"
          ],
          "name": "stdout"
        }
      ]
    },
    {
      "cell_type": "code",
      "metadata": {
        "colab": {
          "base_uri": "https://localhost:8080/"
        },
        "id": "pRS81kB2xoaP",
        "outputId": "c3a19951-f92c-4458-9901-c67b835e6b78"
      },
      "source": [
        "def sum(num):\n",
        "  count=0\n",
        "  total=0\n",
        "  while count<=num:\n",
        "    total+=count\n",
        "    count+=1\n",
        "  return total\n",
        "  \n",
        "print('수를 입력하세요.')\n",
        "num=input()\n",
        "if int(num)>=1:\n",
        "  print('1부터 {}까지의 합은 {}'.format(num, sum(int(num))))\n",
        "else:\n",
        "  print('1 이상의 수를 입력하셔야 합니다.')"
      ],
      "execution_count": null,
      "outputs": [
        {
          "output_type": "stream",
          "text": [
            "수를 입력하세요.\n",
            "-50\n",
            "1 이상의 수를 입력하셔야 합니다.\n"
          ],
          "name": "stdout"
        }
      ]
    },
    {
      "cell_type": "code",
      "metadata": {
        "id": "1SKw6bLYze7j",
        "colab": {
          "base_uri": "https://localhost:8080/"
        },
        "outputId": "372107a5-430f-4228-ea6d-35f9f1d9a3fb"
      },
      "source": [
        "def plus(x, y):\n",
        "  return x+y\n",
        "def minus(x, y):\n",
        "  return x-y\n",
        "def multiply(x, y):\n",
        "  return x*y\n",
        "def division(x, y):\n",
        "  return x/y\n",
        "  \n",
        "while True:\n",
        "  num=input('두 개의 숫자를 입력하세요: ')\n",
        "  list1=list(num.split(', '))\n",
        "  cal=input('필요한 연산의 연산자를 입력하세요: ')\n",
        "  x=list1[0]\n",
        "  y=list1[1]\n",
        "  if cal=='+':\n",
        "    print('{}+{}={}'.format(x, y, plus(int(x), int(y))))\n",
        "  elif cal=='-':\n",
        "    print('{}-{}={}'.format(x, y, minus(int(x), int(y))))\n",
        "  elif cal=='*':\n",
        "    print('{}*{}={}'.format(x, y, multiply(int(x), int(y))))\n",
        "  elif cal=='/':\n",
        "    print('{}/{}={}'.format(x, y, division(int(x), int(y))))\n",
        "  else:\n",
        "    break\n"
      ],
      "execution_count": null,
      "outputs": [
        {
          "output_type": "stream",
          "text": [
            "두 개의 숫자를 입력하세요: 43167, 4389847\n",
            "필요한 연산의 연산자를 입력하세요: +\n",
            "43167+4389847=4433014\n",
            "두 개의 숫자를 입력하세요: 7289864, 354287\n",
            "필요한 연산의 연산자를 입력하세요: 그만\n"
          ],
          "name": "stdout"
        }
      ]
    },
    {
      "cell_type": "code",
      "metadata": {
        "colab": {
          "base_uri": "https://localhost:8080/"
        },
        "id": "Sb3y00ixa5g5",
        "outputId": "0634fee4-7476-40d1-f3ac-bb119c67b935"
      },
      "source": [
        "prodList=['커피', '우유', '바나나', '감귤', '화장지', '장갑', '이불', '베개', '장난감', '음료수', '빵']\n",
        "def insert():\n",
        "  prod1=input('상품관리1-삽입) 삽입하고자 하는 상품은? ')\n",
        "  index=int(input('상품관리1-삽입) 삽입하고자 하는 위치는? '))\n",
        "  print(prod1,'삽입 완료')\n",
        "  prodList.insert(index, prod1)\n",
        "  print(prodList)\n",
        "  print()\n",
        "  return\n",
        "def search(x):\n",
        "  if x in prodList:\n",
        "    return True\n",
        "  else:\n",
        "    return False\n",
        "def remove():\n",
        "  prod2=input('상품관리2-삭제) 삭제하고자 하는 상품은? ')\n",
        "  if search(prod2)==True:\n",
        "    print(prod2,'삭제 완료')\n",
        "    prodList.remove(prod2)\n",
        "    print(prodList)\n",
        "    print()\n",
        "  else:\n",
        "    print('삭제하고자 하는 상품이 없습니다.')\n",
        "    print()\n",
        "\n",
        "print('상품재고관리 프로그램\\n')\n",
        "print(prodList)\n",
        "while True:\n",
        "  admin=int(input('상품관리(1. 삽입, 2. 삭제, 3. 상품 확인, 4. 종료): '))\n",
        "  if admin==1:\n",
        "    insert()\n",
        "  elif admin==2:\n",
        "    remove()\n",
        "  elif admin==3:\n",
        "    prod3=input('상품관리2-상품 확인) 확인하고자 하는 상품은? ')\n",
        "    if search(prod3)==True:\n",
        "      print(prod3,'검색 완료')\n",
        "      print()\n",
        "    else:\n",
        "      print('검색한 상품을 찾지 못하였습니다.')\n",
        "      print()\n",
        "  else:\n",
        "    print('프로그램을 종료합니다.')\n",
        "    break"
      ],
      "execution_count": null,
      "outputs": [
        {
          "output_type": "stream",
          "text": [
            "상품재고관리 프로그램\n",
            "\n",
            "['커피', '우유', '바나나', '감귤', '화장지', '장갑', '이불', '베개', '장난감', '음료수', '빵']\n",
            "상품관리(1. 삽입, 2. 삭제, 3. 상품 확인, 4. 종료): 3\n",
            "상품관리2-상품 확인) 확인하고자 하는 상품은? 감\n",
            "검색한 상품을 찾지 못하였습니다.\n",
            "\n",
            "상품관리(1. 삽입, 2. 삭제, 3. 상품 확인, 4. 종료): 4\n",
            "프로그램을 종료합니다.\n"
          ],
          "name": "stdout"
        }
      ]
    },
    {
      "cell_type": "code",
      "metadata": {
        "colab": {
          "base_uri": "https://localhost:8080/"
        },
        "id": "pr3GOI0GiZdP",
        "outputId": "5dfb89cd-8d85-4509-ad22-bb8c44aa0072"
      },
      "source": [
        "import time\n",
        "import random\n",
        "def intro1():\n",
        "  print('You are in a land full of dragons.')\n",
        "  time.sleep(1)\n",
        "  print('In front of you, you see two caves.')\n",
        "  time.sleep(1)\n",
        "  print('In one cave, the dragon is friendly,')\n",
        "  time.sleep(1)\n",
        "  print('and will share his treasure with you.')\n",
        "  time.sleep(1)\n",
        "  print('The other dragon is greedy and hungry,')\n",
        "  time.sleep(1)\n",
        "  print('and will eat you on sight.')\n",
        "  time.sleep(1)\n",
        "def chooseCave():\n",
        "  return int(input('Which cave will you go into? (1 or 2)'))\n",
        "def checkCave(x):\n",
        "  cave=random.randint(1,2)\n",
        "  if x==cave:\n",
        "    return True\n",
        "  else:\n",
        "    return False\n",
        "def intro2(x):\n",
        "  print('\\nYou approach the cave…')\n",
        "  time.sleep(1)\n",
        "  print('It is dark and spooky...')\n",
        "  time.sleep(1)\n",
        "  print('A large dragon jumps out in front of you!')\n",
        "  time.sleep(1)\n",
        "  print('He opens his jaws and...')\n",
        "  time.sleep(1)\n",
        "  if x==True:\n",
        "    print('Gives you his treasure!')\n",
        "    time.sleep(1)\n",
        "    print('''\n",
        "                                __/>^^^;:,'\n",
        "              .    \\'    ,      /-.       :,/|/|'\n",
        "                _______     __/ ^         :,/ \\__'\n",
        "            _ ./_|___|_\\. _(~             ;/ /  /'\n",
        "                \\ \\   / /    `-\\'--._       / / ,<  ___'\n",
        "                \\ \\' \\' /   ,__.   /=\\     /  _/  >|_\\'.'\n",
        "                  \\ \" /     `_ `--------\\'    __ / \\',\\ \\\\'\n",
        "                  \\./   ,_// ,---_____,   ,_  \\_  ,| |'\n",
        "                    V     `--\\' |=|           \\._/ ,/  |'\n",
        "                                \\=\\            `,,/   |'\n",
        "                                \\=\\            ||    /'\n",
        "                                  \\=\\____       |\\    \\\\'\n",
        "                                  / \\/    `     <__)    \\\\'\n",
        "                                  | |                    |'\n",
        "                                ,__\\,\\                   /'\n",
        "                              ,--____>    /\\.         ./'\n",
        "                              \\'-__________>  \\.______/'\n",
        "          ''')\n",
        "  else:\n",
        "    print('will gobble you down in one bite!')\n",
        "    time.sleep(1)\n",
        "    print('''\n",
        "                (  )   /\\   _                 (    ' \n",
        "                \\ |  (  \\ ( \\.(               )                      _____'\n",
        "              \\  \\ \\  `  `   ) \\             (  ___                 / _   \\\\'\n",
        "              (_`    \\+   . x  ( .\\            \\/   \\____-----------/ (o)   \\_'\n",
        "            - .-               \\+  ;          (  O                           \\____'\n",
        "                                      )        \\_____________  `              \\  /'\n",
        "            (__                +- .( -\\'.- <. - _  VVVVVVV VV V\\                 \\/'\n",
        "            (_____            ._._: <_ - <- _  (--  _AAAAAAA__A_/                  |'\n",
        "              .    /./.+-  . .- /  +--  - .     \\______________//_              \\_______'\n",
        "              (__ \\' /x  / x _/ (                                  \\___\\'          \\     /'\n",
        "              , x / ( \\'  . / .  /                                      |           \\   /'\n",
        "                /  /  _/ /    +                                      /              \\/'\n",
        "              \\'  (__/                                             /                  \\\\'\n",
        "          ''')\n",
        "    dragonhp=100\n",
        "    power=random.randint(1,30)\n",
        "    time.sleep(1)\n",
        "    print('The dragon has 100 HP.')\n",
        "    time.sleep(1)\n",
        "    print('Your power is {}.'.format(power))\n",
        "    time.sleep(1)\n",
        "    input('Push ENTER key and attack.')\n",
        "    trial2=1\n",
        "    dragonhp-=power\n",
        "    print('The dragon has {} HP now.'.format(dragonhp))\n",
        "    while dragonhp>0 and trial2<=5:\n",
        "        input('Push the ENTER key and attack again.')\n",
        "        trial2+=1\n",
        "        dragonhp-=power\n",
        "        time.sleep(1)\n",
        "        print('The dragon has {} HP now.'.format(dragonhp))\n",
        "        time.sleep(1)\n",
        "    if dragonhp<=0:\n",
        "        print('The dragon is dead. YOU WIN!')\n",
        "    else:\n",
        "        print('The dragon gobbles you down in one bite! YOU LOSE!')\n",
        "\n",
        "trial=0\n",
        "while trial==0 or trial=='yes' or trial=='y':\n",
        "  intro1()\n",
        "  intro2(checkCave(chooseCave()))\n",
        "  trial=input('Do you want to play again?(yes or no)')\n",
        "  print()\n",
        "print('Thank you!')  \n",
        "\n",
        "\n",
        "\n",
        "  "
      ],
      "execution_count": null,
      "outputs": [
        {
          "output_type": "stream",
          "text": [
            "You are in a land full of dragons.\n",
            "In front of you, you see two caves.\n",
            "In one cave, the dragon is friendly,\n",
            "and will share his treasure with you.\n",
            "The other dragon is greedy and hungry,\n",
            "and will eat you on sight.\n",
            "Which cave will you go into? (1 or 2)1\n",
            "\n",
            "You approach the cave…\n",
            "It is dark and spooky...\n",
            "A large dragon jumps out in front of you!\n",
            "He opens his jaws and...\n",
            "Gives you his treasure!\n",
            "\n",
            "                                __/>^^^;:,'\n",
            "              .    '    ,      /-.       :,/|/|'\n",
            "                _______     __/ ^         :,/ \\__'\n",
            "            _ ./_|___|_\\. _(~             ;/ /  /'\n",
            "                \\ \\   / /    `-'--._       / / ,<  ___'\n",
            "                \\ ' ' /   ,__.   /=\\     /  _/  >|_'.'\n",
            "                  \\ \" /     `_ `--------'    __ / ',\\ \\'\n",
            "                  \\./   ,_// ,---_____,   ,_  \\_  ,| |'\n",
            "                    V     `--' |=|           \\._/ ,/  |'\n",
            "                                \\=\\            `,,/   |'\n",
            "                                \\=\\            ||    /'\n",
            "                                  \\=\\____       |\\    \\'\n",
            "                                  / \\/    `     <__)    \\'\n",
            "                                  | |                    |'\n",
            "                                ,__\\,\\                   /'\n",
            "                              ,--____>    /\\.         ./'\n",
            "                              '-__________>  \\.______/'\n",
            "          \n",
            "Do you want to play again?(yes or no)y\n",
            "\n",
            "You are in a land full of dragons.\n",
            "In front of you, you see two caves.\n",
            "In one cave, the dragon is friendly,\n",
            "and will share his treasure with you.\n",
            "The other dragon is greedy and hungry,\n",
            "and will eat you on sight.\n",
            "Which cave will you go into? (1 or 2)1\n",
            "\n",
            "You approach the cave…\n",
            "It is dark and spooky...\n",
            "A large dragon jumps out in front of you!\n",
            "He opens his jaws and...\n",
            "will gobble you down in one bite!\n",
            "\n",
            "                (  )   /\\   _                 (    ' \n",
            "                \\ |  (  \\ ( \\.(               )                      _____'\n",
            "              \\  \\ \\  `  `   ) \\             (  ___                 / _   \\'\n",
            "              (_`    \\+   . x  ( .\\            \\/   \\____-----------/ (o)   \\_'\n",
            "            - .-               \\+  ;          (  O                           \\____'\n",
            "                                      )        \\_____________  `              \\  /'\n",
            "            (__                +- .( -'.- <. - _  VVVVVVV VV V\\                 \\/'\n",
            "            (_____            ._._: <_ - <- _  (--  _AAAAAAA__A_/                  |'\n",
            "              .    /./.+-  . .- /  +--  - .     \\______________//_              \\_______'\n",
            "              (__ ' /x  / x _/ (                                  \\___'          \\     /'\n",
            "              , x / ( '  . / .  /                                      |           \\   /'\n",
            "                /  /  _/ /    +                                      /              \\/'\n",
            "              '  (__/                                             /                  \\'\n",
            "          \n",
            "The dragon has 100 HP.\n",
            "Your power is 11.\n",
            "Push ENTER key and attack.\n",
            "The dragon has 89 HP now.\n",
            "Push the ENTER key and attack again.\n",
            "The dragon has 78 HP now.\n",
            "Push the ENTER key and attack again.\n",
            "The dragon has 67 HP now.\n",
            "Push the ENTER key and attack again.\n",
            "The dragon has 56 HP now.\n",
            "Push the ENTER key and attack again.\n",
            "The dragon has 45 HP now.\n",
            "Push the ENTER key and attack again.\n",
            "The dragon has 34 HP now.\n",
            "The dragon gobbles you down in one bite! YOU LOSE!\n",
            "Do you want to play again?(yes or no)n\n",
            "\n",
            "Thank you!\n"
          ],
          "name": "stdout"
        }
      ]
    },
    {
      "cell_type": "markdown",
      "metadata": {
        "id": "9Tsh6ro56_-1"
      },
      "source": [
        "# 실습 7-1"
      ]
    },
    {
      "cell_type": "code",
      "metadata": {
        "colab": {
          "base_uri": "https://localhost:8080/"
        },
        "id": "dJKHGtgf7DHv",
        "outputId": "0a10cef2-2ed8-4d54-b0cf-212cf66f23cd"
      },
      "source": [
        "import random\n",
        "color = ['black', 'grey', 'white', 'pink', 'orange']\n",
        "topwears = ['sweater', 'shirts', 'blouse', 'jacket']\n",
        "bottomwears = ['skirt', 'pants', 'leggings', 'jeans']\n",
        "accessory = ['hat', 'tie', 'scarf', 'shoes']\n",
        "\n",
        "for count in [1, 2, 3]:\n",
        "  print('오늘의 패션 {}번 추천 조합입니다.'.format(count))\n",
        "  print(color[random.randint(0,4)], topwears[random.randint(0,3)])\n",
        "  print(color[random.randint(0,4)], bottomwears[random.randint(0,3)])\n",
        "  print(color[random.randint(0,4)], accessory[random.randint(0,3)])\n",
        "  print()"
      ],
      "execution_count": null,
      "outputs": [
        {
          "output_type": "stream",
          "text": [
            "오늘의 패션 1번 추천 조합입니다.\n",
            "pink shirts\n",
            "pink pants\n",
            "pink scarf\n",
            "\n",
            "오늘의 패션 2번 추천 조합입니다.\n",
            "pink shirts\n",
            "white skirt\n",
            "grey tie\n",
            "\n",
            "오늘의 패션 3번 추천 조합입니다.\n",
            "white sweater\n",
            "pink pants\n",
            "pink tie\n",
            "\n"
          ],
          "name": "stdout"
        }
      ]
    },
    {
      "cell_type": "code",
      "metadata": {
        "colab": {
          "base_uri": "https://localhost:8080/"
        },
        "id": "s3NHLTfN8UBQ",
        "outputId": "5a56b405-5ec0-4bf6-e2ae-29a8b8f258bf"
      },
      "source": [
        "divisor = 3\n",
        "list1=[]\n",
        "for i in range(3, 100, 2) :\n",
        "  for divisor in range(3, i, 2) :\n",
        "    if (i % divisor) == 0 :\n",
        "      break\n",
        "  if divisor >= (i - 2) :\n",
        "    list1.append(i)\n",
        "\n",
        "print(list1)"
      ],
      "execution_count": null,
      "outputs": [
        {
          "output_type": "stream",
          "text": [
            "[3, 5, 7, 11, 13, 17, 19, 23, 29, 31, 37, 41, 43, 47, 53, 59, 61, 67, 71, 73, 79, 83, 89, 97]\n"
          ],
          "name": "stdout"
        }
      ]
    },
    {
      "cell_type": "code",
      "metadata": {
        "id": "HsQ4X-kiSLlc"
      },
      "source": [
        "def checkPrime(num) :\n",
        "  for divisor in range(2, num) :\n",
        "    if (num % divisor) == 0 :\n",
        "      return False\n",
        "  return True\n",
        "\n",
        "max_number = input('원하는 수를 입력해 주세요 : ')\n",
        "max_number = int(max_number)\n",
        "list1=[]\n",
        "\n",
        "for i in range(2, max_number) :\n",
        "  if checkPrime(i) == True :\n",
        "    list1.append(i)\n",
        "\n",
        "print(list1)"
      ],
      "execution_count": null,
      "outputs": []
    },
    {
      "cell_type": "code",
      "metadata": {
        "id": "0FsIO1PpSygK"
      },
      "source": [
        "import random\n",
        "print('''=숫자야구게임방법=\n",
        "0~9사이에서 비밀 숫자 3개가 만들어집니다.\n",
        "당신은 10번의 기회 안에 비밀 숫자 3개를 guess하여 숫자와 자리를 정확히 맞추시면 게임에서 이깁니다.\n",
        "\n",
        "guess한 숫자 가운데 일부가 비밀 숫자에 포함되어 있고, 자리가 동일할 경우 그 개수에 따라 1 or 2 strike(s)\n",
        "guess한 숫자 가운데 일부가 비밀 숫자에 포함되어 있지만 자리가 상이할 경우 그 개수에 따라 1 or 2 or 3 ball(s)이 됩니다.\n",
        "Guess한 숫자 모두가 비밀 숫자와 다른 경우 out!!\n",
        "\n",
        "게임에서 이기면 프로그램이 종료됩니다.\n",
        "기회를 모두 소진하면 비밀 숫자를 알려주고 종료합니다.\\n''')\n",
        "\n",
        "target_num = random.sample(range(0, 10), 3)\n",
        "\n",
        "print('숫자야구게임을 시작합니다')\n",
        "print()\n",
        "trial_count = 0\n",
        "\n",
        "while True :\n",
        "  input_num = input('숫자 3개를 입력하세요(예 3 5 8) ')\n",
        "  input_num = input_num.split()\n",
        "  trial_count = trial_count + 1\n",
        "\n",
        "  strike_count = 0\n",
        "  ball_count = 0\n",
        "\n",
        "  for i in range(0, 3) :\n",
        "    for j in range(0, 3) :\n",
        "      if (int(input_num[i])) == (target_num[j]) :\n",
        "        if (i == j) :\n",
        "          strike_count = strike_count + 1\n",
        "        else :\n",
        "          ball_count = ball_count + 1\n",
        "\n",
        "  if (strike_count == 3) :\n",
        "    print('Home run')\n",
        "    print('게임을 종료합니다.')\n",
        "    break\n",
        "  else :\n",
        "    print(strike_count, 'strike', ball_count, 'ball')\n",
        "\n",
        "  if (trial_count == 10) :\n",
        "    print('기회를 모두 소진하였습니다. 비밀숫자는 ' + str(target_num) + '입니다.')\n",
        "    break"
      ],
      "execution_count": null,
      "outputs": []
    },
    {
      "cell_type": "markdown",
      "metadata": {
        "id": "iphVaWDAWIlg"
      },
      "source": [
        "# 실습 7-2"
      ]
    },
    {
      "cell_type": "code",
      "metadata": {
        "colab": {
          "base_uri": "https://localhost:8080/"
        },
        "id": "XBZIcCCSWJ6D",
        "outputId": "d13fb848-a261-48e9-ec88-925ee8decdb9"
      },
      "source": [
        "tuple1=('초록','빨강','파랑')\n",
        "\n",
        "tuple2 = tuple([7,1,2,23,4,5])\n",
        "\n",
        "print('튜플의 길이는', len(tuple2),'입니다.')\n",
        "print('튜플의 최대값은', max(tuple2),'입니다.')\n",
        "print('튜플의 최소값은', min(tuple2),'입니다.')\n",
        "print('튜플의 합계는', sum(tuple2),'입니다.')\n",
        "\n",
        "#print (tuple2.sort())#에러나옴\n",
        "print()\n",
        "for v in tuple1:\n",
        "  print(v, end='')\n",
        "\n",
        "print()\n",
        "list1=list(tuple2)\n",
        "print(list1)\n",
        "list1.sort() #결과가 출력되지 않는다.\n",
        "print(list1.sort()) #마찬가지로 결과가 출력되지 않는다.\n",
        "print(list1) #결과가 출력된다."
      ],
      "execution_count": null,
      "outputs": [
        {
          "output_type": "stream",
          "text": [
            "튜플의 길이는 6 입니다.\n",
            "튜플의 최대값은 23 입니다.\n",
            "튜플의 최소값은 1 입니다.\n",
            "튜플의 합계는 42 입니다.\n",
            "\n",
            "초록빨강파랑\n",
            "[7, 1, 2, 23, 4, 5]\n",
            "None\n",
            "[1, 2, 4, 5, 7, 23]\n"
          ],
          "name": "stdout"
        }
      ]
    },
    {
      "cell_type": "code",
      "metadata": {
        "id": "p2eFy3AqY0oJ"
      },
      "source": [
        "import os\n",
        "import sys\n",
        "keyWords ={\"and\", \"as\", \"if\", \"default\", \"default\", \"as\", \"like\"}\n",
        "filename = input('소스코드파일명을 입력하세요').strip()\n",
        "if not os.path.isfile(filename):\n",
        "  print(\"파일\" , filename, \"이 존재하지 않습니다.\")\n",
        "  sys.exit()\n",
        "\n",
        "infile = open(filename,'r')\n",
        "\n",
        "text=infile.read().split()\n",
        "count=0\n",
        "for word in text:\n",
        "  if word in keyWords:\n",
        "    count +=1\n",
        "    \n",
        "print(filename, \"에\" , count,'개의 키워드가 포함되어 있습니다.')"
      ],
      "execution_count": null,
      "outputs": []
    },
    {
      "cell_type": "code",
      "metadata": {
        "colab": {
          "base_uri": "https://localhost:8080/"
        },
        "id": "ji9f5jMmYTL4",
        "outputId": "3b950d24-cb30-4bbc-b92e-67ed297f2f4b"
      },
      "source": [
        "store = {'커피' : 7, '펜' : 3, '종이컵' : 2, '우유' : 1, '콜라' : 5, '책' : 5}\n",
        "while True :\n",
        "  print('''-------------------메뉴 ------------\n",
        "1. 재고확인 2. 판매 3. 종료\n",
        "-------------------------------------''')\n",
        "  menu = input('메뉴를 선택하세요: ')\n",
        "\n",
        "  if (menu == '1') :\n",
        "    product = input('물건명 입력: ')\n",
        "    amount = store[product]\n",
        "    print(product + '는 ' + str(amount) + '개 남았습니다.')\n",
        "\n",
        "  elif (menu == '2') :\n",
        "    product = input('물건명 입력: ')\n",
        "    amount_sell = input(product + '의 판매 개수: ')\n",
        "    amount_sell = int(amount_sell)\n",
        "    store[product] = store[product] - amount_sell\n",
        "    amount_left = store[product]\n",
        "    print(product + '는 ' + str(amount_left) + '개 남았습니다.')\n",
        "  else :\n",
        "    break\n",
        "    ㅍ\n",
        "  print()"
      ],
      "execution_count": null,
      "outputs": [
        {
          "output_type": "stream",
          "text": [
            "-------------------메뉴 ------------\n",
            "1. 재고확인 2. 판매 3. 종료\n",
            "-------------------------------------\n",
            "메뉴를 선택하세요: 1\n",
            "물건명 입력: 커피\n",
            "커피는 7개 남았습니다.\n",
            "\n",
            "-------------------메뉴 ------------\n",
            "1. 재고확인 2. 판매 3. 종료\n",
            "-------------------------------------\n",
            "메뉴를 선택하세요: 2\n",
            "물건명 입력: 콜라\n",
            "콜라의 판매 개수: 2\n",
            "콜라는 3개 남았습니다.\n",
            "\n",
            "-------------------메뉴 ------------\n",
            "1. 재고확인 2. 판매 3. 종료\n",
            "-------------------------------------\n",
            "메뉴를 선택하세요: 3\n"
          ],
          "name": "stdout"
        }
      ]
    },
    {
      "cell_type": "code",
      "metadata": {
        "colab": {
          "base_uri": "https://localhost:8080/"
        },
        "id": "V_vRND4IZtug",
        "outputId": "1952630d-6a8b-4990-99ac-11691c881191"
      },
      "source": [
        "words = {}\n",
        "\n",
        "print('''-------------------메뉴----------------------------------------\n",
        "1. 단어 등록 2. 한국어->영어 3. 영어->한국어 4. 종료\n",
        "-----------------------------------------------------------------''')\n",
        "\n",
        "while True :\n",
        "  menu = input('메뉴를 선택하세요: ')\n",
        "\n",
        "  if (menu == '1') :\n",
        "    kor = input('등록할 한국어 단어 입력: ')\n",
        "    eng = input('등록할 영어 단어 입력: ')\n",
        "    words[kor] = eng\n",
        "\n",
        "  elif (menu == '2') :\n",
        "    find = input('검색할 단어: ')\n",
        "    print('영어 : ' + words[find])\n",
        "\n",
        "  elif (menu == '3') :\n",
        "    find = input('검색할 단어: ')\n",
        "    for i in words.keys() :\n",
        "      if (words[i] == find) :\n",
        "        print('한국어 : ' + i)\n",
        "\n",
        "  else :\n",
        "    print('프로그램을 종료합니다.')\n",
        "    break\n",
        "\n",
        "  print()"
      ],
      "execution_count": null,
      "outputs": [
        {
          "output_type": "stream",
          "text": [
            "-------------------메뉴----------------------------------------\n",
            "1. 단어 등록 2. 한국어->영어 3. 영어->한국어 4. 종료\n",
            "-----------------------------------------------------------------\n",
            "메뉴를 선택하세요: 1\n",
            "등록할 한국어 단어 입력: 사과\n",
            "등록할 영어 단어 입력: apple\n",
            "\n",
            "메뉴를 선택하세요: 1\n",
            "등록할 한국어 단어 입력: 기차\n",
            "등록할 영어 단어 입력: train\n",
            "\n",
            "메뉴를 선택하세요: 2\n",
            "검색할 단어: 사과\n",
            "영어 : apple\n",
            "\n",
            "메뉴를 선택하세요: 3\n",
            "검색할 단어: train\n",
            "한국어 : 기차\n",
            "\n",
            "메뉴를 선택하세요: 4\n",
            "프로그램을 종료합니다.\n"
          ],
          "name": "stdout"
        }
      ]
    },
    {
      "cell_type": "markdown",
      "metadata": {
        "id": "4Uk51-dwM0Qq"
      },
      "source": [
        "# 실습 9"
      ]
    },
    {
      "cell_type": "code",
      "metadata": {
        "colab": {
          "base_uri": "https://localhost:8080/",
          "height": 427
        },
        "id": "YHpS9VC3M3Xb",
        "outputId": "9f56b98c-ff2c-4419-bab5-c11ed0f8b957"
      },
      "source": [
        "html_text = \"\"\"\n",
        "<!DOCTYPE html>\n",
        "<html>\n",
        "<head>\n",
        "<meta charset=\"utf-8\">\n",
        "<title> 실습 1: 간단한 웹페이지 만들기 </title>\n",
        "</head>\n",
        "<body>\n",
        "<p> 안녕하세요. </p>\n",
        "<h1> 손다인의 홈페이지에 오신 것을 환영합니다. </h1>\n",
        "<img src=\"http://storage.enuri.info/pic_upload/knowbox2/202003/05524434720200328b50ba606-bf91-4c55-92df-3aecbc1c37e5.jpg\">\n",
        "</body >\n",
        "</html >\n",
        "\"\"\"\n",
        "\n",
        "def configure_brower_state():\n",
        " import IPython\n",
        " display(IPython.core.display.HTML(html_text))\n",
        "configure_brower_state()\n",
        "\n",
        "with open('html_file.html', 'w') as html_file:\n",
        "  html_file.write(html_text)"
      ],
      "execution_count": null,
      "outputs": [
        {
          "output_type": "display_data",
          "data": {
            "text/html": [
              "\n",
              "<!DOCTYPE html>\n",
              "<html>\n",
              "<head>\n",
              "<meta charset=\"utf-8\">\n",
              "<title> 실습 1: 간단한 웹페이지 만들기 </title>\n",
              "</head>\n",
              "<body>\n",
              "<p> 안녕하세요. </p>\n",
              "<h1> 손다인의 홈페이지에 오신 것을 환영합니다. </h1>\n",
              "<img src=\"http://storage.enuri.info/pic_upload/knowbox2/202003/05524434720200328b50ba606-bf91-4c55-92df-3aecbc1c37e5.jpg\">\n",
              "</body >\n",
              "</html >\n"
            ],
            "text/plain": [
              "<IPython.core.display.HTML object>"
            ]
          },
          "metadata": {
            "tags": []
          }
        }
      ]
    },
    {
      "cell_type": "code",
      "metadata": {
        "id": "LC3tUhHuSoFB"
      },
      "source": [
        "css_text = '''\n",
        "h1 {\n",
        "  color: red;\n",
        "  font-size: 5em;\n",
        "}\n",
        "'''\n",
        "\n",
        "with open('styles.css', 'w') as css_file:\n",
        "  css_file.write(css_text)"
      ],
      "execution_count": null,
      "outputs": []
    },
    {
      "cell_type": "code",
      "metadata": {
        "colab": {
          "resources": {
            "http://localhost:8080/styles.css": {
              "data": "CjwhRE9DVFlQRSBodG1sPgo8aHRtbCBsYW5nPWVuPgogIDxtZXRhIGNoYXJzZXQ9dXRmLTg+CiAgPG1ldGEgbmFtZT12aWV3cG9ydCBjb250ZW50PSJpbml0aWFsLXNjYWxlPTEsIG1pbmltdW0tc2NhbGU9MSwgd2lkdGg9ZGV2aWNlLXdpZHRoIj4KICA8dGl0bGU+RXJyb3IgNDA0IChOb3QgRm91bmQpISExPC90aXRsZT4KICA8c3R5bGU+CiAgICAqe21hcmdpbjowO3BhZGRpbmc6MH1odG1sLGNvZGV7Zm9udDoxNXB4LzIycHggYXJpYWwsc2Fucy1zZXJpZn1odG1se2JhY2tncm91bmQ6I2ZmZjtjb2xvcjojMjIyO3BhZGRpbmc6MTVweH1ib2R5e21hcmdpbjo3JSBhdXRvIDA7bWF4LXdpZHRoOjM5MHB4O21pbi1oZWlnaHQ6MTgwcHg7cGFkZGluZzozMHB4IDAgMTVweH0qID4gYm9keXtiYWNrZ3JvdW5kOnVybCgvL3d3dy5nb29nbGUuY29tL2ltYWdlcy9lcnJvcnMvcm9ib3QucG5nKSAxMDAlIDVweCBuby1yZXBlYXQ7cGFkZGluZy1yaWdodDoyMDVweH1we21hcmdpbjoxMXB4IDAgMjJweDtvdmVyZmxvdzpoaWRkZW59aW5ze2NvbG9yOiM3Nzc7dGV4dC1kZWNvcmF0aW9uOm5vbmV9YSBpbWd7Ym9yZGVyOjB9QG1lZGlhIHNjcmVlbiBhbmQgKG1heC13aWR0aDo3NzJweCl7Ym9keXtiYWNrZ3JvdW5kOm5vbmU7bWFyZ2luLXRvcDowO21heC13aWR0aDpub25lO3BhZGRpbmctcmlnaHQ6MH19I2xvZ297YmFja2dyb3VuZDp1cmwoLy93d3cuZ29vZ2xlLmNvbS9pbWFnZXMvbG9nb3MvZXJyb3JwYWdlL2Vycm9yX2xvZ28tMTUweDU0LnBuZykgbm8tcmVwZWF0O21hcmdpbi1sZWZ0Oi01cHh9QG1lZGlhIG9ubHkgc2NyZWVuIGFuZCAobWluLXJlc29sdXRpb246MTkyZHBpKXsjbG9nb3tiYWNrZ3JvdW5kOnVybCgvL3d3dy5nb29nbGUuY29tL2ltYWdlcy9sb2dvcy9lcnJvcnBhZ2UvZXJyb3JfbG9nby0xNTB4NTQtMngucG5nKSBuby1yZXBlYXQgMCUgMCUvMTAwJSAxMDAlOy1tb3otYm9yZGVyLWltYWdlOnVybCgvL3d3dy5nb29nbGUuY29tL2ltYWdlcy9sb2dvcy9lcnJvcnBhZ2UvZXJyb3JfbG9nby0xNTB4NTQtMngucG5nKSAwfX1AbWVkaWEgb25seSBzY3JlZW4gYW5kICgtd2Via2l0LW1pbi1kZXZpY2UtcGl4ZWwtcmF0aW86Mil7I2xvZ297YmFja2dyb3VuZDp1cmwoLy93d3cuZ29vZ2xlLmNvbS9pbWFnZXMvbG9nb3MvZXJyb3JwYWdlL2Vycm9yX2xvZ28tMTUweDU0LTJ4LnBuZykgbm8tcmVwZWF0Oy13ZWJraXQtYmFja2dyb3VuZC1zaXplOjEwMCUgMTAwJX19I2xvZ297ZGlzcGxheTppbmxpbmUtYmxvY2s7aGVpZ2h0OjU0cHg7d2lkdGg6MTUwcHh9CiAgPC9zdHlsZT4KICA8YSBocmVmPS8vd3d3Lmdvb2dsZS5jb20vPjxzcGFuIGlkPWxvZ28gYXJpYS1sYWJlbD1Hb29nbGU+PC9zcGFuPjwvYT4KICA8cD48Yj40MDQuPC9iPiA8aW5zPlRoYXTigJlzIGFuIGVycm9yLjwvaW5zPgogIDxwPiAgPGlucz5UaGF04oCZcyBhbGwgd2Uga25vdy48L2lucz4K",
              "ok": false,
              "headers": [
                [
                  "content-length",
                  "1449"
                ],
                [
                  "content-type",
                  "text/html; charset=utf-8"
                ]
              ],
              "status": 404,
              "status_text": ""
            }
          },
          "base_uri": "https://localhost:8080/",
          "height": 427
        },
        "id": "YkCZlGe6SbMA",
        "outputId": "5650f248-14b7-4345-b0dc-dc3d68b4e864"
      },
      "source": [
        "html_text = \"\"\"\n",
        "<!DOCTYPE html>\n",
        "<html>\n",
        "<head>\n",
        "<meta charset=\"utf-8\">\n",
        "<title> 실습 2: 간단한 웹페이지 만들기 </title>\n",
        "<link rel=\"stylesheet\" href =\"styles.css\" >\n",
        "</head>\n",
        "<body>\n",
        "<p> 안녕하세요. </p>\n",
        "<h1> 손다인의 홈페이지에 오신 것을 환영합니다. </h1>\n",
        "<img src=\"http://storage.enuri.info/pic_upload/knowbox2/202003/05524434720200328b50ba606-bf91-4c55-92df-3aecbc1c37e5.jpg\">\n",
        "</body >\n",
        "</html >\n",
        "\"\"\"\n",
        "\n",
        "def configure_brower_state():\n",
        " import IPython\n",
        " display(IPython.core.display.HTML(html_text))\n",
        "configure_brower_state()\n",
        "\n",
        "with open('html_file.html', 'w') as html_file:\n",
        "  html_file.write(html_text)"
      ],
      "execution_count": null,
      "outputs": [
        {
          "output_type": "display_data",
          "data": {
            "text/html": [
              "\n",
              "<!DOCTYPE html>\n",
              "<html>\n",
              "<head>\n",
              "<meta charset=\"utf-8\">\n",
              "<title> 실습 2: 간단한 웹페이지 만들기 </title>\n",
              "<link rel=\"stylesheet\" href =\"styles.css\" >\n",
              "</head>\n",
              "<body>\n",
              "<p> 안녕하세요. </p>\n",
              "<h1> 손다인의 홈페이지에 오신 것을 환영합니다. </h1>\n",
              "<img src=\"http://storage.enuri.info/pic_upload/knowbox2/202003/05524434720200328b50ba606-bf91-4c55-92df-3aecbc1c37e5.jpg\">\n",
              "</body >\n",
              "</html >\n"
            ],
            "text/plain": [
              "<IPython.core.display.HTML object>"
            ]
          },
          "metadata": {
            "tags": []
          }
        }
      ]
    },
    {
      "cell_type": "code",
      "metadata": {
        "colab": {
          "resources": {
            "http://localhost:8080/styles.css": {
              "data": "CjwhRE9DVFlQRSBodG1sPgo8aHRtbCBsYW5nPWVuPgogIDxtZXRhIGNoYXJzZXQ9dXRmLTg+CiAgPG1ldGEgbmFtZT12aWV3cG9ydCBjb250ZW50PSJpbml0aWFsLXNjYWxlPTEsIG1pbmltdW0tc2NhbGU9MSwgd2lkdGg9ZGV2aWNlLXdpZHRoIj4KICA8dGl0bGU+RXJyb3IgNDA0IChOb3QgRm91bmQpISExPC90aXRsZT4KICA8c3R5bGU+CiAgICAqe21hcmdpbjowO3BhZGRpbmc6MH1odG1sLGNvZGV7Zm9udDoxNXB4LzIycHggYXJpYWwsc2Fucy1zZXJpZn1odG1se2JhY2tncm91bmQ6I2ZmZjtjb2xvcjojMjIyO3BhZGRpbmc6MTVweH1ib2R5e21hcmdpbjo3JSBhdXRvIDA7bWF4LXdpZHRoOjM5MHB4O21pbi1oZWlnaHQ6MTgwcHg7cGFkZGluZzozMHB4IDAgMTVweH0qID4gYm9keXtiYWNrZ3JvdW5kOnVybCgvL3d3dy5nb29nbGUuY29tL2ltYWdlcy9lcnJvcnMvcm9ib3QucG5nKSAxMDAlIDVweCBuby1yZXBlYXQ7cGFkZGluZy1yaWdodDoyMDVweH1we21hcmdpbjoxMXB4IDAgMjJweDtvdmVyZmxvdzpoaWRkZW59aW5ze2NvbG9yOiM3Nzc7dGV4dC1kZWNvcmF0aW9uOm5vbmV9YSBpbWd7Ym9yZGVyOjB9QG1lZGlhIHNjcmVlbiBhbmQgKG1heC13aWR0aDo3NzJweCl7Ym9keXtiYWNrZ3JvdW5kOm5vbmU7bWFyZ2luLXRvcDowO21heC13aWR0aDpub25lO3BhZGRpbmctcmlnaHQ6MH19I2xvZ297YmFja2dyb3VuZDp1cmwoLy93d3cuZ29vZ2xlLmNvbS9pbWFnZXMvbG9nb3MvZXJyb3JwYWdlL2Vycm9yX2xvZ28tMTUweDU0LnBuZykgbm8tcmVwZWF0O21hcmdpbi1sZWZ0Oi01cHh9QG1lZGlhIG9ubHkgc2NyZWVuIGFuZCAobWluLXJlc29sdXRpb246MTkyZHBpKXsjbG9nb3tiYWNrZ3JvdW5kOnVybCgvL3d3dy5nb29nbGUuY29tL2ltYWdlcy9sb2dvcy9lcnJvcnBhZ2UvZXJyb3JfbG9nby0xNTB4NTQtMngucG5nKSBuby1yZXBlYXQgMCUgMCUvMTAwJSAxMDAlOy1tb3otYm9yZGVyLWltYWdlOnVybCgvL3d3dy5nb29nbGUuY29tL2ltYWdlcy9sb2dvcy9lcnJvcnBhZ2UvZXJyb3JfbG9nby0xNTB4NTQtMngucG5nKSAwfX1AbWVkaWEgb25seSBzY3JlZW4gYW5kICgtd2Via2l0LW1pbi1kZXZpY2UtcGl4ZWwtcmF0aW86Mil7I2xvZ297YmFja2dyb3VuZDp1cmwoLy93d3cuZ29vZ2xlLmNvbS9pbWFnZXMvbG9nb3MvZXJyb3JwYWdlL2Vycm9yX2xvZ28tMTUweDU0LTJ4LnBuZykgbm8tcmVwZWF0Oy13ZWJraXQtYmFja2dyb3VuZC1zaXplOjEwMCUgMTAwJX19I2xvZ297ZGlzcGxheTppbmxpbmUtYmxvY2s7aGVpZ2h0OjU0cHg7d2lkdGg6MTUwcHh9CiAgPC9zdHlsZT4KICA8YSBocmVmPS8vd3d3Lmdvb2dsZS5jb20vPjxzcGFuIGlkPWxvZ28gYXJpYS1sYWJlbD1Hb29nbGU+PC9zcGFuPjwvYT4KICA8cD48Yj40MDQuPC9iPiA8aW5zPlRoYXTigJlzIGFuIGVycm9yLjwvaW5zPgogIDxwPiAgPGlucz5UaGF04oCZcyBhbGwgd2Uga25vdy48L2lucz4K",
              "ok": false,
              "headers": [
                [
                  "content-length",
                  "1449"
                ],
                [
                  "content-type",
                  "text/html; charset=utf-8"
                ]
              ],
              "status": 404,
              "status_text": ""
            }
          },
          "base_uri": "https://localhost:8080/",
          "height": 506
        },
        "id": "Ft2Up-YVTQrS",
        "outputId": "dee515c7-8b36-4c36-8c75-6d23de7c342c"
      },
      "source": [
        "html_text = \"\"\"\n",
        "<!DOCTYPE html>\n",
        "<html>\n",
        "<head>\n",
        "<meta charset=\"utf-8\">\n",
        "<title> 실습 3: 간단한 웹페이지 만들기 </title>\n",
        "<link rel=\"stylesheet\" href =\"styles.css\" >\n",
        "</head>\n",
        "<body>\n",
        "<p> 안녕하세요. </p>\n",
        "<h1> 손다인의 홈페이지에 오신 것을 환영합니다. </h1>\n",
        "<img src=\"http://storage.enuri.info/pic_upload/knowbox2/202003/05524434720200328b50ba606-bf91-4c55-92df-3aecbc1c37e5.jpg\">\n",
        "<br>\n",
        "<p> 자주가는 사이트 </p>\n",
        "<li> <a href=\"https://www.snu.ac.kr\"> 서울대학교 </a> </li>\n",
        "<li> <a href=\"https://liberaledu.snu.ac.kr\"> 기초교육원 </a> </li>\n",
        "<li> <a href=\"https://otl.snu.ac.kr\"> Online Teaching Lap </a> </li>\n",
        "</body >\n",
        "</html >\n",
        "\"\"\"\n",
        "\n",
        "def configure_brower_state():\n",
        " import IPython\n",
        " display(IPython.core.display.HTML(html_text))\n",
        "configure_brower_state()\n",
        "\n",
        "with open('html_file.html', 'w') as html_file:\n",
        "  html_file.write(html_text)"
      ],
      "execution_count": null,
      "outputs": [
        {
          "output_type": "display_data",
          "data": {
            "text/html": [
              "\n",
              "<!DOCTYPE html>\n",
              "<html>\n",
              "<head>\n",
              "<meta charset=\"utf-8\">\n",
              "<title> 실습 3: 간단한 웹페이지 만들기 </title>\n",
              "<link rel=\"stylesheet\" href =\"styles.css\" >\n",
              "</head>\n",
              "<body>\n",
              "<p> 안녕하세요. </p>\n",
              "<h1> 손다인의 홈페이지에 오신 것을 환영합니다. </h1>\n",
              "<img src=\"http://storage.enuri.info/pic_upload/knowbox2/202003/05524434720200328b50ba606-bf91-4c55-92df-3aecbc1c37e5.jpg\">\n",
              "<br>\n",
              "<p> 자주가는 사이트 </p>\n",
              "<li> <a href=\"https://www.snu.ac.kr\"> 서울대학교 </a> </li>\n",
              "<li> <a href=\"https://liberaledu.snu.ac.kr\"> 기초교육원 </a> </li>\n",
              "<li> <a href=\"https://otl.snu.ac.kr\"> Online Teaching Lap </a> </li>\n",
              "</body >\n",
              "</html >\n"
            ],
            "text/plain": [
              "<IPython.core.display.HTML object>"
            ]
          },
          "metadata": {
            "tags": []
          }
        }
      ]
    },
    {
      "cell_type": "code",
      "metadata": {
        "colab": {
          "resources": {
            "http://localhost:8080/styles.css": {
              "data": "CjwhRE9DVFlQRSBodG1sPgo8aHRtbCBsYW5nPWVuPgogIDxtZXRhIGNoYXJzZXQ9dXRmLTg+CiAgPG1ldGEgbmFtZT12aWV3cG9ydCBjb250ZW50PSJpbml0aWFsLXNjYWxlPTEsIG1pbmltdW0tc2NhbGU9MSwgd2lkdGg9ZGV2aWNlLXdpZHRoIj4KICA8dGl0bGU+RXJyb3IgNDA0IChOb3QgRm91bmQpISExPC90aXRsZT4KICA8c3R5bGU+CiAgICAqe21hcmdpbjowO3BhZGRpbmc6MH1odG1sLGNvZGV7Zm9udDoxNXB4LzIycHggYXJpYWwsc2Fucy1zZXJpZn1odG1se2JhY2tncm91bmQ6I2ZmZjtjb2xvcjojMjIyO3BhZGRpbmc6MTVweH1ib2R5e21hcmdpbjo3JSBhdXRvIDA7bWF4LXdpZHRoOjM5MHB4O21pbi1oZWlnaHQ6MTgwcHg7cGFkZGluZzozMHB4IDAgMTVweH0qID4gYm9keXtiYWNrZ3JvdW5kOnVybCgvL3d3dy5nb29nbGUuY29tL2ltYWdlcy9lcnJvcnMvcm9ib3QucG5nKSAxMDAlIDVweCBuby1yZXBlYXQ7cGFkZGluZy1yaWdodDoyMDVweH1we21hcmdpbjoxMXB4IDAgMjJweDtvdmVyZmxvdzpoaWRkZW59aW5ze2NvbG9yOiM3Nzc7dGV4dC1kZWNvcmF0aW9uOm5vbmV9YSBpbWd7Ym9yZGVyOjB9QG1lZGlhIHNjcmVlbiBhbmQgKG1heC13aWR0aDo3NzJweCl7Ym9keXtiYWNrZ3JvdW5kOm5vbmU7bWFyZ2luLXRvcDowO21heC13aWR0aDpub25lO3BhZGRpbmctcmlnaHQ6MH19I2xvZ297YmFja2dyb3VuZDp1cmwoLy93d3cuZ29vZ2xlLmNvbS9pbWFnZXMvbG9nb3MvZXJyb3JwYWdlL2Vycm9yX2xvZ28tMTUweDU0LnBuZykgbm8tcmVwZWF0O21hcmdpbi1sZWZ0Oi01cHh9QG1lZGlhIG9ubHkgc2NyZWVuIGFuZCAobWluLXJlc29sdXRpb246MTkyZHBpKXsjbG9nb3tiYWNrZ3JvdW5kOnVybCgvL3d3dy5nb29nbGUuY29tL2ltYWdlcy9sb2dvcy9lcnJvcnBhZ2UvZXJyb3JfbG9nby0xNTB4NTQtMngucG5nKSBuby1yZXBlYXQgMCUgMCUvMTAwJSAxMDAlOy1tb3otYm9yZGVyLWltYWdlOnVybCgvL3d3dy5nb29nbGUuY29tL2ltYWdlcy9sb2dvcy9lcnJvcnBhZ2UvZXJyb3JfbG9nby0xNTB4NTQtMngucG5nKSAwfX1AbWVkaWEgb25seSBzY3JlZW4gYW5kICgtd2Via2l0LW1pbi1kZXZpY2UtcGl4ZWwtcmF0aW86Mil7I2xvZ297YmFja2dyb3VuZDp1cmwoLy93d3cuZ29vZ2xlLmNvbS9pbWFnZXMvbG9nb3MvZXJyb3JwYWdlL2Vycm9yX2xvZ28tMTUweDU0LTJ4LnBuZykgbm8tcmVwZWF0Oy13ZWJraXQtYmFja2dyb3VuZC1zaXplOjEwMCUgMTAwJX19I2xvZ297ZGlzcGxheTppbmxpbmUtYmxvY2s7aGVpZ2h0OjU0cHg7d2lkdGg6MTUwcHh9CiAgPC9zdHlsZT4KICA8YSBocmVmPS8vd3d3Lmdvb2dsZS5jb20vPjxzcGFuIGlkPWxvZ28gYXJpYS1sYWJlbD1Hb29nbGU+PC9zcGFuPjwvYT4KICA8cD48Yj40MDQuPC9iPiA8aW5zPlRoYXTigJlzIGFuIGVycm9yLjwvaW5zPgogIDxwPiAgPGlucz5UaGF04oCZcyBhbGwgd2Uga25vdy48L2lucz4K",
              "ok": false,
              "headers": [
                [
                  "content-length",
                  "1449"
                ],
                [
                  "content-type",
                  "text/html; charset=utf-8"
                ]
              ],
              "status": 404,
              "status_text": ""
            }
          },
          "base_uri": "https://localhost:8080/",
          "height": 721
        },
        "id": "9IuhBycDUh8w",
        "outputId": "5540658b-422e-413a-a5db-f78c2031c953"
      },
      "source": [
        "html_text = \"\"\"\n",
        "<!DOCTYPE html>\n",
        "<html>\n",
        "<head>\n",
        "<meta charset=\"utf-8\">\n",
        "<title> 실습 4: 간단한 웹페이지 만들기 </title>\n",
        "<link rel=\"stylesheet\" href =\"styles.css\" >\n",
        "</head>\n",
        "<body>\n",
        "<p> 안녕하세요. </p>\n",
        "<h1> 손다인의 홈페이지에 오신 것을 환영합니다. </h1>\n",
        "<img src=\"http://storage.enuri.info/pic_upload/knowbox2/202003/05524434720200328b50ba606-bf91-4c55-92df-3aecbc1c37e5.jpg\">\n",
        "<br>\n",
        "<p> 자주가는 사이트 </p>\n",
        "<li> <a href=\"https://www.snu.ac.kr\"> 서울대학교 </a> </li>\n",
        "<li> <a href=\"https://liberaledu.snu.ac.kr\"> 기초교육원 </a> </li>\n",
        "<li> <a href=\"https://otl.snu.ac.kr\"> Online Teaching Lap </a> </li>\n",
        "<br>\n",
        "<table border=\"1\">\n",
        "<th>시간</th> \n",
        "<th>월요일</th>\n",
        "<th>화요일</th>\n",
        "<th>수요일</th>\n",
        "<th>목요일</th>\n",
        "<th>금요일</th>\n",
        "<tr>\n",
        "<td>10:00-11:00</td>\n",
        "<td></td>\n",
        "<td></td>\n",
        "<td></td>\n",
        "<td></td>\n",
        "<td>한국어어휘와표현</td>\n",
        "</tr>\n",
        "<tr>\n",
        "<td>11:00-12:00</td>\n",
        "<td>대학글쓰기1</td>\n",
        "<td>초급중국어1</td>\n",
        "<td>대학글쓰기1</td>\n",
        "<td>초급중국어1</td>\n",
        "<td>한국어어휘와표현</td>\n",
        "</tr>\n",
        "<tr>\n",
        "<td>12:00-13:00</td>\n",
        "<td></td>\n",
        "<td></td>\n",
        "<td></td>\n",
        "<td></td>\n",
        "<td>한국어어휘와표현</td>\n",
        "</tr>\n",
        "<tr>\n",
        "<td>13:00-14:00</td>\n",
        "<td></td>\n",
        "<td></td>\n",
        "<td></td>\n",
        "<td>경제원론1</td>\n",
        "<td></td>\n",
        "</tr>\n",
        "<tr>\n",
        "<td>14:00-15:00</td>\n",
        "<td>자연지리학개론</td>\n",
        "<td></td>\n",
        "<td>컴퓨팅기초:처음만나는컴퓨팅</td>\n",
        "<td>경제원론1</td>\n",
        "<td>컴퓨팅기초:처음만나는컴퓨팅</td>\n",
        "</tr>\n",
        "<tr>\n",
        "<td>15:00-16:00</td>\n",
        "<td>자연지리학개론</td>\n",
        "<td>태권도</td>\n",
        "<td>컴퓨팅기초:처음만나는컴퓨팅</td>\n",
        "<td>경제원론1</td>\n",
        "<td>컴퓨팅기초:처음만나는컴퓨팅</td>\n",
        "</tr>\n",
        "<tr>\n",
        "<td>16:00-17:00</td>\n",
        "<td>자연지리학개론</td>\n",
        "<td>태권도</td>\n",
        "<td></td>\n",
        "<td></td>\n",
        "<td></td>\n",
        "</tr>\n",
        "<tr>\n",
        "<td>17:00-18:00</td>\n",
        "<td>신입생세미나</td>\n",
        "<td>초급중국어1</td>\n",
        "<td></td>\n",
        "<td></td>\n",
        "<td></td>\n",
        "</tr>\n",
        "</table>\n",
        "</body >\n",
        "</html >\n",
        "\"\"\"\n",
        "\n",
        "def configure_brower_state():\n",
        " import IPython\n",
        " display(IPython.core.display.HTML(html_text))\n",
        "configure_brower_state()\n",
        "\n",
        "with open('html_file.html', 'w') as html_file:\n",
        "  html_file.write(html_text)"
      ],
      "execution_count": null,
      "outputs": [
        {
          "output_type": "display_data",
          "data": {
            "text/html": [
              "\n",
              "<!DOCTYPE html>\n",
              "<html>\n",
              "<head>\n",
              "<meta charset=\"utf-8\">\n",
              "<title> 실습 4: 간단한 웹페이지 만들기 </title>\n",
              "<link rel=\"stylesheet\" href =\"styles.css\" >\n",
              "</head>\n",
              "<body>\n",
              "<p> 안녕하세요. </p>\n",
              "<h1> 손다인의 홈페이지에 오신 것을 환영합니다. </h1>\n",
              "<img src=\"http://storage.enuri.info/pic_upload/knowbox2/202003/05524434720200328b50ba606-bf91-4c55-92df-3aecbc1c37e5.jpg\">\n",
              "<br>\n",
              "<p> 자주가는 사이트 </p>\n",
              "<li> <a href=\"https://www.snu.ac.kr\"> 서울대학교 </a> </li>\n",
              "<li> <a href=\"https://liberaledu.snu.ac.kr\"> 기초교육원 </a> </li>\n",
              "<li> <a href=\"https://otl.snu.ac.kr\"> Online Teaching Lap </a> </li>\n",
              "<br>\n",
              "<table border=\"1\">\n",
              "<th>시간</th> \n",
              "<th>월요일</th>\n",
              "<th>화요일</th>\n",
              "<th>수요일</th>\n",
              "<th>목요일</th>\n",
              "<th>금요일</th>\n",
              "<tr>\n",
              "<td>10:00-11:00</td>\n",
              "<td></td>\n",
              "<td></td>\n",
              "<td></td>\n",
              "<td></td>\n",
              "<td>한국어어휘와표현</td>\n",
              "</tr>\n",
              "<tr>\n",
              "<td>11:00-12:00</td>\n",
              "<td>대학글쓰기1</td>\n",
              "<td>초급중국어1</td>\n",
              "<td>대학글쓰기1</td>\n",
              "<td>초급중국어1</td>\n",
              "<td>한국어어휘와표현</td>\n",
              "</tr>\n",
              "<tr>\n",
              "<td>12:00-13:00</td>\n",
              "<td></td>\n",
              "<td></td>\n",
              "<td></td>\n",
              "<td></td>\n",
              "<td>한국어어휘와표현</td>\n",
              "</tr>\n",
              "<tr>\n",
              "<td>13:00-14:00</td>\n",
              "<td></td>\n",
              "<td></td>\n",
              "<td></td>\n",
              "<td>경제원론1</td>\n",
              "<td></td>\n",
              "</tr>\n",
              "<tr>\n",
              "<td>14:00-15:00</td>\n",
              "<td>자연지리학개론</td>\n",
              "<td></td>\n",
              "<td>컴퓨팅기초:처음만나는컴퓨팅</td>\n",
              "<td>경제원론1</td>\n",
              "<td>컴퓨팅기초:처음만나는컴퓨팅</td>\n",
              "</tr>\n",
              "<tr>\n",
              "<td>15:00-16:00</td>\n",
              "<td>자연지리학개론</td>\n",
              "<td>태권도</td>\n",
              "<td>컴퓨팅기초:처음만나는컴퓨팅</td>\n",
              "<td>경제원론1</td>\n",
              "<td>컴퓨팅기초:처음만나는컴퓨팅</td>\n",
              "</tr>\n",
              "<tr>\n",
              "<td>16:00-17:00</td>\n",
              "<td>자연지리학개론</td>\n",
              "<td>태권도</td>\n",
              "<td></td>\n",
              "<td></td>\n",
              "<td></td>\n",
              "</tr>\n",
              "<tr>\n",
              "<td>17:00-18:00</td>\n",
              "<td>신입생세미나</td>\n",
              "<td>초급중국어1</td>\n",
              "<td></td>\n",
              "<td></td>\n",
              "<td></td>\n",
              "</tr>\n",
              "</table>\n",
              "</body >\n",
              "</html >\n"
            ],
            "text/plain": [
              "<IPython.core.display.HTML object>"
            ]
          },
          "metadata": {
            "tags": []
          }
        }
      ]
    },
    {
      "cell_type": "code",
      "metadata": {
        "id": "KHyHtfNVYCWc"
      },
      "source": [
        "css_text = '''\n",
        "h1 {\n",
        "  color: red;\n",
        "  font-size: 5em;\n",
        "}\n",
        "\n",
        ".div2 {\n",
        "  border: 1px solid;\n",
        "  width: 100px;\n",
        "  height: 50px;\n",
        "  display: flex;\n",
        "  align-items: center;\n",
        "  justify-content: center;\n",
        "}\n",
        "\n",
        ".clicked {\n",
        "  color: gold;\n",
        "}\n",
        "'''\n",
        "\n",
        "with open('styles.css', 'w') as css_file:\n",
        "  css_file.write(css_text)"
      ],
      "execution_count": null,
      "outputs": []
    },
    {
      "cell_type": "code",
      "metadata": {
        "colab": {
          "resources": {
            "http://localhost:8080/styles.css": {
              "data": "CjwhRE9DVFlQRSBodG1sPgo8aHRtbCBsYW5nPWVuPgogIDxtZXRhIGNoYXJzZXQ9dXRmLTg+CiAgPG1ldGEgbmFtZT12aWV3cG9ydCBjb250ZW50PSJpbml0aWFsLXNjYWxlPTEsIG1pbmltdW0tc2NhbGU9MSwgd2lkdGg9ZGV2aWNlLXdpZHRoIj4KICA8dGl0bGU+RXJyb3IgNDA0IChOb3QgRm91bmQpISExPC90aXRsZT4KICA8c3R5bGU+CiAgICAqe21hcmdpbjowO3BhZGRpbmc6MH1odG1sLGNvZGV7Zm9udDoxNXB4LzIycHggYXJpYWwsc2Fucy1zZXJpZn1odG1se2JhY2tncm91bmQ6I2ZmZjtjb2xvcjojMjIyO3BhZGRpbmc6MTVweH1ib2R5e21hcmdpbjo3JSBhdXRvIDA7bWF4LXdpZHRoOjM5MHB4O21pbi1oZWlnaHQ6MTgwcHg7cGFkZGluZzozMHB4IDAgMTVweH0qID4gYm9keXtiYWNrZ3JvdW5kOnVybCgvL3d3dy5nb29nbGUuY29tL2ltYWdlcy9lcnJvcnMvcm9ib3QucG5nKSAxMDAlIDVweCBuby1yZXBlYXQ7cGFkZGluZy1yaWdodDoyMDVweH1we21hcmdpbjoxMXB4IDAgMjJweDtvdmVyZmxvdzpoaWRkZW59aW5ze2NvbG9yOiM3Nzc7dGV4dC1kZWNvcmF0aW9uOm5vbmV9YSBpbWd7Ym9yZGVyOjB9QG1lZGlhIHNjcmVlbiBhbmQgKG1heC13aWR0aDo3NzJweCl7Ym9keXtiYWNrZ3JvdW5kOm5vbmU7bWFyZ2luLXRvcDowO21heC13aWR0aDpub25lO3BhZGRpbmctcmlnaHQ6MH19I2xvZ297YmFja2dyb3VuZDp1cmwoLy93d3cuZ29vZ2xlLmNvbS9pbWFnZXMvbG9nb3MvZXJyb3JwYWdlL2Vycm9yX2xvZ28tMTUweDU0LnBuZykgbm8tcmVwZWF0O21hcmdpbi1sZWZ0Oi01cHh9QG1lZGlhIG9ubHkgc2NyZWVuIGFuZCAobWluLXJlc29sdXRpb246MTkyZHBpKXsjbG9nb3tiYWNrZ3JvdW5kOnVybCgvL3d3dy5nb29nbGUuY29tL2ltYWdlcy9sb2dvcy9lcnJvcnBhZ2UvZXJyb3JfbG9nby0xNTB4NTQtMngucG5nKSBuby1yZXBlYXQgMCUgMCUvMTAwJSAxMDAlOy1tb3otYm9yZGVyLWltYWdlOnVybCgvL3d3dy5nb29nbGUuY29tL2ltYWdlcy9sb2dvcy9lcnJvcnBhZ2UvZXJyb3JfbG9nby0xNTB4NTQtMngucG5nKSAwfX1AbWVkaWEgb25seSBzY3JlZW4gYW5kICgtd2Via2l0LW1pbi1kZXZpY2UtcGl4ZWwtcmF0aW86Mil7I2xvZ297YmFja2dyb3VuZDp1cmwoLy93d3cuZ29vZ2xlLmNvbS9pbWFnZXMvbG9nb3MvZXJyb3JwYWdlL2Vycm9yX2xvZ28tMTUweDU0LTJ4LnBuZykgbm8tcmVwZWF0Oy13ZWJraXQtYmFja2dyb3VuZC1zaXplOjEwMCUgMTAwJX19I2xvZ297ZGlzcGxheTppbmxpbmUtYmxvY2s7aGVpZ2h0OjU0cHg7d2lkdGg6MTUwcHh9CiAgPC9zdHlsZT4KICA8YSBocmVmPS8vd3d3Lmdvb2dsZS5jb20vPjxzcGFuIGlkPWxvZ28gYXJpYS1sYWJlbD1Hb29nbGU+PC9zcGFuPjwvYT4KICA8cD48Yj40MDQuPC9iPiA8aW5zPlRoYXTigJlzIGFuIGVycm9yLjwvaW5zPgogIDxwPiAgPGlucz5UaGF04oCZcyBhbGwgd2Uga25vdy48L2lucz4K",
              "ok": false,
              "headers": [
                [
                  "content-length",
                  "1449"
                ],
                [
                  "content-type",
                  "text/html; charset=utf-8"
                ]
              ],
              "status": 404,
              "status_text": ""
            }
          },
          "base_uri": "https://localhost:8080/",
          "height": 851
        },
        "id": "Hh0qgpb1XrDs",
        "outputId": "2d670bc8-d63b-4df5-b310-c9f032ab7756"
      },
      "source": [
        "html_text = \"\"\"\n",
        "<!DOCTYPE html>\n",
        "<html>\n",
        "<head>\n",
        "<meta charset=\"utf-8\">\n",
        "<title> 실습 5: 간단한 웹페이지 만들기 </title>\n",
        "<link rel=\"stylesheet\" href =\"styles.css\" >\n",
        "</head>\n",
        "<body>\n",
        "<p> 안녕하세요. </p>\n",
        "<h1> 손다인의 홈페이지에 오신 것을 환영합니다. </h1>\n",
        "<img src=\"http://storage.enuri.info/pic_upload/knowbox2/202003/05524434720200328b50ba606-bf91-4c55-92df-3aecbc1c37e5.jpg\">\n",
        "<br>\n",
        "<p> 자주가는 사이트 </p>\n",
        "<li> <a href=\"https://www.snu.ac.kr\"> 서울대학교 </a> </li>\n",
        "<li> <a href=\"https://liberaledu.snu.ac.kr\"> 기초교육원 </a> </li>\n",
        "<li> <a href=\"https://otl.snu.ac.kr\"> Online Teaching Lap </a> </li>\n",
        "<br>\n",
        "<table border=\"1\">\n",
        "<th>시간</th> \n",
        "<th>월요일</th>\n",
        "<th>화요일</th>\n",
        "<th>수요일</th>\n",
        "<th>목요일</th>\n",
        "<th>금요일</th>\n",
        "<tr>\n",
        "<td>10:00-11:00</td>\n",
        "<td></td>\n",
        "<td></td>\n",
        "<td></td>\n",
        "<td></td>\n",
        "<td>한국어어휘와표현</td>\n",
        "</tr>\n",
        "<tr>\n",
        "<td>11:00-12:00</td>\n",
        "<td>대학글쓰기1</td>\n",
        "<td>초급중국어1</td>\n",
        "<td>대학글쓰기1</td>\n",
        "<td>초급중국어1</td>\n",
        "<td>한국어어휘와표현</td>\n",
        "</tr>\n",
        "<tr>\n",
        "<td>12:00-13:00</td>\n",
        "<td></td>\n",
        "<td></td>\n",
        "<td></td>\n",
        "<td></td>\n",
        "<td>한국어어휘와표현</td>\n",
        "</tr>\n",
        "<tr>\n",
        "<td>13:00-14:00</td>\n",
        "<td></td>\n",
        "<td></td>\n",
        "<td></td>\n",
        "<td>경제원론1</td>\n",
        "<td></td>\n",
        "</tr>\n",
        "<tr>\n",
        "<td>14:00-15:00</td>\n",
        "<td>자연지리학개론</td>\n",
        "<td></td>\n",
        "<td>컴퓨팅기초:처음만나는컴퓨팅</td>\n",
        "<td>경제원론1</td>\n",
        "<td>컴퓨팅기초:처음만나는컴퓨팅</td>\n",
        "</tr>\n",
        "<tr>\n",
        "<td>15:00-16:00</td>\n",
        "<td>자연지리학개론</td>\n",
        "<td>태권도</td>\n",
        "<td>컴퓨팅기초:처음만나는컴퓨팅</td>\n",
        "<td>경제원론1</td>\n",
        "<td>컴퓨팅기초:처음만나는컴퓨팅</td>\n",
        "</tr>\n",
        "<tr>\n",
        "<td>16:00-17:00</td>\n",
        "<td>자연지리학개론</td>\n",
        "<td>태권도</td>\n",
        "<td></td>\n",
        "<td></td>\n",
        "<td></td>\n",
        "</tr>\n",
        "<tr>\n",
        "<td>17:00-18:00</td>\n",
        "<td>신입생세미나</td>\n",
        "<td>초급중국어1</td>\n",
        "<td></td>\n",
        "<td></td>\n",
        "<td></td>\n",
        "</tr>\n",
        "</table>\n",
        "<br>\n",
        "<div class=\"div1\">\n",
        "<table border=\"1\">\n",
        "<th>자바스크립트</th>\n",
        "<th>버튼만들기</th>\n",
        "<tr>\n",
        "<td>\n",
        "<div class=\"div2\">버튼1</div>\n",
        "<div class=\"div2\">버튼2</div>\n",
        "<div class=\"div2\">버튼3</div>\n",
        "<div class=\"div2\">버튼4</div>\n",
        "<div class=\"div2\">버튼5</div> </td>\n",
        "<td>\n",
        "<div class=\"div2\">버튼6</div>\n",
        "<div class=\"div2\">버튼7</div>\n",
        "<div class=\"div2\">버튼8</div>\n",
        "<div class=\"div2\">버튼9</div>\n",
        "<div class=\"div2\">버튼10</div> </td>\n",
        "</tr>\n",
        "</table>\n",
        "</div>\n",
        "</body >\n",
        "<script>\n",
        "var div2 = document.getElementsByClassName(\"div2\");\n",
        "function handleClick(event){\n",
        "console.log(event.target);\n",
        "if (event.target.classList[1] == \"clicked\"){\n",
        "event.target.classList.remove(\"clicked\");\n",
        "} else {\n",
        "for (var i = 0; i < div2.length; i++) {\n",
        "div2[i].classList.remove(\"clicked\");\n",
        "}\n",
        "event.target.classList.add(\"clicked\");\n",
        "}\n",
        "}\n",
        "function init() {\n",
        "for (var i = 0; i < div2.length; i++) {\n",
        "div2[i].addEventListener(\"click\", handleClick);\n",
        "}\n",
        "}\n",
        "init();\n",
        "</script>\n",
        "</html >\n",
        "\"\"\"\n",
        "\n",
        "def configure_brower_state():\n",
        " import IPython\n",
        " display(IPython.core.display.HTML(html_text))\n",
        "configure_brower_state()\n",
        "\n",
        "with open('html_file.html', 'w') as html_file:\n",
        "  html_file.write(html_text)"
      ],
      "execution_count": null,
      "outputs": [
        {
          "output_type": "display_data",
          "data": {
            "text/html": [
              "\n",
              "<!DOCTYPE html>\n",
              "<html>\n",
              "<head>\n",
              "<meta charset=\"utf-8\">\n",
              "<title> 실습 5: 간단한 웹페이지 만들기 </title>\n",
              "<link rel=\"stylesheet\" href =\"styles.css\" >\n",
              "</head>\n",
              "<body>\n",
              "<p> 안녕하세요. </p>\n",
              "<h1> 손다인의 홈페이지에 오신 것을 환영합니다. </h1>\n",
              "<img src=\"http://storage.enuri.info/pic_upload/knowbox2/202003/05524434720200328b50ba606-bf91-4c55-92df-3aecbc1c37e5.jpg\">\n",
              "<br>\n",
              "<p> 자주가는 사이트 </p>\n",
              "<li> <a href=\"https://www.snu.ac.kr\"> 서울대학교 </a> </li>\n",
              "<li> <a href=\"https://liberaledu.snu.ac.kr\"> 기초교육원 </a> </li>\n",
              "<li> <a href=\"https://otl.snu.ac.kr\"> Online Teaching Lap </a> </li>\n",
              "<br>\n",
              "<table border=\"1\">\n",
              "<th>시간</th> \n",
              "<th>월요일</th>\n",
              "<th>화요일</th>\n",
              "<th>수요일</th>\n",
              "<th>목요일</th>\n",
              "<th>금요일</th>\n",
              "<tr>\n",
              "<td>10:00-11:00</td>\n",
              "<td></td>\n",
              "<td></td>\n",
              "<td></td>\n",
              "<td></td>\n",
              "<td>한국어어휘와표현</td>\n",
              "</tr>\n",
              "<tr>\n",
              "<td>11:00-12:00</td>\n",
              "<td>대학글쓰기1</td>\n",
              "<td>초급중국어1</td>\n",
              "<td>대학글쓰기1</td>\n",
              "<td>초급중국어1</td>\n",
              "<td>한국어어휘와표현</td>\n",
              "</tr>\n",
              "<tr>\n",
              "<td>12:00-13:00</td>\n",
              "<td></td>\n",
              "<td></td>\n",
              "<td></td>\n",
              "<td></td>\n",
              "<td>한국어어휘와표현</td>\n",
              "</tr>\n",
              "<tr>\n",
              "<td>13:00-14:00</td>\n",
              "<td></td>\n",
              "<td></td>\n",
              "<td></td>\n",
              "<td>경제원론1</td>\n",
              "<td></td>\n",
              "</tr>\n",
              "<tr>\n",
              "<td>14:00-15:00</td>\n",
              "<td>자연지리학개론</td>\n",
              "<td></td>\n",
              "<td>컴퓨팅기초:처음만나는컴퓨팅</td>\n",
              "<td>경제원론1</td>\n",
              "<td>컴퓨팅기초:처음만나는컴퓨팅</td>\n",
              "</tr>\n",
              "<tr>\n",
              "<td>15:00-16:00</td>\n",
              "<td>자연지리학개론</td>\n",
              "<td>태권도</td>\n",
              "<td>컴퓨팅기초:처음만나는컴퓨팅</td>\n",
              "<td>경제원론1</td>\n",
              "<td>컴퓨팅기초:처음만나는컴퓨팅</td>\n",
              "</tr>\n",
              "<tr>\n",
              "<td>16:00-17:00</td>\n",
              "<td>자연지리학개론</td>\n",
              "<td>태권도</td>\n",
              "<td></td>\n",
              "<td></td>\n",
              "<td></td>\n",
              "</tr>\n",
              "<tr>\n",
              "<td>17:00-18:00</td>\n",
              "<td>신입생세미나</td>\n",
              "<td>초급중국어1</td>\n",
              "<td></td>\n",
              "<td></td>\n",
              "<td></td>\n",
              "</tr>\n",
              "</table>\n",
              "<br>\n",
              "<div class=\"div1\">\n",
              "<table border=\"1\">\n",
              "<th>자바스크립트</th>\n",
              "<th>버튼만들기</th>\n",
              "<tr>\n",
              "<td>\n",
              "<div class=\"div2\">버튼1</div>\n",
              "<div class=\"div2\">버튼2</div>\n",
              "<div class=\"div2\">버튼3</div>\n",
              "<div class=\"div2\">버튼4</div>\n",
              "<div class=\"div2\">버튼5</div> </td>\n",
              "<td>\n",
              "<div class=\"div2\">버튼6</div>\n",
              "<div class=\"div2\">버튼7</div>\n",
              "<div class=\"div2\">버튼8</div>\n",
              "<div class=\"div2\">버튼9</div>\n",
              "<div class=\"div2\">버튼10</div> </td>\n",
              "</tr>\n",
              "</table>\n",
              "</div>\n",
              "</body >\n",
              "<script>\n",
              "var div2 = document.getElementsByClassName(\"div2\");\n",
              "function handleClick(event){\n",
              "console.log(event.target);\n",
              "if (event.target.classList[1] == \"clicked\"){\n",
              "event.target.classList.remove(\"clicked\");\n",
              "} else {\n",
              "for (var i = 0; i < div2.length; i++) {\n",
              "div2[i].classList.remove(\"clicked\");\n",
              "}\n",
              "event.target.classList.add(\"clicked\");\n",
              "}\n",
              "}\n",
              "function init() {\n",
              "for (var i = 0; i < div2.length; i++) {\n",
              "div2[i].addEventListener(\"click\", handleClick);\n",
              "}\n",
              "}\n",
              "init();\n",
              "</script>\n",
              "</html >\n"
            ],
            "text/plain": [
              "<IPython.core.display.HTML object>"
            ]
          },
          "metadata": {
            "tags": []
          }
        }
      ]
    },
    {
      "cell_type": "markdown",
      "metadata": {
        "id": "r3xnjxkzOGgA"
      },
      "source": [
        "# 실습 10"
      ]
    },
    {
      "cell_type": "code",
      "metadata": {
        "id": "nvYVpPOoOMi8"
      },
      "source": [
        "from bs4 import BeautifulSoup\n",
        "from urllib.request import urlopen\n",
        "url = 'https://movie.naver.com/movie/sdb/rank/rmovie.nhn?sel=cur&date=20210506'\n",
        "page = urlopen(url)\n",
        "soup = BeautifulSoup(page, 'html.parser')\n",
        "\n",
        "target_area = soup.find('table', class_='list_ranking').find('tbody')\n",
        "\n",
        "titles = target_area.find_all('td', 'title')\n",
        "point = target_area.find_all('td', 'point')\n",
        "\n",
        "for i in range(len(titles)):\n",
        "  titles_str = titles[i].get_text(strip=True)\n",
        "  point_str = point[i].get_text(strip=True)\n",
        "  print(titles_str, point_str)\n"
      ],
      "execution_count": null,
      "outputs": []
    },
    {
      "cell_type": "code",
      "metadata": {
        "colab": {
          "base_uri": "https://localhost:8080/"
        },
        "id": "0Rt2AMDeUBwl",
        "outputId": "36b2458b-47a5-4ad7-82c8-6366cc8d99ee"
      },
      "source": [
        "from bs4 import BeautifulSoup\n",
        "from urllib.request import urlopen\n",
        "\n",
        "input_date = input('날짜입력(yyyymmdd):')\n",
        "\n",
        "url = 'https://movie.naver.com/movie/sdb/rank/rmovie.nhn?sel=cur&date='+input_date\n",
        "page = urlopen(url)\n",
        "soup = BeautifulSoup(page, 'html.parser')\n",
        "\n",
        "target_area = soup.find('table', class_='list_ranking').find('tbody')\n",
        "\n",
        "titles = target_area.find_all('td', 'title')\n",
        "point = target_area.find_all('td', 'point')\n",
        "\n",
        "for i in range(len(titles)):\n",
        "  titles_str = titles[i].get_text(strip=True)\n",
        "  point_str = point[i].get_text(strip=True)\n",
        "  print(titles_str, point_str)"
      ],
      "execution_count": 30,
      "outputs": [
        {
          "output_type": "stream",
          "text": [
            "날짜입력(yyyymmdd):20010809\n",
            "말아톤 9.43\n",
            "인크레더블 9.09\n",
            "조제, 호랑이 그리고 물고기들 9.06\n",
            "뉴 폴리스 스토리 8.70\n",
            "오페라의 유령 8.38\n",
            "쿵푸 허슬 8.10\n",
            "거미숲 8.03\n",
            "공공의 적 2 7.85\n",
            "내셔널 트레져 7.52\n",
            "빈 집 7.34\n",
            "키다리 아저씨 7.04\n",
            "귀여워 4.12\n",
            "몽정기 2 3.34\n"
          ],
          "name": "stdout"
        }
      ]
    },
    {
      "cell_type": "code",
      "metadata": {
        "colab": {
          "base_uri": "https://localhost:8080/"
        },
        "id": "4yrMuaV6VYMP",
        "outputId": "16726373-26c8-4bca-e01c-3b8b1a6f8716"
      },
      "source": [
        "from bs4 import BeautifulSoup\n",
        "from urllib.request import urlopen\n",
        "url = 'http://finance.naver.com/marketindex/'\n",
        "page = urlopen(url)\n",
        "soup = BeautifulSoup(page, 'html.parser')\n",
        "\n",
        "soup_list = soup.find_all('span', 'value')\n",
        "soup_price = soup.find_all('h3', 'h_lst')\n",
        "for n, l in zip(soup_price, soup_list):\n",
        "  print(n.string, '->', l.string) "
      ],
      "execution_count": 31,
      "outputs": [
        {
          "output_type": "stream",
          "text": [
            "미국 USD -> 1,121.70\n",
            "일본 JPY(100엔) -> 1,028.42\n",
            "유럽연합 EUR -> 1,353.39\n",
            "중국 CNY -> 173.77\n",
            "달러/일본 엔 -> 109.0800\n",
            "유로/달러 -> 1.2057\n",
            "영국 파운드/달러 -> 1.3887\n",
            "달러인덱스 -> 90.9300\n",
            "WTI -> 64.71\n",
            "휘발유 -> 1534.78\n",
            "국제 금 -> 1815.5\n",
            "국내 금 -> 65628.29\n"
          ],
          "name": "stdout"
        }
      ]
    },
    {
      "cell_type": "code",
      "metadata": {
        "colab": {
          "base_uri": "https://localhost:8080/"
        },
        "id": "X5yE2wW_V9-Z",
        "outputId": "f09927ef-35b1-40a5-9d75-db7304e5a54d"
      },
      "source": [
        "from bs4 import BeautifulSoup\n",
        "from urllib.request import urlopen\n",
        "url = 'https://finance.naver.com/marketindex/exchangeList.nhn'\n",
        "page = urlopen(url)\n",
        "soup = BeautifulSoup(page, 'html.parser')\n",
        "\n",
        "every_data = soup.find_all('td')\n",
        "i = 0\n",
        "\n",
        "for i in range(len(every_data)) :\n",
        "  if i % 7 == 0 :\n",
        "    region = every_data[i].string\n",
        "    region = region.replace('\\n', '')\n",
        "    region = region.replace('\\t', '')\n",
        "    print(region, end = ' ')\n",
        "  else :\n",
        "    rate = every_data[i].string\n",
        "    print(rate, end = ' ')\n",
        "  i = i + 1\n",
        "  if i % 7 == 0 :\n",
        "    print()\n",
        "\n"
      ],
      "execution_count": 37,
      "outputs": [
        {
          "output_type": "stream",
          "text": [
            "미국 USD 1,121.70 1,141.32 1,102.08 1,132.60 1,110.80 1.000 \n",
            "유럽연합 EUR 1,352.27 1,379.18 1,325.36 1,365.79 1,338.75 1.206 \n",
            "일본 JPY (100엔) 1,027.62 1,045.60 1,009.64 1,037.69 1,017.55 0.916 \n",
            "중국 CNY 173.65 182.33 164.97 175.38 171.92 0.155 \n",
            "홍콩 HKD 144.42 147.26 141.58 145.86 142.98 0.129 \n",
            "대만 TWD 40.19 45.45 37.38 0.00 0.00 0.036 \n",
            "영국 GBP 1,559.39 1,590.10 1,528.68 1,574.98 1,543.80 1.390 \n",
            "오만 OMR 2,913.66 3,172.97 2,738.85 0.00 0.00 2.598 \n",
            "캐나다 CAD 921.39 939.54 903.24 930.60 912.18 0.821 \n",
            "스위스 CHF 1,235.42 1,259.75 1,211.09 1,247.77 1,223.07 1.101 \n",
            "스웨덴 SEK 133.07 136.33 129.81 134.40 131.74 0.119 \n",
            "호주 AUD 871.00 888.15 853.85 879.71 862.29 0.777 \n",
            "뉴질랜드 NZD 809.87 825.82 793.92 817.96 801.78 0.722 \n",
            "체코 CZK 52.61 57.08 47.88 53.18 52.04 0.047 \n",
            "칠레 CLP 1.60 1.72 1.48 0.00 0.00 0.001 \n",
            "터키 TRY 135.44 0.00 0.00 136.92 133.96 0.121 \n",
            "몽골 MNT 0.39 0.00 0.00 0.00 0.00 0.000 \n",
            "이스라엘 ILS 344.37 378.80 316.83 0.00 0.00 0.307 \n",
            "덴마크 DKK 181.87 186.32 177.42 183.68 180.06 0.162 \n",
            "노르웨이 NOK 135.01 138.31 131.71 136.36 133.66 0.120 \n",
            "사우디아라비아 SAR 299.09 317.93 278.46 302.08 296.10 0.267 \n",
            "쿠웨이트 KWD 3,722.62 3,964.59 3,424.82 3,759.84 3,685.40 3.319 \n",
            "바레인 BHD 2,975.41 3,165.83 2,737.38 3,005.16 2,945.66 2.653 \n",
            "아랍에미리트 AED 305.38 322.17 284.31 308.43 302.33 0.272 \n",
            "요르단 JOD 1,582.09 1,722.89 1,455.53 0.00 0.00 1.410 \n",
            "이집트 EGP 71.58 0.00 0.00 0.00 0.00 0.064 \n",
            "태국 THB 35.87 37.66 33.72 36.22 35.52 0.032 \n",
            "싱가포르 SGD 841.67 858.41 824.93 850.08 833.26 0.750 \n",
            "말레이시아 MYR 272.42 289.58 252.27 0.00 269.70 0.243 \n",
            "인도네시아 IDR 100 7.86 8.41 7.08 7.93 7.79 0.007 \n",
            "카타르 QAR 308.07 0.00 0.00 0.00 0.00 0.275 \n",
            "카자흐스탄 KZT 2.63 0.00 0.00 0.00 0.00 0.002 \n",
            "브루나이 BND 841.67 875.33 791.17 0.00 0.00 0.750 \n",
            "인도 INR 15.21 0.00 0.00 0.00 0.00 0.014 \n",
            "파키스탄 PKR 7.40 0.00 0.00 0.00 0.00 0.007 \n",
            "방글라데시 BDT 13.24 0.00 0.00 0.00 0.00 0.012 \n",
            "필리핀 PHP 23.40 25.74 21.49 23.63 23.17 0.021 \n",
            "멕시코 MXN 55.79 61.36 51.11 56.34 55.24 0.050 \n",
            "브라질 BRL 212.57 234.25 195.57 0.00 210.02 0.190 \n",
            "베트남 VND 100 4.86 5.43 4.29 4.90 4.82 0.004 \n",
            "남아프리카 공화국 ZAR 78.82 83.54 72.52 79.76 77.88 0.070 \n",
            "러시아 RUB 15.10 16.15 13.44 15.25 14.95 0.014 \n",
            "헝가리 HUF 3.77 4.12 3.47 3.81 3.73 0.003 \n",
            "폴란드 PLN 295.62 319.26 271.98 298.87 292.37 0.264 \n"
          ],
          "name": "stdout"
        }
      ]
    }
  ]
}