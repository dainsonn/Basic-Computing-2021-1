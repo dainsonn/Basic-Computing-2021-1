{
  "nbformat": 4,
  "nbformat_minor": 0,
  "metadata": {
    "colab": {
      "name": "04_2021-19885_손다인_최종.ipynb",
      "provenance": [],
      "collapsed_sections": [
        "VgcKWs_VUS77",
        "Wl_BnF7OVXtV",
        "jKgcM-gsWDMJ",
        "Yf3Tq2uhBCwR",
        "63rv-unZCpGB",
        "FkT9W7FkHaQq"
      ],
      "toc_visible": true
    },
    "kernelspec": {
      "name": "python3",
      "display_name": "Python 3"
    },
    "language_info": {
      "name": "python"
    }
  },
  "cells": [
    {
      "cell_type": "markdown",
      "metadata": {
        "id": "VgcKWs_VUS77"
      },
      "source": [
        "# 숫자야구게임\n",
        "\n",
        "> 제작자: 경제학부, 손다인\n",
        "\n",
        "> 제작요청자: 자유전공학부, 권혁"
      ]
    },
    {
      "cell_type": "markdown",
      "metadata": {
        "id": "Wl_BnF7OVXtV"
      },
      "source": [
        "## 제작요청내용\n",
        "\n",
        "> 프로그램제작요청. 숫자야구게임\n",
        "\n",
        " 사용자가 프로그램이 결정한 임의의 네자리숫자를 컴퓨터가 제시하는 힌트를 통해 추론하여 맞추면 승리.\n",
        "\n",
        "\n",
        " 1.프로그램이 임의의 네자리 숫자를 결정함   (0부터9까지가능, 중복불가)\n",
        " 2. 사용자가 임의의 네자리숫자를 제시함\n",
        " 3. 사용자가 제시한 숫자와 컴퓨터가 초기에 결정했던 숫자를 대조하여 결과값을 제시함\n",
        " 4. 결과값은 컴퓨터가 결정한 숫자와 사용자가 제시한   숫자가 겹치면 볼, 숫자와 자리가 동시에 겹치면 스트라이크, 하나도 겹치는 숫자가 없다면 아웃.\n",
        " 5.총8번의 기회를 가짐, 중간에 힌트를 한번 사용가능함\n",
        "  힌트의 내용은 up&down게임을 응용하여 사용자가 네자리\n",
        "  숫자를 제시하면 정답보다 큰 숫자인지 작은숫자인지 알\n",
        "  려준다.\n",
        " 6.기회를 다쓰면 실패.\n",
        "\n",
        " khkh3417@naver.com"
      ]
    },
    {
      "cell_type": "code",
      "metadata": {
        "colab": {
          "base_uri": "https://localhost:8080/"
        },
        "id": "kpN9WZC_G3er",
        "outputId": "c126dce9-4035-40f5-a6fd-042972fd9424"
      },
      "source": [
        "import random\n",
        "\n",
        "def to_num(x):\n",
        "  int_num = int(x[0])*1000+int(x[1])*100+int(x[2])*10+int(x[3])\n",
        "  return int_num\n",
        "  \n",
        "\n",
        "target_num = random.sample(range(0, 10), 4)\n",
        "\n",
        "print('숫자야구게임을 시작합니다')\n",
        "trial_count = 0\n",
        "\n",
        "while True :\n",
        "  print()\n",
        "  input_num = input('숫자 4개를 입력하세요(예 3 5 8 0). ')\n",
        "  input_num = input_num.split()\n",
        "  trial_count += 1\n",
        "\n",
        "  strike_count = 0\n",
        "  ball_count = 0\n",
        "  \n",
        "  for x in range(0, 4) :\n",
        "    for y in range(0, 4) :\n",
        "      if (int(input_num[x])) == (target_num[y]) :\n",
        "        if (x == y) :\n",
        "          strike_count += 1\n",
        "        else :\n",
        "          ball_count += 1\n",
        "\n",
        "  if strike_count == 4 :\n",
        "    print('Home run')\n",
        "    print('게임을 종료합니다.')\n",
        "    break\n",
        "  else :\n",
        "    print('{} strike {} ball'.format(strike_count, ball_count))\n",
        "\n",
        "  if trial_count == 4 :\n",
        "    if to_num(input_num) > to_num(target_num) :\n",
        "      print('입력한 숫자가 비밀 숫자보다 큽니다.')\n",
        "    if to_num(input_num) < to_num(target_num) :\n",
        "      print('입력한 숫자가 비밀 숫자보다 작습니다.')\n",
        "\n",
        "  if trial_count == 8 :\n",
        "    print()\n",
        "    print('기회를 모두 소진하였습니다. 비밀 숫자는 {} 입니다.'.format(str(target_num)))\n",
        "    break"
      ],
      "execution_count": null,
      "outputs": [
        {
          "output_type": "stream",
          "text": [
            "숫자야구게임을 시작합니다\n",
            "\n",
            "숫자 4개를 입력하세요(예 3 5 8 0). 0 1 2 3\n",
            "1 strike 2 ball\n",
            "\n",
            "숫자 4개를 입력하세요(예 3 5 8 0). 4 5 6 7\n",
            "1 strike 0 ball\n",
            "\n",
            "숫자 4개를 입력하세요(예 3 5 8 0). 0 1 2 7\n",
            "1 strike 1 ball\n",
            "\n",
            "숫자 4개를 입력하세요(예 3 5 8 0). 0 1 6 3\n",
            "1 strike 1 ball\n",
            "입력한 숫자가 비밀 숫자보다 작습니다.\n",
            "\n",
            "숫자 4개를 입력하세요(예 3 5 8 0). 0 5 2 3\n",
            "0 strike 2 ball\n",
            "\n",
            "숫자 4개를 입력하세요(예 3 5 8 0). 3 5 2 9\n",
            "0 strike 2 ball\n",
            "\n",
            "숫자 4개를 입력하세요(예 3 5 8 0). 4 6 0 1\n",
            "1 strike 1 ball\n",
            "\n",
            "숫자 4개를 입력하세요(예 3 5 8 0). 5 6 8 2\n",
            "1 strike 0 ball\n",
            "\n",
            "기회를 모두 소진하였습니다. 비밀 숫자는 [4, 1, 3, 2] 입니다.\n"
          ],
          "name": "stdout"
        }
      ]
    },
    {
      "cell_type": "markdown",
      "metadata": {
        "id": "jKgcM-gsWDMJ"
      },
      "source": [
        "### 1.프로그램이 임의의 네자리 숫자를 결정함 (0부터9까지가능, 중복불가)\n",
        "> random 모듈의 sample() 함수를 사용해서 리스트 형식으로 0부터 9까지의 숫자 중 중복 없이 무작위로 4자리의 숫자를 결정한다. 범위는 range() 함수를 이용해서 0이상 10미만으로 표현한다. "
      ]
    },
    {
      "cell_type": "code",
      "metadata": {
        "id": "D0YKbs-6-aup"
      },
      "source": [
        "import random\n",
        "\n",
        "target_num = random.sample(range(0, 10), 4)"
      ],
      "execution_count": 2,
      "outputs": []
    },
    {
      "cell_type": "markdown",
      "metadata": {
        "id": "Yf3Tq2uhBCwR"
      },
      "source": [
        "### 2.사용자가 임의의 네자리숫자를 제시함\n",
        "> input() 함수를 사용해서 사용자로부터 네 자리 숫자를 입력받는다. 이 때 숫자와 숫자 사이에 공백이 들어가게 하고 split() 함수를 사용해서 공백을 기준으로 입력받은 숫자를 잘라 숫자 하나하나를 요소로 하여 리스트에 저장한다."
      ]
    },
    {
      "cell_type": "code",
      "metadata": {
        "id": "0p_5c_MwBqu4"
      },
      "source": [
        "input_num = input('숫자 4개를 입력하세요(예 3 5 8 0). ')\n",
        "input_num = input_num.split()"
      ],
      "execution_count": null,
      "outputs": []
    },
    {
      "cell_type": "markdown",
      "metadata": {
        "id": "63rv-unZCpGB"
      },
      "source": [
        "### 3.사용자가 제시한 숫자와 컴퓨터가 초기에 결정했던 숫자를 대조하여 결과값을 제시함\n",
        "\n",
        "### 4.결과값은 컴퓨터가 결정한 숫자와 사용자가 제시한   숫자가 겹치면 볼, 숫자와 자리가 동시에 겹치면 스트라이크, 하나도 겹치는 숫자가 없다면 아웃.\n",
        "> input_num과 target_num의 숫자를 자릿수마다 하나하나 비교하는데, 이 때 for 반복문을 사용한다. 비교하는 것이 4자리 숫자이므로, input_num의 인덱스를 변수로 삼아 인덱스 숫자가 0이상 4미만의 범위에서 반복될 때 target_num의 인덱스를 변수로 하여 0이상 4미만의 범위에서 반복되는 for문을 이중으로 사용하면 input_num의 첫번째 자리와 target_num의 모든 자리를 비교한 후, input_num의 두번째 자리로 넘어가 또 target_num의 모든 자리를 비교하는 방식을 input_num의 네번째 자리까지 반복하여 input_num과 target_num의 모든 자리를 비교할 수 있다.\n",
        "\n",
        "> 비교할 때 input_num[x]와 target_num[y]가 같음과 동시에 x도 y와 같다면, 이는 숫자와 자리가 모두 일치하는 것이므로 strike_count에 1을 더해주고, input_num[x]와 target_num[y]만 같고 x와 y는 다르다면 이는 숫자만 일치하는 것이므로 ball_count에 1을 더해준다.\n",
        "\n",
        "> 이 과정을 입력받은 input_num마다 반복하고, 만약 strike_num이 4가 된다면 이는 모든 숫자와 자리를 맞췄다는 뜻이므로 게임을 종료하고, 그렇지 않으면 strike_num과 ball_num을 print()함수를 이용하여 사용자에게 알려준다."
      ]
    },
    {
      "cell_type": "code",
      "metadata": {
        "id": "gBrVv2eFC25r"
      },
      "source": [
        "strike_count = 0\n",
        "ball_count = 0\n",
        "  \n",
        "for x in range(0, 4) :\n",
        "  for y in range(0, 4) :\n",
        "    if (int(input_num[x])) == (target_num[y]) :\n",
        "      if (x == y) :\n",
        "        strike_count += 1\n",
        "      else :\n",
        "        ball_count += 1\n",
        "\n",
        "if strike_count == 4 :\n",
        "  print('Home run')\n",
        "  print('게임을 종료합니다.')\n",
        "  break\n",
        "else :\n",
        "  print('{} strike {} ball'.format(strike_count, ball_count))"
      ],
      "execution_count": null,
      "outputs": []
    },
    {
      "cell_type": "markdown",
      "metadata": {
        "id": "FkT9W7FkHaQq"
      },
      "source": [
        "###  5.총8번의 기회를 가짐, 중간에 힌트를 한번 사용가능함 힌트의 내용은 up&down게임을 응용하여 사용자가 네자리 숫자를 제시하면 정답보다 큰 숫자인지 작은숫자인지 알려준다.\n",
        "\n",
        "### 6.기회를 다쓰면 실패.\n",
        "\n",
        "> 기회가 8번 있으므로 위의 내용을 전부 while문에 넣어 반복하는 동안 trial_count가 8이 될 때까지 정답을 맞추지 못하면 정답을 알려주고 게임을 종료한다.\n",
        "\n",
        "> 만약 trial_count가 4가 될 때까지 맞추지 못하면 힌트를 1회 제공하는데, 리스트 형태로 되어있는 input_num과 target_num을 네 자리 정수로 만들어주는 함수 to_num()을 정의해서 사용한다. 힌트는 네 자리 정수로 만든 input_num과 target_num의 크기를 비교해서 input_num이 target_num보다 큰 숫자인지, 작은 숫자인지 사용자에게 알려준다."
      ]
    },
    {
      "cell_type": "code",
      "metadata": {
        "id": "9llYJ4OIHtqN"
      },
      "source": [
        "def to_num(x):\n",
        "  int_num = int(x[0])*1000+int(x[1])*100+int(x[2])*10+int(x[3])\n",
        "  return int_num\n",
        "\n",
        "if trial_count == 4 :\n",
        "  if to_num(input_num) > to_num(target_num) :\n",
        "    print('입력한 숫자가 비밀 숫자보다 큽니다.')\n",
        "  if to_num(input_num) < to_num(target_num) :\n",
        "    print('입력한 숫자가 비밀 숫자보다 작습니다.')\n",
        "\n",
        "if trial_count == 8 :\n",
        "  print()\n",
        "  print('기회를 모두 소진하였습니다. 비밀 숫자는 {} 입니다.'.format(str(target_num)))\n",
        "  break"
      ],
      "execution_count": null,
      "outputs": []
    }
  ]
}
